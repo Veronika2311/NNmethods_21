{
  "cells": [
    {
      "cell_type": "markdown",
      "metadata": {
        "id": "view-in-github",
        "colab_type": "text"
      },
      "source": [
        "<a href=\"https://colab.research.google.com/github/Veronika2311/NNmethods_21/blob/main/hw2/cnn_6_Part4.ipynb\" target=\"_parent\"><img src=\"https://colab.research.google.com/assets/colab-badge.svg\" alt=\"Open In Colab\"/></a>"
      ]
    },
    {
      "cell_type": "markdown",
      "metadata": {
        "id": "qyh0knhqJx8u"
      },
      "source": [
        "понятное [видео](https://www.youtube.com/watch?v=bNb2fEVKeEo) со стенфордского курса, из [материалов](https://cs231n.github.io/convolutional-networks) по которому взяты иллюстрации.\n",
        "\n",
        "Датасет из [курса](https://github.com/DanAnastasyev/DeepNLP-Course/blob/master/Week%2004/Week_04_Convolutional_Neural_Networks.ipynb) Даниила Анастасьева.\n",
        "\n",
        "Использовались [материалы](https://github.com/mannefedov/hse_ml_m1/blob/master/7_cnn/cnn.ipynb) из курса Михаила Нефедова."
      ]
    },
    {
      "cell_type": "markdown",
      "metadata": {
        "id": "PdbHKxg6J8Q3"
      },
      "source": [
        "# Сверточный слой"
      ]
    },
    {
      "cell_type": "markdown",
      "metadata": {
        "id": "G20z18IaJ6Y5"
      },
      "source": [
        "\n",
        "\n",
        "\n",
        "Желтое - фильтр (= filter,kernel).\n",
        "\n",
        "Зеленое - входные данные, например, изображение.\n",
        "\n",
        "Розовое - карта активации (activation map).\n",
        "\n",
        "Каждый элемент в розовой матрице - результат поэлементного умножения фильтра на числа из области на входных данных.\n",
        "Обучаемые параметры - элементы фильтра.\n",
        "\n",
        "![Conv](https://image.ibb.co/e6t8ZK/Convolution.gif)\n",
        "\n"
      ]
    },
    {
      "cell_type": "markdown",
      "metadata": {
        "id": "jXNixkx2KHsm"
      },
      "source": [
        "Чтобы не терять размер матрицы используется паддинг.\n",
        "\n",
        "![padding](https://3deep.ru/wp-content/uploads/2020/01/keras_conv2d_padding.gif)\n",
        "\n",
        "from https://3deep.ru/machinelearning/"
      ]
    },
    {
      "cell_type": "markdown",
      "metadata": {
        "id": "qp44YeUKKSem"
      },
      "source": [
        "# Pooling слой  (не обучается)\n",
        "\n",
        "![Pool](https://cs231n.github.io/assets/cnn/pool.jpeg)\n",
        "![maxpool](https://cs231n.github.io/assets/cnn/maxpool.jpeg)"
      ]
    },
    {
      "cell_type": "markdown",
      "metadata": {
        "id": "-VqCU9o5KUmr"
      },
      "source": [
        "# Свертки для текстов устроены немного по-другому. В них на одну размерность меньше.\n",
        "\n",
        "![text-convs](https://image.ibb.co/bC3Xun/2018_03_27_01_24_39.png)\n",
        "\n",
        "From [Character-Aware Neural Language Models](https://arxiv.org/pdf/1508.06615.pdf)"
      ]
    },
    {
      "cell_type": "markdown",
      "metadata": {
        "id": "xXx-iELMKUjt"
      },
      "source": [
        "# CNN для обработки текстов\n",
        "\n"
      ]
    },
    {
      "cell_type": "code",
      "execution_count": 54,
      "metadata": {
        "colab": {
          "base_uri": "https://localhost:8080/"
        },
        "id": "S_LxOOJUyn-E",
        "outputId": "06c05f4f-b7b4-418d-8a8c-ad29427d6357"
      },
      "outputs": [
        {
          "output_type": "stream",
          "name": "stdout",
          "text": [
            "Requirement already satisfied: torchmetrics in /usr/local/lib/python3.7/dist-packages (0.6.1)\n",
            "Requirement already satisfied: packaging in /usr/local/lib/python3.7/dist-packages (from torchmetrics) (21.3)\n",
            "Requirement already satisfied: numpy>=1.17.2 in /usr/local/lib/python3.7/dist-packages (from torchmetrics) (1.19.5)\n",
            "Requirement already satisfied: torch>=1.3.1 in /usr/local/lib/python3.7/dist-packages (from torchmetrics) (1.10.0+cu111)\n",
            "Requirement already satisfied: typing-extensions in /usr/local/lib/python3.7/dist-packages (from torch>=1.3.1->torchmetrics) (3.10.0.2)\n",
            "Requirement already satisfied: pyparsing!=3.0.5,>=2.0.2 in /usr/local/lib/python3.7/dist-packages (from packaging->torchmetrics) (3.0.6)\n"
          ]
        }
      ],
      "source": [
        "!pip install torchmetrics"
      ]
    },
    {
      "cell_type": "code",
      "execution_count": 55,
      "metadata": {
        "colab": {
          "base_uri": "https://localhost:8080/"
        },
        "id": "NovB599mOf9T",
        "outputId": "991cb16c-4289-4beb-8032-9b0448b70b0d"
      },
      "outputs": [
        {
          "output_type": "stream",
          "name": "stdout",
          "text": [
            "Requirement already satisfied: ipdb in /usr/local/lib/python3.7/dist-packages (0.13.9)\n",
            "Requirement already satisfied: toml>=0.10.2 in /usr/local/lib/python3.7/dist-packages (from ipdb) (0.10.2)\n",
            "Requirement already satisfied: setuptools in /usr/local/lib/python3.7/dist-packages (from ipdb) (57.4.0)\n",
            "Requirement already satisfied: decorator in /usr/local/lib/python3.7/dist-packages (from ipdb) (4.4.2)\n",
            "Requirement already satisfied: ipython>=7.17.0 in /usr/local/lib/python3.7/dist-packages (from ipdb) (7.30.1)\n",
            "Requirement already satisfied: backcall in /usr/local/lib/python3.7/dist-packages (from ipython>=7.17.0->ipdb) (0.2.0)\n",
            "Requirement already satisfied: pygments in /usr/local/lib/python3.7/dist-packages (from ipython>=7.17.0->ipdb) (2.6.1)\n",
            "Requirement already satisfied: traitlets>=4.2 in /usr/local/lib/python3.7/dist-packages (from ipython>=7.17.0->ipdb) (5.1.1)\n",
            "Requirement already satisfied: jedi>=0.16 in /usr/local/lib/python3.7/dist-packages (from ipython>=7.17.0->ipdb) (0.18.1)\n",
            "Requirement already satisfied: pickleshare in /usr/local/lib/python3.7/dist-packages (from ipython>=7.17.0->ipdb) (0.7.5)\n",
            "Requirement already satisfied: matplotlib-inline in /usr/local/lib/python3.7/dist-packages (from ipython>=7.17.0->ipdb) (0.1.3)\n",
            "Requirement already satisfied: prompt-toolkit!=3.0.0,!=3.0.1,<3.1.0,>=2.0.0 in /usr/local/lib/python3.7/dist-packages (from ipython>=7.17.0->ipdb) (3.0.24)\n",
            "Requirement already satisfied: pexpect>4.3 in /usr/local/lib/python3.7/dist-packages (from ipython>=7.17.0->ipdb) (4.8.0)\n",
            "Requirement already satisfied: parso<0.9.0,>=0.8.0 in /usr/local/lib/python3.7/dist-packages (from jedi>=0.16->ipython>=7.17.0->ipdb) (0.8.3)\n",
            "Requirement already satisfied: ptyprocess>=0.5 in /usr/local/lib/python3.7/dist-packages (from pexpect>4.3->ipython>=7.17.0->ipdb) (0.7.0)\n",
            "Requirement already satisfied: wcwidth in /usr/local/lib/python3.7/dist-packages (from prompt-toolkit!=3.0.0,!=3.0.1,<3.1.0,>=2.0.0->ipython>=7.17.0->ipdb) (0.2.5)\n"
          ]
        }
      ],
      "source": [
        "!pip install ipdb"
      ]
    },
    {
      "cell_type": "code",
      "execution_count": 56,
      "metadata": {
        "id": "CgiT9Xow1sd5"
      },
      "outputs": [],
      "source": [
        "import pandas as pd\n",
        "import numpy as np\n",
        "from string import punctuation\n",
        "from collections import Counter\n",
        "\n",
        "from sklearn.model_selection import train_test_split\n",
        "from sklearn.utils import shuffle\n",
        "import torch\n",
        "import torch.nn as nn\n",
        "import torch.nn.functional as F\n",
        "from torch.utils.data import Dataset, DataLoader, RandomSampler, SequentialSampler\n",
        "from torch.nn.utils.rnn import pad_sequence\n",
        "import torch.optim as optim\n",
        "from torchmetrics import F1\n",
        "from torchmetrics.functional import f1, recall\n",
        "import ipdb\n",
        "from tqdm import tqdm"
      ]
    },
    {
      "cell_type": "markdown",
      "metadata": {
        "id": "FfxNXovr1sd6"
      },
      "source": [
        "### Слова\n",
        "\n"
      ]
    },
    {
      "cell_type": "markdown",
      "metadata": {
        "id": "sZtLedfF00Ih"
      },
      "source": [
        "### Скачивание и подготовка данных"
      ]
    },
    {
      "cell_type": "markdown",
      "metadata": {
        "id": "dsQO4NnwuGtL"
      },
      "source": [
        "Давайте не будем заново, мы их уже предобработали и в файл сохранили"
      ]
    },
    {
      "cell_type": "code",
      "execution_count": 57,
      "metadata": {
        "id": "AtoaNftmuGtM"
      },
      "outputs": [],
      "source": [
        "train_data =  pd.read_csv('train.csv')\n",
        "val_data = pd.read_csv('val.csv')"
      ]
    },
    {
      "cell_type": "code",
      "execution_count": 58,
      "metadata": {
        "colab": {
          "base_uri": "https://localhost:8080/"
        },
        "id": "UfA7yoOFA4cm",
        "outputId": "95d5ae15-aa3d-4871-b325-e3e7e9c19b4f"
      },
      "outputs": [
        {
          "output_type": "execute_result",
          "data": {
            "text/plain": [
              "0.5079447203826343"
            ]
          },
          "metadata": {},
          "execution_count": 58
        }
      ],
      "source": [
        "train_data[train_data.type == 1].shape[0] / train_data.shape[0]"
      ]
    },
    {
      "cell_type": "code",
      "execution_count": 59,
      "metadata": {
        "colab": {
          "base_uri": "https://localhost:8080/",
          "height": 1000
        },
        "id": "45ebLSllFFAW",
        "outputId": "b329a8cd-2a5f-4869-9f58-e92ff064e4bb"
      },
      "outputs": [
        {
          "output_type": "execute_result",
          "data": {
            "text/html": [
              "<div>\n",
              "<style scoped>\n",
              "    .dataframe tbody tr th:only-of-type {\n",
              "        vertical-align: middle;\n",
              "    }\n",
              "\n",
              "    .dataframe tbody tr th {\n",
              "        vertical-align: top;\n",
              "    }\n",
              "\n",
              "    .dataframe thead th {\n",
              "        text-align: right;\n",
              "    }\n",
              "</style>\n",
              "<table border=\"1\" class=\"dataframe\">\n",
              "  <thead>\n",
              "    <tr style=\"text-align: right;\">\n",
              "      <th></th>\n",
              "      <th>Unnamed: 0</th>\n",
              "      <th>text</th>\n",
              "      <th>type</th>\n",
              "      <th>clean_texts</th>\n",
              "    </tr>\n",
              "  </thead>\n",
              "  <tbody>\n",
              "    <tr>\n",
              "      <th>0</th>\n",
              "      <td>0</td>\n",
              "      <td>эх, ехать на репу пора((\\nЗавтра уже выступление.</td>\n",
              "      <td>0</td>\n",
              "      <td>эх , ехать на репа пора ( ( завтра уже выступл...</td>\n",
              "    </tr>\n",
              "    <tr>\n",
              "      <th>1</th>\n",
              "      <td>1</td>\n",
              "      <td>Аллергия вышла,из-за этих тупых мандарин(((((((</td>\n",
              "      <td>0</td>\n",
              "      <td>аллергия выйти , из - за этот тупой мандарин (...</td>\n",
              "    </tr>\n",
              "    <tr>\n",
              "      <th>2</th>\n",
              "      <td>2</td>\n",
              "      <td>@KompaundTone550 @tatysho власть всегда была б...</td>\n",
              "      <td>1</td>\n",
              "      <td>власть всегда была , просто теперь об знать ве...</td>\n",
              "    </tr>\n",
              "    <tr>\n",
              "      <th>3</th>\n",
              "      <td>3</td>\n",
              "      <td>@Alinockaa А хрен, я гулящая пока, потом насиж...</td>\n",
              "      <td>1</td>\n",
              "      <td>а хрен , я пока , потом дома : dd но сегодня я...</td>\n",
              "    </tr>\n",
              "    <tr>\n",
              "      <th>4</th>\n",
              "      <td>4</td>\n",
              "      <td>RT @vik_vans: блин, слушала первый мини-альбом...</td>\n",
              "      <td>0</td>\n",
              "      <td>rt @vik_vans : блин , слушать первый мини - ал...</td>\n",
              "    </tr>\n",
              "    <tr>\n",
              "      <th>5</th>\n",
              "      <td>5</td>\n",
              "      <td>Как же не сделать фото на айфон в зеркале:-D h...</td>\n",
              "      <td>1</td>\n",
              "      <td>как же не сделать фото на айфон в</td>\n",
              "    </tr>\n",
              "    <tr>\n",
              "      <th>6</th>\n",
              "      <td>6</td>\n",
              "      <td>Заебись погулял... Мама пуховик постирала ;((</td>\n",
              "      <td>0</td>\n",
              "      <td>заебись погулял ... мама пуховик постирать ; ( (</td>\n",
              "    </tr>\n",
              "    <tr>\n",
              "      <th>7</th>\n",
              "      <td>7</td>\n",
              "      <td>#HappyBirthdayLouisfromCIS   Почему я мало пиш...</td>\n",
              "      <td>0</td>\n",
              "      <td># почему я мало писать в тви ; ( ( ( (</td>\n",
              "    </tr>\n",
              "    <tr>\n",
              "      <th>8</th>\n",
              "      <td>8</td>\n",
              "      <td>@cobyisnotalone ладно :(\\nмне через полтора ча...</td>\n",
              "      <td>0</td>\n",
              "      <td>ладно :( мне через полтора час только</td>\n",
              "    </tr>\n",
              "    <tr>\n",
              "      <th>9</th>\n",
              "      <td>9</td>\n",
              "      <td>@DashaSone вот да, это было бы идеально! Хочу ...</td>\n",
              "      <td>1</td>\n",
              "      <td>вот да , это было бы идеальный ! хотеть все пр...</td>\n",
              "    </tr>\n",
              "    <tr>\n",
              "      <th>10</th>\n",
              "      <td>10</td>\n",
              "      <td>@imweirdie ты тогда уже ушла:( ПОКАЖУ ПОТОМ,ТЫ...</td>\n",
              "      <td>0</td>\n",
              "      <td>ты тогда уже уйти :( покажу потом , ты , почем...</td>\n",
              "    </tr>\n",
              "    <tr>\n",
              "      <th>11</th>\n",
              "      <td>11</td>\n",
              "      <td>Вчера разговаривала с Лизой и ей вечно что-то ...</td>\n",
              "      <td>1</td>\n",
              "      <td>вчера разговаривать с лиза и ей вечно что - то...</td>\n",
              "    </tr>\n",
              "    <tr>\n",
              "      <th>12</th>\n",
              "      <td>12</td>\n",
              "      <td>Тупо сюжет для новой главы спокойника х) У мен...</td>\n",
              "      <td>1</td>\n",
              "      <td>тупо сюжет для новый глава х ) у меня паника ....</td>\n",
              "    </tr>\n",
              "    <tr>\n",
              "      <th>13</th>\n",
              "      <td>13</td>\n",
              "      <td>@AristocratBlood Сочувствую((( Много уроков?</td>\n",
              "      <td>0</td>\n",
              "      <td>сочувствовать ( ( ( много урок ?</td>\n",
              "    </tr>\n",
              "    <tr>\n",
              "      <th>14</th>\n",
              "      <td>14</td>\n",
              "      <td>@Alina_Evrika Привет! По моей традиции: Мишу т...</td>\n",
              "      <td>1</td>\n",
              "      <td>привет ! по мой традиция : миша тебе ! )</td>\n",
              "    </tr>\n",
              "    <tr>\n",
              "      <th>15</th>\n",
              "      <td>15</td>\n",
              "      <td>@RirenaErena АЮ молчит... Неужели снова недово...</td>\n",
              "      <td>1</td>\n",
              "      <td>@rirenaerena ая молчать ... неужели снова недо...</td>\n",
              "    </tr>\n",
              "    <tr>\n",
              "      <th>16</th>\n",
              "      <td>16</td>\n",
              "      <td>Именно Мыш, именно без мягкого знака. Потому ч...</td>\n",
              "      <td>1</td>\n",
              "      <td>именно , именно без мягкий знак . потому что э...</td>\n",
              "    </tr>\n",
              "    <tr>\n",
              "      <th>17</th>\n",
              "      <td>17</td>\n",
              "      <td>Кепон Кристиана,йоу \\nАхах,очень здорово повес...</td>\n",
              "      <td>1</td>\n",
              "      <td>, йоу ахах , очень здорово повеселиться :d</td>\n",
              "    </tr>\n",
              "    <tr>\n",
              "      <th>18</th>\n",
              "      <td>18</td>\n",
              "      <td>RT @Liza_konoval: @MarinaDegtyar а все благода...</td>\n",
              "      <td>1</td>\n",
              "      <td>rt : а все благодаря , епта :d но спасиба ему :*</td>\n",
              "    </tr>\n",
              "    <tr>\n",
              "      <th>19</th>\n",
              "      <td>19</td>\n",
              "      <td>@mr1garik обычный пневмат)\\nДа, этот всередине...</td>\n",
              "      <td>1</td>\n",
              "      <td>обычный ) да , этот железный а тут )</td>\n",
              "    </tr>\n",
              "    <tr>\n",
              "      <th>20</th>\n",
              "      <td>20</td>\n",
              "      <td>@dmitruksergey много хамства у всех. :( но да,...</td>\n",
              "      <td>0</td>\n",
              "      <td>много у всех . :( но да , на восток больше .</td>\n",
              "    </tr>\n",
              "    <tr>\n",
              "      <th>21</th>\n",
              "      <td>21</td>\n",
              "      <td>RT @Terra_Titanic: Артемикус двоится) http://t...</td>\n",
              "      <td>1</td>\n",
              "      <td>rt : )</td>\n",
              "    </tr>\n",
              "    <tr>\n",
              "      <th>22</th>\n",
              "      <td>22</td>\n",
              "      <td>Новый год к нам мчится! А к вам? Открытки с но...</td>\n",
              "      <td>1</td>\n",
              "      <td>новый год к нам мчаться ! а к вам ? открытка с...</td>\n",
              "    </tr>\n",
              "    <tr>\n",
              "      <th>23</th>\n",
              "      <td>23</td>\n",
              "      <td>RT @TataFjord: Снежинка ты наша, недоделанная:...</td>\n",
              "      <td>1</td>\n",
              "      <td>rt : снежинка ты наш , : ddd # биатлон</td>\n",
              "    </tr>\n",
              "    <tr>\n",
              "      <th>24</th>\n",
              "      <td>24</td>\n",
              "      <td>RT @Malou38irk: Наши показали на Чемпионате Ми...</td>\n",
              "      <td>1</td>\n",
              "      <td>rt : наш показать на чемпионат мир , что сибир...</td>\n",
              "    </tr>\n",
              "    <tr>\n",
              "      <th>25</th>\n",
              "      <td>25</td>\n",
              "      <td>Домой хочу( устала http://t.co/mza46tsUh1</td>\n",
              "      <td>0</td>\n",
              "      <td>домой хотеть ( устать</td>\n",
              "    </tr>\n",
              "    <tr>\n",
              "      <th>26</th>\n",
              "      <td>26</td>\n",
              "      <td>Поговаривают, что Чак Паланик скончался((</td>\n",
              "      <td>0</td>\n",
              "      <td>, что чак скончаться ( (</td>\n",
              "    </tr>\n",
              "    <tr>\n",
              "      <th>27</th>\n",
              "      <td>27</td>\n",
              "      <td>Когда шли домой мы были свидетелями жестокой д...</td>\n",
              "      <td>0</td>\n",
              "      <td>когда идти домой мы были свидетель жестокий др...</td>\n",
              "    </tr>\n",
              "    <tr>\n",
              "      <th>28</th>\n",
              "      <td>28</td>\n",
              "      <td>\"@KyunneyI: че то сегодня Ланды Христофоровны ...</td>\n",
              "      <td>1</td>\n",
              "      <td>\" : че то сегодня не видно \" скоро буду ) )</td>\n",
              "    </tr>\n",
              "    <tr>\n",
              "      <th>29</th>\n",
              "      <td>29</td>\n",
              "      <td>RT @gatizoxifywi: писькой, а я не хочу чтоб он...</td>\n",
              "      <td>0</td>\n",
              "      <td>rt : , а я не хотеть чтоб он меня так называть...</td>\n",
              "    </tr>\n",
              "    <tr>\n",
              "      <th>30</th>\n",
              "      <td>30</td>\n",
              "      <td>RT @tipodupevyl: что то я забыл что на фликре ...</td>\n",
              "      <td>1</td>\n",
              "      <td>rt : что то я забыть что на ещё в пара freebsd...</td>\n",
              "    </tr>\n",
              "    <tr>\n",
              "      <th>31</th>\n",
              "      <td>31</td>\n",
              "      <td>наконец-то приезжает мамуля!после вчерашних со...</td>\n",
              "      <td>0</td>\n",
              "      <td>наконец - то приезжать вчерашний событие боять...</td>\n",
              "    </tr>\n",
              "    <tr>\n",
              "      <th>32</th>\n",
              "      <td>32</td>\n",
              "      <td>Мне попалась манга с типично японским уровнем ...</td>\n",
              "      <td>1</td>\n",
              "      <td>мне попасться манга с японский уровень шизофре...</td>\n",
              "    </tr>\n",
              "    <tr>\n",
              "      <th>33</th>\n",
              "      <td>33</td>\n",
              "      <td>RT @nstkotova: @BelibersTEAM Воу, Воу, Воу))))...</td>\n",
              "      <td>1</td>\n",
              "      <td>rt : воу , воу , воу ) ) ) ) какой ты строгий :d</td>\n",
              "    </tr>\n",
              "    <tr>\n",
              "      <th>34</th>\n",
              "      <td>34</td>\n",
              "      <td>RT @kota_Oo_oO: @anstation @Lump_Your_Head хпх...</td>\n",
              "      <td>0</td>\n",
              "      <td>rt @kota_oo_oo : @anstation меня любить * - *</td>\n",
              "    </tr>\n",
              "    <tr>\n",
              "      <th>35</th>\n",
              "      <td>35</td>\n",
              "      <td>RT @_oolya: @aliya_g_ горячий чай? башкирский ...</td>\n",
              "      <td>1</td>\n",
              "      <td>rt : _ горячий чай ? мёд ? :d</td>\n",
              "    </tr>\n",
              "    <tr>\n",
              "      <th>36</th>\n",
              "      <td>36</td>\n",
              "      <td>@Sovalong на 1 корпусе)который напротив школы)...</td>\n",
              "      <td>1</td>\n",
              "      <td>на 1 напротив на крыша над ёлка стоить )</td>\n",
              "    </tr>\n",
              "    <tr>\n",
              "      <th>37</th>\n",
              "      <td>37</td>\n",
              "      <td>Пора домой... Такая шикарная погода но завтра ...</td>\n",
              "      <td>0</td>\n",
              "      <td>пора домой ... такой шикарный погода но завтра...</td>\n",
              "    </tr>\n",
              "    <tr>\n",
              "      <th>38</th>\n",
              "      <td>38</td>\n",
              "      <td>ураа, нашел цепочку! все отлично)\\n#ухьюстонав...</td>\n",
              "      <td>1</td>\n",
              "      <td>ураа , найти цепочка ! все отличный ) # .</td>\n",
              "    </tr>\n",
              "    <tr>\n",
              "      <th>39</th>\n",
              "      <td>39</td>\n",
              "      <td>RT @Cokolik13: 12 декабря - \"Виктория\"- фестив...</td>\n",
              "      <td>1</td>\n",
              "      <td>rt : 12 декабрь - \" фестиваль добро ! )</td>\n",
              "    </tr>\n",
              "    <tr>\n",
              "      <th>40</th>\n",
              "      <td>40</td>\n",
              "      <td>да,соглашусь с Юрой.\\nЖестокая суббота не толь...</td>\n",
              "      <td>1</td>\n",
              "      <td>да , согласиться с юра . жестокий суббота не т...</td>\n",
              "    </tr>\n",
              "    <tr>\n",
              "      <th>41</th>\n",
              "      <td>41</td>\n",
              "      <td>@desmount @mikhailprigara как это не встречал?...</td>\n",
              "      <td>1</td>\n",
              "      <td>как это не встречать ? ) а диджей ? ) ) )</td>\n",
              "    </tr>\n",
              "    <tr>\n",
              "      <th>42</th>\n",
              "      <td>42</td>\n",
              "      <td>а из-за большой разницы в возрасте с сестренко...</td>\n",
              "      <td>1</td>\n",
              "      <td>а из - за большой разница в возраст с сестрёнк...</td>\n",
              "    </tr>\n",
              "    <tr>\n",
              "      <th>43</th>\n",
              "      <td>43</td>\n",
              "      <td>RT @cujaqyfumyr: Наплодил кучу аккаунтов, а уд...</td>\n",
              "      <td>0</td>\n",
              "      <td>rt : куча аккаунт , а удалить :(</td>\n",
              "    </tr>\n",
              "    <tr>\n",
              "      <th>44</th>\n",
              "      <td>44</td>\n",
              "      <td>@7thousandmiles_ азхахаха, ну да, знаю я твое ...</td>\n",
              "      <td>1</td>\n",
              "      <td>_ , ну да , знать я твой \" немножко \" :d и тем...</td>\n",
              "    </tr>\n",
              "    <tr>\n",
              "      <th>45</th>\n",
              "      <td>45</td>\n",
              "      <td>В любом случае, ты был в пустыне. 3:-) #TeamFo...</td>\n",
              "      <td>1</td>\n",
              "      <td>в любой случай , ты был в пустыня . 3:- ) # te...</td>\n",
              "    </tr>\n",
              "    <tr>\n",
              "      <th>46</th>\n",
              "      <td>46</td>\n",
              "      <td>я точно дочь своей мамы\\nу мамы заболела спина...</td>\n",
              "      <td>0</td>\n",
              "      <td>я точно дочь свой мама у мама заболеть к и мне...</td>\n",
              "    </tr>\n",
              "    <tr>\n",
              "      <th>47</th>\n",
              "      <td>47</td>\n",
              "      <td>@Soukhinov И всё? :) А ты попробовал бы :) Я с...</td>\n",
              "      <td>1</td>\n",
              "      <td>и всё ? :) а ты попробовать бы :) я со свой бу...</td>\n",
              "    </tr>\n",
              "    <tr>\n",
              "      <th>48</th>\n",
              "      <td>48</td>\n",
              "      <td>Q: Привет, ты мне дико нравишься, но я стесняю...</td>\n",
              "      <td>0</td>\n",
              "      <td>q : привет , ты мне дико нравишься , но я стес...</td>\n",
              "    </tr>\n",
              "    <tr>\n",
              "      <th>49</th>\n",
              "      <td>49</td>\n",
              "      <td>RT @Nastia_GD: @_sing_to_me_ @dead_music666 ну...</td>\n",
              "      <td>1</td>\n",
              "      <td>rt @nastia_gd : _ @dead_music666 ну у меня пок...</td>\n",
              "    </tr>\n",
              "  </tbody>\n",
              "</table>\n",
              "</div>"
            ],
            "text/plain": [
              "    Unnamed: 0  ...                                        clean_texts\n",
              "0            0  ...  эх , ехать на репа пора ( ( завтра уже выступл...\n",
              "1            1  ...  аллергия выйти , из - за этот тупой мандарин (...\n",
              "2            2  ...  власть всегда была , просто теперь об знать ве...\n",
              "3            3  ...  а хрен , я пока , потом дома : dd но сегодня я...\n",
              "4            4  ...  rt @vik_vans : блин , слушать первый мини - ал...\n",
              "5            5  ...                  как же не сделать фото на айфон в\n",
              "6            6  ...   заебись погулял ... мама пуховик постирать ; ( (\n",
              "7            7  ...             # почему я мало писать в тви ; ( ( ( (\n",
              "8            8  ...              ладно :( мне через полтора час только\n",
              "9            9  ...  вот да , это было бы идеальный ! хотеть все пр...\n",
              "10          10  ...  ты тогда уже уйти :( покажу потом , ты , почем...\n",
              "11          11  ...  вчера разговаривать с лиза и ей вечно что - то...\n",
              "12          12  ...  тупо сюжет для новый глава х ) у меня паника ....\n",
              "13          13  ...                   сочувствовать ( ( ( много урок ?\n",
              "14          14  ...           привет ! по мой традиция : миша тебе ! )\n",
              "15          15  ...  @rirenaerena ая молчать ... неужели снова недо...\n",
              "16          16  ...  именно , именно без мягкий знак . потому что э...\n",
              "17          17  ...         , йоу ахах , очень здорово повеселиться :d\n",
              "18          18  ...   rt : а все благодаря , епта :d но спасиба ему :*\n",
              "19          19  ...               обычный ) да , этот железный а тут )\n",
              "20          20  ...       много у всех . :( но да , на восток больше .\n",
              "21          21  ...                                             rt : )\n",
              "22          22  ...  новый год к нам мчаться ! а к вам ? открытка с...\n",
              "23          23  ...             rt : снежинка ты наш , : ddd # биатлон\n",
              "24          24  ...  rt : наш показать на чемпионат мир , что сибир...\n",
              "25          25  ...                              домой хотеть ( устать\n",
              "26          26  ...                           , что чак скончаться ( (\n",
              "27          27  ...  когда идти домой мы были свидетель жестокий др...\n",
              "28          28  ...        \" : че то сегодня не видно \" скоро буду ) )\n",
              "29          29  ...  rt : , а я не хотеть чтоб он меня так называть...\n",
              "30          30  ...  rt : что то я забыть что на ещё в пара freebsd...\n",
              "31          31  ...  наконец - то приезжать вчерашний событие боять...\n",
              "32          32  ...  мне попасться манга с японский уровень шизофре...\n",
              "33          33  ...   rt : воу , воу , воу ) ) ) ) какой ты строгий :d\n",
              "34          34  ...      rt @kota_oo_oo : @anstation меня любить * - *\n",
              "35          35  ...                      rt : _ горячий чай ? мёд ? :d\n",
              "36          36  ...           на 1 напротив на крыша над ёлка стоить )\n",
              "37          37  ...  пора домой ... такой шикарный погода но завтра...\n",
              "38          38  ...          ураа , найти цепочка ! все отличный ) # .\n",
              "39          39  ...            rt : 12 декабрь - \" фестиваль добро ! )\n",
              "40          40  ...  да , согласиться с юра . жестокий суббота не т...\n",
              "41          41  ...          как это не встречать ? ) а диджей ? ) ) )\n",
              "42          42  ...  а из - за большой разница в возраст с сестрёнк...\n",
              "43          43  ...                   rt : куча аккаунт , а удалить :(\n",
              "44          44  ...  _ , ну да , знать я твой \" немножко \" :d и тем...\n",
              "45          45  ...  в любой случай , ты был в пустыня . 3:- ) # te...\n",
              "46          46  ...  я точно дочь свой мама у мама заболеть к и мне...\n",
              "47          47  ...  и всё ? :) а ты попробовать бы :) я со свой бу...\n",
              "48          48  ...  q : привет , ты мне дико нравишься , но я стес...\n",
              "49          49  ...  rt @nastia_gd : _ @dead_music666 ну у меня пок...\n",
              "\n",
              "[50 rows x 4 columns]"
            ]
          },
          "metadata": {},
          "execution_count": 59
        }
      ],
      "source": [
        "train_data.head(50)"
      ]
    },
    {
      "cell_type": "markdown",
      "metadata": {
        "id": "iwD2XOt8uGtM"
      },
      "source": [
        "Почему мы можем трогать только train_data? Потому что иначе может попасть что-нибудь из теста. Вероятно, будет не очень заментно, но исключать возможность не стоит, и на уровне слов она больше, чем на уровне символов"
      ]
    },
    {
      "cell_type": "code",
      "execution_count": 60,
      "metadata": {
        "colab": {
          "base_uri": "https://localhost:8080/"
        },
        "id": "pc6HXtrMuGtN",
        "outputId": "9c3478f8-eda9-49a2-ddd0-359053f4f88d"
      },
      "outputs": [
        {
          "output_type": "stream",
          "name": "stderr",
          "text": [
            "100%|██████████| 173952/173952 [00:01<00:00, 164353.38it/s]"
          ]
        },
        {
          "output_type": "stream",
          "name": "stdout",
          "text": [
            "всего уникальных слов: 18112\n"
          ]
        },
        {
          "output_type": "stream",
          "name": "stderr",
          "text": [
            "\n"
          ]
        }
      ],
      "source": [
        "vocab = Counter()\n",
        "for text in tqdm(train_data['clean_texts']):\n",
        "    vocab.update(str(text).split(' '))\n",
        "print('всего уникальных слов:', len(vocab))"
      ]
    },
    {
      "cell_type": "code",
      "execution_count": 61,
      "metadata": {
        "colab": {
          "base_uri": "https://localhost:8080/"
        },
        "id": "TFlVinuMObSL",
        "outputId": "2f31423f-6f74-4498-ad51-b8e1a2b2f7be"
      },
      "outputs": [
        {
          "output_type": "execute_result",
          "data": {
            "text/plain": [
              "0"
            ]
          },
          "metadata": {},
          "execution_count": 61
        }
      ],
      "source": [
        "vocab['PAD']"
      ]
    },
    {
      "cell_type": "code",
      "execution_count": 62,
      "metadata": {
        "colab": {
          "base_uri": "https://localhost:8080/"
        },
        "id": "0wKHM_LU1seA",
        "outputId": "19c0ac5e-9d42-42ee-8db1-e179163679ee"
      },
      "outputs": [
        {
          "output_type": "stream",
          "name": "stdout",
          "text": [
            "уникальных слов, встретившихся больше 5 раз: 18112\n"
          ]
        }
      ],
      "source": [
        "filtered_vocab = set()\n",
        "\n",
        "for word in vocab:\n",
        "    if vocab[word] > 5:\n",
        "        filtered_vocab.add(word)\n",
        "    else:\n",
        "        print(word) # мы всё в препроцессинге удалили\n",
        "print('уникальных слов, встретившихся больше 5 раз:', len(filtered_vocab))"
      ]
    },
    {
      "cell_type": "code",
      "execution_count": 63,
      "metadata": {
        "id": "BEUhJv5N1seC"
      },
      "outputs": [],
      "source": [
        "#создаем словарь с индексами symbol2id, для спецсимвола паддинга дефолтный индекс - 0\n",
        "word2id = {'PAD':0}\n",
        "symbol2id = {'PAD':0}\n",
        "\n",
        "for word in filtered_vocab:\n",
        "    word2id[word] = len(word2id)\n",
        "    for symbol in word:\n",
        "        if not symbol in symbol2id.keys():\n",
        "            symbol2id[symbol] = len(symbol2id)"
      ]
    },
    {
      "cell_type": "code",
      "execution_count": 64,
      "metadata": {
        "id": "oqaSjzTjuGtO"
      },
      "outputs": [],
      "source": [
        "#symbol2id # И ещё смайлики"
      ]
    },
    {
      "cell_type": "code",
      "execution_count": 65,
      "metadata": {
        "id": "P6J89I9d1seC"
      },
      "outputs": [],
      "source": [
        "#обратный словарь для того, чтобы раскодировать последовательность\n",
        "id2word = {i:word for word, i in word2id.items()}\n",
        "id2symbol = {i:symbol for symbol, i in symbol2id.items()}"
      ]
    },
    {
      "cell_type": "code",
      "execution_count": 66,
      "metadata": {
        "colab": {
          "base_uri": "https://localhost:8080/"
        },
        "id": "YrzM7MnCQeP_",
        "outputId": "ca2929bf-e8c9-44ab-983a-149e912de692"
      },
      "outputs": [
        {
          "output_type": "execute_result",
          "data": {
            "text/plain": [
              "device(type='cuda')"
            ]
          },
          "metadata": {},
          "execution_count": 66
        }
      ],
      "source": [
        "DEVICE = torch.device('cuda') if torch.cuda.is_available() else torch.device('cpu')\n",
        "DEVICE"
      ]
    },
    {
      "cell_type": "code",
      "execution_count": 67,
      "metadata": {
        "colab": {
          "base_uri": "https://localhost:8080/"
        },
        "id": "hEZ4Ay8XuGtO",
        "outputId": "800087ff-b792-454b-85f9-49897e831ee6"
      },
      "outputs": [
        {
          "output_type": "execute_result",
          "data": {
            "text/plain": [
              "84"
            ]
          },
          "metadata": {},
          "execution_count": 67
        }
      ],
      "source": [
        "word2id[')'] # у нас есть скобочки, и это важно"
      ]
    },
    {
      "cell_type": "code",
      "execution_count": 68,
      "metadata": {
        "colab": {
          "base_uri": "https://localhost:8080/"
        },
        "id": "PALuznhPuGtO",
        "outputId": "153322c6-e558-4699-c2b0-616b5e0a9591"
      },
      "outputs": [
        {
          "output_type": "execute_result",
          "data": {
            "text/plain": [
              "59"
            ]
          },
          "metadata": {},
          "execution_count": 68
        }
      ],
      "source": [
        "symbol2id[')']"
      ]
    },
    {
      "cell_type": "markdown",
      "metadata": {
        "id": "2DuAWLFTuGtO"
      },
      "source": [
        "## Эмбеддинги"
      ]
    },
    {
      "cell_type": "markdown",
      "metadata": {
        "id": "oCRMo-gMuGtP"
      },
      "source": [
        "Фасттекст так фасттекст, давайте возьмём для него леммы"
      ]
    },
    {
      "cell_type": "code",
      "execution_count": 69,
      "metadata": {
        "id": "qGP_wm-quGtP"
      },
      "outputs": [],
      "source": [
        "from gensim.models import FastText"
      ]
    },
    {
      "cell_type": "code",
      "execution_count": 70,
      "metadata": {
        "id": "VJXt68D0uGtP"
      },
      "outputs": [],
      "source": [
        "fasttext_data = [str(i) for i in train_data['clean_texts'].tolist()]"
      ]
    },
    {
      "cell_type": "code",
      "execution_count": 71,
      "metadata": {
        "id": "lyCfG_UMuGtP"
      },
      "outputs": [],
      "source": [
        "model_fasttext = FastText(fasttext_data, size=64, window=5, min_count=5)"
      ]
    },
    {
      "cell_type": "code",
      "execution_count": 72,
      "metadata": {
        "id": "JLN76jyYuGtP"
      },
      "outputs": [],
      "source": [
        "#model_fasttext.wv[')'] #есть скобочки в модели!"
      ]
    },
    {
      "cell_type": "code",
      "execution_count": 72,
      "metadata": {
        "id": "LtlawmJYuGtP"
      },
      "outputs": [],
      "source": [
        ""
      ]
    },
    {
      "cell_type": "code",
      "execution_count": 73,
      "metadata": {
        "colab": {
          "base_uri": "https://localhost:8080/"
        },
        "id": "qs86yN3BuGtP",
        "outputId": "d414ce48-7bd8-4496-c394-c1c178bcabbb"
      },
      "outputs": [
        {
          "output_type": "stream",
          "name": "stdout",
          "text": [
            "18113\n"
          ]
        }
      ],
      "source": [
        "model_embs = np.zeros((len(word2id), 64))\n",
        "dict_of_non_wodel_embs = {} # логичнее для одинаковых слов использовать одинаковые эмбеддинги\n",
        "len_non_model_words  = 0\n",
        "# почему не случайные? потому что сейчас менять будем\n",
        "for word, i in word2id.items():\n",
        "    try:\n",
        "        model_embs[i] = ft.wv[word]\n",
        "    except:\n",
        "        len_non_model_words += 1\n",
        "        if word in dict_of_non_wodel_embs.keys():\n",
        "            emb = dict_of_non_wodel_embs[word]\n",
        "        else:\n",
        "            emb = np.random.normal(0, 0.05, 64)\n",
        "            dict_of_non_wodel_embs[word] = emb\n",
        "        model_embs[i] = emb\n",
        "print(len_non_model_words)"
      ]
    },
    {
      "cell_type": "markdown",
      "metadata": {
        "id": "obiXRWLt1OZJ"
      },
      "source": [
        "### Dataset & DataLoader"
      ]
    },
    {
      "cell_type": "code",
      "execution_count": 74,
      "metadata": {
        "id": "FMs4ZohJ1seI"
      },
      "outputs": [],
      "source": [
        "class TweetsDataset(Dataset):\n",
        "\n",
        "    def __init__(self, dataset, word2id, DEVICE):\n",
        "        self.dataset = [str(i) for i in dataset['clean_texts'].values]\n",
        "        self.word2id = word2id\n",
        "        self.symbol2id = symbol2id\n",
        "        self.length = dataset.shape[0]\n",
        "        self.target = dataset['type'].values\n",
        "        self.device = DEVICE\n",
        "\n",
        "    def __len__(self):\n",
        "        return self.length\n",
        "\n",
        "    def __getitem__(self, index): \n",
        "        words = self.dataset[index].split(' ')\n",
        "        symbols = list(self.dataset[index])\n",
        "        words_ids = torch.LongTensor([self.word2id[word.lower()] for word in words if word.lower() in self.word2id])\n",
        "        symbols_ids = torch.LongTensor([self.symbol2id[symbol.lower()] for symbol in symbols if symbol.lower() in self.symbol2id])\n",
        "        y = [self.target[index]]\n",
        "        return words_ids, symbols_ids, y\n",
        "\n",
        "    def collate_fn(self, batch): #этот метод можно реализовывать и отдельно,\n",
        "    # он понадобится для DataLoader во время итерации по батчам\n",
        "        words_ids, symbols_ids, y = list(zip(*batch))\n",
        "        \n",
        "        padded_words_ids = pad_sequence(words_ids, batch_first=True).to(self.device)\n",
        "        padded_symbols_ids = pad_sequence(symbols_ids, batch_first=True).to(self.device)\n",
        "        y = torch.Tensor(y).to(self.device)\n",
        "        return padded_words_ids, padded_symbols_ids, y"
      ]
    },
    {
      "cell_type": "markdown",
      "metadata": {
        "id": "m5Wjfyxar7U1"
      },
      "source": [
        "### создаем итераторы по данным для трейна и теста"
      ]
    },
    {
      "cell_type": "code",
      "execution_count": 75,
      "metadata": {
        "id": "8Zl4FxB71seI"
      },
      "outputs": [],
      "source": [
        "train_dataset = TweetsDataset(train_data, word2id, DEVICE)\n",
        "train_sampler = RandomSampler(train_dataset)\n",
        "train_iterator = DataLoader(train_dataset, collate_fn = train_dataset.collate_fn, sampler=train_sampler, batch_size=64)"
      ]
    },
    {
      "cell_type": "code",
      "execution_count": 76,
      "metadata": {
        "id": "xauLXZwQNcCq"
      },
      "outputs": [],
      "source": [
        "batch = next(iter(train_iterator))"
      ]
    },
    {
      "cell_type": "code",
      "execution_count": 77,
      "metadata": {
        "colab": {
          "base_uri": "https://localhost:8080/"
        },
        "id": "GOqAu8X8S36K",
        "outputId": "3187ce96-95f4-4185-f7ad-8c7c356e4381"
      },
      "outputs": [
        {
          "output_type": "execute_result",
          "data": {
            "text/plain": [
              "torch.Size([64, 36])"
            ]
          },
          "metadata": {},
          "execution_count": 77
        }
      ],
      "source": [
        "batch[0].shape"
      ]
    },
    {
      "cell_type": "code",
      "execution_count": 78,
      "metadata": {
        "id": "aZbD27_A6Nck"
      },
      "outputs": [],
      "source": [
        "#[id2word[int(i)] for i in batch[0][0]]"
      ]
    },
    {
      "cell_type": "code",
      "execution_count": 79,
      "metadata": {
        "colab": {
          "base_uri": "https://localhost:8080/"
        },
        "id": "tj6Wltq3TfGQ",
        "outputId": "f0d8e98f-145d-4de5-913a-7511a888ccd9",
        "scrolled": true
      },
      "outputs": [
        {
          "output_type": "execute_result",
          "data": {
            "text/plain": [
              "tensor([[35, 50, 10,  ...,  0,  0,  0],\n",
              "        [11, 17, 14,  ...,  0,  0,  0],\n",
              "        [23,  2, 50,  ...,  0,  0,  0],\n",
              "        ...,\n",
              "        [26, 33, 72,  ...,  0,  0,  0],\n",
              "        [20,  2,  5,  ...,  0,  0,  0],\n",
              "        [26, 33, 72,  ...,  0,  0,  0]], device='cuda:0')"
            ]
          },
          "metadata": {},
          "execution_count": 79
        }
      ],
      "source": [
        "\n",
        "batch[1]"
      ]
    },
    {
      "cell_type": "code",
      "execution_count": 80,
      "metadata": {
        "id": "ZR_upb-_1seJ"
      },
      "outputs": [],
      "source": [
        "val_dataset = TweetsDataset(val_data, word2id, DEVICE)\n",
        "val_sampler = SequentialSampler(val_dataset)\n",
        "val_iterator = DataLoader(val_dataset, collate_fn = val_dataset.collate_fn, sampler=val_sampler, batch_size=64)"
      ]
    },
    {
      "cell_type": "code",
      "execution_count": 81,
      "metadata": {
        "colab": {
          "base_uri": "https://localhost:8080/"
        },
        "id": "jQlpcUR28V-j",
        "outputId": "bf01698a-3db2-47a5-a445-3b82cf9c52c6"
      },
      "outputs": [
        {
          "output_type": "execute_result",
          "data": {
            "text/plain": [
              "torch.Size([64, 34])"
            ]
          },
          "metadata": {},
          "execution_count": 81
        }
      ],
      "source": [
        "test_batch = next(iter(val_iterator))\n",
        "test_batch[0].shape"
      ]
    },
    {
      "cell_type": "markdown",
      "metadata": {
        "id": "BUCT8ayD1seK"
      },
      "source": [
        "### CNN model"
      ]
    },
    {
      "cell_type": "code",
      "execution_count": 82,
      "metadata": {
        "colab": {
          "base_uri": "https://localhost:8080/"
        },
        "id": "NfVEoM-IZFFe",
        "outputId": "585c4952-bad8-4fd2-e791-64a4c1e8876f"
      },
      "outputs": [
        {
          "output_type": "execute_result",
          "data": {
            "text/plain": [
              "tensor([[[ 0.7730, -0.5823,  0.5370,  0.0596],\n",
              "         [ 0.4840, -1.1157,  1.4484,  0.0114],\n",
              "         [-0.3345,  0.4625, -0.0791, -0.1215],\n",
              "         [-0.3722,  0.7536, -2.1020, -0.4278],\n",
              "         [-0.1973, -0.1449,  1.3555,  1.0643],\n",
              "         [ 0.7417,  0.3055, -0.7577,  1.2755],\n",
              "         [ 1.2109, -0.7057,  1.4951,  0.6605],\n",
              "         [ 1.3237,  0.3714, -0.3790,  1.0558]],\n",
              "\n",
              "        [[-0.2410,  0.5852, -0.9284,  0.0786],\n",
              "         [ 0.2254, -1.4330,  1.3916, -0.0292],\n",
              "         [ 1.0274,  1.0500, -1.8175,  0.1152],\n",
              "         [ 0.0863, -0.8421, -0.8687,  0.0928],\n",
              "         [ 0.4675, -0.2433, -0.1908,  0.7938],\n",
              "         [ 0.7992,  1.4567,  1.5456, -0.6798],\n",
              "         [-0.5444, -0.1444, -0.9595, -0.6082],\n",
              "         [-1.2961, -0.4826, -1.1602,  0.2445]],\n",
              "\n",
              "        [[ 0.9157, -0.2864,  0.2406,  0.7466],\n",
              "         [-0.1913,  0.0877,  0.2646,  1.2703],\n",
              "         [ 0.4920, -2.1965, -0.0646,  1.0652],\n",
              "         [-0.5397,  0.3300, -2.5417,  0.8493],\n",
              "         [ 0.3165, -1.0688, -0.1884,  0.7469],\n",
              "         [-0.4201,  0.9462, -0.6144,  0.3245],\n",
              "         [-0.5001,  1.2865, -0.3282,  0.4105],\n",
              "         [ 0.2424, -1.9816,  1.2524, -0.8641]]])"
            ]
          },
          "metadata": {},
          "execution_count": 82
        }
      ],
      "source": [
        "fm = torch.randn(3, 8, 4) #batch_size, num_filters, seq_len\n",
        "fm"
      ]
    },
    {
      "cell_type": "code",
      "execution_count": 83,
      "metadata": {
        "colab": {
          "base_uri": "https://localhost:8080/"
        },
        "id": "pXXF4sU2ZFy4",
        "outputId": "15672e60-d320-46b0-98e0-68fb0a8568cd"
      },
      "outputs": [
        {
          "output_type": "stream",
          "name": "stdout",
          "text": [
            "torch.Size([3, 8, 2])\n"
          ]
        },
        {
          "output_type": "execute_result",
          "data": {
            "text/plain": [
              "tensor([[[ 0.7730,  0.5370],\n",
              "         [ 0.4840,  1.4484],\n",
              "         [ 0.4625, -0.0791],\n",
              "         [ 0.7536, -0.4278],\n",
              "         [-0.1449,  1.3555],\n",
              "         [ 0.7417,  1.2755],\n",
              "         [ 1.2109,  1.4951],\n",
              "         [ 1.3237,  1.0558]],\n",
              "\n",
              "        [[ 0.5852,  0.0786],\n",
              "         [ 0.2254,  1.3916],\n",
              "         [ 1.0500,  0.1152],\n",
              "         [ 0.0863,  0.0928],\n",
              "         [ 0.4675,  0.7938],\n",
              "         [ 1.4567,  1.5456],\n",
              "         [-0.1444, -0.6082],\n",
              "         [-0.4826,  0.2445]],\n",
              "\n",
              "        [[ 0.9157,  0.7466],\n",
              "         [ 0.0877,  1.2703],\n",
              "         [ 0.4920,  1.0652],\n",
              "         [ 0.3300,  0.8493],\n",
              "         [ 0.3165,  0.7469],\n",
              "         [ 0.9462,  0.3245],\n",
              "         [ 1.2865,  0.4105],\n",
              "         [ 0.2424,  1.2524]]])"
            ]
          },
          "metadata": {},
          "execution_count": 83
        }
      ],
      "source": [
        "mp = torch.nn.MaxPool1d(kernel_size=2, stride=2)\n",
        "print(mp(fm).shape)\n",
        "mp(fm)"
      ]
    },
    {
      "cell_type": "code",
      "execution_count": 84,
      "metadata": {
        "colab": {
          "base_uri": "https://localhost:8080/"
        },
        "id": "0JZy7ZDlctwM",
        "outputId": "06caaeac-f9ba-43da-bab7-b02c43458b2f"
      },
      "outputs": [
        {
          "output_type": "execute_result",
          "data": {
            "text/plain": [
              "tensor([[ 0.7730,  1.4484,  0.4625,  0.7536,  1.3555,  1.2755,  1.4951,  1.3237],\n",
              "        [ 0.5852,  1.3916,  1.0500,  0.0928,  0.7938,  1.5456, -0.1444,  0.2445],\n",
              "        [ 0.9157,  1.2703,  1.0652,  0.8493,  0.7469,  0.9462,  1.2865,  1.2524]])"
            ]
          },
          "metadata": {},
          "execution_count": 84
        }
      ],
      "source": [
        "fm.max(2)[0]"
      ]
    },
    {
      "cell_type": "markdown",
      "metadata": {
        "id": "9SwLx6CsuGtR"
      },
      "source": [
        "Оставим фасттекст"
      ]
    },
    {
      "cell_type": "code",
      "execution_count": 110,
      "metadata": {
        "id": "NdV7oSIc1seK"
      },
      "outputs": [],
      "source": [
        "\n",
        "class CNN(nn.Module):\n",
        "    \n",
        "    def __init__(self, words_vocab_size, symbols_vocab_size, words_embedding_dim, symbols_embedding_dim, model_embs):\n",
        "        super().__init__()\n",
        "        self.words_embedding = nn.Embedding(words_vocab_size, words_embedding_dim)\n",
        "        self.words_embedding.from_pretrained(torch.tensor(model_embs), freeze=True) # ничего нового, только название\n",
        "        self.hidden_words = nn.Linear(words_embedding_dim, out_features=100)\n",
        "        \n",
        "        self.symbols_embedding = nn.Embedding(symbols_vocab_size, symbols_embedding_dim)        \n",
        "        self.bigrams = nn.Conv1d(in_channels=symbols_embedding_dim, out_channels=100, kernel_size=2, padding='same')\n",
        "        self.trigrams = nn.Conv1d(in_channels=symbols_embedding_dim, out_channels=80, kernel_size=3, padding='same')\n",
        "        \n",
        "        #self.concat_bigrams = nn.Conv1d(in_channels=180, out_channels=100, kernel_size=2, padding='same')\n",
        "        self.pooling = nn.MaxPool1d(kernel_size=2, stride=2)\n",
        "        self.relu = nn.ReLU()\n",
        "        self.hidden = nn.Linear(in_features=280, out_features=1)\n",
        "        self.dropout = nn.Dropout(p=0.5)\n",
        "        self.out = nn.Sigmoid()\n",
        "\n",
        "    def forward(self, symbols, words):\n",
        "        #batch_size x seq_len\n",
        "        embedded_words = self.hidden_words(torch.mean(self.words_embedding(words), dim=1))\n",
        "        \n",
        "        embedded_symbols = self.symbols_embedding(symbols)\n",
        "        \n",
        "        #batch_size x seq_len x embedding_dim\n",
        "        embedded_symbols = embedded_symbols.transpose(1,2)\n",
        "        #batch_size x embedding_dim x seq_len\n",
        "        feature_symbols_bigrams = self.dropout(self.pooling(self.relu(self.bigrams(embedded_symbols))))\n",
        "        #batch_size x filter_count2 x seq_len* \n",
        "        feature_symbols_trigrams = self.dropout(self.pooling(self.relu(self.trigrams(embedded_symbols))))\n",
        "        #batch_size x filter_count3 x seq_len*\n",
        "        #feature_symbols_bigrams = self.relu(self.bigrams(embedded_symbols))\n",
        "        # batch_size x filter_count3 x seq_len*\n",
        "        #feature_symbols_trigrams = self.relu(self.trigrams(embedded_symbols))\n",
        "\n",
        "        pooling1 = feature_symbols_bigrams.max(2)[0] \n",
        "        # batch_size x filter_count2\n",
        "        pooling2 = feature_symbols_trigrams.max(2)[0]\n",
        "        # batch_size x filter_count3\n",
        "        concat = torch.cat((pooling1, pooling2, embedded_words), 1)\n",
        "        \n",
        "        #feature_map_concat = self.relu(self.concat_bigrams(concat))\n",
        "        #pooling = feature_map_concat.max(2)[0]\n",
        "        # batch _size x (filter_count2 + filter_count3)\n",
        "        logits = self.hidden(concat)\n",
        "        logits = self.out(logits)\n",
        "        \n",
        "        return logits"
      ]
    },
    {
      "cell_type": "code",
      "execution_count": 92,
      "metadata": {
        "colab": {
          "base_uri": "https://localhost:8080/"
        },
        "id": "YFQ-WEY4cxkv",
        "outputId": "20993312-87da-4ad4-9f9a-6c74ffd4c48a"
      },
      "outputs": [
        {
          "output_type": "stream",
          "name": "stdout",
          "text": [
            "tensor([[ 7490, 16756, 16211,  ...,     0,     0,     0],\n",
            "        [ 4619,  1222,  7678,  ...,     0,     0,     0],\n",
            "        [13595, 14875, 13206,  ...,     0,     0,     0],\n",
            "        ...,\n",
            "        [ 5127, 10846, 14072,  ...,     0,     0,     0],\n",
            "        [ 3770,  9894, 14987,  ...,     0,     0,     0],\n",
            "        [ 6083,  1162,  2541,  ...,     0,     0,     0]])\n"
          ]
        }
      ],
      "source": [
        "words_batch, sym_batch, y = next(iter(train_iterator))\n",
        "words_batch, sym_batch, y = words_batch.to(device='cpu'), sym_batch.to(device='cpu'), y.to(device='cpu')\n",
        "print(words_batch)"
      ]
    },
    {
      "cell_type": "code",
      "execution_count": 93,
      "metadata": {
        "colab": {
          "base_uri": "https://localhost:8080/"
        },
        "id": "JSmsX_fg4LcO",
        "outputId": "8ac49f7d-ad35-4f2d-cdfe-410c9ddfc5bc"
      },
      "outputs": [
        {
          "output_type": "execute_result",
          "data": {
            "text/plain": [
              "tensor([[0.],\n",
              "        [1.],\n",
              "        [1.],\n",
              "        [0.],\n",
              "        [0.],\n",
              "        [0.],\n",
              "        [1.],\n",
              "        [1.],\n",
              "        [1.],\n",
              "        [1.],\n",
              "        [0.],\n",
              "        [0.],\n",
              "        [1.],\n",
              "        [0.],\n",
              "        [0.],\n",
              "        [0.],\n",
              "        [0.],\n",
              "        [0.],\n",
              "        [0.],\n",
              "        [1.],\n",
              "        [0.],\n",
              "        [1.],\n",
              "        [1.],\n",
              "        [0.],\n",
              "        [0.],\n",
              "        [1.],\n",
              "        [0.],\n",
              "        [1.],\n",
              "        [0.],\n",
              "        [1.],\n",
              "        [1.],\n",
              "        [1.],\n",
              "        [0.],\n",
              "        [0.],\n",
              "        [0.],\n",
              "        [0.],\n",
              "        [0.],\n",
              "        [0.],\n",
              "        [1.],\n",
              "        [0.],\n",
              "        [0.],\n",
              "        [1.],\n",
              "        [0.],\n",
              "        [0.],\n",
              "        [0.],\n",
              "        [1.],\n",
              "        [0.],\n",
              "        [1.],\n",
              "        [0.],\n",
              "        [0.],\n",
              "        [1.],\n",
              "        [0.],\n",
              "        [0.],\n",
              "        [0.],\n",
              "        [0.],\n",
              "        [0.],\n",
              "        [0.],\n",
              "        [1.],\n",
              "        [1.],\n",
              "        [1.],\n",
              "        [1.],\n",
              "        [0.],\n",
              "        [1.],\n",
              "        [1.]])"
            ]
          },
          "metadata": {},
          "execution_count": 93
        }
      ],
      "source": [
        "y"
      ]
    },
    {
      "cell_type": "code",
      "execution_count": 94,
      "metadata": {
        "colab": {
          "base_uri": "https://localhost:8080/"
        },
        "id": "rgE1kokluGtS",
        "outputId": "d63aa1ba-7446-47fa-f535-9b34fdd6f484"
      },
      "outputs": [
        {
          "output_type": "execute_result",
          "data": {
            "text/plain": [
              "(18113, 64)"
            ]
          },
          "metadata": {},
          "execution_count": 94
        }
      ],
      "source": [
        "model_embs.shape"
      ]
    },
    {
      "cell_type": "code",
      "source": [
        "words_batch.shape"
      ],
      "metadata": {
        "colab": {
          "base_uri": "https://localhost:8080/"
        },
        "id": "L8w-x_8hzNze",
        "outputId": "abddaa47-ea42-40e0-ff96-475f9d711178"
      },
      "execution_count": 100,
      "outputs": [
        {
          "output_type": "execute_result",
          "data": {
            "text/plain": [
              "torch.Size([64, 32])"
            ]
          },
          "metadata": {},
          "execution_count": 100
        }
      ]
    },
    {
      "cell_type": "code",
      "source": [
        "sym_batch.shape"
      ],
      "metadata": {
        "colab": {
          "base_uri": "https://localhost:8080/"
        },
        "id": "kSnILKb8z2ni",
        "outputId": "5201d6c8-2738-42d1-8cb5-a1d6c4f43b9f"
      },
      "execution_count": 102,
      "outputs": [
        {
          "output_type": "execute_result",
          "data": {
            "text/plain": [
              "torch.Size([64, 107])"
            ]
          },
          "metadata": {},
          "execution_count": 102
        }
      ]
    },
    {
      "cell_type": "code",
      "source": [
        ""
      ],
      "metadata": {
        "id": "fjs2kqYl02TI"
      },
      "execution_count": 107,
      "outputs": []
    },
    {
      "cell_type": "code",
      "execution_count": 111,
      "metadata": {
        "colab": {
          "base_uri": "https://localhost:8080/"
        },
        "id": "oHc9E_96dJBH",
        "outputId": "455dcc34-6ecf-4fdc-d669-243dad21eadf"
      },
      "outputs": [
        {
          "output_type": "stream",
          "name": "stdout",
          "text": [
            "tensor([[0.4912],\n",
            "        [0.6073],\n",
            "        [0.5758],\n",
            "        [0.4641],\n",
            "        [0.4609],\n",
            "        [0.5261],\n",
            "        [0.6272],\n",
            "        [0.5180],\n",
            "        [0.4707],\n",
            "        [0.5963],\n",
            "        [0.4994],\n",
            "        [0.5765],\n",
            "        [0.5147],\n",
            "        [0.4725],\n",
            "        [0.4358],\n",
            "        [0.4282],\n",
            "        [0.4308],\n",
            "        [0.5389],\n",
            "        [0.4395],\n",
            "        [0.4217],\n",
            "        [0.4103],\n",
            "        [0.3607],\n",
            "        [0.5537],\n",
            "        [0.5738],\n",
            "        [0.5467],\n",
            "        [0.5217],\n",
            "        [0.4459],\n",
            "        [0.5882],\n",
            "        [0.4280],\n",
            "        [0.4794],\n",
            "        [0.3884],\n",
            "        [0.5588],\n",
            "        [0.4537],\n",
            "        [0.4495],\n",
            "        [0.4779],\n",
            "        [0.5412],\n",
            "        [0.5292],\n",
            "        [0.3996],\n",
            "        [0.5537],\n",
            "        [0.5238],\n",
            "        [0.4131],\n",
            "        [0.4603],\n",
            "        [0.4751],\n",
            "        [0.4835],\n",
            "        [0.5381],\n",
            "        [0.6080],\n",
            "        [0.4542],\n",
            "        [0.5191],\n",
            "        [0.5076],\n",
            "        [0.3580],\n",
            "        [0.4808],\n",
            "        [0.5295],\n",
            "        [0.5183],\n",
            "        [0.5296],\n",
            "        [0.4920],\n",
            "        [0.4523],\n",
            "        [0.5099],\n",
            "        [0.5786],\n",
            "        [0.5076],\n",
            "        [0.4971],\n",
            "        [0.4900],\n",
            "        [0.5017],\n",
            "        [0.6147],\n",
            "        [0.4633]], grad_fn=<SigmoidBackward0>)\n"
          ]
        }
      ],
      "source": [
        "model = CNN(len(id2word), len(id2symbol), 64, 8, model_embs)\n",
        "output = model(sym_batch, words_batch)\n",
        "print(output)"
      ]
    },
    {
      "cell_type": "code",
      "execution_count": 112,
      "metadata": {
        "id": "CBWdfROdQK5v",
        "colab": {
          "base_uri": "https://localhost:8080/"
        },
        "outputId": "c5cdc2d9-720e-4f22-cfdc-4c791c1c3e83"
      },
      "outputs": [
        {
          "output_type": "execute_result",
          "data": {
            "text/plain": [
              "tensor(0.6614, grad_fn=<BinaryCrossEntropyBackward0>)"
            ]
          },
          "metadata": {},
          "execution_count": 112
        }
      ],
      "source": [
        "loss = nn.BCELoss()\n",
        "loss(output, y)"
      ]
    },
    {
      "cell_type": "code",
      "execution_count": 113,
      "metadata": {
        "id": "q73ELWxPzjtZ",
        "colab": {
          "base_uri": "https://localhost:8080/"
        },
        "outputId": "2c1cb471-0333-47c1-883b-714b6f77c017"
      },
      "outputs": [
        {
          "output_type": "execute_result",
          "data": {
            "text/plain": [
              "tensor(0.5614)"
            ]
          },
          "metadata": {},
          "execution_count": 113
        }
      ],
      "source": [
        "f1(output, y.long())"
      ]
    },
    {
      "cell_type": "markdown",
      "metadata": {
        "id": "cYz0OzYT1vt1"
      },
      "source": [
        "### training loop, логика обучения и валидации"
      ]
    },
    {
      "cell_type": "markdown",
      "metadata": {
        "id": "K8sZOK7Kvk7o"
      },
      "source": [
        "теперь нам нужны функции для обучения и валидации,\n",
        "каждый вызов функции - одна эпоха обучения \n",
        "\n",
        "За одну эпоху нам надо для каждого батча:\n",
        "\n",
        "-- применить к нему модель, \n",
        "\n",
        "-- посчитать значение функции потерь, \n",
        "\n",
        "-- посчитать градиенты,\n",
        "\n",
        "-- обновить веса (параметры модели)\n"
      ]
    },
    {
      "cell_type": "code",
      "execution_count": 114,
      "metadata": {
        "id": "BVKQzPPI1seJ"
      },
      "outputs": [],
      "source": [
        "def train(model, iterator, optimizer, criterion):\n",
        "    epoch_loss = 0 # для подсчета среднего лосса на всех батчах\n",
        "\n",
        "    model.train()  # ставим модель в обучение, явно указываем, что сейчас надо будет хранить градиенты у всех весов\n",
        "\n",
        "    for i, (words_batch, sym_batch, ys) in enumerate(iterator): #итерируемся по батчам\n",
        "        optimizer.zero_grad()  #обнуляем градиенты\n",
        "        preds = model(sym_batch, words_batch)  #прогоняем данные через модель\n",
        "        loss = criterion(preds, ys) #считаем значение функции потерь  \n",
        "        loss.backward() #считаем градиенты  \n",
        "        optimizer.step() #обновляем веса \n",
        "        epoch_loss += loss.item() #сохраняем значение функции потерь\n",
        "        if not (i + 1) % int(len(iterator)/5):\n",
        "            print(f'Train loss: {epoch_loss/i}')      \n",
        "    return  epoch_loss / len(iterator) # возвращаем среднее значение лосса по всей выборке"
      ]
    },
    {
      "cell_type": "code",
      "execution_count": 115,
      "metadata": {
        "id": "EPfO7p9x1seK"
      },
      "outputs": [],
      "source": [
        "def evaluate(model, iterator, criterion):\n",
        "    epoch_loss = 0\n",
        "    epoch_metric = 0\n",
        "    model.eval() \n",
        "    with torch.no_grad():\n",
        "        for i, (words_batch, sym_batch, ys) in enumerate(iterator):   \n",
        "            preds = model(sym_batch, words_batch)  # делаем предсказания на тесте\n",
        "            loss = criterion(preds, ys)   # считаем значения функции ошибки для статистики  \n",
        "            epoch_loss += loss.item()\n",
        "            batch_metric = f1(preds.round().long(), ys.long(), ignore_index=0)\n",
        "            epoch_metric += batch_metric\n",
        "\n",
        "            if not (i + 1) % int(len(iterator)/5):\n",
        "                print(f'Val loss: {epoch_loss/i}, Val f1: {epoch_metric/i}')\n",
        "        \n",
        "    return epoch_metric / len(iterator), epoch_loss / len(iterator) # возвращаем среднее значение по всей выборке"
      ]
    },
    {
      "cell_type": "markdown",
      "metadata": {
        "id": "VRoSupMNQsvF"
      },
      "source": [
        "### инициализируем модель, задаем оптимизатор и функцию потерь"
      ]
    },
    {
      "cell_type": "code",
      "execution_count": 117,
      "metadata": {
        "id": "WO35IZES1seL"
      },
      "outputs": [],
      "source": [
        "model = CNN(len(id2word), len(id2symbol), 64, 8, model_embs)\n",
        "optimizer = optim.Adam(model.parameters(), lr=0.0001)\n",
        "criterion = nn.BCELoss()\n",
        "\n",
        "# веса модели и значения лосса храним там же, где и все остальные тензоры\n",
        "model = model.to(DEVICE)\n",
        "criterion = criterion.to(DEVICE)"
      ]
    },
    {
      "cell_type": "markdown",
      "metadata": {
        "id": "3kHbVX0y1seL"
      },
      "source": [
        "### запуск обучения!"
      ]
    },
    {
      "cell_type": "code",
      "execution_count": 119,
      "metadata": {
        "id": "boMAjlVM1seM",
        "colab": {
          "base_uri": "https://localhost:8080/"
        },
        "outputId": "e318099f-ba1c-4cee-cb98-2dcdbebea620"
      },
      "outputs": [
        {
          "output_type": "stream",
          "name": "stdout",
          "text": [
            "\n",
            "starting Epoch 0\n",
            "Training...\n",
            "Train loss: 0.03336500457330775\n",
            "Train loss: 0.03285195315718084\n",
            "Train loss: 0.031776731904608675\n",
            "Train loss: 0.03132973357436978\n",
            "Train loss: 0.0305810742445543\n",
            "\n",
            "Evaluating on train...\n",
            "Val loss: 0.030032047587451163, Val f1: 0.9869920015335083\n",
            "Val loss: 0.028932623519864756, Val f1: 0.986644983291626\n",
            "Val loss: 0.0294229697053311, Val f1: 0.9860186576843262\n",
            "Val loss: 0.02969735817875321, Val f1: 0.9857743978500366\n",
            "Val loss: 0.029487473443965944, Val f1: 0.985834002494812\n",
            "\n",
            "Evaluating on test...\n",
            "Val loss: 0.03011804256519234, Val f1: 0.9928398728370667\n",
            "Val loss: 0.030508149551860025, Val f1: 0.9885126948356628\n",
            "Val loss: 0.030690049749732714, Val f1: 0.9873532652854919\n",
            "Val loss: 0.030324709643078127, Val f1: 0.9869458079338074\n",
            "Val loss: 0.030311036321940793, Val f1: 0.9863495826721191\n",
            "\n",
            "starting Epoch 1\n",
            "Training...\n",
            "Train loss: 0.027717870072089222\n",
            "Train loss: 0.027514823967207884\n",
            "Train loss: 0.02722470232761303\n",
            "Train loss: 0.02709792791208081\n",
            "Train loss: 0.027241529483235664\n",
            "\n",
            "Evaluating on train...\n",
            "Val loss: 0.027293884649020498, Val f1: 0.9885067343711853\n",
            "Val loss: 0.026646729291192457, Val f1: 0.9878677129745483\n",
            "Val loss: 0.026937587158788075, Val f1: 0.986894428730011\n",
            "Val loss: 0.02665157875147803, Val f1: 0.9869046807289124\n",
            "Val loss: 0.02682151061277864, Val f1: 0.9866712689399719\n",
            "\n",
            "Evaluating on test...\n",
            "Val loss: 0.02797278020427459, Val f1: 0.9930416345596313\n",
            "Val loss: 0.028179434142066886, Val f1: 0.9891238212585449\n",
            "Val loss: 0.028380384375238266, Val f1: 0.987809419631958\n",
            "Val loss: 0.028045231445446357, Val f1: 0.9872260093688965\n",
            "Val loss: 0.02800216822343534, Val f1: 0.986806333065033\n",
            "\n",
            "starting Epoch 2\n",
            "Training...\n",
            "Train loss: 0.026315076142766236\n",
            "Train loss: 0.02504678387131836\n",
            "Train loss: 0.024849484168949026\n",
            "Train loss: 0.02484752016424349\n",
            "Train loss: 0.025061641052435028\n",
            "\n",
            "Evaluating on train...\n",
            "Val loss: 0.024612987503247006, Val f1: 0.9889872074127197\n",
            "Val loss: 0.024294336229982016, Val f1: 0.9880059361457825\n",
            "Val loss: 0.024475012380574254, Val f1: 0.9877691864967346\n",
            "Val loss: 0.024442234814105707, Val f1: 0.9877620339393616\n",
            "Val loss: 0.024107678666609816, Val f1: 0.9877915382385254\n",
            "\n",
            "Evaluating on test...\n",
            "Val loss: 0.025764726619322404, Val f1: 0.9930633306503296\n",
            "Val loss: 0.025884550485465285, Val f1: 0.9901353120803833\n",
            "Val loss: 0.02621293211570616, Val f1: 0.9886980652809143\n",
            "Val loss: 0.026042845192634733, Val f1: 0.9880039691925049\n",
            "Val loss: 0.026051615275577103, Val f1: 0.9874065518379211\n",
            "\n",
            "starting Epoch 3\n",
            "Training...\n",
            "Train loss: 0.024705311862592467\n",
            "Train loss: 0.023511384627143403\n",
            "Train loss: 0.023647709393662363\n",
            "Train loss: 0.02365522282065757\n",
            "Train loss: 0.023694650319203092\n",
            "\n",
            "Evaluating on train...\n",
            "Val loss: 0.022822906032959715, Val f1: 0.9898190498352051\n",
            "Val loss: 0.022138629247695166, Val f1: 0.9894106984138489\n",
            "Val loss: 0.022391127550619217, Val f1: 0.9890831112861633\n",
            "Val loss: 0.02220287870696242, Val f1: 0.9891479015350342\n",
            "Val loss: 0.022130672830589112, Val f1: 0.9891786575317383\n",
            "\n",
            "Evaluating on test...\n",
            "Val loss: 0.02406704291847914, Val f1: 0.9940692782402039\n",
            "Val loss: 0.024117780074756852, Val f1: 0.9908535480499268\n",
            "Val loss: 0.02463942857165861, Val f1: 0.9891965389251709\n",
            "Val loss: 0.024666152983550352, Val f1: 0.9885841012001038\n",
            "Val loss: 0.024736085422982567, Val f1: 0.9878533482551575\n",
            "\n",
            "starting Epoch 4\n",
            "Training...\n",
            "Train loss: 0.023563688639437027\n",
            "Train loss: 0.022539496812536242\n",
            "Train loss: 0.022411426537120673\n",
            "Train loss: 0.02261862177667851\n",
            "Train loss: 0.02263039447859088\n",
            "\n",
            "Evaluating on train...\n",
            "Val loss: 0.021016549585071157, Val f1: 0.9910508394241333\n",
            "Val loss: 0.021060431018216356, Val f1: 0.9899126291275024\n",
            "Val loss: 0.021359679581127836, Val f1: 0.9896309971809387\n",
            "Val loss: 0.02145258875887777, Val f1: 0.989436149597168\n",
            "Val loss: 0.021326613402337512, Val f1: 0.9894218444824219\n",
            "\n",
            "Evaluating on test...\n",
            "Val loss: 0.023784255629935715, Val f1: 0.9938350915908813\n",
            "Val loss: 0.023781322684685434, Val f1: 0.9908128976821899\n",
            "Val loss: 0.02423273813340147, Val f1: 0.9893682599067688\n",
            "Val loss: 0.024199812840787996, Val f1: 0.9887857437133789\n",
            "Val loss: 0.02421906494517139, Val f1: 0.9880151748657227\n",
            "CPU times: user 4min 52s, sys: 3.5 s, total: 4min 55s\n",
            "Wall time: 4min 53s\n"
          ]
        }
      ],
      "source": [
        "%%time\n",
        "losses = []\n",
        "losses_eval = []\n",
        "f1s = []\n",
        "f1s_eval = []\n",
        "\n",
        "for i in range(5):\n",
        "    print(f'\\nstarting Epoch {i}')\n",
        "    print('Training...')\n",
        "    epoch_loss = train(model, train_iterator, optimizer, criterion)\n",
        "    losses.append(epoch_loss)\n",
        "    print('\\nEvaluating on train...')\n",
        "    f1_on_train,_ = evaluate(model, train_iterator, criterion)\n",
        "    f1s.append(f1_on_train)\n",
        "    print('\\nEvaluating on test...')\n",
        "    f1_on_test, epoch_loss_on_test = evaluate(model, val_iterator, criterion)\n",
        "    losses_eval.append(epoch_loss_on_test)\n",
        "    f1s_eval.append(f1_on_test)"
      ]
    },
    {
      "cell_type": "code",
      "execution_count": 120,
      "metadata": {
        "id": "eH7ws8dXmEn5",
        "scrolled": true,
        "colab": {
          "base_uri": "https://localhost:8080/",
          "height": 295
        },
        "outputId": "d88034da-d20a-4d7d-fd7f-73ac99f98a89"
      },
      "outputs": [
        {
          "output_type": "display_data",
          "data": {
            "image/png": "[encoded data removed]",
            "text/plain": [
              "<Figure size 432x288 with 1 Axes>"
            ]
          },
          "metadata": {
            "needs_background": "light"
          }
        }
      ],
      "source": [
        "import matplotlib.pyplot as plt\n",
        "plt.plot(losses)\n",
        "plt.plot(losses_eval)\n",
        "plt.title('BCE loss value')\n",
        "plt.ylabel('BCE loss')\n",
        "plt.xlabel('epoch')\n",
        "plt.legend(['train', 'val'], loc='upper right')\n",
        "plt.show()"
      ]
    },
    {
      "cell_type": "code",
      "execution_count": 121,
      "metadata": {
        "colab": {
          "base_uri": "https://localhost:8080/",
          "height": 295
        },
        "id": "q32B6i6BmGOc",
        "outputId": "c848e2d1-a3c9-489a-8645-3b61972741d2"
      },
      "outputs": [
        {
          "output_type": "display_data",
          "data": {
            "image/png": "[encoded data removed]",
            "text/plain": [
              "<Figure size 432x288 with 1 Axes>"
            ]
          },
          "metadata": {
            "needs_background": "light"
          }
        }
      ],
      "source": [
        "import matplotlib.pyplot as plt\n",
        "plt.plot([i.cpu() for i in f1s])\n",
        "plt.plot([i.cpu() for i in f1s_eval])\n",
        "plt.title('f1 value')\n",
        "plt.ylabel('f1 value')\n",
        "plt.xlabel('epoch')\n",
        "plt.legend(['train', 'val'], loc='upper right')\n",
        "plt.show()"
      ]
    },
    {
      "cell_type": "markdown",
      "metadata": {
        "id": "m9GiZw9buGtT"
      },
      "source": [
        "Ммм, мы даже не переобучились за четыре-то эпохи и с пунктуацией"
      ]
    },
    {
      "cell_type": "markdown",
      "metadata": {
        "id": "hj0-XaCkYz8w"
      },
      "source": [
        "Для анализа ошибок можно посмотреть на те примеры, которые мы (не)правильно предсказываем"
      ]
    },
    {
      "cell_type": "code",
      "execution_count": 130,
      "metadata": {
        "id": "bHtAIt5eCrP5"
      },
      "outputs": [],
      "source": [
        "def predict(model, iterator):\n",
        "    model.eval()\n",
        "    fp = []\n",
        "    fn = []\n",
        "    tp = [] \n",
        "    tn = []\n",
        "    with torch.no_grad():\n",
        "        for i, (words_batch, sym_batch, ys) in enumerate(iterator):   \n",
        "            preds = model(sym_batch, words_batch)  # делаем предсказания на тесте \n",
        "            for pred, gold, text in zip(preds, ys, words_batch):\n",
        "                text = ' '.join([id2word[int(word)] for word in text if word !=0])\n",
        "                if round(pred.item()) > gold:\n",
        "                    fp.append(text)\n",
        "                elif round(pred.item()) < gold:\n",
        "                    fn.append(text)\n",
        "                elif round(pred.item()) == gold == 1:\n",
        "                    tp.append(text)\n",
        "                elif round(pred.item()) == gold == 0:\n",
        "                    tn.append(text)\n",
        "    return fp, fn, tp, tn"
      ]
    },
    {
      "cell_type": "code",
      "execution_count": 131,
      "metadata": {
        "id": "phc1BAE4MKhU"
      },
      "outputs": [],
      "source": [
        "fp, fn, tp, tn = predict(model, val_iterator)"
      ]
    },
    {
      "cell_type": "code",
      "source": [
        "def get_metrics(fp, fn, tp, tn):\n",
        "    all_preds = len(fp) + len(fn) + len(tp) + len(tn)\n",
        "    print('accuracy')\n",
        "    print((len(tp) + len(tn))/all_preds)\n",
        "    print('precision')\n",
        "    print(len(tp)/(len(fp) + len(tp)))\n",
        "    print('recall')\n",
        "    print(len(tp)/(len(fn) + len(tp)))"
      ],
      "metadata": {
        "id": "PLhcYNLw50os"
      },
      "execution_count": 132,
      "outputs": []
    },
    {
      "cell_type": "code",
      "source": [
        "get_metrics(fp, fn, tp, tn)"
      ],
      "metadata": {
        "colab": {
          "base_uri": "https://localhost:8080/"
        },
        "id": "558BvFxf6AYG",
        "outputId": "ab0b5db9-c9ba-42a5-a4a7-1301953c53fc"
      },
      "execution_count": 133,
      "outputs": [
        {
          "output_type": "stream",
          "name": "stdout",
          "text": [
            "accuracy\n",
            "0.9866629874908021\n",
            "precision\n",
            "0.9887481778425656\n",
            "recall\n",
            "0.9848897359106997\n"
          ]
        }
      ]
    },
    {
      "cell_type": "code",
      "execution_count": 134,
      "metadata": {
        "colab": {
          "base_uri": "https://localhost:8080/"
        },
        "id": "xFiLocEC6dUa",
        "outputId": "4be862fb-f9cf-4b14-a567-51ea4e7b2b82"
      },
      "outputs": [
        {
          "output_type": "stream",
          "name": "stdout",
          "text": [
            "действительно позитивные: ['вот да , ибо мой творческий натура не на простор контакт в ) :d', 'q : посмотреть страница вк :) a :', 'дуу бе шд тэ хэхэ дуу :-))', 'весь поздравлять с день администратор :)', '. :)', 'он смочь сделать это вечер . :-) # instantfollowback', 'была вчера в \" \" . там целый поляна - \" рождественский звезда \" . красотища ! :)', 'когда он писать в твой тетрадка , когда ты это восхитительный :*', 'энэ яасан намайг дээр бсан юм бэ : -):-):- )', 'мне всегда нравиться парень , которые старший меня :d я с ним иногда в вк переписываться , но в реал ни разу не разговаривать']\n"
          ]
        }
      ],
      "source": [
        "print('действительно позитивные:', tp[:10])"
      ]
    },
    {
      "cell_type": "code",
      "execution_count": 135,
      "metadata": {
        "colab": {
          "base_uri": "https://localhost:8080/"
        },
        "id": "IeBGHMjm4LBJ",
        "outputId": "ecddb5c3-dafb-44a2-f103-1d5c1e48c21e"
      },
      "outputs": [
        {
          "output_type": "stream",
          "name": "stdout",
          "text": [
            "ошибочно негативные: ['и первый проблема , с которой я столкнуться , это выбор : , стоить ли the sims 4 так рано ?', 'rt @igorg1975 : и медаль после : t ”', 'rt : а мне очень _', 'нифига ты тоже хотеть так', 'крутой варежка номер день !', 'нужный козёл и кто - то чтоб делать знать где быть , а я мочь делать', 'работа кать , кофта с высокий горло нет ?', 'rt : @ocheshuenaya ...', 'почему на нас орать на танец ? ? ? мы не виноватый в том что там были 69', 'ну чтож ... подвести итог - ты просто чудо , когда я тебя понимать . после пара вкусный и замечательный']\n"
          ]
        }
      ],
      "source": [
        "print('ошибочно негативные:', fn[:10])"
      ]
    },
    {
      "cell_type": "code",
      "execution_count": 136,
      "metadata": {
        "colab": {
          "base_uri": "https://localhost:8080/"
        },
        "id": "ztrjLRu34e-B",
        "outputId": "d433c16c-ae69-4558-9feb-6a20ee89405c"
      },
      "outputs": [
        {
          "output_type": "stream",
          "name": "stdout",
          "text": [
            "ошибочно позитивные: ['rt : смешной', 'наш следующий лето увидеть свой друг , родных , , дом , мой комната , ждать', 'че ты же мешать тебе', 'все как сговориться .. меня идти против себя', 'звонить на мобила , а то я в контакт теперь на что я на буду месяц два там', 'быть', 'ну ты твитере что белибер , но ... — я и белибер и что то иметь против это ?', 'у нас даже такой раньше было весёлый . я помнить к нам приходить и дед заставлять ребёнок рассказывать и песня петь', 'бог дать мне сила , пожалуйста и', ', что я любить не разбираться , а что же вообще такой любовь ?']\n"
          ]
        }
      ],
      "source": [
        "print('ошибочно позитивные:', fp[:10])"
      ]
    },
    {
      "cell_type": "code",
      "execution_count": 137,
      "metadata": {
        "id": "DZL6OlYcbE9d",
        "colab": {
          "base_uri": "https://localhost:8080/"
        },
        "outputId": "c750dad9-b88f-42cc-f999-ab8073ebd7b1"
      },
      "outputs": [
        {
          "output_type": "stream",
          "name": "stdout",
          "text": [
            "действительно позитивные: ['здесь стремно , такой звук :(', 'ну вот опять :( аж глаз ...', 'бляха , шо щас і , а вона не ( ( (', '# короче еще больше , чем ожидаться ( ( ( (', 'бля . зачем я это увидеть (', 'мороз стоять жуткий ( # крещение # # # photo # # # # путешествие @ …', 'полночь башка . и утро совсем разбить (', 'пойти выпью : ~ ( # ru_ff # ff_ru', 'смотреть концерт и понимать , что а мочь я так и не попасть на его концерт . ( ( ( (', 'блиииин , завтра и история ( ( ( (']\n"
          ]
        }
      ],
      "source": [
        "print('действительно позитивные:', tn[:10])"
      ]
    },
    {
      "cell_type": "code",
      "source": [
        ""
      ],
      "metadata": {
        "id": "dXtMIdrd6eFS"
      },
      "execution_count": null,
      "outputs": []
    }
  ],
  "metadata": {
    "accelerator": "GPU",
    "colab": {
      "collapsed_sections": [],
      "name": "cnn_6-Part4.ipynb",
      "provenance": [],
      "include_colab_link": true
    },
    "kernelspec": {
      "display_name": "Python 3 (ipykernel)",
      "language": "python",
      "name": "python3"
    },
    "language_info": {
      "codemirror_mode": {
        "name": "ipython",
        "version": 3
      },
      "file_extension": ".py",
      "mimetype": "text/x-python",
      "name": "python",
      "nbconvert_exporter": "python",
      "pygments_lexer": "ipython3",
      "version": "3.8.12"
    }
  },
  "nbformat": 4,
  "nbformat_minor": 0
}