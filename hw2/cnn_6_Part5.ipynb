{
  "cells": [
    {
      "cell_type": "markdown",
      "metadata": {
        "id": "view-in-github",
        "colab_type": "text"
      },
      "source": [
        "<a href=\"https://colab.research.google.com/github/Veronika2311/NNmethods_21/blob/main/hw2/cnn_6_Part5.ipynb\" target=\"_parent\"><img src=\"https://colab.research.google.com/assets/colab-badge.svg\" alt=\"Open In Colab\"/></a>"
      ]
    },
    {
      "cell_type": "markdown",
      "metadata": {
        "id": "qyh0knhqJx8u"
      },
      "source": [
        "понятное [видео](https://www.youtube.com/watch?v=bNb2fEVKeEo) со стенфордского курса, из [материалов](https://cs231n.github.io/convolutional-networks) по которому взяты иллюстрации.\n",
        "\n",
        "Датасет из [курса](https://github.com/DanAnastasyev/DeepNLP-Course/blob/master/Week%2004/Week_04_Convolutional_Neural_Networks.ipynb) Даниила Анастасьева.\n",
        "\n",
        "Использовались [материалы](https://github.com/mannefedov/hse_ml_m1/blob/master/7_cnn/cnn.ipynb) из курса Михаила Нефедова."
      ]
    },
    {
      "cell_type": "markdown",
      "metadata": {
        "id": "PdbHKxg6J8Q3"
      },
      "source": [
        "# Сверточный слой"
      ]
    },
    {
      "cell_type": "markdown",
      "metadata": {
        "id": "G20z18IaJ6Y5"
      },
      "source": [
        "\n",
        "\n",
        "\n",
        "Желтое - фильтр (= filter,kernel).\n",
        "\n",
        "Зеленое - входные данные, например, изображение.\n",
        "\n",
        "Розовое - карта активации (activation map).\n",
        "\n",
        "Каждый элемент в розовой матрице - результат поэлементного умножения фильтра на числа из области на входных данных.\n",
        "Обучаемые параметры - элементы фильтра.\n",
        "\n",
        "![Conv](https://image.ibb.co/e6t8ZK/Convolution.gif)\n",
        "\n"
      ]
    },
    {
      "cell_type": "markdown",
      "metadata": {
        "id": "jXNixkx2KHsm"
      },
      "source": [
        "Чтобы не терять размер матрицы используется паддинг.\n",
        "\n",
        "![padding](https://3deep.ru/wp-content/uploads/2020/01/keras_conv2d_padding.gif)\n",
        "\n",
        "from https://3deep.ru/machinelearning/"
      ]
    },
    {
      "cell_type": "markdown",
      "metadata": {
        "id": "qp44YeUKKSem"
      },
      "source": [
        "# Pooling слой  (не обучается)\n",
        "\n",
        "![Pool](https://cs231n.github.io/assets/cnn/pool.jpeg)\n",
        "![maxpool](https://cs231n.github.io/assets/cnn/maxpool.jpeg)"
      ]
    },
    {
      "cell_type": "markdown",
      "metadata": {
        "id": "-VqCU9o5KUmr"
      },
      "source": [
        "# Свертки для текстов устроены немного по-другому. В них на одну размерность меньше.\n",
        "\n",
        "![text-convs](https://image.ibb.co/bC3Xun/2018_03_27_01_24_39.png)\n",
        "\n",
        "From [Character-Aware Neural Language Models](https://arxiv.org/pdf/1508.06615.pdf)"
      ]
    },
    {
      "cell_type": "markdown",
      "metadata": {
        "id": "xXx-iELMKUjt"
      },
      "source": [
        "# CNN для обработки текстов\n",
        "\n"
      ]
    },
    {
      "cell_type": "code",
      "execution_count": 1,
      "metadata": {
        "colab": {
          "base_uri": "https://localhost:8080/"
        },
        "id": "S_LxOOJUyn-E",
        "outputId": "b4f5d0c5-7960-433f-fdfc-50d84b5dc7ae"
      },
      "outputs": [
        {
          "output_type": "stream",
          "name": "stdout",
          "text": [
            "Collecting torchmetrics\n",
            "  Downloading torchmetrics-0.6.1-py3-none-any.whl (332 kB)\n",
            "\u001b[?25l\r\u001b[K     |█                               | 10 kB 24.5 MB/s eta 0:00:01\r\u001b[K     |██                              | 20 kB 27.8 MB/s eta 0:00:01\r\u001b[K     |███                             | 30 kB 23.7 MB/s eta 0:00:01\r\u001b[K     |████                            | 40 kB 18.4 MB/s eta 0:00:01\r\u001b[K     |█████                           | 51 kB 15.4 MB/s eta 0:00:01\r\u001b[K     |██████                          | 61 kB 12.5 MB/s eta 0:00:01\r\u001b[K     |███████                         | 71 kB 12.3 MB/s eta 0:00:01\r\u001b[K     |███████▉                        | 81 kB 13.2 MB/s eta 0:00:01\r\u001b[K     |████████▉                       | 92 kB 14.3 MB/s eta 0:00:01\r\u001b[K     |█████████▉                      | 102 kB 11.0 MB/s eta 0:00:01\r\u001b[K     |██████████▉                     | 112 kB 11.0 MB/s eta 0:00:01\r\u001b[K     |███████████▉                    | 122 kB 11.0 MB/s eta 0:00:01\r\u001b[K     |████████████▉                   | 133 kB 11.0 MB/s eta 0:00:01\r\u001b[K     |█████████████▉                  | 143 kB 11.0 MB/s eta 0:00:01\r\u001b[K     |██████████████▉                 | 153 kB 11.0 MB/s eta 0:00:01\r\u001b[K     |███████████████▊                | 163 kB 11.0 MB/s eta 0:00:01\r\u001b[K     |████████████████▊               | 174 kB 11.0 MB/s eta 0:00:01\r\u001b[K     |█████████████████▊              | 184 kB 11.0 MB/s eta 0:00:01\r\u001b[K     |██████████████████▊             | 194 kB 11.0 MB/s eta 0:00:01\r\u001b[K     |███████████████████▊            | 204 kB 11.0 MB/s eta 0:00:01\r\u001b[K     |████████████████████▊           | 215 kB 11.0 MB/s eta 0:00:01\r\u001b[K     |█████████████████████▊          | 225 kB 11.0 MB/s eta 0:00:01\r\u001b[K     |██████████████████████▊         | 235 kB 11.0 MB/s eta 0:00:01\r\u001b[K     |███████████████████████▋        | 245 kB 11.0 MB/s eta 0:00:01\r\u001b[K     |████████████████████████▋       | 256 kB 11.0 MB/s eta 0:00:01\r\u001b[K     |█████████████████████████▋      | 266 kB 11.0 MB/s eta 0:00:01\r\u001b[K     |██████████████████████████▋     | 276 kB 11.0 MB/s eta 0:00:01\r\u001b[K     |███████████████████████████▋    | 286 kB 11.0 MB/s eta 0:00:01\r\u001b[K     |████████████████████████████▋   | 296 kB 11.0 MB/s eta 0:00:01\r\u001b[K     |█████████████████████████████▋  | 307 kB 11.0 MB/s eta 0:00:01\r\u001b[K     |██████████████████████████████▌ | 317 kB 11.0 MB/s eta 0:00:01\r\u001b[K     |███████████████████████████████▌| 327 kB 11.0 MB/s eta 0:00:01\r\u001b[K     |████████████████████████████████| 332 kB 11.0 MB/s \n",
            "\u001b[?25hRequirement already satisfied: packaging in /usr/local/lib/python3.7/dist-packages (from torchmetrics) (21.3)\n",
            "Requirement already satisfied: torch>=1.3.1 in /usr/local/lib/python3.7/dist-packages (from torchmetrics) (1.10.0+cu111)\n",
            "Requirement already satisfied: numpy>=1.17.2 in /usr/local/lib/python3.7/dist-packages (from torchmetrics) (1.19.5)\n",
            "Requirement already satisfied: typing-extensions in /usr/local/lib/python3.7/dist-packages (from torch>=1.3.1->torchmetrics) (3.10.0.2)\n",
            "Requirement already satisfied: pyparsing!=3.0.5,>=2.0.2 in /usr/local/lib/python3.7/dist-packages (from packaging->torchmetrics) (3.0.6)\n",
            "Installing collected packages: torchmetrics\n",
            "Successfully installed torchmetrics-0.6.1\n"
          ]
        }
      ],
      "source": [
        "!pip install torchmetrics"
      ]
    },
    {
      "cell_type": "code",
      "execution_count": 2,
      "metadata": {
        "colab": {
          "base_uri": "https://localhost:8080/",
          "height": 870
        },
        "id": "NovB599mOf9T",
        "outputId": "67785fa7-2aee-4c14-b54d-e2125f5719fc"
      },
      "outputs": [
        {
          "output_type": "stream",
          "name": "stdout",
          "text": [
            "Collecting ipdb\n",
            "  Downloading ipdb-0.13.9.tar.gz (16 kB)\n",
            "Requirement already satisfied: setuptools in /usr/local/lib/python3.7/dist-packages (from ipdb) (57.4.0)\n",
            "Collecting ipython>=7.17.0\n",
            "  Downloading ipython-7.30.1-py3-none-any.whl (791 kB)\n",
            "\u001b[K     |████████████████████████████████| 791 kB 12.2 MB/s \n",
            "\u001b[?25hRequirement already satisfied: toml>=0.10.2 in /usr/local/lib/python3.7/dist-packages (from ipdb) (0.10.2)\n",
            "Requirement already satisfied: decorator in /usr/local/lib/python3.7/dist-packages (from ipdb) (4.4.2)\n",
            "Requirement already satisfied: matplotlib-inline in /usr/local/lib/python3.7/dist-packages (from ipython>=7.17.0->ipdb) (0.1.3)\n",
            "Requirement already satisfied: pexpect>4.3 in /usr/local/lib/python3.7/dist-packages (from ipython>=7.17.0->ipdb) (4.8.0)\n",
            "Requirement already satisfied: backcall in /usr/local/lib/python3.7/dist-packages (from ipython>=7.17.0->ipdb) (0.2.0)\n",
            "Requirement already satisfied: pickleshare in /usr/local/lib/python3.7/dist-packages (from ipython>=7.17.0->ipdb) (0.7.5)\n",
            "Requirement already satisfied: pygments in /usr/local/lib/python3.7/dist-packages (from ipython>=7.17.0->ipdb) (2.6.1)\n",
            "Requirement already satisfied: traitlets>=4.2 in /usr/local/lib/python3.7/dist-packages (from ipython>=7.17.0->ipdb) (5.1.1)\n",
            "Collecting prompt-toolkit!=3.0.0,!=3.0.1,<3.1.0,>=2.0.0\n",
            "  Downloading prompt_toolkit-3.0.24-py3-none-any.whl (374 kB)\n",
            "\u001b[K     |████████████████████████████████| 374 kB 47.1 MB/s \n",
            "\u001b[?25hRequirement already satisfied: jedi>=0.16 in /usr/local/lib/python3.7/dist-packages (from ipython>=7.17.0->ipdb) (0.18.1)\n",
            "Requirement already satisfied: parso<0.9.0,>=0.8.0 in /usr/local/lib/python3.7/dist-packages (from jedi>=0.16->ipython>=7.17.0->ipdb) (0.8.3)\n",
            "Requirement already satisfied: ptyprocess>=0.5 in /usr/local/lib/python3.7/dist-packages (from pexpect>4.3->ipython>=7.17.0->ipdb) (0.7.0)\n",
            "Requirement already satisfied: wcwidth in /usr/local/lib/python3.7/dist-packages (from prompt-toolkit!=3.0.0,!=3.0.1,<3.1.0,>=2.0.0->ipython>=7.17.0->ipdb) (0.2.5)\n",
            "Building wheels for collected packages: ipdb\n",
            "  Building wheel for ipdb (setup.py) ... \u001b[?25l\u001b[?25hdone\n",
            "  Created wheel for ipdb: filename=ipdb-0.13.9-py3-none-any.whl size=11648 sha256=0c021e4ae996cf1959e609af894071eaaf86cbbcb9331af42da3598dbd9c9091\n",
            "  Stored in directory: /root/.cache/pip/wheels/65/cd/cc/aaf92acae337a28fdd2aa4d632196a59745c8c39f76eaeed01\n",
            "Successfully built ipdb\n",
            "Installing collected packages: prompt-toolkit, ipython, ipdb\n",
            "  Attempting uninstall: prompt-toolkit\n",
            "    Found existing installation: prompt-toolkit 1.0.18\n",
            "    Uninstalling prompt-toolkit-1.0.18:\n",
            "      Successfully uninstalled prompt-toolkit-1.0.18\n",
            "  Attempting uninstall: ipython\n",
            "    Found existing installation: ipython 5.5.0\n",
            "    Uninstalling ipython-5.5.0:\n",
            "      Successfully uninstalled ipython-5.5.0\n",
            "\u001b[31mERROR: pip's dependency resolver does not currently take into account all the packages that are installed. This behaviour is the source of the following dependency conflicts.\n",
            "jupyter-console 5.2.0 requires prompt-toolkit<2.0.0,>=1.0.0, but you have prompt-toolkit 3.0.24 which is incompatible.\n",
            "google-colab 1.0.0 requires ipython~=5.5.0, but you have ipython 7.30.1 which is incompatible.\u001b[0m\n",
            "Successfully installed ipdb-0.13.9 ipython-7.30.1 prompt-toolkit-3.0.24\n"
          ]
        },
        {
          "output_type": "display_data",
          "data": {
            "application/vnd.colab-display-data+json": {
              "pip_warning": {
                "packages": [
                  "IPython",
                  "prompt_toolkit"
                ]
              }
            }
          },
          "metadata": {}
        }
      ],
      "source": [
        "!pip install ipdb"
      ]
    },
    {
      "cell_type": "code",
      "execution_count": 3,
      "metadata": {
        "id": "CgiT9Xow1sd5"
      },
      "outputs": [],
      "source": [
        "import pandas as pd\n",
        "import numpy as np\n",
        "from string import punctuation\n",
        "from collections import Counter\n",
        "\n",
        "from sklearn.model_selection import train_test_split\n",
        "from sklearn.utils import shuffle\n",
        "import torch\n",
        "import torch.nn as nn\n",
        "import torch.nn.functional as F\n",
        "from torch.utils.data import Dataset, DataLoader, RandomSampler, SequentialSampler\n",
        "from torch.nn.utils.rnn import pad_sequence\n",
        "import torch.optim as optim\n",
        "from torchmetrics import F1\n",
        "from torchmetrics.functional import f1, recall\n",
        "import ipdb\n",
        "from tqdm import tqdm"
      ]
    },
    {
      "cell_type": "markdown",
      "metadata": {
        "id": "FfxNXovr1sd6"
      },
      "source": [
        "### Слова\n",
        "\n"
      ]
    },
    {
      "cell_type": "markdown",
      "metadata": {
        "id": "sZtLedfF00Ih"
      },
      "source": [
        "### Скачивание и подготовка данных"
      ]
    },
    {
      "cell_type": "markdown",
      "metadata": {
        "id": "dsQO4NnwuGtL"
      },
      "source": [
        "Уберём же пунктуацию, нам помогающую"
      ]
    },
    {
      "cell_type": "code",
      "execution_count": 7,
      "metadata": {
        "id": "AtoaNftmuGtM"
      },
      "outputs": [],
      "source": [
        "train_data =  pd.read_csv('train.csv')\n",
        "val_data = pd.read_csv('val.csv')"
      ]
    },
    {
      "cell_type": "code",
      "execution_count": 8,
      "metadata": {
        "colab": {
          "base_uri": "https://localhost:8080/"
        },
        "id": "UfA7yoOFA4cm",
        "outputId": "600a2d28-bfdd-4765-d349-6b49ec5f267f"
      },
      "outputs": [
        {
          "output_type": "execute_result",
          "data": {
            "text/plain": [
              "0.5079447203826343"
            ]
          },
          "metadata": {},
          "execution_count": 8
        }
      ],
      "source": [
        "train_data[train_data.type == 1].shape[0] / train_data.shape[0]"
      ]
    },
    {
      "cell_type": "code",
      "execution_count": 9,
      "metadata": {
        "colab": {
          "base_uri": "https://localhost:8080/",
          "height": 1000
        },
        "id": "45ebLSllFFAW",
        "outputId": "837e1ea4-5a0e-4127-9622-14a3b64f47a6"
      },
      "outputs": [
        {
          "output_type": "execute_result",
          "data": {
            "text/html": [
              "<div>\n",
              "<style scoped>\n",
              "    .dataframe tbody tr th:only-of-type {\n",
              "        vertical-align: middle;\n",
              "    }\n",
              "\n",
              "    .dataframe tbody tr th {\n",
              "        vertical-align: top;\n",
              "    }\n",
              "\n",
              "    .dataframe thead th {\n",
              "        text-align: right;\n",
              "    }\n",
              "</style>\n",
              "<table border=\"1\" class=\"dataframe\">\n",
              "  <thead>\n",
              "    <tr style=\"text-align: right;\">\n",
              "      <th></th>\n",
              "      <th>Unnamed: 0</th>\n",
              "      <th>text</th>\n",
              "      <th>type</th>\n",
              "      <th>clean_texts</th>\n",
              "    </tr>\n",
              "  </thead>\n",
              "  <tbody>\n",
              "    <tr>\n",
              "      <th>0</th>\n",
              "      <td>0</td>\n",
              "      <td>эх, ехать на репу пора((\\nЗавтра уже выступление.</td>\n",
              "      <td>0</td>\n",
              "      <td>эх , ехать на репа пора ( ( завтра уже выступл...</td>\n",
              "    </tr>\n",
              "    <tr>\n",
              "      <th>1</th>\n",
              "      <td>1</td>\n",
              "      <td>Аллергия вышла,из-за этих тупых мандарин(((((((</td>\n",
              "      <td>0</td>\n",
              "      <td>аллергия выйти , из - за этот тупой мандарин (...</td>\n",
              "    </tr>\n",
              "    <tr>\n",
              "      <th>2</th>\n",
              "      <td>2</td>\n",
              "      <td>@KompaundTone550 @tatysho власть всегда была б...</td>\n",
              "      <td>1</td>\n",
              "      <td>власть всегда была , просто теперь об знать ве...</td>\n",
              "    </tr>\n",
              "    <tr>\n",
              "      <th>3</th>\n",
              "      <td>3</td>\n",
              "      <td>@Alinockaa А хрен, я гулящая пока, потом насиж...</td>\n",
              "      <td>1</td>\n",
              "      <td>а хрен , я пока , потом дома : dd но сегодня я...</td>\n",
              "    </tr>\n",
              "    <tr>\n",
              "      <th>4</th>\n",
              "      <td>4</td>\n",
              "      <td>RT @vik_vans: блин, слушала первый мини-альбом...</td>\n",
              "      <td>0</td>\n",
              "      <td>rt @vik_vans : блин , слушать первый мини - ал...</td>\n",
              "    </tr>\n",
              "    <tr>\n",
              "      <th>5</th>\n",
              "      <td>5</td>\n",
              "      <td>Как же не сделать фото на айфон в зеркале:-D h...</td>\n",
              "      <td>1</td>\n",
              "      <td>как же не сделать фото на айфон в</td>\n",
              "    </tr>\n",
              "    <tr>\n",
              "      <th>6</th>\n",
              "      <td>6</td>\n",
              "      <td>Заебись погулял... Мама пуховик постирала ;((</td>\n",
              "      <td>0</td>\n",
              "      <td>заебись погулял ... мама пуховик постирать ; ( (</td>\n",
              "    </tr>\n",
              "    <tr>\n",
              "      <th>7</th>\n",
              "      <td>7</td>\n",
              "      <td>#HappyBirthdayLouisfromCIS   Почему я мало пиш...</td>\n",
              "      <td>0</td>\n",
              "      <td># почему я мало писать в тви ; ( ( ( (</td>\n",
              "    </tr>\n",
              "    <tr>\n",
              "      <th>8</th>\n",
              "      <td>8</td>\n",
              "      <td>@cobyisnotalone ладно :(\\nмне через полтора ча...</td>\n",
              "      <td>0</td>\n",
              "      <td>ладно :( мне через полтора час только</td>\n",
              "    </tr>\n",
              "    <tr>\n",
              "      <th>9</th>\n",
              "      <td>9</td>\n",
              "      <td>@DashaSone вот да, это было бы идеально! Хочу ...</td>\n",
              "      <td>1</td>\n",
              "      <td>вот да , это было бы идеальный ! хотеть все пр...</td>\n",
              "    </tr>\n",
              "    <tr>\n",
              "      <th>10</th>\n",
              "      <td>10</td>\n",
              "      <td>@imweirdie ты тогда уже ушла:( ПОКАЖУ ПОТОМ,ТЫ...</td>\n",
              "      <td>0</td>\n",
              "      <td>ты тогда уже уйти :( покажу потом , ты , почем...</td>\n",
              "    </tr>\n",
              "    <tr>\n",
              "      <th>11</th>\n",
              "      <td>11</td>\n",
              "      <td>Вчера разговаривала с Лизой и ей вечно что-то ...</td>\n",
              "      <td>1</td>\n",
              "      <td>вчера разговаривать с лиза и ей вечно что - то...</td>\n",
              "    </tr>\n",
              "    <tr>\n",
              "      <th>12</th>\n",
              "      <td>12</td>\n",
              "      <td>Тупо сюжет для новой главы спокойника х) У мен...</td>\n",
              "      <td>1</td>\n",
              "      <td>тупо сюжет для новый глава х ) у меня паника ....</td>\n",
              "    </tr>\n",
              "    <tr>\n",
              "      <th>13</th>\n",
              "      <td>13</td>\n",
              "      <td>@AristocratBlood Сочувствую((( Много уроков?</td>\n",
              "      <td>0</td>\n",
              "      <td>сочувствовать ( ( ( много урок ?</td>\n",
              "    </tr>\n",
              "    <tr>\n",
              "      <th>14</th>\n",
              "      <td>14</td>\n",
              "      <td>@Alina_Evrika Привет! По моей традиции: Мишу т...</td>\n",
              "      <td>1</td>\n",
              "      <td>привет ! по мой традиция : миша тебе ! )</td>\n",
              "    </tr>\n",
              "    <tr>\n",
              "      <th>15</th>\n",
              "      <td>15</td>\n",
              "      <td>@RirenaErena АЮ молчит... Неужели снова недово...</td>\n",
              "      <td>1</td>\n",
              "      <td>@rirenaerena ая молчать ... неужели снова недо...</td>\n",
              "    </tr>\n",
              "    <tr>\n",
              "      <th>16</th>\n",
              "      <td>16</td>\n",
              "      <td>Именно Мыш, именно без мягкого знака. Потому ч...</td>\n",
              "      <td>1</td>\n",
              "      <td>именно , именно без мягкий знак . потому что э...</td>\n",
              "    </tr>\n",
              "    <tr>\n",
              "      <th>17</th>\n",
              "      <td>17</td>\n",
              "      <td>Кепон Кристиана,йоу \\nАхах,очень здорово повес...</td>\n",
              "      <td>1</td>\n",
              "      <td>, йоу ахах , очень здорово повеселиться :d</td>\n",
              "    </tr>\n",
              "    <tr>\n",
              "      <th>18</th>\n",
              "      <td>18</td>\n",
              "      <td>RT @Liza_konoval: @MarinaDegtyar а все благода...</td>\n",
              "      <td>1</td>\n",
              "      <td>rt : а все благодаря , епта :d но спасиба ему :*</td>\n",
              "    </tr>\n",
              "    <tr>\n",
              "      <th>19</th>\n",
              "      <td>19</td>\n",
              "      <td>@mr1garik обычный пневмат)\\nДа, этот всередине...</td>\n",
              "      <td>1</td>\n",
              "      <td>обычный ) да , этот железный а тут )</td>\n",
              "    </tr>\n",
              "    <tr>\n",
              "      <th>20</th>\n",
              "      <td>20</td>\n",
              "      <td>@dmitruksergey много хамства у всех. :( но да,...</td>\n",
              "      <td>0</td>\n",
              "      <td>много у всех . :( но да , на восток больше .</td>\n",
              "    </tr>\n",
              "    <tr>\n",
              "      <th>21</th>\n",
              "      <td>21</td>\n",
              "      <td>RT @Terra_Titanic: Артемикус двоится) http://t...</td>\n",
              "      <td>1</td>\n",
              "      <td>rt : )</td>\n",
              "    </tr>\n",
              "    <tr>\n",
              "      <th>22</th>\n",
              "      <td>22</td>\n",
              "      <td>Новый год к нам мчится! А к вам? Открытки с но...</td>\n",
              "      <td>1</td>\n",
              "      <td>новый год к нам мчаться ! а к вам ? открытка с...</td>\n",
              "    </tr>\n",
              "    <tr>\n",
              "      <th>23</th>\n",
              "      <td>23</td>\n",
              "      <td>RT @TataFjord: Снежинка ты наша, недоделанная:...</td>\n",
              "      <td>1</td>\n",
              "      <td>rt : снежинка ты наш , : ddd # биатлон</td>\n",
              "    </tr>\n",
              "    <tr>\n",
              "      <th>24</th>\n",
              "      <td>24</td>\n",
              "      <td>RT @Malou38irk: Наши показали на Чемпионате Ми...</td>\n",
              "      <td>1</td>\n",
              "      <td>rt : наш показать на чемпионат мир , что сибир...</td>\n",
              "    </tr>\n",
              "    <tr>\n",
              "      <th>25</th>\n",
              "      <td>25</td>\n",
              "      <td>Домой хочу( устала http://t.co/mza46tsUh1</td>\n",
              "      <td>0</td>\n",
              "      <td>домой хотеть ( устать</td>\n",
              "    </tr>\n",
              "    <tr>\n",
              "      <th>26</th>\n",
              "      <td>26</td>\n",
              "      <td>Поговаривают, что Чак Паланик скончался((</td>\n",
              "      <td>0</td>\n",
              "      <td>, что чак скончаться ( (</td>\n",
              "    </tr>\n",
              "    <tr>\n",
              "      <th>27</th>\n",
              "      <td>27</td>\n",
              "      <td>Когда шли домой мы были свидетелями жестокой д...</td>\n",
              "      <td>0</td>\n",
              "      <td>когда идти домой мы были свидетель жестокий др...</td>\n",
              "    </tr>\n",
              "    <tr>\n",
              "      <th>28</th>\n",
              "      <td>28</td>\n",
              "      <td>\"@KyunneyI: че то сегодня Ланды Христофоровны ...</td>\n",
              "      <td>1</td>\n",
              "      <td>\" : че то сегодня не видно \" скоро буду ) )</td>\n",
              "    </tr>\n",
              "    <tr>\n",
              "      <th>29</th>\n",
              "      <td>29</td>\n",
              "      <td>RT @gatizoxifywi: писькой, а я не хочу чтоб он...</td>\n",
              "      <td>0</td>\n",
              "      <td>rt : , а я не хотеть чтоб он меня так называть...</td>\n",
              "    </tr>\n",
              "    <tr>\n",
              "      <th>30</th>\n",
              "      <td>30</td>\n",
              "      <td>RT @tipodupevyl: что то я забыл что на фликре ...</td>\n",
              "      <td>1</td>\n",
              "      <td>rt : что то я забыть что на ещё в пара freebsd...</td>\n",
              "    </tr>\n",
              "    <tr>\n",
              "      <th>31</th>\n",
              "      <td>31</td>\n",
              "      <td>наконец-то приезжает мамуля!после вчерашних со...</td>\n",
              "      <td>0</td>\n",
              "      <td>наконец - то приезжать вчерашний событие боять...</td>\n",
              "    </tr>\n",
              "    <tr>\n",
              "      <th>32</th>\n",
              "      <td>32</td>\n",
              "      <td>Мне попалась манга с типично японским уровнем ...</td>\n",
              "      <td>1</td>\n",
              "      <td>мне попасться манга с японский уровень шизофре...</td>\n",
              "    </tr>\n",
              "    <tr>\n",
              "      <th>33</th>\n",
              "      <td>33</td>\n",
              "      <td>RT @nstkotova: @BelibersTEAM Воу, Воу, Воу))))...</td>\n",
              "      <td>1</td>\n",
              "      <td>rt : воу , воу , воу ) ) ) ) какой ты строгий :d</td>\n",
              "    </tr>\n",
              "    <tr>\n",
              "      <th>34</th>\n",
              "      <td>34</td>\n",
              "      <td>RT @kota_Oo_oO: @anstation @Lump_Your_Head хпх...</td>\n",
              "      <td>0</td>\n",
              "      <td>rt @kota_oo_oo : @anstation меня любить * - *</td>\n",
              "    </tr>\n",
              "    <tr>\n",
              "      <th>35</th>\n",
              "      <td>35</td>\n",
              "      <td>RT @_oolya: @aliya_g_ горячий чай? башкирский ...</td>\n",
              "      <td>1</td>\n",
              "      <td>rt : _ горячий чай ? мёд ? :d</td>\n",
              "    </tr>\n",
              "    <tr>\n",
              "      <th>36</th>\n",
              "      <td>36</td>\n",
              "      <td>@Sovalong на 1 корпусе)который напротив школы)...</td>\n",
              "      <td>1</td>\n",
              "      <td>на 1 напротив на крыша над ёлка стоить )</td>\n",
              "    </tr>\n",
              "    <tr>\n",
              "      <th>37</th>\n",
              "      <td>37</td>\n",
              "      <td>Пора домой... Такая шикарная погода но завтра ...</td>\n",
              "      <td>0</td>\n",
              "      <td>пора домой ... такой шикарный погода но завтра...</td>\n",
              "    </tr>\n",
              "    <tr>\n",
              "      <th>38</th>\n",
              "      <td>38</td>\n",
              "      <td>ураа, нашел цепочку! все отлично)\\n#ухьюстонав...</td>\n",
              "      <td>1</td>\n",
              "      <td>ураа , найти цепочка ! все отличный ) # .</td>\n",
              "    </tr>\n",
              "    <tr>\n",
              "      <th>39</th>\n",
              "      <td>39</td>\n",
              "      <td>RT @Cokolik13: 12 декабря - \"Виктория\"- фестив...</td>\n",
              "      <td>1</td>\n",
              "      <td>rt : 12 декабрь - \" фестиваль добро ! )</td>\n",
              "    </tr>\n",
              "    <tr>\n",
              "      <th>40</th>\n",
              "      <td>40</td>\n",
              "      <td>да,соглашусь с Юрой.\\nЖестокая суббота не толь...</td>\n",
              "      <td>1</td>\n",
              "      <td>да , согласиться с юра . жестокий суббота не т...</td>\n",
              "    </tr>\n",
              "    <tr>\n",
              "      <th>41</th>\n",
              "      <td>41</td>\n",
              "      <td>@desmount @mikhailprigara как это не встречал?...</td>\n",
              "      <td>1</td>\n",
              "      <td>как это не встречать ? ) а диджей ? ) ) )</td>\n",
              "    </tr>\n",
              "    <tr>\n",
              "      <th>42</th>\n",
              "      <td>42</td>\n",
              "      <td>а из-за большой разницы в возрасте с сестренко...</td>\n",
              "      <td>1</td>\n",
              "      <td>а из - за большой разница в возраст с сестрёнк...</td>\n",
              "    </tr>\n",
              "    <tr>\n",
              "      <th>43</th>\n",
              "      <td>43</td>\n",
              "      <td>RT @cujaqyfumyr: Наплодил кучу аккаунтов, а уд...</td>\n",
              "      <td>0</td>\n",
              "      <td>rt : куча аккаунт , а удалить :(</td>\n",
              "    </tr>\n",
              "    <tr>\n",
              "      <th>44</th>\n",
              "      <td>44</td>\n",
              "      <td>@7thousandmiles_ азхахаха, ну да, знаю я твое ...</td>\n",
              "      <td>1</td>\n",
              "      <td>_ , ну да , знать я твой \" немножко \" :d и тем...</td>\n",
              "    </tr>\n",
              "    <tr>\n",
              "      <th>45</th>\n",
              "      <td>45</td>\n",
              "      <td>В любом случае, ты был в пустыне. 3:-) #TeamFo...</td>\n",
              "      <td>1</td>\n",
              "      <td>в любой случай , ты был в пустыня . 3:- ) # te...</td>\n",
              "    </tr>\n",
              "    <tr>\n",
              "      <th>46</th>\n",
              "      <td>46</td>\n",
              "      <td>я точно дочь своей мамы\\nу мамы заболела спина...</td>\n",
              "      <td>0</td>\n",
              "      <td>я точно дочь свой мама у мама заболеть к и мне...</td>\n",
              "    </tr>\n",
              "    <tr>\n",
              "      <th>47</th>\n",
              "      <td>47</td>\n",
              "      <td>@Soukhinov И всё? :) А ты попробовал бы :) Я с...</td>\n",
              "      <td>1</td>\n",
              "      <td>и всё ? :) а ты попробовать бы :) я со свой бу...</td>\n",
              "    </tr>\n",
              "    <tr>\n",
              "      <th>48</th>\n",
              "      <td>48</td>\n",
              "      <td>Q: Привет, ты мне дико нравишься, но я стесняю...</td>\n",
              "      <td>0</td>\n",
              "      <td>q : привет , ты мне дико нравишься , но я стес...</td>\n",
              "    </tr>\n",
              "    <tr>\n",
              "      <th>49</th>\n",
              "      <td>49</td>\n",
              "      <td>RT @Nastia_GD: @_sing_to_me_ @dead_music666 ну...</td>\n",
              "      <td>1</td>\n",
              "      <td>rt @nastia_gd : _ @dead_music666 ну у меня пок...</td>\n",
              "    </tr>\n",
              "  </tbody>\n",
              "</table>\n",
              "</div>"
            ],
            "text/plain": [
              "    Unnamed: 0  ...                                        clean_texts\n",
              "0            0  ...  эх , ехать на репа пора ( ( завтра уже выступл...\n",
              "1            1  ...  аллергия выйти , из - за этот тупой мандарин (...\n",
              "2            2  ...  власть всегда была , просто теперь об знать ве...\n",
              "3            3  ...  а хрен , я пока , потом дома : dd но сегодня я...\n",
              "4            4  ...  rt @vik_vans : блин , слушать первый мини - ал...\n",
              "5            5  ...                  как же не сделать фото на айфон в\n",
              "6            6  ...   заебись погулял ... мама пуховик постирать ; ( (\n",
              "7            7  ...             # почему я мало писать в тви ; ( ( ( (\n",
              "8            8  ...              ладно :( мне через полтора час только\n",
              "9            9  ...  вот да , это было бы идеальный ! хотеть все пр...\n",
              "10          10  ...  ты тогда уже уйти :( покажу потом , ты , почем...\n",
              "11          11  ...  вчера разговаривать с лиза и ей вечно что - то...\n",
              "12          12  ...  тупо сюжет для новый глава х ) у меня паника ....\n",
              "13          13  ...                   сочувствовать ( ( ( много урок ?\n",
              "14          14  ...           привет ! по мой традиция : миша тебе ! )\n",
              "15          15  ...  @rirenaerena ая молчать ... неужели снова недо...\n",
              "16          16  ...  именно , именно без мягкий знак . потому что э...\n",
              "17          17  ...         , йоу ахах , очень здорово повеселиться :d\n",
              "18          18  ...   rt : а все благодаря , епта :d но спасиба ему :*\n",
              "19          19  ...               обычный ) да , этот железный а тут )\n",
              "20          20  ...       много у всех . :( но да , на восток больше .\n",
              "21          21  ...                                             rt : )\n",
              "22          22  ...  новый год к нам мчаться ! а к вам ? открытка с...\n",
              "23          23  ...             rt : снежинка ты наш , : ddd # биатлон\n",
              "24          24  ...  rt : наш показать на чемпионат мир , что сибир...\n",
              "25          25  ...                              домой хотеть ( устать\n",
              "26          26  ...                           , что чак скончаться ( (\n",
              "27          27  ...  когда идти домой мы были свидетель жестокий др...\n",
              "28          28  ...        \" : че то сегодня не видно \" скоро буду ) )\n",
              "29          29  ...  rt : , а я не хотеть чтоб он меня так называть...\n",
              "30          30  ...  rt : что то я забыть что на ещё в пара freebsd...\n",
              "31          31  ...  наконец - то приезжать вчерашний событие боять...\n",
              "32          32  ...  мне попасться манга с японский уровень шизофре...\n",
              "33          33  ...   rt : воу , воу , воу ) ) ) ) какой ты строгий :d\n",
              "34          34  ...      rt @kota_oo_oo : @anstation меня любить * - *\n",
              "35          35  ...                      rt : _ горячий чай ? мёд ? :d\n",
              "36          36  ...           на 1 напротив на крыша над ёлка стоить )\n",
              "37          37  ...  пора домой ... такой шикарный погода но завтра...\n",
              "38          38  ...          ураа , найти цепочка ! все отличный ) # .\n",
              "39          39  ...            rt : 12 декабрь - \" фестиваль добро ! )\n",
              "40          40  ...  да , согласиться с юра . жестокий суббота не т...\n",
              "41          41  ...          как это не встречать ? ) а диджей ? ) ) )\n",
              "42          42  ...  а из - за большой разница в возраст с сестрёнк...\n",
              "43          43  ...                   rt : куча аккаунт , а удалить :(\n",
              "44          44  ...  _ , ну да , знать я твой \" немножко \" :d и тем...\n",
              "45          45  ...  в любой случай , ты был в пустыня . 3:- ) # te...\n",
              "46          46  ...  я точно дочь свой мама у мама заболеть к и мне...\n",
              "47          47  ...  и всё ? :) а ты попробовать бы :) я со свой бу...\n",
              "48          48  ...  q : привет , ты мне дико нравишься , но я стес...\n",
              "49          49  ...  rt @nastia_gd : _ @dead_music666 ну у меня пок...\n",
              "\n",
              "[50 rows x 4 columns]"
            ]
          },
          "metadata": {},
          "execution_count": 9
        }
      ],
      "source": [
        "train_data.head(50)"
      ]
    },
    {
      "cell_type": "code",
      "source": [
        "stops = '.,!#$@?)([]:;'\n",
        "def preproc(text):\n",
        "    text = str(text).split()\n",
        "    res = []\n",
        "    for i in text:\n",
        "        if i not in stops:\n",
        "            res.append(i)\n",
        "    return ' '.join(res)\n",
        "\n",
        "train_data['clean_texts'] = [preproc(i) for i in train_data['clean_texts']]\n",
        "val_data['clean_texts'] = [preproc(i) for i in val_data['clean_texts']]"
      ],
      "metadata": {
        "id": "2gc5X3vDAv0a"
      },
      "execution_count": 13,
      "outputs": []
    },
    {
      "cell_type": "markdown",
      "metadata": {
        "id": "iwD2XOt8uGtM"
      },
      "source": [
        "Почему мы можем трогать только train_data? Потому что иначе может попасть что-нибудь из теста. Вероятно, будет не очень заментно, но исключать возможность не стоит, и на уровне слов она больше, чем на уровне символов"
      ]
    },
    {
      "cell_type": "code",
      "execution_count": 14,
      "metadata": {
        "colab": {
          "base_uri": "https://localhost:8080/"
        },
        "id": "pc6HXtrMuGtN",
        "outputId": "37c7b0de-1cb6-4f96-9ff2-7403c390e1d6"
      },
      "outputs": [
        {
          "output_type": "stream",
          "name": "stderr",
          "text": [
            "100%|██████████| 173952/173952 [00:00<00:00, 176674.55it/s]"
          ]
        },
        {
          "output_type": "stream",
          "name": "stdout",
          "text": [
            "всего уникальных слов: 18100\n"
          ]
        },
        {
          "output_type": "stream",
          "name": "stderr",
          "text": [
            "\n"
          ]
        }
      ],
      "source": [
        "vocab = Counter()\n",
        "for text in tqdm(train_data['clean_texts']):\n",
        "    vocab.update(str(text).split(' '))\n",
        "print('всего уникальных слов:', len(vocab))"
      ]
    },
    {
      "cell_type": "code",
      "execution_count": 15,
      "metadata": {
        "colab": {
          "base_uri": "https://localhost:8080/"
        },
        "id": "TFlVinuMObSL",
        "outputId": "ff6f3ece-c957-4010-d71c-dfc800b1f7fc"
      },
      "outputs": [
        {
          "output_type": "execute_result",
          "data": {
            "text/plain": [
              "0"
            ]
          },
          "metadata": {},
          "execution_count": 15
        }
      ],
      "source": [
        "vocab['PAD']"
      ]
    },
    {
      "cell_type": "code",
      "execution_count": 16,
      "metadata": {
        "colab": {
          "base_uri": "https://localhost:8080/"
        },
        "id": "0wKHM_LU1seA",
        "outputId": "3f7effcb-4772-4e35-cb68-6fa00b8665b3"
      },
      "outputs": [
        {
          "output_type": "stream",
          "name": "stdout",
          "text": [
            "уникальных слов, встретившихся больше 5 раз: 18100\n"
          ]
        }
      ],
      "source": [
        "filtered_vocab = set()\n",
        "\n",
        "for word in vocab:\n",
        "    if vocab[word] > 5:\n",
        "        filtered_vocab.add(word)\n",
        "    else:\n",
        "        print(word) # мы всё в препроцессинге удалили\n",
        "print('уникальных слов, встретившихся больше 5 раз:', len(filtered_vocab))"
      ]
    },
    {
      "cell_type": "code",
      "execution_count": 17,
      "metadata": {
        "id": "BEUhJv5N1seC"
      },
      "outputs": [],
      "source": [
        "#создаем словарь с индексами symbol2id, для спецсимвола паддинга дефолтный индекс - 0\n",
        "word2id = {'PAD':0}\n",
        "symbol2id = {'PAD':0}\n",
        "\n",
        "for word in filtered_vocab:\n",
        "    word2id[word] = len(word2id)\n",
        "    for symbol in word:\n",
        "        if not symbol in symbol2id.keys():\n",
        "            symbol2id[symbol] = len(symbol2id)"
      ]
    },
    {
      "cell_type": "code",
      "execution_count": 18,
      "metadata": {
        "id": "oqaSjzTjuGtO"
      },
      "outputs": [],
      "source": [
        "#symbol2id # И ещё смайлики"
      ]
    },
    {
      "cell_type": "code",
      "execution_count": 19,
      "metadata": {
        "id": "P6J89I9d1seC"
      },
      "outputs": [],
      "source": [
        "#обратный словарь для того, чтобы раскодировать последовательность\n",
        "id2word = {i:word for word, i in word2id.items()}\n",
        "id2symbol = {i:symbol for symbol, i in symbol2id.items()}"
      ]
    },
    {
      "cell_type": "code",
      "execution_count": 20,
      "metadata": {
        "colab": {
          "base_uri": "https://localhost:8080/"
        },
        "id": "YrzM7MnCQeP_",
        "outputId": "1b9ebe60-825e-404e-8472-691aecc60e72"
      },
      "outputs": [
        {
          "output_type": "execute_result",
          "data": {
            "text/plain": [
              "device(type='cuda')"
            ]
          },
          "metadata": {},
          "execution_count": 20
        }
      ],
      "source": [
        "DEVICE = torch.device('cuda') if torch.cuda.is_available() else torch.device('cpu')\n",
        "DEVICE"
      ]
    },
    {
      "cell_type": "code",
      "execution_count": 21,
      "metadata": {
        "colab": {
          "base_uri": "https://localhost:8080/",
          "height": 166
        },
        "id": "hEZ4Ay8XuGtO",
        "outputId": "98d09c36-9768-4c83-b794-b8ebe3dca40a"
      },
      "outputs": [
        {
          "output_type": "error",
          "ename": "KeyError",
          "evalue": "ignored",
          "traceback": [
            "\u001b[0;31m---------------------------------------------------------------------------\u001b[0m",
            "\u001b[0;31mKeyError\u001b[0m                                  Traceback (most recent call last)",
            "\u001b[0;32m<ipython-input-21-a4cc0e84de0c>\u001b[0m in \u001b[0;36m<module>\u001b[0;34m()\u001b[0m\n\u001b[0;32m----> 1\u001b[0;31m \u001b[0mword2id\u001b[0m\u001b[0;34m[\u001b[0m\u001b[0;34m')'\u001b[0m\u001b[0;34m]\u001b[0m \u001b[0;31m# у нас есть скобочки, и это важно\u001b[0m\u001b[0;34m\u001b[0m\u001b[0;34m\u001b[0m\u001b[0m\n\u001b[0m",
            "\u001b[0;31mKeyError\u001b[0m: ')'"
          ]
        }
      ],
      "source": [
        "word2id[')'] # у нас есть скобочки, и это важно"
      ]
    },
    {
      "cell_type": "code",
      "execution_count": 22,
      "metadata": {
        "colab": {
          "base_uri": "https://localhost:8080/"
        },
        "id": "PALuznhPuGtO",
        "outputId": "23d37c80-fea3-4f17-b97c-5f35a40afe18"
      },
      "outputs": [
        {
          "output_type": "execute_result",
          "data": {
            "text/plain": [
              "72"
            ]
          },
          "metadata": {},
          "execution_count": 22
        }
      ],
      "source": [
        "symbol2id[')']"
      ]
    },
    {
      "cell_type": "markdown",
      "metadata": {
        "id": "2DuAWLFTuGtO"
      },
      "source": [
        "## Эмбеддинги"
      ]
    },
    {
      "cell_type": "markdown",
      "metadata": {
        "id": "oCRMo-gMuGtP"
      },
      "source": [
        "Фасттекст так фасттекст, давайте возьмём для него леммы"
      ]
    },
    {
      "cell_type": "code",
      "execution_count": 23,
      "metadata": {
        "id": "qGP_wm-quGtP"
      },
      "outputs": [],
      "source": [
        "from gensim.models import FastText"
      ]
    },
    {
      "cell_type": "code",
      "execution_count": 24,
      "metadata": {
        "id": "VJXt68D0uGtP"
      },
      "outputs": [],
      "source": [
        "fasttext_data = [str(i) for i in train_data['clean_texts'].tolist()]"
      ]
    },
    {
      "cell_type": "code",
      "execution_count": 25,
      "metadata": {
        "id": "lyCfG_UMuGtP"
      },
      "outputs": [],
      "source": [
        "model_fasttext = FastText(fasttext_data, size=64, window=5, min_count=5)"
      ]
    },
    {
      "cell_type": "code",
      "execution_count": 26,
      "metadata": {
        "id": "JLN76jyYuGtP"
      },
      "outputs": [],
      "source": [
        "#model_fasttext.wv[')'] #есть скобочки в модели!"
      ]
    },
    {
      "cell_type": "code",
      "execution_count": 26,
      "metadata": {
        "id": "LtlawmJYuGtP"
      },
      "outputs": [],
      "source": [
        ""
      ]
    },
    {
      "cell_type": "code",
      "execution_count": 27,
      "metadata": {
        "colab": {
          "base_uri": "https://localhost:8080/"
        },
        "id": "qs86yN3BuGtP",
        "outputId": "88b4bb3a-056b-4595-f0e8-563ad7905d4d"
      },
      "outputs": [
        {
          "output_type": "stream",
          "name": "stdout",
          "text": [
            "18101\n"
          ]
        }
      ],
      "source": [
        "model_embs = np.zeros((len(word2id), 64))\n",
        "dict_of_non_wodel_embs = {} # логичнее для одинаковых слов использовать одинаковые эмбеддинги\n",
        "len_non_model_words  = 0\n",
        "# почему не случайные? потому что сейчас менять будем\n",
        "for word, i in word2id.items():\n",
        "    try:\n",
        "        model_embs[i] = ft.wv[word]\n",
        "    except:\n",
        "        len_non_model_words += 1\n",
        "        if word in dict_of_non_wodel_embs.keys():\n",
        "            emb = dict_of_non_wodel_embs[word]\n",
        "        else:\n",
        "            emb = np.random.normal(0, 0.05, 64)\n",
        "            dict_of_non_wodel_embs[word] = emb\n",
        "        model_embs[i] = emb\n",
        "print(len_non_model_words)"
      ]
    },
    {
      "cell_type": "markdown",
      "metadata": {
        "id": "obiXRWLt1OZJ"
      },
      "source": [
        "### Dataset & DataLoader"
      ]
    },
    {
      "cell_type": "code",
      "execution_count": 28,
      "metadata": {
        "id": "FMs4ZohJ1seI"
      },
      "outputs": [],
      "source": [
        "class TweetsDataset(Dataset):\n",
        "\n",
        "    def __init__(self, dataset, word2id, DEVICE):\n",
        "        self.dataset = [str(i) for i in dataset['clean_texts'].values]\n",
        "        self.word2id = word2id\n",
        "        self.symbol2id = symbol2id\n",
        "        self.length = dataset.shape[0]\n",
        "        self.target = dataset['type'].values\n",
        "        self.device = DEVICE\n",
        "\n",
        "    def __len__(self):\n",
        "        return self.length\n",
        "\n",
        "    def __getitem__(self, index): \n",
        "        words = self.dataset[index].split(' ')\n",
        "        symbols = list(self.dataset[index])\n",
        "        words_ids = torch.LongTensor([self.word2id[word.lower()] for word in words if word.lower() in self.word2id])\n",
        "        symbols_ids = torch.LongTensor([self.symbol2id[symbol.lower()] for symbol in symbols if symbol.lower() in self.symbol2id])\n",
        "        y = [self.target[index]]\n",
        "        return words_ids, symbols_ids, y\n",
        "\n",
        "    def collate_fn(self, batch): #этот метод можно реализовывать и отдельно,\n",
        "    # он понадобится для DataLoader во время итерации по батчам\n",
        "        words_ids, symbols_ids, y = list(zip(*batch))\n",
        "        \n",
        "        padded_words_ids = pad_sequence(words_ids, batch_first=True).to(self.device)\n",
        "        padded_symbols_ids = pad_sequence(symbols_ids, batch_first=True).to(self.device)\n",
        "        y = torch.Tensor(y).to(self.device)\n",
        "        return padded_words_ids, padded_symbols_ids, y"
      ]
    },
    {
      "cell_type": "markdown",
      "metadata": {
        "id": "m5Wjfyxar7U1"
      },
      "source": [
        "### создаем итераторы по данным для трейна и теста"
      ]
    },
    {
      "cell_type": "code",
      "execution_count": 29,
      "metadata": {
        "id": "8Zl4FxB71seI"
      },
      "outputs": [],
      "source": [
        "train_dataset = TweetsDataset(train_data, word2id, DEVICE)\n",
        "train_sampler = RandomSampler(train_dataset)\n",
        "train_iterator = DataLoader(train_dataset, collate_fn = train_dataset.collate_fn, sampler=train_sampler, batch_size=64)"
      ]
    },
    {
      "cell_type": "code",
      "execution_count": 30,
      "metadata": {
        "id": "xauLXZwQNcCq"
      },
      "outputs": [],
      "source": [
        "batch = next(iter(train_iterator))"
      ]
    },
    {
      "cell_type": "code",
      "execution_count": 31,
      "metadata": {
        "colab": {
          "base_uri": "https://localhost:8080/"
        },
        "id": "GOqAu8X8S36K",
        "outputId": "49294603-bf10-489a-cf16-e58e43a59dfd"
      },
      "outputs": [
        {
          "output_type": "execute_result",
          "data": {
            "text/plain": [
              "torch.Size([64, 26])"
            ]
          },
          "metadata": {},
          "execution_count": 31
        }
      ],
      "source": [
        "batch[0].shape"
      ]
    },
    {
      "cell_type": "code",
      "execution_count": 32,
      "metadata": {
        "id": "aZbD27_A6Nck"
      },
      "outputs": [],
      "source": [
        "#[id2word[int(i)] for i in batch[0][0]]"
      ]
    },
    {
      "cell_type": "code",
      "execution_count": 33,
      "metadata": {
        "colab": {
          "base_uri": "https://localhost:8080/"
        },
        "id": "tj6Wltq3TfGQ",
        "outputId": "b80b5c6e-bcb6-4900-829e-d085884a0208",
        "scrolled": true
      },
      "outputs": [
        {
          "output_type": "execute_result",
          "data": {
            "text/plain": [
              "tensor([[17,  6, 23,  ...,  0,  0,  0],\n",
              "        [53, 43,  1,  ...,  0,  0,  0],\n",
              "        [17,  5,  6,  ...,  0,  0,  0],\n",
              "        ...,\n",
              "        [ 7,  8, 17,  ...,  0,  0,  0],\n",
              "        [17, 23, 11,  ...,  0,  0,  0],\n",
              "        [ 5, 11, 14,  ...,  0,  0,  0]], device='cuda:0')"
            ]
          },
          "metadata": {},
          "execution_count": 33
        }
      ],
      "source": [
        "\n",
        "batch[1]"
      ]
    },
    {
      "cell_type": "code",
      "execution_count": 34,
      "metadata": {
        "id": "ZR_upb-_1seJ"
      },
      "outputs": [],
      "source": [
        "val_dataset = TweetsDataset(val_data, word2id, DEVICE)\n",
        "val_sampler = SequentialSampler(val_dataset)\n",
        "val_iterator = DataLoader(val_dataset, collate_fn = val_dataset.collate_fn, sampler=val_sampler, batch_size=64)"
      ]
    },
    {
      "cell_type": "code",
      "execution_count": 35,
      "metadata": {
        "colab": {
          "base_uri": "https://localhost:8080/"
        },
        "id": "jQlpcUR28V-j",
        "outputId": "f2df25c1-dc0a-4afa-d777-25e64dc13a19"
      },
      "outputs": [
        {
          "output_type": "execute_result",
          "data": {
            "text/plain": [
              "torch.Size([64, 22])"
            ]
          },
          "metadata": {},
          "execution_count": 35
        }
      ],
      "source": [
        "test_batch = next(iter(val_iterator))\n",
        "test_batch[0].shape"
      ]
    },
    {
      "cell_type": "markdown",
      "metadata": {
        "id": "BUCT8ayD1seK"
      },
      "source": [
        "### CNN model"
      ]
    },
    {
      "cell_type": "code",
      "execution_count": 36,
      "metadata": {
        "colab": {
          "base_uri": "https://localhost:8080/"
        },
        "id": "NfVEoM-IZFFe",
        "outputId": "51d9c6e7-d2e2-44f2-8ab7-4c03ac6ef9de"
      },
      "outputs": [
        {
          "output_type": "execute_result",
          "data": {
            "text/plain": [
              "tensor([[[-0.6961, -0.1493,  0.2912,  0.7122],\n",
              "         [ 0.0415,  0.7442,  0.6144, -1.3801],\n",
              "         [-0.5613,  1.6796, -1.1247, -0.3996],\n",
              "         [-1.3651, -0.8303, -0.9389,  0.8059],\n",
              "         [ 0.5967, -0.4201, -0.3869,  0.8058],\n",
              "         [ 0.0622,  0.2065, -1.0201,  0.7230],\n",
              "         [ 1.3487, -0.1697, -0.9931,  0.0080],\n",
              "         [ 1.2497, -0.0679, -1.7125,  0.1604]],\n",
              "\n",
              "        [[-0.3885,  0.8235,  0.4645, -1.7055],\n",
              "         [ 1.4950, -0.7936,  0.7113, -0.6253],\n",
              "         [ 0.5631, -2.1335,  1.0032, -0.7803],\n",
              "         [-0.1999, -1.0795,  1.0380,  1.0741],\n",
              "         [ 0.8190,  0.1078,  0.7521,  1.0870],\n",
              "         [-0.8540, -0.2074,  2.2843, -0.0817],\n",
              "         [-2.0424, -1.5707, -2.4841, -0.5957],\n",
              "         [ 0.8208, -1.0165,  0.9025,  2.1319]],\n",
              "\n",
              "        [[-0.7414,  1.2985, -0.5393,  0.9035],\n",
              "         [ 1.1073, -1.3242, -1.7165, -0.9569],\n",
              "         [-0.1804,  1.0276, -0.8151,  1.4996],\n",
              "         [-1.2099, -0.9703,  0.1108,  0.0917],\n",
              "         [-0.4741,  1.0035,  0.3565, -0.2495],\n",
              "         [ 0.8634,  0.4988, -0.5250, -0.7911],\n",
              "         [ 0.3697,  0.2223,  1.2837, -0.8204],\n",
              "         [-1.1346, -0.6845, -0.8941,  0.3707]]])"
            ]
          },
          "metadata": {},
          "execution_count": 36
        }
      ],
      "source": [
        "fm = torch.randn(3, 8, 4) #batch_size, num_filters, seq_len\n",
        "fm"
      ]
    },
    {
      "cell_type": "code",
      "execution_count": 37,
      "metadata": {
        "colab": {
          "base_uri": "https://localhost:8080/"
        },
        "id": "pXXF4sU2ZFy4",
        "outputId": "f67d268b-aba0-40bf-a45b-2ed8ce4f19d3"
      },
      "outputs": [
        {
          "output_type": "stream",
          "name": "stdout",
          "text": [
            "torch.Size([3, 8, 2])\n"
          ]
        },
        {
          "output_type": "execute_result",
          "data": {
            "text/plain": [
              "tensor([[[-0.1493,  0.7122],\n",
              "         [ 0.7442,  0.6144],\n",
              "         [ 1.6796, -0.3996],\n",
              "         [-0.8303,  0.8059],\n",
              "         [ 0.5967,  0.8058],\n",
              "         [ 0.2065,  0.7230],\n",
              "         [ 1.3487,  0.0080],\n",
              "         [ 1.2497,  0.1604]],\n",
              "\n",
              "        [[ 0.8235,  0.4645],\n",
              "         [ 1.4950,  0.7113],\n",
              "         [ 0.5631,  1.0032],\n",
              "         [-0.1999,  1.0741],\n",
              "         [ 0.8190,  1.0870],\n",
              "         [-0.2074,  2.2843],\n",
              "         [-1.5707, -0.5957],\n",
              "         [ 0.8208,  2.1319]],\n",
              "\n",
              "        [[ 1.2985,  0.9035],\n",
              "         [ 1.1073, -0.9569],\n",
              "         [ 1.0276,  1.4996],\n",
              "         [-0.9703,  0.1108],\n",
              "         [ 1.0035,  0.3565],\n",
              "         [ 0.8634, -0.5250],\n",
              "         [ 0.3697,  1.2837],\n",
              "         [-0.6845,  0.3707]]])"
            ]
          },
          "metadata": {},
          "execution_count": 37
        }
      ],
      "source": [
        "mp = torch.nn.MaxPool1d(kernel_size=2, stride=2)\n",
        "print(mp(fm).shape)\n",
        "mp(fm)"
      ]
    },
    {
      "cell_type": "code",
      "execution_count": 38,
      "metadata": {
        "colab": {
          "base_uri": "https://localhost:8080/"
        },
        "id": "0JZy7ZDlctwM",
        "outputId": "218f2659-0e60-4cc7-8eca-c077652c3307"
      },
      "outputs": [
        {
          "output_type": "execute_result",
          "data": {
            "text/plain": [
              "tensor([[ 0.7122,  0.7442,  1.6796,  0.8059,  0.8058,  0.7230,  1.3487,  1.2497],\n",
              "        [ 0.8235,  1.4950,  1.0032,  1.0741,  1.0870,  2.2843, -0.5957,  2.1319],\n",
              "        [ 1.2985,  1.1073,  1.4996,  0.1108,  1.0035,  0.8634,  1.2837,  0.3707]])"
            ]
          },
          "metadata": {},
          "execution_count": 38
        }
      ],
      "source": [
        "fm.max(2)[0]"
      ]
    },
    {
      "cell_type": "markdown",
      "metadata": {
        "id": "9SwLx6CsuGtR"
      },
      "source": [
        "Оставим фасттекст"
      ]
    },
    {
      "cell_type": "code",
      "execution_count": 39,
      "metadata": {
        "id": "NdV7oSIc1seK"
      },
      "outputs": [],
      "source": [
        "\n",
        "class CNN(nn.Module):\n",
        "    \n",
        "    def __init__(self, words_vocab_size, symbols_vocab_size, words_embedding_dim, symbols_embedding_dim, model_embs):\n",
        "        super().__init__()\n",
        "        self.words_embedding = nn.Embedding(words_vocab_size, words_embedding_dim)\n",
        "        self.words_embedding.from_pretrained(torch.tensor(model_embs), freeze=True) # ничего нового, только название\n",
        "        self.hidden_words = nn.Linear(words_embedding_dim, out_features=100)\n",
        "        \n",
        "        self.symbols_embedding = nn.Embedding(symbols_vocab_size, symbols_embedding_dim)        \n",
        "        self.bigrams = nn.Conv1d(in_channels=symbols_embedding_dim, out_channels=100, kernel_size=2, padding='same')\n",
        "        self.trigrams = nn.Conv1d(in_channels=symbols_embedding_dim, out_channels=80, kernel_size=3, padding='same')\n",
        "        \n",
        "        #self.concat_bigrams = nn.Conv1d(in_channels=180, out_channels=100, kernel_size=2, padding='same')\n",
        "        self.pooling = nn.MaxPool1d(kernel_size=2, stride=2)\n",
        "        self.relu = nn.ReLU()\n",
        "        self.hidden = nn.Linear(in_features=280, out_features=1)\n",
        "        self.dropout = nn.Dropout(p=0.5)\n",
        "        self.out = nn.Sigmoid()\n",
        "\n",
        "    def forward(self, symbols, words):\n",
        "        #batch_size x seq_len\n",
        "        embedded_words = self.hidden_words(torch.mean(self.words_embedding(words), dim=1))\n",
        "        \n",
        "        embedded_symbols = self.symbols_embedding(symbols)\n",
        "        \n",
        "        #batch_size x seq_len x embedding_dim\n",
        "        embedded_symbols = embedded_symbols.transpose(1,2)\n",
        "        #batch_size x embedding_dim x seq_len\n",
        "        feature_symbols_bigrams = self.dropout(self.pooling(self.relu(self.bigrams(embedded_symbols))))\n",
        "        #batch_size x filter_count2 x seq_len* \n",
        "        feature_symbols_trigrams = self.dropout(self.pooling(self.relu(self.trigrams(embedded_symbols))))\n",
        "        #batch_size x filter_count3 x seq_len*\n",
        "        #feature_symbols_bigrams = self.relu(self.bigrams(embedded_symbols))\n",
        "        # batch_size x filter_count3 x seq_len*\n",
        "        #feature_symbols_trigrams = self.relu(self.trigrams(embedded_symbols))\n",
        "\n",
        "        pooling1 = feature_symbols_bigrams.max(2)[0] \n",
        "        # batch_size x filter_count2\n",
        "        pooling2 = feature_symbols_trigrams.max(2)[0]\n",
        "        # batch_size x filter_count3\n",
        "        concat = torch.cat((pooling1, pooling2, embedded_words), 1)\n",
        "        \n",
        "        #feature_map_concat = self.relu(self.concat_bigrams(concat))\n",
        "        #pooling = feature_map_concat.max(2)[0]\n",
        "        # batch _size x (filter_count2 + filter_count3)\n",
        "        logits = self.hidden(concat)\n",
        "        logits = self.out(logits)\n",
        "        \n",
        "        return logits"
      ]
    },
    {
      "cell_type": "code",
      "execution_count": 40,
      "metadata": {
        "colab": {
          "base_uri": "https://localhost:8080/"
        },
        "id": "YFQ-WEY4cxkv",
        "outputId": "3de5ee65-a3a6-4cf7-d35c-2715e7b62baf"
      },
      "outputs": [
        {
          "output_type": "stream",
          "name": "stdout",
          "text": [
            "tensor([[ 5847,  7959,  1403,  ...,     0,     0,     0],\n",
            "        [14285, 15075,  3178,  ...,     0,     0,     0],\n",
            "        [10655,   923,  5681,  ...,     0,     0,     0],\n",
            "        ...,\n",
            "        [ 5541,  6481, 15075,  ...,     0,     0,     0],\n",
            "        [ 8364, 13453,  8670,  ...,     0,     0,     0],\n",
            "        [  707,  2362,  9722,  ...,     0,     0,     0]])\n"
          ]
        }
      ],
      "source": [
        "words_batch, sym_batch, y = next(iter(train_iterator))\n",
        "words_batch, sym_batch, y = words_batch.to(device='cpu'), sym_batch.to(device='cpu'), y.to(device='cpu')\n",
        "print(words_batch)"
      ]
    },
    {
      "cell_type": "code",
      "execution_count": 41,
      "metadata": {
        "colab": {
          "base_uri": "https://localhost:8080/"
        },
        "id": "JSmsX_fg4LcO",
        "outputId": "634c4467-c2ae-4c79-f8bd-e664c10bc129"
      },
      "outputs": [
        {
          "output_type": "execute_result",
          "data": {
            "text/plain": [
              "tensor([[1.],\n",
              "        [1.],\n",
              "        [0.],\n",
              "        [1.],\n",
              "        [1.],\n",
              "        [0.],\n",
              "        [1.],\n",
              "        [0.],\n",
              "        [1.],\n",
              "        [0.],\n",
              "        [0.],\n",
              "        [1.],\n",
              "        [1.],\n",
              "        [0.],\n",
              "        [1.],\n",
              "        [1.],\n",
              "        [0.],\n",
              "        [0.],\n",
              "        [0.],\n",
              "        [0.],\n",
              "        [1.],\n",
              "        [1.],\n",
              "        [0.],\n",
              "        [1.],\n",
              "        [0.],\n",
              "        [1.],\n",
              "        [0.],\n",
              "        [1.],\n",
              "        [1.],\n",
              "        [1.],\n",
              "        [1.],\n",
              "        [1.],\n",
              "        [1.],\n",
              "        [0.],\n",
              "        [1.],\n",
              "        [0.],\n",
              "        [1.],\n",
              "        [0.],\n",
              "        [0.],\n",
              "        [1.],\n",
              "        [0.],\n",
              "        [1.],\n",
              "        [0.],\n",
              "        [1.],\n",
              "        [0.],\n",
              "        [1.],\n",
              "        [1.],\n",
              "        [0.],\n",
              "        [0.],\n",
              "        [1.],\n",
              "        [0.],\n",
              "        [1.],\n",
              "        [1.],\n",
              "        [1.],\n",
              "        [0.],\n",
              "        [1.],\n",
              "        [0.],\n",
              "        [0.],\n",
              "        [1.],\n",
              "        [0.],\n",
              "        [1.],\n",
              "        [0.],\n",
              "        [1.],\n",
              "        [1.]])"
            ]
          },
          "metadata": {},
          "execution_count": 41
        }
      ],
      "source": [
        "y"
      ]
    },
    {
      "cell_type": "code",
      "execution_count": 42,
      "metadata": {
        "colab": {
          "base_uri": "https://localhost:8080/"
        },
        "id": "rgE1kokluGtS",
        "outputId": "726a8439-57bf-4c9b-b2ea-97960b1cc984"
      },
      "outputs": [
        {
          "output_type": "execute_result",
          "data": {
            "text/plain": [
              "(18101, 64)"
            ]
          },
          "metadata": {},
          "execution_count": 42
        }
      ],
      "source": [
        "model_embs.shape"
      ]
    },
    {
      "cell_type": "code",
      "source": [
        "words_batch.shape"
      ],
      "metadata": {
        "colab": {
          "base_uri": "https://localhost:8080/"
        },
        "id": "L8w-x_8hzNze",
        "outputId": "47e24e13-4a1c-4872-cf54-647ab8ff9ae8"
      },
      "execution_count": 43,
      "outputs": [
        {
          "output_type": "execute_result",
          "data": {
            "text/plain": [
              "torch.Size([64, 27])"
            ]
          },
          "metadata": {},
          "execution_count": 43
        }
      ]
    },
    {
      "cell_type": "code",
      "source": [
        "sym_batch.shape"
      ],
      "metadata": {
        "colab": {
          "base_uri": "https://localhost:8080/"
        },
        "id": "kSnILKb8z2ni",
        "outputId": "167da677-2d84-439e-8c85-cba914b7c530"
      },
      "execution_count": 44,
      "outputs": [
        {
          "output_type": "execute_result",
          "data": {
            "text/plain": [
              "torch.Size([64, 104])"
            ]
          },
          "metadata": {},
          "execution_count": 44
        }
      ]
    },
    {
      "cell_type": "code",
      "source": [
        ""
      ],
      "metadata": {
        "id": "fjs2kqYl02TI"
      },
      "execution_count": 44,
      "outputs": []
    },
    {
      "cell_type": "code",
      "execution_count": 45,
      "metadata": {
        "colab": {
          "base_uri": "https://localhost:8080/"
        },
        "id": "oHc9E_96dJBH",
        "outputId": "3bd05d84-25c1-4e07-c2cc-2ca8710201de"
      },
      "outputs": [
        {
          "output_type": "stream",
          "name": "stdout",
          "text": [
            "tensor([[0.3088],\n",
            "        [0.3211],\n",
            "        [0.2911],\n",
            "        [0.4564],\n",
            "        [0.3067],\n",
            "        [0.3409],\n",
            "        [0.2265],\n",
            "        [0.2779],\n",
            "        [0.3325],\n",
            "        [0.3220],\n",
            "        [0.2100],\n",
            "        [0.2585],\n",
            "        [0.3162],\n",
            "        [0.2757],\n",
            "        [0.3461],\n",
            "        [0.4895],\n",
            "        [0.2357],\n",
            "        [0.2656],\n",
            "        [0.3084],\n",
            "        [0.2385],\n",
            "        [0.2849],\n",
            "        [0.3563],\n",
            "        [0.4386],\n",
            "        [0.3081],\n",
            "        [0.3273],\n",
            "        [0.3139],\n",
            "        [0.2889],\n",
            "        [0.2441],\n",
            "        [0.3476],\n",
            "        [0.2959],\n",
            "        [0.2594],\n",
            "        [0.3284],\n",
            "        [0.3916],\n",
            "        [0.2518],\n",
            "        [0.4022],\n",
            "        [0.2394],\n",
            "        [0.3931],\n",
            "        [0.3049],\n",
            "        [0.2787],\n",
            "        [0.3069],\n",
            "        [0.3409],\n",
            "        [0.2345],\n",
            "        [0.3840],\n",
            "        [0.2609],\n",
            "        [0.2990],\n",
            "        [0.3191],\n",
            "        [0.2299],\n",
            "        [0.2578],\n",
            "        [0.4885],\n",
            "        [0.4278],\n",
            "        [0.2840],\n",
            "        [0.4350],\n",
            "        [0.2673],\n",
            "        [0.4775],\n",
            "        [0.3769],\n",
            "        [0.3338],\n",
            "        [0.3299],\n",
            "        [0.3665],\n",
            "        [0.2374],\n",
            "        [0.3242],\n",
            "        [0.3923],\n",
            "        [0.1852],\n",
            "        [0.3791],\n",
            "        [0.3373]], grad_fn=<SigmoidBackward0>)\n"
          ]
        },
        {
          "output_type": "stream",
          "name": "stderr",
          "text": [
            "/usr/local/lib/python3.7/dist-packages/torch/nn/modules/conv.py:298: UserWarning: Using padding='same' with even kernel lengths and odd dilation may require a zero-padded copy of the input be created (Triggered internally at  ../aten/src/ATen/native/Convolution.cpp:647.)\n",
            "  self.padding, self.dilation, self.groups)\n"
          ]
        }
      ],
      "source": [
        "model = CNN(len(id2word), len(id2symbol), 64, 8, model_embs)\n",
        "output = model(sym_batch, words_batch)\n",
        "print(output)"
      ]
    },
    {
      "cell_type": "code",
      "execution_count": 46,
      "metadata": {
        "id": "CBWdfROdQK5v",
        "colab": {
          "base_uri": "https://localhost:8080/"
        },
        "outputId": "02469a16-128c-421a-877c-0940e93cda7c"
      },
      "outputs": [
        {
          "output_type": "execute_result",
          "data": {
            "text/plain": [
              "tensor(0.7947, grad_fn=<BinaryCrossEntropyBackward0>)"
            ]
          },
          "metadata": {},
          "execution_count": 46
        }
      ],
      "source": [
        "loss = nn.BCELoss()\n",
        "loss(output, y)"
      ]
    },
    {
      "cell_type": "code",
      "execution_count": 47,
      "metadata": {
        "id": "q73ELWxPzjtZ",
        "colab": {
          "base_uri": "https://localhost:8080/"
        },
        "outputId": "127d3af7-223c-4e64-8eab-65ddfbd627a8"
      },
      "outputs": [
        {
          "output_type": "execute_result",
          "data": {
            "text/plain": [
              "tensor(0.)"
            ]
          },
          "metadata": {},
          "execution_count": 47
        }
      ],
      "source": [
        "f1(output, y.long())"
      ]
    },
    {
      "cell_type": "markdown",
      "metadata": {
        "id": "cYz0OzYT1vt1"
      },
      "source": [
        "### training loop, логика обучения и валидации"
      ]
    },
    {
      "cell_type": "markdown",
      "metadata": {
        "id": "K8sZOK7Kvk7o"
      },
      "source": [
        "теперь нам нужны функции для обучения и валидации,\n",
        "каждый вызов функции - одна эпоха обучения \n",
        "\n",
        "За одну эпоху нам надо для каждого батча:\n",
        "\n",
        "-- применить к нему модель, \n",
        "\n",
        "-- посчитать значение функции потерь, \n",
        "\n",
        "-- посчитать градиенты,\n",
        "\n",
        "-- обновить веса (параметры модели)\n"
      ]
    },
    {
      "cell_type": "code",
      "execution_count": 48,
      "metadata": {
        "id": "BVKQzPPI1seJ"
      },
      "outputs": [],
      "source": [
        "def train(model, iterator, optimizer, criterion):\n",
        "    epoch_loss = 0 # для подсчета среднего лосса на всех батчах\n",
        "\n",
        "    model.train()  # ставим модель в обучение, явно указываем, что сейчас надо будет хранить градиенты у всех весов\n",
        "\n",
        "    for i, (words_batch, sym_batch, ys) in enumerate(iterator): #итерируемся по батчам\n",
        "        optimizer.zero_grad()  #обнуляем градиенты\n",
        "        preds = model(sym_batch, words_batch)  #прогоняем данные через модель\n",
        "        loss = criterion(preds, ys) #считаем значение функции потерь  \n",
        "        loss.backward() #считаем градиенты  \n",
        "        optimizer.step() #обновляем веса \n",
        "        epoch_loss += loss.item() #сохраняем значение функции потерь\n",
        "        if not (i + 1) % int(len(iterator)/5):\n",
        "            print(f'Train loss: {epoch_loss/i}')      \n",
        "    return  epoch_loss / len(iterator) # возвращаем среднее значение лосса по всей выборке"
      ]
    },
    {
      "cell_type": "code",
      "execution_count": 49,
      "metadata": {
        "id": "EPfO7p9x1seK"
      },
      "outputs": [],
      "source": [
        "def evaluate(model, iterator, criterion):\n",
        "    epoch_loss = 0\n",
        "    epoch_metric = 0\n",
        "    model.eval() \n",
        "    with torch.no_grad():\n",
        "        for i, (words_batch, sym_batch, ys) in enumerate(iterator):   \n",
        "            preds = model(sym_batch, words_batch)  # делаем предсказания на тесте\n",
        "            loss = criterion(preds, ys)   # считаем значения функции ошибки для статистики  \n",
        "            epoch_loss += loss.item()\n",
        "            batch_metric = f1(preds.round().long(), ys.long(), ignore_index=0)\n",
        "            epoch_metric += batch_metric\n",
        "\n",
        "            if not (i + 1) % int(len(iterator)/5):\n",
        "                print(f'Val loss: {epoch_loss/i}, Val f1: {epoch_metric/i}')\n",
        "        \n",
        "    return epoch_metric / len(iterator), epoch_loss / len(iterator) # возвращаем среднее значение по всей выборке"
      ]
    },
    {
      "cell_type": "markdown",
      "metadata": {
        "id": "VRoSupMNQsvF"
      },
      "source": [
        "### инициализируем модель, задаем оптимизатор и функцию потерь"
      ]
    },
    {
      "cell_type": "code",
      "execution_count": 50,
      "metadata": {
        "id": "WO35IZES1seL"
      },
      "outputs": [],
      "source": [
        "model = CNN(len(id2word), len(id2symbol), 64, 8, model_embs)\n",
        "optimizer = optim.Adam(model.parameters(), lr=0.0001)\n",
        "criterion = nn.BCELoss()\n",
        "\n",
        "# веса модели и значения лосса храним там же, где и все остальные тензоры\n",
        "model = model.to(DEVICE)\n",
        "criterion = criterion.to(DEVICE)"
      ]
    },
    {
      "cell_type": "markdown",
      "metadata": {
        "id": "3kHbVX0y1seL"
      },
      "source": [
        "### запуск обучения!"
      ]
    },
    {
      "cell_type": "code",
      "execution_count": 51,
      "metadata": {
        "id": "boMAjlVM1seM",
        "colab": {
          "base_uri": "https://localhost:8080/"
        },
        "outputId": "4873192d-3ce6-4f18-a838-701249c21067"
      },
      "outputs": [
        {
          "output_type": "stream",
          "name": "stdout",
          "text": [
            "\n",
            "starting Epoch 0\n",
            "Training...\n",
            "Train loss: 0.690353674092416\n",
            "Train loss: 0.6703853271523929\n",
            "Train loss: 0.6473116365785387\n",
            "Train loss: 0.6226895614353428\n",
            "Train loss: 0.6004187614933568\n",
            "\n",
            "Evaluating on train...\n",
            "Val loss: 0.5127219602300672, Val f1: 0.6927748918533325\n",
            "Val loss: 0.5095793652919031, Val f1: 0.6938854455947876\n",
            "Val loss: 0.5097401025144416, Val f1: 0.6908287405967712\n",
            "Val loss: 0.5109620019621918, Val f1: 0.6904246807098389\n",
            "Val loss: 0.5105098274233768, Val f1: 0.6912746429443359\n",
            "\n",
            "Evaluating on test...\n",
            "Val loss: 0.5185513807667627, Val f1: 0.6892072558403015\n",
            "Val loss: 0.5194533469492219, Val f1: 0.6841261982917786\n",
            "Val loss: 0.517052515279456, Val f1: 0.6845345497131348\n",
            "Val loss: 0.516956379455317, Val f1: 0.6827985644340515\n",
            "Val loss: 0.5167353170785356, Val f1: 0.6845653653144836\n",
            "\n",
            "starting Epoch 1\n",
            "Training...\n",
            "Train loss: 0.4831186503831751\n",
            "Train loss: 0.47093223695930797\n",
            "Train loss: 0.46173421721859703\n",
            "Train loss: 0.4559814846499183\n",
            "Train loss: 0.4484006940286302\n",
            "\n",
            "Evaluating on train...\n",
            "Val loss: 0.4215075941103411, Val f1: 0.7549463510513306\n",
            "Val loss: 0.42109280407154065, Val f1: 0.753937304019928\n",
            "Val loss: 0.422006858178673, Val f1: 0.7526769638061523\n",
            "Val loss: 0.42199318888603626, Val f1: 0.7529343962669373\n",
            "Val loss: 0.4216814785097659, Val f1: 0.7533819079399109\n",
            "\n",
            "Evaluating on test...\n",
            "Val loss: 0.43307866476200246, Val f1: 0.7503439784049988\n",
            "Val loss: 0.4341375170158724, Val f1: 0.7434126734733582\n",
            "Val loss: 0.4317066585988319, Val f1: 0.7447394728660583\n",
            "Val loss: 0.43144287901688677, Val f1: 0.742888331413269\n",
            "Val loss: 0.43100169502933877, Val f1: 0.7436084151268005\n",
            "\n",
            "starting Epoch 2\n",
            "Training...\n",
            "Train loss: 0.4128567163464768\n",
            "Train loss: 0.40780619610839175\n",
            "Train loss: 0.4052885546548068\n",
            "Train loss: 0.403450368221923\n",
            "Train loss: 0.4002112389851688\n",
            "\n",
            "Evaluating on train...\n",
            "Val loss: 0.40203049284065784, Val f1: 0.750055193901062\n",
            "Val loss: 0.400755075787619, Val f1: 0.7508043646812439\n",
            "Val loss: 0.39985779945621913, Val f1: 0.751401424407959\n",
            "Val loss: 0.39936961092223006, Val f1: 0.7528871893882751\n",
            "Val loss: 0.3996330202174872, Val f1: 0.7519098520278931\n",
            "\n",
            "Evaluating on test...\n",
            "Val loss: 0.41335292833822745, Val f1: 0.7436504364013672\n",
            "Val loss: 0.41507129112732805, Val f1: 0.7393640279769897\n",
            "Val loss: 0.4123258276565655, Val f1: 0.7398670315742493\n",
            "Val loss: 0.41187578365618355, Val f1: 0.7397650480270386\n",
            "Val loss: 0.411333538054191, Val f1: 0.7411482334136963\n",
            "\n",
            "starting Epoch 3\n",
            "Training...\n",
            "Train loss: 0.3816566769707247\n",
            "Train loss: 0.38147445049154044\n",
            "Train loss: 0.38067872279508985\n",
            "Train loss: 0.37882826854451246\n",
            "Train loss: 0.3765156144823937\n",
            "\n",
            "Evaluating on train...\n",
            "Val loss: 0.378557142131443, Val f1: 0.7780135273933411\n",
            "Val loss: 0.37809095386810565, Val f1: 0.7768441438674927\n",
            "Val loss: 0.37848411678938376, Val f1: 0.7761847972869873\n",
            "Val loss: 0.37819753856304217, Val f1: 0.7759898900985718\n",
            "Val loss: 0.37758642290674244, Val f1: 0.7752123475074768\n",
            "\n",
            "Evaluating on test...\n",
            "Val loss: 0.3926837181603467, Val f1: 0.7722260355949402\n",
            "Val loss: 0.3947574130063567, Val f1: 0.7636392712593079\n",
            "Val loss: 0.39211703631889616, Val f1: 0.7635443806648254\n",
            "Val loss: 0.39162635784013056, Val f1: 0.7628012299537659\n",
            "Val loss: 0.39116910843943986, Val f1: 0.7636555433273315\n",
            "\n",
            "starting Epoch 4\n",
            "Training...\n",
            "Train loss: 0.363571262282639\n",
            "Train loss: 0.3657135026932861\n",
            "Train loss: 0.364382668121441\n",
            "Train loss: 0.3629205915605017\n",
            "Train loss: 0.36242757796384695\n",
            "\n",
            "Evaluating on train...\n",
            "Val loss: 0.36877399559280527, Val f1: 0.7832837104797363\n",
            "Val loss: 0.3671514911997703, Val f1: 0.7822035551071167\n",
            "Val loss: 0.36639268653288815, Val f1: 0.7831900715827942\n",
            "Val loss: 0.36669501507820373, Val f1: 0.782325267791748\n",
            "Val loss: 0.36597014663846683, Val f1: 0.7827335596084595\n",
            "\n",
            "Evaluating on test...\n",
            "Val loss: 0.3823755438681002, Val f1: 0.7778851389884949\n",
            "Val loss: 0.3846969229488795, Val f1: 0.7688364386558533\n",
            "Val loss: 0.3821294049958925, Val f1: 0.769961953163147\n",
            "Val loss: 0.38174501953313805, Val f1: 0.76934415102005\n",
            "Val loss: 0.3813402308192274, Val f1: 0.7704370617866516\n",
            "CPU times: user 4min 50s, sys: 3.91 s, total: 4min 54s\n",
            "Wall time: 4min 52s\n"
          ]
        }
      ],
      "source": [
        "%%time\n",
        "losses = []\n",
        "losses_eval = []\n",
        "f1s = []\n",
        "f1s_eval = []\n",
        "\n",
        "for i in range(5):\n",
        "    print(f'\\nstarting Epoch {i}')\n",
        "    print('Training...')\n",
        "    epoch_loss = train(model, train_iterator, optimizer, criterion)\n",
        "    losses.append(epoch_loss)\n",
        "    print('\\nEvaluating on train...')\n",
        "    f1_on_train,_ = evaluate(model, train_iterator, criterion)\n",
        "    f1s.append(f1_on_train)\n",
        "    print('\\nEvaluating on test...')\n",
        "    f1_on_test, epoch_loss_on_test = evaluate(model, val_iterator, criterion)\n",
        "    losses_eval.append(epoch_loss_on_test)\n",
        "    f1s_eval.append(f1_on_test)"
      ]
    },
    {
      "cell_type": "code",
      "execution_count": 52,
      "metadata": {
        "id": "eH7ws8dXmEn5",
        "scrolled": true,
        "colab": {
          "base_uri": "https://localhost:8080/",
          "height": 295
        },
        "outputId": "83a403e0-dcd3-450b-aa69-edf100330201"
      },
      "outputs": [
        {
          "output_type": "display_data",
          "data": {
            "image/png": "[encoded data removed]",
            "text/plain": [
              "<Figure size 432x288 with 1 Axes>"
            ]
          },
          "metadata": {
            "needs_background": "light"
          }
        }
      ],
      "source": [
        "import matplotlib.pyplot as plt\n",
        "plt.plot(losses)\n",
        "plt.plot(losses_eval)\n",
        "plt.title('BCE loss value')\n",
        "plt.ylabel('BCE loss')\n",
        "plt.xlabel('epoch')\n",
        "plt.legend(['train', 'val'], loc='upper right')\n",
        "plt.show()"
      ]
    },
    {
      "cell_type": "code",
      "execution_count": 53,
      "metadata": {
        "colab": {
          "base_uri": "https://localhost:8080/",
          "height": 295
        },
        "id": "q32B6i6BmGOc",
        "outputId": "26264b8a-476d-4609-bdb1-9db144ac4530"
      },
      "outputs": [
        {
          "output_type": "display_data",
          "data": {
            "image/png": "[encoded data removed]",
            "text/plain": [
              "<Figure size 432x288 with 1 Axes>"
            ]
          },
          "metadata": {
            "needs_background": "light"
          }
        }
      ],
      "source": [
        "import matplotlib.pyplot as plt\n",
        "plt.plot([i.cpu() for i in f1s])\n",
        "plt.plot([i.cpu() for i in f1s_eval])\n",
        "plt.title('f1 value')\n",
        "plt.ylabel('f1 value')\n",
        "plt.xlabel('epoch')\n",
        "plt.legend(['train', 'val'], loc='upper right')\n",
        "plt.show()"
      ]
    },
    {
      "cell_type": "markdown",
      "metadata": {
        "id": "m9GiZw9buGtT"
      },
      "source": [
        ""
      ]
    },
    {
      "cell_type": "markdown",
      "metadata": {
        "id": "hj0-XaCkYz8w"
      },
      "source": [
        "Для анализа ошибок можно посмотреть на те примеры, которые мы (не)правильно предсказываем"
      ]
    },
    {
      "cell_type": "code",
      "execution_count": 62,
      "metadata": {
        "id": "bHtAIt5eCrP5"
      },
      "outputs": [],
      "source": [
        "def predict(model, iterator):\n",
        "    model.eval()\n",
        "    fp = []\n",
        "    fn = []\n",
        "    tp = [] \n",
        "    tn = []\n",
        "    with torch.no_grad():\n",
        "        for i, (words_batch, sym_batch, ys) in enumerate(iterator):   \n",
        "            preds = model(sym_batch, words_batch)  # делаем предсказания на тесте \n",
        "            for pred, gold, text in zip(preds, ys, words_batch):\n",
        "                text = ' '.join([id2word[int(word)] for word in text if word !=0])\n",
        "                if round(pred.item()) > gold:\n",
        "                    fp.append(text)\n",
        "                elif round(pred.item()) < gold:\n",
        "                    fn.append(text)\n",
        "                elif round(pred.item()) == gold == 1:\n",
        "                    tp.append(text)\n",
        "                elif round(pred.item()) == gold == 0:\n",
        "                    tn.append(text)\n",
        "    return fp, fn, tp, tn"
      ]
    },
    {
      "cell_type": "code",
      "execution_count": 63,
      "metadata": {
        "id": "phc1BAE4MKhU"
      },
      "outputs": [],
      "source": [
        "fp, fn, tp, tn = predict(model, val_iterator)"
      ]
    },
    {
      "cell_type": "code",
      "source": [
        "def get_metrics(fp, fn, tp, tn):\n",
        "    all_preds = len(fp) + len(fn) + len(tp) + len(tn)\n",
        "    print('accuracy')\n",
        "    print((len(tp) + len(tn))/all_preds)\n",
        "    print('precision')\n",
        "    print(len(tp)/(len(fp) + len(tp)))\n",
        "    print('recall')\n",
        "    print(len(tp)/(len(fn) + len(tp)))"
      ],
      "metadata": {
        "id": "PLhcYNLw50os"
      },
      "execution_count": 64,
      "outputs": []
    },
    {
      "cell_type": "code",
      "source": [
        "get_metrics(fp, fn, tp, tn)"
      ],
      "metadata": {
        "colab": {
          "base_uri": "https://localhost:8080/"
        },
        "id": "558BvFxf6AYG",
        "outputId": "6e210bb6-f931-46dc-f966-1f290982f35b"
      },
      "execution_count": 65,
      "outputs": [
        {
          "output_type": "stream",
          "name": "stdout",
          "text": [
            "accuracy\n",
            "0.7943110743193524\n",
            "precision\n",
            "0.8799257152805989\n",
            "recall\n",
            "0.6879934658317451\n"
          ]
        }
      ]
    },
    {
      "cell_type": "code",
      "execution_count": 66,
      "metadata": {
        "colab": {
          "base_uri": "https://localhost:8080/"
        },
        "id": "xFiLocEC6dUa",
        "outputId": "586104b3-935f-4399-a4fd-62bacb44034a"
      },
      "outputs": [
        {
          "output_type": "stream",
          "name": "stdout",
          "text": [
            "действительно позитивные: ['вот да ибо мой творческий натура не на простор контакт в :d', 'q посмотреть страница вк :) a', 'дуу бе шд тэ хэхэ дуу :-))', 'весь поздравлять с день администратор :)', ':)', 'он смочь сделать это вечер :-) instantfollowback', 'была вчера в \" \" там целый поляна - \" рождественский звезда \" красотища :)', 'когда он писать в твой тетрадка когда ты это восхитительный :*', 'энэ яасан намайг дээр бсан юм бэ -):-):-', 'мне всегда нравиться парень которые старший меня :d я с ним иногда в вк переписываться но в реал ни разу не разговаривать']\n"
          ]
        }
      ],
      "source": [
        "print('действительно позитивные:', tp[:10])"
      ]
    },
    {
      "cell_type": "code",
      "execution_count": 67,
      "metadata": {
        "colab": {
          "base_uri": "https://localhost:8080/"
        },
        "id": "IeBGHMjm4LBJ",
        "outputId": "6604188c-a946-43d4-de02-ce8df84c07c0"
      },
      "outputs": [
        {
          "output_type": "stream",
          "name": "stdout",
          "text": [
            "ошибочно негативные: ['в принцип дыа но там нужный смотреть в какой именно день мочь уехать', 'exo ~ / /', 'g красота самая главный неё нельзя', 'перед обед был билет я решить выкупить после обед когда вернуться его уже купить теперь волос на себя', 'вот еще один \" вариант \" хотеть незабываемый массаж от кошечка только на русский язык', 'ну не фига тебе так', 'как часто ты — очень редко', 'когда нужно читать по autofollowback', 'думай хотя многие предпочитать дорого но в москва чем доступный и красивый но за мкад комплекс', 'да будет 10 ... жизнь .... а я думать ... .. ладно спасибо тебе']\n"
          ]
        }
      ],
      "source": [
        "print('ошибочно негативные:', fn[:10])"
      ]
    },
    {
      "cell_type": "code",
      "execution_count": 68,
      "metadata": {
        "colab": {
          "base_uri": "https://localhost:8080/"
        },
        "id": "ztrjLRu34e-B",
        "outputId": "6e12ecf6-45b6-4b9b-ecf5-a9588d7a3dab"
      },
      "outputs": [
        {
          "output_type": "stream",
          "name": "stdout",
          "text": [
            "ошибочно позитивные: ['rt это сердечко я посвящать тот кто погибнуть 11 апрель в метро на станция \" октябрьский \"', 'rt смешной', 'и снова мне продать с курица вместо с сыр кстати я снова переход на тот стадия когда мясо уже не казаться еда', 'де болды', 'песня не открыться а так спасибо большой мне очень приятный что вы не забывать обо ❤', 'ушиб позвоночник отдавать во весь часть тело - чувствовать себя даже посуда мой с между кухня и диван', 'rt в голова знание по менеджмент ... %', 'любить его и почему — ne', 'мне понравиться видео \" ft - \" на @youtube', 'давать за ночь килограмм уйти который я с больший труд набирать']\n"
          ]
        }
      ],
      "source": [
        "print('ошибочно позитивные:', fp[:10])"
      ]
    },
    {
      "cell_type": "code",
      "execution_count": 69,
      "metadata": {
        "id": "DZL6OlYcbE9d",
        "colab": {
          "base_uri": "https://localhost:8080/"
        },
        "outputId": "a1e08c4f-63b7-4bff-bbd7-dae1607b3386"
      },
      "outputs": [
        {
          "output_type": "stream",
          "name": "stdout",
          "text": [
            "действительно позитивные: ['здесь стремно такой звук :(', 'ну вот опять :( аж глаз ...', 'бляха шо щас і а вона не', 'короче еще больше чем ожидаться', 'бля зачем я это увидеть', 'мороз стоять жуткий крещение photo путешествие …', 'полночь башка и утро совсем разбить', 'пойти выпью ~ ru_ff ff_ru', 'смотреть концерт и понимать что а мочь я так и не попасть на его концерт', 'блиииин завтра и история']\n"
          ]
        }
      ],
      "source": [
        "print('действительно позитивные:', tn[:10])"
      ]
    },
    {
      "cell_type": "markdown",
      "source": [
        "Не такое качество, как та тех, что с пунктуацией, но гораздо более красиво, чем просто на словах (не лемматизированных и без символов)"
      ],
      "metadata": {
        "id": "Uinypa2sDnJq"
      }
    },
    {
      "cell_type": "code",
      "source": [
        ""
      ],
      "metadata": {
        "id": "dXtMIdrd6eFS"
      },
      "execution_count": null,
      "outputs": []
    }
  ],
  "metadata": {
    "accelerator": "GPU",
    "colab": {
      "collapsed_sections": [],
      "name": "cnn_6-Part5.ipynb",
      "provenance": [],
      "include_colab_link": true
    },
    "kernelspec": {
      "display_name": "Python 3 (ipykernel)",
      "language": "python",
      "name": "python3"
    },
    "language_info": {
      "codemirror_mode": {
        "name": "ipython",
        "version": 3
      },
      "file_extension": ".py",
      "mimetype": "text/x-python",
      "name": "python",
      "nbconvert_exporter": "python",
      "pygments_lexer": "ipython3",
      "version": "3.8.12"
    }
  },
  "nbformat": 4,
  "nbformat_minor": 0
}