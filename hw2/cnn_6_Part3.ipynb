{
  "cells": [
    {
      "cell_type": "markdown",
      "metadata": {
        "id": "view-in-github",
        "colab_type": "text"
      },
      "source": [
        "<a href=\"https://colab.research.google.com/github/Veronika2311/NNmethods_21/blob/main/hw2/cnn_6_Part3.ipynb\" target=\"_parent\"><img src=\"https://colab.research.google.com/assets/colab-badge.svg\" alt=\"Open In Colab\"/></a>"
      ]
    },
    {
      "cell_type": "markdown",
      "metadata": {
        "id": "qyh0knhqJx8u"
      },
      "source": [
        "понятное [видео](https://www.youtube.com/watch?v=bNb2fEVKeEo) со стенфордского курса, из [материалов](https://cs231n.github.io/convolutional-networks) по которому взяты иллюстрации.\n",
        "\n",
        "Датасет из [курса](https://github.com/DanAnastasyev/DeepNLP-Course/blob/master/Week%2004/Week_04_Convolutional_Neural_Networks.ipynb) Даниила Анастасьева.\n",
        "\n",
        "Использовались [материалы](https://github.com/mannefedov/hse_ml_m1/blob/master/7_cnn/cnn.ipynb) из курса Михаила Нефедова."
      ]
    },
    {
      "cell_type": "markdown",
      "metadata": {
        "id": "PdbHKxg6J8Q3"
      },
      "source": [
        "# Сверточный слой"
      ]
    },
    {
      "cell_type": "markdown",
      "metadata": {
        "id": "G20z18IaJ6Y5"
      },
      "source": [
        "\n",
        "\n",
        "\n",
        "Желтое - фильтр (= filter,kernel).\n",
        "\n",
        "Зеленое - входные данные, например, изображение.\n",
        "\n",
        "Розовое - карта активации (activation map).\n",
        "\n",
        "Каждый элемент в розовой матрице - результат поэлементного умножения фильтра на числа из области на входных данных.\n",
        "Обучаемые параметры - элементы фильтра.\n",
        "\n",
        "![Conv](https://image.ibb.co/e6t8ZK/Convolution.gif)\n",
        "\n"
      ]
    },
    {
      "cell_type": "markdown",
      "metadata": {
        "id": "jXNixkx2KHsm"
      },
      "source": [
        "Чтобы не терять размер матрицы используется паддинг.\n",
        "\n",
        "![padding](https://3deep.ru/wp-content/uploads/2020/01/keras_conv2d_padding.gif)\n",
        "\n",
        "from https://3deep.ru/machinelearning/"
      ]
    },
    {
      "cell_type": "markdown",
      "metadata": {
        "id": "qp44YeUKKSem"
      },
      "source": [
        "# Pooling слой  (не обучается)\n",
        "\n",
        "![Pool](https://cs231n.github.io/assets/cnn/pool.jpeg)\n",
        "![maxpool](https://cs231n.github.io/assets/cnn/maxpool.jpeg)"
      ]
    },
    {
      "cell_type": "markdown",
      "metadata": {
        "id": "-VqCU9o5KUmr"
      },
      "source": [
        "# Свертки для текстов устроены немного по-другому. В них на одну размерность меньше.\n",
        "\n",
        "![text-convs](https://image.ibb.co/bC3Xun/2018_03_27_01_24_39.png)\n",
        "\n",
        "From [Character-Aware Neural Language Models](https://arxiv.org/pdf/1508.06615.pdf)"
      ]
    },
    {
      "cell_type": "markdown",
      "metadata": {
        "id": "xXx-iELMKUjt"
      },
      "source": [
        "# CNN для обработки текстов\n",
        "\n"
      ]
    },
    {
      "cell_type": "code",
      "execution_count": 6,
      "metadata": {
        "colab": {
          "base_uri": "https://localhost:8080/"
        },
        "id": "S_LxOOJUyn-E",
        "outputId": "764a69e0-5ec6-4711-9a8e-775981425f0c"
      },
      "outputs": [
        {
          "output_type": "stream",
          "name": "stdout",
          "text": [
            "Collecting torchmetrics\n",
            "  Using cached torchmetrics-0.6.1-py3-none-any.whl (332 kB)\n",
            "Requirement already satisfied: numpy>=1.17.2 in /usr/local/lib/python3.7/dist-packages (from torchmetrics) (1.19.5)\n",
            "Requirement already satisfied: packaging in /usr/local/lib/python3.7/dist-packages (from torchmetrics) (21.3)\n",
            "Requirement already satisfied: torch>=1.3.1 in /usr/local/lib/python3.7/dist-packages (from torchmetrics) (1.10.0+cu111)\n",
            "Requirement already satisfied: typing-extensions in /usr/local/lib/python3.7/dist-packages (from torch>=1.3.1->torchmetrics) (3.10.0.2)\n",
            "Requirement already satisfied: pyparsing!=3.0.5,>=2.0.2 in /usr/local/lib/python3.7/dist-packages (from packaging->torchmetrics) (3.0.6)\n",
            "Installing collected packages: torchmetrics\n",
            "Successfully installed torchmetrics-0.6.1\n"
          ]
        }
      ],
      "source": [
        "!pip install torchmetrics"
      ]
    },
    {
      "cell_type": "code",
      "execution_count": 4,
      "metadata": {
        "colab": {
          "base_uri": "https://localhost:8080/"
        },
        "id": "NovB599mOf9T",
        "outputId": "03857432-2c7b-44c5-898f-2def8cde009b"
      },
      "outputs": [
        {
          "output_type": "stream",
          "name": "stdout",
          "text": [
            "Requirement already satisfied: ipdb in /usr/local/lib/python3.7/dist-packages (0.13.9)\n",
            "Requirement already satisfied: toml>=0.10.2 in /usr/local/lib/python3.7/dist-packages (from ipdb) (0.10.2)\n",
            "Requirement already satisfied: ipython>=7.17.0 in /usr/local/lib/python3.7/dist-packages (from ipdb) (7.30.1)\n",
            "Requirement already satisfied: decorator in /usr/local/lib/python3.7/dist-packages (from ipdb) (4.4.2)\n",
            "Requirement already satisfied: setuptools in /usr/local/lib/python3.7/dist-packages (from ipdb) (57.4.0)\n",
            "Requirement already satisfied: jedi>=0.16 in /usr/local/lib/python3.7/dist-packages (from ipython>=7.17.0->ipdb) (0.18.1)\n",
            "Requirement already satisfied: pickleshare in /usr/local/lib/python3.7/dist-packages (from ipython>=7.17.0->ipdb) (0.7.5)\n",
            "Requirement already satisfied: backcall in /usr/local/lib/python3.7/dist-packages (from ipython>=7.17.0->ipdb) (0.2.0)\n",
            "Requirement already satisfied: matplotlib-inline in /usr/local/lib/python3.7/dist-packages (from ipython>=7.17.0->ipdb) (0.1.3)\n",
            "Requirement already satisfied: traitlets>=4.2 in /usr/local/lib/python3.7/dist-packages (from ipython>=7.17.0->ipdb) (5.1.1)\n",
            "Requirement already satisfied: pexpect>4.3 in /usr/local/lib/python3.7/dist-packages (from ipython>=7.17.0->ipdb) (4.8.0)\n",
            "Requirement already satisfied: pygments in /usr/local/lib/python3.7/dist-packages (from ipython>=7.17.0->ipdb) (2.6.1)\n",
            "Requirement already satisfied: prompt-toolkit!=3.0.0,!=3.0.1,<3.1.0,>=2.0.0 in /usr/local/lib/python3.7/dist-packages (from ipython>=7.17.0->ipdb) (3.0.24)\n",
            "Requirement already satisfied: parso<0.9.0,>=0.8.0 in /usr/local/lib/python3.7/dist-packages (from jedi>=0.16->ipython>=7.17.0->ipdb) (0.8.3)\n",
            "Requirement already satisfied: ptyprocess>=0.5 in /usr/local/lib/python3.7/dist-packages (from pexpect>4.3->ipython>=7.17.0->ipdb) (0.7.0)\n",
            "Requirement already satisfied: wcwidth in /usr/local/lib/python3.7/dist-packages (from prompt-toolkit!=3.0.0,!=3.0.1,<3.1.0,>=2.0.0->ipython>=7.17.0->ipdb) (0.2.5)\n"
          ]
        }
      ],
      "source": [
        "!pip install ipdb"
      ]
    },
    {
      "cell_type": "code",
      "execution_count": 7,
      "metadata": {
        "id": "CgiT9Xow1sd5"
      },
      "outputs": [],
      "source": [
        "import pandas as pd\n",
        "import numpy as np\n",
        "from string import punctuation\n",
        "from collections import Counter\n",
        "\n",
        "from sklearn.model_selection import train_test_split\n",
        "from sklearn.utils import shuffle\n",
        "import torch\n",
        "import torch.nn as nn\n",
        "import torch.nn.functional as F\n",
        "from torch.utils.data import Dataset, DataLoader, RandomSampler, SequentialSampler\n",
        "from torch.nn.utils.rnn import pad_sequence\n",
        "import torch.optim as optim\n",
        "from torchmetrics import F1\n",
        "from torchmetrics.functional import f1, recall\n",
        "import ipdb\n",
        "from tqdm import tqdm"
      ]
    },
    {
      "cell_type": "markdown",
      "metadata": {
        "id": "FfxNXovr1sd6"
      },
      "source": [
        "### Слова\n",
        "\n"
      ]
    },
    {
      "cell_type": "markdown",
      "metadata": {
        "id": "sZtLedfF00Ih"
      },
      "source": [
        "### Скачивание и подготовка данных"
      ]
    },
    {
      "cell_type": "markdown",
      "metadata": {
        "id": "tn2I_otMPRTh"
      },
      "source": [
        "Давайте не будем заново, мы их уже предобработали и в файл сохранили"
      ]
    },
    {
      "cell_type": "code",
      "execution_count": 8,
      "metadata": {
        "id": "-EMB491VPRTi"
      },
      "outputs": [],
      "source": [
        "train_data =  pd.read_csv('train.csv', encoding='utf8')\n",
        "val_data = pd.read_csv('val.csv')"
      ]
    },
    {
      "cell_type": "code",
      "execution_count": 9,
      "metadata": {
        "colab": {
          "base_uri": "https://localhost:8080/"
        },
        "id": "UfA7yoOFA4cm",
        "outputId": "66f8b294-2fb0-4bdb-efe7-1ebb37ac55e3"
      },
      "outputs": [
        {
          "output_type": "execute_result",
          "data": {
            "text/plain": [
              "0.5079447203826343"
            ]
          },
          "metadata": {},
          "execution_count": 9
        }
      ],
      "source": [
        "train_data[train_data.type == 1].shape[0] / train_data.shape[0]"
      ]
    },
    {
      "cell_type": "code",
      "execution_count": 10,
      "metadata": {
        "colab": {
          "base_uri": "https://localhost:8080/",
          "height": 1000
        },
        "id": "45ebLSllFFAW",
        "outputId": "ab462c60-9348-495f-8253-e4bde2e3ce68"
      },
      "outputs": [
        {
          "output_type": "execute_result",
          "data": {
            "text/html": [
              "<div>\n",
              "<style scoped>\n",
              "    .dataframe tbody tr th:only-of-type {\n",
              "        vertical-align: middle;\n",
              "    }\n",
              "\n",
              "    .dataframe tbody tr th {\n",
              "        vertical-align: top;\n",
              "    }\n",
              "\n",
              "    .dataframe thead th {\n",
              "        text-align: right;\n",
              "    }\n",
              "</style>\n",
              "<table border=\"1\" class=\"dataframe\">\n",
              "  <thead>\n",
              "    <tr style=\"text-align: right;\">\n",
              "      <th></th>\n",
              "      <th>Unnamed: 0</th>\n",
              "      <th>text</th>\n",
              "      <th>type</th>\n",
              "      <th>clean_texts</th>\n",
              "    </tr>\n",
              "  </thead>\n",
              "  <tbody>\n",
              "    <tr>\n",
              "      <th>0</th>\n",
              "      <td>0</td>\n",
              "      <td>эх, ехать на репу пора((\\nЗавтра уже выступление.</td>\n",
              "      <td>0</td>\n",
              "      <td>эх , ехать на репа пора ( ( завтра уже выступл...</td>\n",
              "    </tr>\n",
              "    <tr>\n",
              "      <th>1</th>\n",
              "      <td>1</td>\n",
              "      <td>Аллергия вышла,из-за этих тупых мандарин(((((((</td>\n",
              "      <td>0</td>\n",
              "      <td>аллергия выйти , из - за этот тупой мандарин (...</td>\n",
              "    </tr>\n",
              "    <tr>\n",
              "      <th>2</th>\n",
              "      <td>2</td>\n",
              "      <td>@KompaundTone550 @tatysho власть всегда была б...</td>\n",
              "      <td>1</td>\n",
              "      <td>власть всегда была , просто теперь об знать ве...</td>\n",
              "    </tr>\n",
              "    <tr>\n",
              "      <th>3</th>\n",
              "      <td>3</td>\n",
              "      <td>@Alinockaa А хрен, я гулящая пока, потом насиж...</td>\n",
              "      <td>1</td>\n",
              "      <td>а хрен , я пока , потом дома : dd но сегодня я...</td>\n",
              "    </tr>\n",
              "    <tr>\n",
              "      <th>4</th>\n",
              "      <td>4</td>\n",
              "      <td>RT @vik_vans: блин, слушала первый мини-альбом...</td>\n",
              "      <td>0</td>\n",
              "      <td>rt @vik_vans : блин , слушать первый мини - ал...</td>\n",
              "    </tr>\n",
              "    <tr>\n",
              "      <th>5</th>\n",
              "      <td>5</td>\n",
              "      <td>Как же не сделать фото на айфон в зеркале:-D h...</td>\n",
              "      <td>1</td>\n",
              "      <td>как же не сделать фото на айфон в</td>\n",
              "    </tr>\n",
              "    <tr>\n",
              "      <th>6</th>\n",
              "      <td>6</td>\n",
              "      <td>Заебись погулял... Мама пуховик постирала ;((</td>\n",
              "      <td>0</td>\n",
              "      <td>заебись погулял ... мама пуховик постирать ; ( (</td>\n",
              "    </tr>\n",
              "    <tr>\n",
              "      <th>7</th>\n",
              "      <td>7</td>\n",
              "      <td>#HappyBirthdayLouisfromCIS   Почему я мало пиш...</td>\n",
              "      <td>0</td>\n",
              "      <td># почему я мало писать в тви ; ( ( ( (</td>\n",
              "    </tr>\n",
              "    <tr>\n",
              "      <th>8</th>\n",
              "      <td>8</td>\n",
              "      <td>@cobyisnotalone ладно :(\\nмне через полтора ча...</td>\n",
              "      <td>0</td>\n",
              "      <td>ладно :( мне через полтора час только</td>\n",
              "    </tr>\n",
              "    <tr>\n",
              "      <th>9</th>\n",
              "      <td>9</td>\n",
              "      <td>@DashaSone вот да, это было бы идеально! Хочу ...</td>\n",
              "      <td>1</td>\n",
              "      <td>вот да , это было бы идеальный ! хотеть все пр...</td>\n",
              "    </tr>\n",
              "    <tr>\n",
              "      <th>10</th>\n",
              "      <td>10</td>\n",
              "      <td>@imweirdie ты тогда уже ушла:( ПОКАЖУ ПОТОМ,ТЫ...</td>\n",
              "      <td>0</td>\n",
              "      <td>ты тогда уже уйти :( покажу потом , ты , почем...</td>\n",
              "    </tr>\n",
              "    <tr>\n",
              "      <th>11</th>\n",
              "      <td>11</td>\n",
              "      <td>Вчера разговаривала с Лизой и ей вечно что-то ...</td>\n",
              "      <td>1</td>\n",
              "      <td>вчера разговаривать с лиза и ей вечно что - то...</td>\n",
              "    </tr>\n",
              "    <tr>\n",
              "      <th>12</th>\n",
              "      <td>12</td>\n",
              "      <td>Тупо сюжет для новой главы спокойника х) У мен...</td>\n",
              "      <td>1</td>\n",
              "      <td>тупо сюжет для новый глава х ) у меня паника ....</td>\n",
              "    </tr>\n",
              "    <tr>\n",
              "      <th>13</th>\n",
              "      <td>13</td>\n",
              "      <td>@AristocratBlood Сочувствую((( Много уроков?</td>\n",
              "      <td>0</td>\n",
              "      <td>сочувствовать ( ( ( много урок ?</td>\n",
              "    </tr>\n",
              "    <tr>\n",
              "      <th>14</th>\n",
              "      <td>14</td>\n",
              "      <td>@Alina_Evrika Привет! По моей традиции: Мишу т...</td>\n",
              "      <td>1</td>\n",
              "      <td>привет ! по мой традиция : миша тебе ! )</td>\n",
              "    </tr>\n",
              "    <tr>\n",
              "      <th>15</th>\n",
              "      <td>15</td>\n",
              "      <td>@RirenaErena АЮ молчит... Неужели снова недово...</td>\n",
              "      <td>1</td>\n",
              "      <td>@rirenaerena ая молчать ... неужели снова недо...</td>\n",
              "    </tr>\n",
              "    <tr>\n",
              "      <th>16</th>\n",
              "      <td>16</td>\n",
              "      <td>Именно Мыш, именно без мягкого знака. Потому ч...</td>\n",
              "      <td>1</td>\n",
              "      <td>именно , именно без мягкий знак . потому что э...</td>\n",
              "    </tr>\n",
              "    <tr>\n",
              "      <th>17</th>\n",
              "      <td>17</td>\n",
              "      <td>Кепон Кристиана,йоу \\nАхах,очень здорово повес...</td>\n",
              "      <td>1</td>\n",
              "      <td>, йоу ахах , очень здорово повеселиться :d</td>\n",
              "    </tr>\n",
              "    <tr>\n",
              "      <th>18</th>\n",
              "      <td>18</td>\n",
              "      <td>RT @Liza_konoval: @MarinaDegtyar а все благода...</td>\n",
              "      <td>1</td>\n",
              "      <td>rt : а все благодаря , епта :d но спасиба ему :*</td>\n",
              "    </tr>\n",
              "    <tr>\n",
              "      <th>19</th>\n",
              "      <td>19</td>\n",
              "      <td>@mr1garik обычный пневмат)\\nДа, этот всередине...</td>\n",
              "      <td>1</td>\n",
              "      <td>обычный ) да , этот железный а тут )</td>\n",
              "    </tr>\n",
              "    <tr>\n",
              "      <th>20</th>\n",
              "      <td>20</td>\n",
              "      <td>@dmitruksergey много хамства у всех. :( но да,...</td>\n",
              "      <td>0</td>\n",
              "      <td>много у всех . :( но да , на восток больше .</td>\n",
              "    </tr>\n",
              "    <tr>\n",
              "      <th>21</th>\n",
              "      <td>21</td>\n",
              "      <td>RT @Terra_Titanic: Артемикус двоится) http://t...</td>\n",
              "      <td>1</td>\n",
              "      <td>rt : )</td>\n",
              "    </tr>\n",
              "    <tr>\n",
              "      <th>22</th>\n",
              "      <td>22</td>\n",
              "      <td>Новый год к нам мчится! А к вам? Открытки с но...</td>\n",
              "      <td>1</td>\n",
              "      <td>новый год к нам мчаться ! а к вам ? открытка с...</td>\n",
              "    </tr>\n",
              "    <tr>\n",
              "      <th>23</th>\n",
              "      <td>23</td>\n",
              "      <td>RT @TataFjord: Снежинка ты наша, недоделанная:...</td>\n",
              "      <td>1</td>\n",
              "      <td>rt : снежинка ты наш , : ddd # биатлон</td>\n",
              "    </tr>\n",
              "    <tr>\n",
              "      <th>24</th>\n",
              "      <td>24</td>\n",
              "      <td>RT @Malou38irk: Наши показали на Чемпионате Ми...</td>\n",
              "      <td>1</td>\n",
              "      <td>rt : наш показать на чемпионат мир , что сибир...</td>\n",
              "    </tr>\n",
              "    <tr>\n",
              "      <th>25</th>\n",
              "      <td>25</td>\n",
              "      <td>Домой хочу( устала http://t.co/mza46tsUh1</td>\n",
              "      <td>0</td>\n",
              "      <td>домой хотеть ( устать</td>\n",
              "    </tr>\n",
              "    <tr>\n",
              "      <th>26</th>\n",
              "      <td>26</td>\n",
              "      <td>Поговаривают, что Чак Паланик скончался((</td>\n",
              "      <td>0</td>\n",
              "      <td>, что чак скончаться ( (</td>\n",
              "    </tr>\n",
              "    <tr>\n",
              "      <th>27</th>\n",
              "      <td>27</td>\n",
              "      <td>Когда шли домой мы были свидетелями жестокой д...</td>\n",
              "      <td>0</td>\n",
              "      <td>когда идти домой мы были свидетель жестокий др...</td>\n",
              "    </tr>\n",
              "    <tr>\n",
              "      <th>28</th>\n",
              "      <td>28</td>\n",
              "      <td>\"@KyunneyI: че то сегодня Ланды Христофоровны ...</td>\n",
              "      <td>1</td>\n",
              "      <td>\" : че то сегодня не видно \" скоро буду ) )</td>\n",
              "    </tr>\n",
              "    <tr>\n",
              "      <th>29</th>\n",
              "      <td>29</td>\n",
              "      <td>RT @gatizoxifywi: писькой, а я не хочу чтоб он...</td>\n",
              "      <td>0</td>\n",
              "      <td>rt : , а я не хотеть чтоб он меня так называть...</td>\n",
              "    </tr>\n",
              "    <tr>\n",
              "      <th>30</th>\n",
              "      <td>30</td>\n",
              "      <td>RT @tipodupevyl: что то я забыл что на фликре ...</td>\n",
              "      <td>1</td>\n",
              "      <td>rt : что то я забыть что на ещё в пара freebsd...</td>\n",
              "    </tr>\n",
              "    <tr>\n",
              "      <th>31</th>\n",
              "      <td>31</td>\n",
              "      <td>наконец-то приезжает мамуля!после вчерашних со...</td>\n",
              "      <td>0</td>\n",
              "      <td>наконец - то приезжать вчерашний событие боять...</td>\n",
              "    </tr>\n",
              "    <tr>\n",
              "      <th>32</th>\n",
              "      <td>32</td>\n",
              "      <td>Мне попалась манга с типично японским уровнем ...</td>\n",
              "      <td>1</td>\n",
              "      <td>мне попасться манга с японский уровень шизофре...</td>\n",
              "    </tr>\n",
              "    <tr>\n",
              "      <th>33</th>\n",
              "      <td>33</td>\n",
              "      <td>RT @nstkotova: @BelibersTEAM Воу, Воу, Воу))))...</td>\n",
              "      <td>1</td>\n",
              "      <td>rt : воу , воу , воу ) ) ) ) какой ты строгий :d</td>\n",
              "    </tr>\n",
              "    <tr>\n",
              "      <th>34</th>\n",
              "      <td>34</td>\n",
              "      <td>RT @kota_Oo_oO: @anstation @Lump_Your_Head хпх...</td>\n",
              "      <td>0</td>\n",
              "      <td>rt @kota_oo_oo : @anstation меня любить * - *</td>\n",
              "    </tr>\n",
              "    <tr>\n",
              "      <th>35</th>\n",
              "      <td>35</td>\n",
              "      <td>RT @_oolya: @aliya_g_ горячий чай? башкирский ...</td>\n",
              "      <td>1</td>\n",
              "      <td>rt : _ горячий чай ? мёд ? :d</td>\n",
              "    </tr>\n",
              "    <tr>\n",
              "      <th>36</th>\n",
              "      <td>36</td>\n",
              "      <td>@Sovalong на 1 корпусе)который напротив школы)...</td>\n",
              "      <td>1</td>\n",
              "      <td>на 1 напротив на крыша над ёлка стоить )</td>\n",
              "    </tr>\n",
              "    <tr>\n",
              "      <th>37</th>\n",
              "      <td>37</td>\n",
              "      <td>Пора домой... Такая шикарная погода но завтра ...</td>\n",
              "      <td>0</td>\n",
              "      <td>пора домой ... такой шикарный погода но завтра...</td>\n",
              "    </tr>\n",
              "    <tr>\n",
              "      <th>38</th>\n",
              "      <td>38</td>\n",
              "      <td>ураа, нашел цепочку! все отлично)\\n#ухьюстонав...</td>\n",
              "      <td>1</td>\n",
              "      <td>ураа , найти цепочка ! все отличный ) # .</td>\n",
              "    </tr>\n",
              "    <tr>\n",
              "      <th>39</th>\n",
              "      <td>39</td>\n",
              "      <td>RT @Cokolik13: 12 декабря - \"Виктория\"- фестив...</td>\n",
              "      <td>1</td>\n",
              "      <td>rt : 12 декабрь - \" фестиваль добро ! )</td>\n",
              "    </tr>\n",
              "    <tr>\n",
              "      <th>40</th>\n",
              "      <td>40</td>\n",
              "      <td>да,соглашусь с Юрой.\\nЖестокая суббота не толь...</td>\n",
              "      <td>1</td>\n",
              "      <td>да , согласиться с юра . жестокий суббота не т...</td>\n",
              "    </tr>\n",
              "    <tr>\n",
              "      <th>41</th>\n",
              "      <td>41</td>\n",
              "      <td>@desmount @mikhailprigara как это не встречал?...</td>\n",
              "      <td>1</td>\n",
              "      <td>как это не встречать ? ) а диджей ? ) ) )</td>\n",
              "    </tr>\n",
              "    <tr>\n",
              "      <th>42</th>\n",
              "      <td>42</td>\n",
              "      <td>а из-за большой разницы в возрасте с сестренко...</td>\n",
              "      <td>1</td>\n",
              "      <td>а из - за большой разница в возраст с сестрёнк...</td>\n",
              "    </tr>\n",
              "    <tr>\n",
              "      <th>43</th>\n",
              "      <td>43</td>\n",
              "      <td>RT @cujaqyfumyr: Наплодил кучу аккаунтов, а уд...</td>\n",
              "      <td>0</td>\n",
              "      <td>rt : куча аккаунт , а удалить :(</td>\n",
              "    </tr>\n",
              "    <tr>\n",
              "      <th>44</th>\n",
              "      <td>44</td>\n",
              "      <td>@7thousandmiles_ азхахаха, ну да, знаю я твое ...</td>\n",
              "      <td>1</td>\n",
              "      <td>_ , ну да , знать я твой \" немножко \" :d и тем...</td>\n",
              "    </tr>\n",
              "    <tr>\n",
              "      <th>45</th>\n",
              "      <td>45</td>\n",
              "      <td>В любом случае, ты был в пустыне. 3:-) #TeamFo...</td>\n",
              "      <td>1</td>\n",
              "      <td>в любой случай , ты был в пустыня . 3:- ) # te...</td>\n",
              "    </tr>\n",
              "    <tr>\n",
              "      <th>46</th>\n",
              "      <td>46</td>\n",
              "      <td>я точно дочь своей мамы\\nу мамы заболела спина...</td>\n",
              "      <td>0</td>\n",
              "      <td>я точно дочь свой мама у мама заболеть к и мне...</td>\n",
              "    </tr>\n",
              "    <tr>\n",
              "      <th>47</th>\n",
              "      <td>47</td>\n",
              "      <td>@Soukhinov И всё? :) А ты попробовал бы :) Я с...</td>\n",
              "      <td>1</td>\n",
              "      <td>и всё ? :) а ты попробовать бы :) я со свой бу...</td>\n",
              "    </tr>\n",
              "    <tr>\n",
              "      <th>48</th>\n",
              "      <td>48</td>\n",
              "      <td>Q: Привет, ты мне дико нравишься, но я стесняю...</td>\n",
              "      <td>0</td>\n",
              "      <td>q : привет , ты мне дико нравишься , но я стес...</td>\n",
              "    </tr>\n",
              "    <tr>\n",
              "      <th>49</th>\n",
              "      <td>49</td>\n",
              "      <td>RT @Nastia_GD: @_sing_to_me_ @dead_music666 ну...</td>\n",
              "      <td>1</td>\n",
              "      <td>rt @nastia_gd : _ @dead_music666 ну у меня пок...</td>\n",
              "    </tr>\n",
              "  </tbody>\n",
              "</table>\n",
              "</div>"
            ],
            "text/plain": [
              "    Unnamed: 0  ...                                        clean_texts\n",
              "0            0  ...  эх , ехать на репа пора ( ( завтра уже выступл...\n",
              "1            1  ...  аллергия выйти , из - за этот тупой мандарин (...\n",
              "2            2  ...  власть всегда была , просто теперь об знать ве...\n",
              "3            3  ...  а хрен , я пока , потом дома : dd но сегодня я...\n",
              "4            4  ...  rt @vik_vans : блин , слушать первый мини - ал...\n",
              "5            5  ...                  как же не сделать фото на айфон в\n",
              "6            6  ...   заебись погулял ... мама пуховик постирать ; ( (\n",
              "7            7  ...             # почему я мало писать в тви ; ( ( ( (\n",
              "8            8  ...              ладно :( мне через полтора час только\n",
              "9            9  ...  вот да , это было бы идеальный ! хотеть все пр...\n",
              "10          10  ...  ты тогда уже уйти :( покажу потом , ты , почем...\n",
              "11          11  ...  вчера разговаривать с лиза и ей вечно что - то...\n",
              "12          12  ...  тупо сюжет для новый глава х ) у меня паника ....\n",
              "13          13  ...                   сочувствовать ( ( ( много урок ?\n",
              "14          14  ...           привет ! по мой традиция : миша тебе ! )\n",
              "15          15  ...  @rirenaerena ая молчать ... неужели снова недо...\n",
              "16          16  ...  именно , именно без мягкий знак . потому что э...\n",
              "17          17  ...         , йоу ахах , очень здорово повеселиться :d\n",
              "18          18  ...   rt : а все благодаря , епта :d но спасиба ему :*\n",
              "19          19  ...               обычный ) да , этот железный а тут )\n",
              "20          20  ...       много у всех . :( но да , на восток больше .\n",
              "21          21  ...                                             rt : )\n",
              "22          22  ...  новый год к нам мчаться ! а к вам ? открытка с...\n",
              "23          23  ...             rt : снежинка ты наш , : ddd # биатлон\n",
              "24          24  ...  rt : наш показать на чемпионат мир , что сибир...\n",
              "25          25  ...                              домой хотеть ( устать\n",
              "26          26  ...                           , что чак скончаться ( (\n",
              "27          27  ...  когда идти домой мы были свидетель жестокий др...\n",
              "28          28  ...        \" : че то сегодня не видно \" скоро буду ) )\n",
              "29          29  ...  rt : , а я не хотеть чтоб он меня так называть...\n",
              "30          30  ...  rt : что то я забыть что на ещё в пара freebsd...\n",
              "31          31  ...  наконец - то приезжать вчерашний событие боять...\n",
              "32          32  ...  мне попасться манга с японский уровень шизофре...\n",
              "33          33  ...   rt : воу , воу , воу ) ) ) ) какой ты строгий :d\n",
              "34          34  ...      rt @kota_oo_oo : @anstation меня любить * - *\n",
              "35          35  ...                      rt : _ горячий чай ? мёд ? :d\n",
              "36          36  ...           на 1 напротив на крыша над ёлка стоить )\n",
              "37          37  ...  пора домой ... такой шикарный погода но завтра...\n",
              "38          38  ...          ураа , найти цепочка ! все отличный ) # .\n",
              "39          39  ...            rt : 12 декабрь - \" фестиваль добро ! )\n",
              "40          40  ...  да , согласиться с юра . жестокий суббота не т...\n",
              "41          41  ...          как это не встречать ? ) а диджей ? ) ) )\n",
              "42          42  ...  а из - за большой разница в возраст с сестрёнк...\n",
              "43          43  ...                   rt : куча аккаунт , а удалить :(\n",
              "44          44  ...  _ , ну да , знать я твой \" немножко \" :d и тем...\n",
              "45          45  ...  в любой случай , ты был в пустыня . 3:- ) # te...\n",
              "46          46  ...  я точно дочь свой мама у мама заболеть к и мне...\n",
              "47          47  ...  и всё ? :) а ты попробовать бы :) я со свой бу...\n",
              "48          48  ...  q : привет , ты мне дико нравишься , но я стес...\n",
              "49          49  ...  rt @nastia_gd : _ @dead_music666 ну у меня пок...\n",
              "\n",
              "[50 rows x 4 columns]"
            ]
          },
          "metadata": {},
          "execution_count": 10
        }
      ],
      "source": [
        "train_data.head(50)"
      ]
    },
    {
      "cell_type": "markdown",
      "metadata": {
        "id": "L4BPgrwhPRTj"
      },
      "source": [
        "Почему мы можем трогать только train_data? Потому что иначе может попасть что-нибудь из теста. Вероятно, будет не очень заментно, но исключать возможность не стоит, и на уровне слов она больше, чем на уровне символов"
      ]
    },
    {
      "cell_type": "code",
      "execution_count": 11,
      "metadata": {
        "id": "mv496cvLPRTj",
        "outputId": "d3930457-4d51-4a41-c68f-0b4e4e448f8f",
        "colab": {
          "base_uri": "https://localhost:8080/"
        }
      },
      "outputs": [
        {
          "output_type": "stream",
          "name": "stderr",
          "text": [
            "100%|██████████| 173952/173952 [00:00<00:00, 175220.48it/s]"
          ]
        },
        {
          "output_type": "stream",
          "name": "stdout",
          "text": [
            "всего уникальных слов: 18112\n"
          ]
        },
        {
          "output_type": "stream",
          "name": "stderr",
          "text": [
            "\n"
          ]
        }
      ],
      "source": [
        "vocab = Counter()\n",
        "for text in tqdm(train_data['clean_texts']):\n",
        "    vocab.update(str(text).split(' '))\n",
        "print('всего уникальных слов:', len(vocab))"
      ]
    },
    {
      "cell_type": "code",
      "execution_count": 12,
      "metadata": {
        "colab": {
          "base_uri": "https://localhost:8080/"
        },
        "id": "TFlVinuMObSL",
        "outputId": "cb63ec09-252b-4c30-9e8c-73e3e043c077"
      },
      "outputs": [
        {
          "output_type": "execute_result",
          "data": {
            "text/plain": [
              "Counter({'эх': 697,\n",
              "         ',': 143900,\n",
              "         'ехать': 1089,\n",
              "         'на': 28911,\n",
              "         'репа': 23,\n",
              "         'пора': 998,\n",
              "         '(': 117281,\n",
              "         'завтра': 4052,\n",
              "         'уже': 8353,\n",
              "         'выступление': 117,\n",
              "         '.': 45625,\n",
              "         'аллергия': 89,\n",
              "         'выйти': 903,\n",
              "         'из': 5395,\n",
              "         '-': 25650,\n",
              "         'за': 9271,\n",
              "         'этот': 7575,\n",
              "         'тупой': 406,\n",
              "         'мандарин': 88,\n",
              "         'власть': 122,\n",
              "         'всегда': 2344,\n",
              "         'была': 1543,\n",
              "         'просто': 5102,\n",
              "         'теперь': 4287,\n",
              "         'об': 644,\n",
              "         'знать': 5216,\n",
              "         'весь': 9016,\n",
              "         'мир': 742,\n",
              "         'они': 2711,\n",
              "         'сами': 223,\n",
              "         'себя': 3617,\n",
              "         'имидж': 7,\n",
              "         'сделать': 2275,\n",
              "         ')': 111651,\n",
              "         'а': 26921,\n",
              "         'хрен': 203,\n",
              "         'я': 50091,\n",
              "         'пока': 1758,\n",
              "         'потом': 2099,\n",
              "         'дома': 1349,\n",
              "         ':': 38090,\n",
              "         'dd': 947,\n",
              "         'но': 12118,\n",
              "         'сегодня': 6666,\n",
              "         'буду': 3188,\n",
              "         'rt': 26307,\n",
              "         '@vik_vans': 12,\n",
              "         'блин': 3056,\n",
              "         'слушать': 800,\n",
              "         'первый': 2127,\n",
              "         'мини': 58,\n",
              "         'альбом': 208,\n",
              "         'эксо': 16,\n",
              "         'и': 46208,\n",
              "         'как': 17562,\n",
              "         'то': 15161,\n",
              "         'грустно': 61,\n",
              "         'стать': 1664,\n",
              "         'хотеть': 8717,\n",
              "         'эра': 9,\n",
              "         'мама': 2148,\n",
              "         ':(': 24405,\n",
              "         'же': 7588,\n",
              "         'не': 57518,\n",
              "         'фото': 669,\n",
              "         'айфон': 206,\n",
              "         'в': 43404,\n",
              "         'заебись': 111,\n",
              "         'погулял': 13,\n",
              "         '...': 16720,\n",
              "         'пуховик': 27,\n",
              "         'постирать': 12,\n",
              "         ';': 4298,\n",
              "         '#': 14035,\n",
              "         'почему': 3047,\n",
              "         'мало': 809,\n",
              "         'писать': 2238,\n",
              "         'тви': 482,\n",
              "         'ладно': 795,\n",
              "         'мне': 14325,\n",
              "         'через': 1325,\n",
              "         'полтора': 132,\n",
              "         'час': 2219,\n",
              "         'только': 7170,\n",
              "         'вот': 7614,\n",
              "         'да': 7310,\n",
              "         'это': 16628,\n",
              "         'было': 3496,\n",
              "         'бы': 6360,\n",
              "         'идеальный': 203,\n",
              "         '!': 44596,\n",
              "         'все': 9118,\n",
              "         'примерно': 109,\n",
              "         'так': 14631,\n",
              "         'ты': 11883,\n",
              "         'тогда': 1182,\n",
              "         'уйти': 717,\n",
              "         'покажу': 8,\n",
              "         'думаю': 14,\n",
              "         'вчера': 1457,\n",
              "         'разговаривать': 286,\n",
              "         'с': 23064,\n",
              "         'лиза': 91,\n",
              "         'ей': 745,\n",
              "         'вечно': 216,\n",
              "         'что': 29934,\n",
              "         'казаться': 1140,\n",
              "         ':)': 14365,\n",
              "         'чуть': 860,\n",
              "         'обосрали': 8,\n",
              "         'её': 1134,\n",
              "         'остановить': 45,\n",
              "         '&': 788,\n",
              "         'lt;3': 237,\n",
              "         'тупо': 198,\n",
              "         'сюжет': 68,\n",
              "         'для': 3351,\n",
              "         'новый': 3981,\n",
              "         'глава': 85,\n",
              "         'х': 975,\n",
              "         'у': 17236,\n",
              "         'меня': 16752,\n",
              "         'паника': 58,\n",
              "         'орать': 103,\n",
              "         'собака': 314,\n",
              "         'лаять': 9,\n",
              "         'пиздец': 728,\n",
              "         'сочувствовать': 104,\n",
              "         'много': 1664,\n",
              "         'урок': 1409,\n",
              "         '?': 24539,\n",
              "         'привет': 961,\n",
              "         'по': 9821,\n",
              "         'мой': 9192,\n",
              "         'традиция': 94,\n",
              "         'миша': 59,\n",
              "         'тебе': 4445,\n",
              "         '@rirenaerena': 6,\n",
              "         'ая': 11,\n",
              "         'молчать': 122,\n",
              "         'неужели': 225,\n",
              "         'снова': 983,\n",
              "         'недовольный': 36,\n",
              "         'спектакль': 57,\n",
              "         'отзыв': 48,\n",
              "         'вроде': 1061,\n",
              "         'хороший': 5666,\n",
              "         'от': 4627,\n",
              "         'новенький': 63,\n",
              "         'важный': 354,\n",
              "         'именно': 639,\n",
              "         'без': 2695,\n",
              "         'мягкий': 61,\n",
              "         'знак': 94,\n",
              "         'потому': 1315,\n",
              "         'он': 5310,\n",
              "         ':d': 12163,\n",
              "         'йоу': 46,\n",
              "         'ахах': 1221,\n",
              "         'очень': 5722,\n",
              "         'здорово': 71,\n",
              "         'повеселиться': 20,\n",
              "         'благодаря': 94,\n",
              "         'епта': 33,\n",
              "         'спасиба': 14,\n",
              "         'ему': 887,\n",
              "         ':*': 3218,\n",
              "         'обычный': 202,\n",
              "         'железный': 48,\n",
              "         'тут': 2687,\n",
              "         'всех': 1013,\n",
              "         'восток': 20,\n",
              "         'больше': 2482,\n",
              "         'год': 4977,\n",
              "         'к': 5228,\n",
              "         'нам': 1349,\n",
              "         'мчаться': 12,\n",
              "         'вам': 1400,\n",
              "         'открытка': 53,\n",
              "         'новогодний': 917,\n",
              "         'настроение': 2233,\n",
              "         'снежинка': 74,\n",
              "         'наш': 2005,\n",
              "         'ddd': 471,\n",
              "         'биатлон': 116,\n",
              "         'показать': 320,\n",
              "         'чемпионат': 33,\n",
              "         'сибирь': 37,\n",
              "         'тащить': 51,\n",
              "         'домой': 1270,\n",
              "         'устать': 656,\n",
              "         'чак': 12,\n",
              "         'скончаться': 28,\n",
              "         'когда': 6082,\n",
              "         'идти': 2587,\n",
              "         'мы': 5047,\n",
              "         'были': 737,\n",
              "         'свидетель': 14,\n",
              "         'жестокий': 81,\n",
              "         'драка': 27,\n",
              "         'двое': 102,\n",
              "         'одного': 416,\n",
              "         'честно': 392,\n",
              "         'ребят': 337,\n",
              "         '\"': 17467,\n",
              "         'че': 776,\n",
              "         'видно': 282,\n",
              "         'скоро': 1472,\n",
              "         'чтоб': 670,\n",
              "         'называть': 270,\n",
              "         'тебя': 5791,\n",
              "         'забыть': 1330,\n",
              "         'ещё': 2059,\n",
              "         'пара': 1198,\n",
              "         'freebsd': 10,\n",
              "         'закинуть': 34,\n",
              "         'несколько': 363,\n",
              "         'фотка': 900,\n",
              "         'конференция': 65,\n",
              "         'наконец': 738,\n",
              "         'приезжать': 216,\n",
              "         'вчерашний': 224,\n",
              "         'событие': 147,\n",
              "         'бояться': 851,\n",
              "         'вокзал': 109,\n",
              "         'попасться': 79,\n",
              "         'манга': 9,\n",
              "         'японский': 46,\n",
              "         'уровень': 145,\n",
              "         'шизофрения': 10,\n",
              "         'маленький': 716,\n",
              "         'девочка': 776,\n",
              "         'ходить': 1236,\n",
              "         'город': 858,\n",
              "         'приставать': 15,\n",
              "         'мужик': 413,\n",
              "         'проси': 8,\n",
              "         'воу': 194,\n",
              "         'какой': 4728,\n",
              "         'строгий': 20,\n",
              "         '@kota_oo_oo': 42,\n",
              "         '@anstation': 15,\n",
              "         'любить': 4119,\n",
              "         '*': 5136,\n",
              "         '_': 8112,\n",
              "         'горячий': 184,\n",
              "         'чай': 492,\n",
              "         'мёд': 64,\n",
              "         '1': 899,\n",
              "         'напротив': 37,\n",
              "         'крыша': 64,\n",
              "         'над': 412,\n",
              "         'ёлка': 713,\n",
              "         'стоить': 814,\n",
              "         'такой': 8671,\n",
              "         'шикарный': 262,\n",
              "         'погода': 615,\n",
              "         'дело': 1625,\n",
              "         'ураа': 26,\n",
              "         'найти': 1486,\n",
              "         'цепочка': 18,\n",
              "         'отличный': 788,\n",
              "         '12': 356,\n",
              "         'декабрь': 423,\n",
              "         'фестиваль': 32,\n",
              "         'добро': 256,\n",
              "         'согласиться': 96,\n",
              "         'юра': 23,\n",
              "         'суббота': 509,\n",
              "         'него': 1238,\n",
              "         '..': 8735,\n",
              "         'встречать': 189,\n",
              "         'диджей': 15,\n",
              "         'большой': 638,\n",
              "         'разница': 115,\n",
              "         'возраст': 133,\n",
              "         'сестрёнка': 44,\n",
              "         'она': 3500,\n",
              "         'вообще': 3749,\n",
              "         'ребёнок': 812,\n",
              "         'куча': 390,\n",
              "         'аккаунт': 96,\n",
              "         'удалить': 266,\n",
              "         'ну': 9971,\n",
              "         'твой': 1878,\n",
              "         'немножко': 80,\n",
              "         'тем': 529,\n",
              "         'более': 444,\n",
              "         'со': 2393,\n",
              "         'мной': 1015,\n",
              "         'бывать': 712,\n",
              "         'любой': 385,\n",
              "         'случай': 365,\n",
              "         'был': 1748,\n",
              "         'пустыня': 6,\n",
              "         '3:-': 11,\n",
              "         'teamfollowback': 186,\n",
              "         'точно': 931,\n",
              "         'дочь': 75,\n",
              "         'свой': 4170,\n",
              "         'заболеть': 612,\n",
              "         'поправить': 9,\n",
              "         'ниче': 118,\n",
              "         'болеть': 1930,\n",
              "         'всё': 3223,\n",
              "         'попробовать': 211,\n",
              "         'будущий': 73,\n",
              "         'жена': 284,\n",
              "         'тоже': 4112,\n",
              "         'встречаться': 120,\n",
              "         'предложение': 132,\n",
              "         'получиться': 745,\n",
              "         'q': 245,\n",
              "         'дико': 158,\n",
              "         'нравишься': 43,\n",
              "         'стесняться': 55,\n",
              "         'подойти': 163,\n",
              "         'начать': 1002,\n",
              "         'общение': 131,\n",
              "         'a': 321,\n",
              "         '@nastia_gd': 8,\n",
              "         '@dead_music666': 25,\n",
              "         'еще': 6607,\n",
              "         'нет': 6011,\n",
              "         'группа': 544,\n",
              "         'планировать': 124,\n",
              "         'сходить': 667,\n",
              "         'дискотека': 78,\n",
              "         'ли?:d': 9,\n",
              "         'лень': 455,\n",
              "         'учёба': 455,\n",
              "         'решить': 896,\n",
              "         'пойти': 2506,\n",
              "         'нет=': 9,\n",
              "         '):': 96,\n",
              "         'выпускать': 39,\n",
              "         'даже': 4051,\n",
              "         'считать': 405,\n",
              "         'нужный': 2654,\n",
              "         'про': 2301,\n",
              "         'если': 4367,\n",
              "         'кто': 6579,\n",
              "         'им': 557,\n",
              "         'препод': 128,\n",
              "         'красный': 293,\n",
              "         'глаз': 843,\n",
              "         'лицо': 528,\n",
              "         'готовиться': 349,\n",
              "         'круто': 314,\n",
              "         'встретить': 304,\n",
              "         'саша': 278,\n",
              "         'после': 1893,\n",
              "         'прекрасный': 694,\n",
              "         'день': 7904,\n",
              "         'чувствовать': 853,\n",
              "         'везти': 196,\n",
              "         ':-)': 1651,\n",
              "         'ff': 121,\n",
              "         'мать': 252,\n",
              "         'пластиковый': 18,\n",
              "         'стаканчик': 19,\n",
              "         '—': 3543,\n",
              "         'зло': 141,\n",
              "         ':-(': 1114,\n",
              "         'вдруг': 347,\n",
              "         'свалю': 12,\n",
              "         'конечно': 1335,\n",
              "         'приехать': 858,\n",
              "         'пермь': 32,\n",
              "         'ааааааааааааа': 9,\n",
              "         'показывать': 267,\n",
              "         'ответить': 328,\n",
              "         'русский': 635,\n",
              "         'рок': 115,\n",
              "         'спасибо': 3203,\n",
              "         'ответ': 342,\n",
              "         'мочь': 6923,\n",
              "         'поскользнуться': 6,\n",
              "         'ровный': 32,\n",
              "         'место': 1010,\n",
              "         'того': 1062,\n",
              "         'потянуть': 39,\n",
              "         'рука': 1054,\n",
              "         'таки': 1013,\n",
              "         'мило': 158,\n",
              "         'сторона': 372,\n",
              "         '^^': 316,\n",
              "         'самом': 419,\n",
              "         'парень': 1074,\n",
              "         'который': 815,\n",
              "         'косить': 18,\n",
              "         'под': 1346,\n",
              "         'девушка': 928,\n",
              "         'лалка': 20,\n",
              "         'твит': 944,\n",
              "         'потерять': 400,\n",
              "         'муз': 28,\n",
              "         'сл': 7,\n",
              "         'с.': 10,\n",
              "         'песня': 1091,\n",
              "         'написать': 1660,\n",
              "         '…': 2655,\n",
              "         'ахаха': 1071,\n",
              "         'разгадать': 6,\n",
              "         'полгода': 86,\n",
              "         'понадобиться': 34,\n",
              "         'картинка': 327,\n",
              "         'плюс': 178,\n",
              "         'отсутствие': 108,\n",
              "         'заставить': 224,\n",
              "         'задуматься': 53,\n",
              "         'до': 4009,\n",
              "         'свидание': 42,\n",
              "         'личный': 198,\n",
              "         'жизнь': 2476,\n",
              "         'нас': 3286,\n",
              "         'друг': 2059,\n",
              "         'друга': 233,\n",
              "         'понимать': 1523,\n",
              "         'потрудиться': 7,\n",
              "         'удачки': 16,\n",
              "         'там': 3942,\n",
              "         '@onedirection': 6,\n",
              "         'хочуууууу': 10,\n",
              "         ':(((': 2078,\n",
              "         'плохой': 1743,\n",
              "         'гуманитарий': 12,\n",
              "         'раз': 2930,\n",
              "         'о': 3934,\n",
              "         'нами': 226,\n",
              "         'кстати': 916,\n",
              "         'др': 488,\n",
              "         'явно': 167,\n",
              "         'бросать': 52,\n",
              "         'бросить': 173,\n",
              "         'момент': 779,\n",
              "         'нежность': 29,\n",
              "         'всем': 1117,\n",
              "         'доброе': 43,\n",
              "         ';)': 3582,\n",
              "         'нормально': 388,\n",
              "         'начало': 407,\n",
              "         '....': 2654,\n",
              "         'похожий': 557,\n",
              "         'ведь': 1209,\n",
              "         'контрольная': 37,\n",
              "         'матану': 30,\n",
              "         'желание': 560,\n",
              "         'голова': 1395,\n",
              "         'трещит': 16,\n",
              "         '@izmaylovamail': 7,\n",
              "         'говорить': 2698,\n",
              "         'раньше': 833,\n",
              "         'тот': 3665,\n",
              "         'где': 2059,\n",
              "         'появиться': 346,\n",
              "         'дом': 1320,\n",
              "         'ее': 1085,\n",
              "         'вместе': 595,\n",
              "         'ним': 630,\n",
              "         'сжечь': 44,\n",
              "         '@agatacrysty': 7,\n",
              "         'думать': 3056,\n",
              "         'индия': 22,\n",
              "         'коробка': 77,\n",
              "         'россия': 650,\n",
              "         'прохладный': 11,\n",
              "         'особенно': 520,\n",
              "         'зима': 918,\n",
              "         'лента': 834,\n",
              "         'впечатление': 100,\n",
              "         'киев': 221,\n",
              "         'чувство': 723,\n",
              "         'одна': 623,\n",
              "         'провести': 394,\n",
              "         'выходной': 859,\n",
              "         'беларусь': 48,\n",
              "         'очередной': 262,\n",
              "         'нелёгкий': 23,\n",
              "         'победа': 168,\n",
              "         '/': 1738,\n",
              "         '13:00': 9,\n",
              "         'шк': 279,\n",
              "         '№': 68,\n",
              "         'vs': 22,\n",
              "         '42': 21,\n",
              "         'ждать': 1955,\n",
              "         'болельщик': 28,\n",
              "         'десктоп': 8,\n",
              "         'сейчас': 3289,\n",
              "         'прямо': 278,\n",
              "         'чуствую': 10,\n",
              "         'нога': 772,\n",
              "         'тепло': 147,\n",
              "         'сеанс': 36,\n",
              "         '@barabanoanasty': 6,\n",
              "         'давать': 1392,\n",
              "         'проверить': 120,\n",
              "         'способность': 41,\n",
              "         'лягла': 6,\n",
              "         'спать': 2995,\n",
              "         'взять': 801,\n",
              "         'хуя': 39,\n",
              "         'нести': 107,\n",
              "         'ж': 1054,\n",
              "         'добрый': 1604,\n",
              "         'выспаться': 399,\n",
              "         'задавать': 102,\n",
              "         'английский': 452,\n",
              "         'сбыться': 79,\n",
              "         'сказать': 2936,\n",
              "         'даа': 343,\n",
              "         'чем': 1255,\n",
              "         'заниматься': 277,\n",
              "         'вечер': 1688,\n",
              "         'помощь': 289,\n",
              "         '@youtube': 113,\n",
              "         'чувак': 484,\n",
              "         'краб': 7,\n",
              "         'нг': 1199,\n",
              "         'порадовать': 150,\n",
              "         'быть': 6710,\n",
              "         'возможность': 185,\n",
              "         'правильно': 274,\n",
              "         'марс': 64,\n",
              "         'или': 2637,\n",
              "         'иначе': 209,\n",
              "         'ни': 1974,\n",
              "         '10': 873,\n",
              "         'полюбить': 59,\n",
              "         '3': 1703,\n",
              "         'ага': 657,\n",
              "         'када': 7,\n",
              "         'клубника': 15,\n",
              "         'узнать': 573,\n",
              "         'давно': 956,\n",
              "         'известный': 109,\n",
              "         'нее': 598,\n",
              "         'реально': 443,\n",
              "         'бесить': 482,\n",
              "         'ночь': 2158,\n",
              "         'длинный': 143,\n",
              "         'рассвет': 34,\n",
              "         'блять': 699,\n",
              "         '11': 302,\n",
              "         'закат': 35,\n",
              "         '5': 1176,\n",
              "         '21': 114,\n",
              "         'март': 109,\n",
              "         'ох': 526,\n",
              "         'долго': 684,\n",
              "         'один': 2320,\n",
              "         '2х': 25,\n",
              "         'будет': 5011,\n",
              "         'впервые': 204,\n",
              "         'читать': 1375,\n",
              "         'сказка': 159,\n",
              "         'слишком': 629,\n",
              "         'легко': 74,\n",
              "         'отказываться': 74,\n",
              "         'мечтание': 6,\n",
              "         'хотя': 1347,\n",
              "         'вселенная': 37,\n",
              "         'готовый': 453,\n",
              "         'помочь': 578,\n",
              "         'их': 2000,\n",
              "         'осуществить': 12,\n",
              "         '©': 100,\n",
              "         'го': 132,\n",
              "         'отец': 152,\n",
              "         'уходить': 371,\n",
              "         'неизвестный': 58,\n",
              "         'направление': 33,\n",
              "         'хуже': 103,\n",
              "         'ооо': 289,\n",
              "         'the': 165,\n",
              "         'games': 6,\n",
              "         'море': 165,\n",
              "         'эмоция': 191,\n",
              "         'фолловеру': 8,\n",
              "         'поставить': 637,\n",
              "         'смочь': 785,\n",
              "         'тобой': 937,\n",
              "         'отношение': 256,\n",
              "         'построить': 35,\n",
              "         'ложь': 37,\n",
              "         'чтобы': 1868,\n",
              "         'боль': 658,\n",
              "         'нечего': 427,\n",
              "         'делать': 3366,\n",
              "         'код': 71,\n",
              "         'вк': 795,\n",
              "         'работать': 1283,\n",
              "         'праздник': 695,\n",
              "         'приходить': 495,\n",
              "         'вы': 2735,\n",
              "         'попросить': 230,\n",
              "         'дед': 254,\n",
              "         'мороз': 482,\n",
              "         'аххахаха': 18,\n",
              "         'старый': 582,\n",
              "         'милость': 80,\n",
              "         'ностальжи': 10,\n",
              "         'криминал': 16,\n",
              "         'вкус': 171,\n",
              "         'цвет': 262,\n",
              "         'отп': 9,\n",
              "         'разный': 322,\n",
              "         ':3': 825,\n",
              "         'парочка': 66,\n",
              "         'мимими': 80,\n",
              "         'серия': 713,\n",
              "         'сериал': 530,\n",
              "         'перестать': 290,\n",
              "         'смотреть': 2923,\n",
              "         '@z8ss': 18,\n",
              "         '@panovaolga1': 7,\n",
              "         'интересный': 1297,\n",
              "         'пример': 107,\n",
              "         '@to_over_kill': 144,\n",
              "         '@fuck_time01': 13,\n",
              "         'выздоравливай': 30,\n",
              "         'страшный': 684,\n",
              "         'одной': 532,\n",
              "         'свет': 434,\n",
              "         'телевизор': 138,\n",
              "         'скорей': 116,\n",
              "         'дойти': 229,\n",
              "         'письмо': 317,\n",
              "         'милый': 753,\n",
              "         'твиттерских': 48,\n",
              "         'сутки': 128,\n",
              "         'ничто': 2545,\n",
              "         'есть': 789,\n",
              "         'сессия': 462,\n",
              "         'гастрит': 8,\n",
              "         'другую': 103,\n",
              "         'отобрать': 42,\n",
              "         'них': 939,\n",
              "         'огонь': 189,\n",
              "         'поменять': 117,\n",
              "         '2': 2152,\n",
              "         'вопрос': 858,\n",
              "         'будут': 755,\n",
              "         'устный': 16,\n",
              "         'реферат': 65,\n",
              "         '200': 56,\n",
              "         'совет': 136,\n",
              "         '7': 535,\n",
              "         'юля': 113,\n",
              "         '4': 1111,\n",
              "         'человек': 4385,\n",
              "         'автобус': 362,\n",
              "         ':-d': 308,\n",
              "         'ух': 104,\n",
              "         'сколько': 839,\n",
              "         'сонный': 44,\n",
              "         'можно': 2280,\n",
              "         'случайный': 36,\n",
              "         'открытие': 67,\n",
              "         'счастие': 639,\n",
              "         'семь': 67,\n",
              "         'утро': 3025,\n",
              "         'скучать': 1411,\n",
              "         'время': 2958,\n",
              "         'моему': 193,\n",
              "         'нереально': 114,\n",
              "         'крутой': 1398,\n",
              "         'тип': 413,\n",
              "         'которых': 207,\n",
              "         'мотив': 14,\n",
              "         'жить': 1221,\n",
              "         'упасть': 361,\n",
              "         'божественный': 27,\n",
              "         'маникюр': 43,\n",
              "         'разве': 157,\n",
              "         'о_о': 928,\n",
              "         'чёт': 162,\n",
              "         'курс': 318,\n",
              "         'ссылка': 206,\n",
              "         'дс': 6,\n",
              "         'жирный': 162,\n",
              "         'столько': 803,\n",
              "         'поклонник': 30,\n",
              "         'жаль': 1261,\n",
              "         'варик': 11,\n",
              "         'накрыться': 23,\n",
              "         'проводить': 206,\n",
              "         'бесценно': 15,\n",
              "         'весёлый': 763,\n",
              "         'херово': 69,\n",
              "         'горло': 305,\n",
              "         'ужас': 475,\n",
              "         'болит': 21,\n",
              "         'надо': 4221,\n",
              "         'наушник': 261,\n",
              "         'сломать': 220,\n",
              "         'капец': 539,\n",
              "         'папа': 717,\n",
              "         'уехать': 443,\n",
              "         'иркутск': 16,\n",
              "         'аааа': 322,\n",
              "         'посмотреть': 1587,\n",
              "         'редкий': 42,\n",
              "         'гол': 60,\n",
              "         'травма': 60,\n",
              "         'получить': 611,\n",
              "         'прийтись': 684,\n",
              "         'отказаться': 132,\n",
              "         'коммуникатор': 7,\n",
              "         'usb': 27,\n",
              "         'извращенец': 28,\n",
              "         'учебный': 73,\n",
              "         'будни': 62,\n",
              "         'стих': 176,\n",
              "         'трудный': 265,\n",
              "         'отвечать': 360,\n",
              "         '@maslennikovaele': 23,\n",
              "         '@lanafom': 12,\n",
              "         '@avodkin': 16,\n",
              "         '@sasa7844': 18,\n",
              "         '@larisa5826': 13,\n",
              "         '@weelelee': 13,\n",
              "         '@nosensus': 39,\n",
              "         'приветик': 40,\n",
              "         'утречка': 22,\n",
              "         'чо': 396,\n",
              "         'рано': 429,\n",
              "         'встать': 538,\n",
              "         'судить': 185,\n",
              "         'ой': 646,\n",
              "         'мамочка': 86,\n",
              "         'сразу': 913,\n",
              "         'африка': 22,\n",
              "         'босиком': 9,\n",
              "         'круглый': 34,\n",
              "         'воскресение': 277,\n",
              "         'готовить': 286,\n",
              "         'ними': 281,\n",
              "         'практически': 121,\n",
              "         'отмечать': 192,\n",
              "         'путь': 175,\n",
              "         'прийти': 1741,\n",
              "         'сильно': 848,\n",
              "         'эффект': 54,\n",
              "         'убедить': 19,\n",
              "         'том': 555,\n",
              "         'улыбаться': 186,\n",
              "         'выбраться': 24,\n",
              "         'печаль': 358,\n",
              "         'настроить': 49,\n",
              "         'задолбался': 7,\n",
              "         'при': 651,\n",
              "         'ошибка': 235,\n",
              "         'блииин': 172,\n",
              "         '@evgenii__9833': 10,\n",
              "         'тройка': 105,\n",
              "         'ща': 210,\n",
              "         'семья': 323,\n",
              "         'вид': 350,\n",
              "         'школа': 2440,\n",
              "         'штука': 189,\n",
              "         'ш': 24,\n",
              "         'г': 108,\n",
              "         'сам': 676,\n",
              "         'экран': 137,\n",
              "         'понедельник': 552,\n",
              "         'два': 1678,\n",
              "         'неделя': 1538,\n",
              "         'остаться': 1347,\n",
              "         'каникулы': 458,\n",
              "         'работка': 16,\n",
              "         'расстроить': 128,\n",
              "         'купить': 1469,\n",
              "         'подарок': 910,\n",
              "         'деньга': 857,\n",
              "         'снять': 211,\n",
              "         'заказ': 84,\n",
              "         'отменить': 115,\n",
              "         'позвонить': 412,\n",
              "         'танцуй': 9,\n",
              "         'молодой': 123,\n",
              "         'рай': 67,\n",
              "         '-они': 6,\n",
              "         'его': 3780,\n",
              "         'кушать': 293,\n",
              "         '-ага': 9,\n",
              "         '-да': 70,\n",
              "         'физика': 342,\n",
              "         'собираться': 553,\n",
              "         'лечь': 281,\n",
              "         'общий': 359,\n",
              "         'ожидание': 130,\n",
              "         'чудесный': 154,\n",
              "         'засесть': 19,\n",
              "         'мозг': 448,\n",
              "         'доставлять': 45,\n",
              "         'некий': 50,\n",
              "         'интерес': 73,\n",
              "         'обидно': 35,\n",
              "         'просрали': 14,\n",
              "         'путин': 217,\n",
              "         '“': 716,\n",
              "         'самое': 804,\n",
              "         'тяжёлый': 448,\n",
              "         'позади': 26,\n",
              "         'пик': 22,\n",
              "         'кризис': 40,\n",
              "         'преодолеть': 9,\n",
              "         'поверить': 170,\n",
              "         'слово': 1061,\n",
              "         'всёё': 7,\n",
              "         'будешь': 491,\n",
              "         'исполнять': 19,\n",
              "         'кое': 195,\n",
              "         'палец': 272,\n",
              "         'понять': 1563,\n",
              "         'прочитать': 339,\n",
              "         'сборник': 21,\n",
              "         'последний': 1727,\n",
              "         'дальше': 466,\n",
              "         'прощать': 101,\n",
              "         'железнодорожный': 11,\n",
              "         'район': 139,\n",
              "         'октябрьский': 12,\n",
              "         'ремонт': 125,\n",
              "         'помнишь': 25,\n",
              "         'ко': 571,\n",
              "         'многим': 31,\n",
              "         'должный': 977,\n",
              "         'работа': 1812,\n",
              "         'убить': 436,\n",
              "         'дк': 31,\n",
              "         'никто': 1768,\n",
              "         'присутствовать': 29,\n",
              "         'приносить': 58,\n",
              "         'запустить': 51,\n",
              "         'android': 37,\n",
              "         'моём': 58,\n",
              "         'особый': 61,\n",
              "         'запускать': 33,\n",
              "         'ем': 106,\n",
              "         'норма': 631,\n",
              "         'никак': 568,\n",
              "         'сука': 439,\n",
              "         'видеть': 1733,\n",
              "         'шлюху': 12,\n",
              "         'тонна': 38,\n",
              "         'штукатурка': 7,\n",
              "         'o_o': 391,\n",
              "         'текст': 173,\n",
              "         'война': 121,\n",
              "         'жесть': 223,\n",
              "         ':|': 597,\n",
              "         'пройти': 1017,\n",
              "         'психический': 8,\n",
              "         'срыв': 16,\n",
              "         'психолог': 40,\n",
              "         'ок': 333,\n",
              "         'попасть': 399,\n",
              "         'лапа': 29,\n",
              "         'рождение': 903,\n",
              "         'начинаться': 302,\n",
              "         'ми': 94,\n",
              "         'продаваться': 43,\n",
              "         'женский': 133,\n",
              "         'часик': 48,\n",
              "         '50': 183,\n",
              "         'доллар': 40,\n",
              "         'недавно': 264,\n",
              "         'магазин': 548,\n",
              "         'вывод': 104,\n",
              "         'сегодняшний': 252,\n",
              "         'доверять': 65,\n",
              "         'сердце': 457,\n",
              "         'счастливый': 557,\n",
              "         'заметить': 387,\n",
              "         'снимать': 194,\n",
              "         'смеяться': 281,\n",
              "         'посмеяться': 72,\n",
              "         'уметь': 543,\n",
              "         'гладить': 28,\n",
              "         'погладить': 19,\n",
              "         'остальное': 92,\n",
              "         'разу': 176,\n",
              "         'коллега': 102,\n",
              "         'сломаться': 132,\n",
              "         'телефон': 1203,\n",
              "         'связь': 117,\n",
              "         'ин': 26,\n",
              "         'ааа': 476,\n",
              "         'больно': 407,\n",
              "         'слеза': 295,\n",
              "         'стартовать': 17,\n",
              "         'догонишь': 6,\n",
              "         'пролежать': 11,\n",
              "         '15': 367,\n",
              "         'превратиться': 54,\n",
              "         'топ': 62,\n",
              "         'больший': 399,\n",
              "         'часть': 407,\n",
              "         'трек': 136,\n",
              "         'полный': 523,\n",
              "         'хрень': 184,\n",
              "         'осознать': 51,\n",
              "         '8': 578,\n",
              "         'дежурить': 42,\n",
              "         'баскетбол': 41,\n",
              "         'ночевать': 42,\n",
              "         'сидеть': 2511,\n",
              "         'пиво': 183,\n",
              "         'рыбка': 36,\n",
              "         'трансляция': 74,\n",
              "         'презентация': 78,\n",
              "         'apple': 63,\n",
              "         'смешной': 461,\n",
              "         'беспалевно': 10,\n",
              "         'пытаться': 498,\n",
              "         'потихоньку': 50,\n",
              "         'свалить': 86,\n",
              "         'квартира': 362,\n",
              "         'нибудь': 1341,\n",
              "         'вас': 1693,\n",
              "         'называться': 200,\n",
              "         'начальный': 19,\n",
              "         'молодёжный': 12,\n",
              "         'новость': 548,\n",
              "         'уж': 920,\n",
              "         'нравиться': 1419,\n",
              "         '=(': 1083,\n",
              "         'витамин': 17,\n",
              "         'позитив': 79,\n",
              "         'цветочки': 26,\n",
              "         'ласка': 11,\n",
              "         'познать': 10,\n",
              "         'постараться': 121,\n",
              "         'растянуть': 17,\n",
              "         'подольше': 19,\n",
              "         'ожидать': 237,\n",
              "         'перемена': 75,\n",
              "         '30': 378,\n",
              "         'мина': 119,\n",
              "         'кончатся': 6,\n",
              "         'кой': 49,\n",
              "         'мера': 113,\n",
              "         'принимать': 124,\n",
              "         'счёт': 198,\n",
              "         'основный': 117,\n",
              "         'масса': 36,\n",
              "         'причина': 193,\n",
              "         'суть': 103,\n",
              "         'женщина': 452,\n",
              "         'всему': 81,\n",
              "         'занять': 288,\n",
              "         'область': 66,\n",
              "         'опять': 1931,\n",
              "         'засмеяться': 10,\n",
              "         'результат': 201,\n",
              "         'улыбнуло': 42,\n",
              "         'читайменяаятебя': 19,\n",
              "         'разрушить': 30,\n",
              "         'гараж': 31,\n",
              "         'идеален': 7,\n",
              "         'улица': 1045,\n",
              "         'красивый': 839,\n",
              "         'холодный': 608,\n",
              "         'каждый': 1528,\n",
              "         'надоесть': 321,\n",
              "         'жуть': 38,\n",
              "         'куда': 886,\n",
              "         'оставаться': 257,\n",
              "         'интернет': 609,\n",
              "         'мальчик': 452,\n",
              "         'смс': 159,\n",
              "         'дорого': 45,\n",
              "         'промолчу': 9,\n",
              "         'звонок': 181,\n",
              "         'волнение': 28,\n",
              "         'меньше': 324,\n",
              "         'привыкать': 48,\n",
              "         '@horan_mister': 9,\n",
              "         'скучный': 611,\n",
              "         't': 150,\n",
              "         ':((': 1941,\n",
              "         'сфоткали': 7,\n",
              "         'танцевать': 233,\n",
              "         'тайный': 37,\n",
              "         'фотограф': 52,\n",
              "         '♥': 446,\n",
              "         'никогда': 1243,\n",
              "         'зафолловит': 7,\n",
              "         '@tokiohotel': 13,\n",
              "         'tokiohotelfollowspree': 17,\n",
              "         'приятный': 1074,\n",
              "         'дата': 136,\n",
              "         'крайний': 98,\n",
              "         'любимый': 1855,\n",
              "         'обычно': 424,\n",
              "         'н': 125,\n",
              "         'шерлок': 199,\n",
              "         ...})"
            ]
          },
          "metadata": {},
          "execution_count": 12
        }
      ],
      "source": [
        "vocab"
      ]
    },
    {
      "cell_type": "code",
      "execution_count": 13,
      "metadata": {
        "colab": {
          "base_uri": "https://localhost:8080/"
        },
        "id": "0wKHM_LU1seA",
        "outputId": "fa4be27f-e189-4795-ed25-176b258ed4c3"
      },
      "outputs": [
        {
          "output_type": "stream",
          "name": "stdout",
          "text": [
            "уникальных слов, встретившихся больше 5 раз: 18112\n"
          ]
        }
      ],
      "source": [
        "filtered_vocab = set()\n",
        "\n",
        "for word in vocab:\n",
        "    if vocab[word] > 5:\n",
        "        filtered_vocab.add(word)\n",
        "    else:\n",
        "        print(word) # мы всё в препроцессинге удалили\n",
        "print('уникальных слов, встретившихся больше 5 раз:', len(filtered_vocab))"
      ]
    },
    {
      "cell_type": "code",
      "execution_count": 14,
      "metadata": {
        "id": "BEUhJv5N1seC"
      },
      "outputs": [],
      "source": [
        "#создаем словарь с индексами symbol2id, для спецсимвола паддинга дефолтный индекс - 0\n",
        "word2id = {'PAD':0}\n",
        "\n",
        "for symbol in filtered_vocab:\n",
        "    word2id[symbol] = len(word2id)"
      ]
    },
    {
      "cell_type": "code",
      "execution_count": 15,
      "metadata": {
        "id": "P6J89I9d1seC"
      },
      "outputs": [],
      "source": [
        "#обратный словарь для того, чтобы раскодировать последовательность\n",
        "id2word = {i:word for word, i in word2id.items()}"
      ]
    },
    {
      "cell_type": "code",
      "execution_count": 16,
      "metadata": {
        "colab": {
          "base_uri": "https://localhost:8080/"
        },
        "id": "YrzM7MnCQeP_",
        "outputId": "99ae8cb1-1149-41cb-ea5b-bc4405d1d0b0"
      },
      "outputs": [
        {
          "output_type": "execute_result",
          "data": {
            "text/plain": [
              "device(type='cuda')"
            ]
          },
          "metadata": {},
          "execution_count": 16
        }
      ],
      "source": [
        "DEVICE = torch.device('cuda') if torch.cuda.is_available() else torch.device('cpu')\n",
        "DEVICE"
      ]
    },
    {
      "cell_type": "code",
      "execution_count": 17,
      "metadata": {
        "id": "eOhbAqHqPRTk",
        "outputId": "8aa5a68a-95fb-46e5-a99d-cca92b5c5427",
        "colab": {
          "base_uri": "https://localhost:8080/"
        }
      },
      "outputs": [
        {
          "output_type": "execute_result",
          "data": {
            "text/plain": [
              "390"
            ]
          },
          "metadata": {},
          "execution_count": 17
        }
      ],
      "source": [
        "word2id[')'] # у нас есть скобочки, и это важно"
      ]
    },
    {
      "cell_type": "markdown",
      "metadata": {
        "id": "1zWSBISuPRTk"
      },
      "source": [
        "## Эмбеддинги"
      ]
    },
    {
      "cell_type": "markdown",
      "metadata": {
        "id": "ou-ebMLkPRTk"
      },
      "source": [
        "Фасттекст так фасттекст, давайте возьмём для него леммы"
      ]
    },
    {
      "cell_type": "code",
      "execution_count": 18,
      "metadata": {
        "id": "PafCSCZVPRTk"
      },
      "outputs": [],
      "source": [
        "from gensim.models import FastText"
      ]
    },
    {
      "cell_type": "code",
      "execution_count": 19,
      "metadata": {
        "id": "OBerAQZrPRTk"
      },
      "outputs": [],
      "source": [
        "fasttext_data = [str(i) for i in train_data['clean_texts'].tolist()]"
      ]
    },
    {
      "cell_type": "code",
      "execution_count": 20,
      "metadata": {
        "id": "vQvDix1wPRTl"
      },
      "outputs": [],
      "source": [
        "model_fasttext = FastText(fasttext_data, size=64, window=5, min_count=5)"
      ]
    },
    {
      "cell_type": "code",
      "execution_count": 21,
      "metadata": {
        "collapsed": true,
        "id": "Upq2d4KHPRTl"
      },
      "outputs": [],
      "source": [
        "#model_fasttext.wv[')'] #есть скобочки в модели!"
      ]
    },
    {
      "cell_type": "code",
      "execution_count": 21,
      "metadata": {
        "id": "qjGjP9YFPRTl"
      },
      "outputs": [],
      "source": [
        ""
      ]
    },
    {
      "cell_type": "code",
      "execution_count": 22,
      "metadata": {
        "id": "7cOGYoYWPRTl",
        "outputId": "3e924d1b-46f1-4bb6-ef3f-a2589314a317",
        "colab": {
          "base_uri": "https://localhost:8080/"
        }
      },
      "outputs": [
        {
          "output_type": "stream",
          "name": "stdout",
          "text": [
            "18113\n"
          ]
        }
      ],
      "source": [
        "model_embs = np.zeros((len(word2id), 64))\n",
        "dict_of_non_wodel_embs = {} # логичнее для одинаковых слов использовать одинаковые эмбеддинги\n",
        "len_non_model_words  = 0\n",
        "# почему не случайные? потому что сейчас менять будем\n",
        "for word, i in word2id.items():\n",
        "    try:\n",
        "        model_embs[i] = ft.wv[word]\n",
        "    except:\n",
        "        len_non_model_words += 1\n",
        "        if word in dict_of_non_wodel_embs.keys():\n",
        "            emb = dict_of_non_wodel_embs[word]\n",
        "        else:\n",
        "            emb = np.random.normal(0, 0.05, 64)\n",
        "            dict_of_non_wodel_embs[word] = emb\n",
        "        model_embs[i] = emb\n",
        "print(len_non_model_words)"
      ]
    },
    {
      "cell_type": "markdown",
      "metadata": {
        "id": "obiXRWLt1OZJ"
      },
      "source": [
        "### Dataset & DataLoader"
      ]
    },
    {
      "cell_type": "code",
      "execution_count": 23,
      "metadata": {
        "id": "FMs4ZohJ1seI"
      },
      "outputs": [],
      "source": [
        "class TweetsDataset(Dataset):\n",
        "\n",
        "    def __init__(self, dataset, word2id, DEVICE):\n",
        "        self.dataset = [str(i) for i in dataset['clean_texts'].values]\n",
        "        self.word2id = word2id\n",
        "        self.length = dataset.shape[0]\n",
        "        self.target = dataset['type'].values\n",
        "        self.device = DEVICE\n",
        "\n",
        "    def __len__(self):\n",
        "        return self.length\n",
        "\n",
        "    def __getitem__(self, index): \n",
        "        words = self.dataset[index].split(' ')\n",
        "        ids = torch.LongTensor([self.word2id[word.lower()] for word in words if word.lower() in self.word2id])\n",
        "        y = [self.target[index]]\n",
        "        return ids, y\n",
        "\n",
        "    def collate_fn(self, batch): #этот метод можно реализовывать и отдельно,\n",
        "    # он понадобится для DataLoader во время итерации по батчам\n",
        "        ids, y = list(zip(*batch))\n",
        "        padded_ids = pad_sequence(ids, batch_first=True).to(self.device)\n",
        "        y = torch.Tensor(y).to(self.device)\n",
        "        return padded_ids, y"
      ]
    },
    {
      "cell_type": "markdown",
      "metadata": {
        "id": "m5Wjfyxar7U1"
      },
      "source": [
        "### создаем итераторы по данным для трейна и теста"
      ]
    },
    {
      "cell_type": "code",
      "execution_count": 24,
      "metadata": {
        "id": "8Zl4FxB71seI"
      },
      "outputs": [],
      "source": [
        "train_dataset = TweetsDataset(train_data, word2id, DEVICE)\n",
        "train_sampler = RandomSampler(train_dataset)\n",
        "train_iterator = DataLoader(train_dataset, collate_fn = train_dataset.collate_fn, sampler=train_sampler, batch_size=64)"
      ]
    },
    {
      "cell_type": "code",
      "execution_count": 25,
      "metadata": {
        "id": "xauLXZwQNcCq"
      },
      "outputs": [],
      "source": [
        "batch = next(iter(train_iterator))"
      ]
    },
    {
      "cell_type": "code",
      "execution_count": 26,
      "metadata": {
        "colab": {
          "base_uri": "https://localhost:8080/"
        },
        "id": "GOqAu8X8S36K",
        "outputId": "fcdd9212-2774-4d38-e827-bc2ae190e424"
      },
      "outputs": [
        {
          "output_type": "execute_result",
          "data": {
            "text/plain": [
              "torch.Size([64, 35])"
            ]
          },
          "metadata": {},
          "execution_count": 26
        }
      ],
      "source": [
        "batch[0].shape"
      ]
    },
    {
      "cell_type": "code",
      "execution_count": 27,
      "metadata": {
        "id": "aZbD27_A6Nck"
      },
      "outputs": [],
      "source": [
        "#[id2word[int(i)] for i in batch[0][0]]"
      ]
    },
    {
      "cell_type": "code",
      "execution_count": 28,
      "metadata": {
        "id": "tj6Wltq3TfGQ",
        "scrolled": true
      },
      "outputs": [],
      "source": [
        "#batch[1]"
      ]
    },
    {
      "cell_type": "code",
      "execution_count": 29,
      "metadata": {
        "id": "ZR_upb-_1seJ"
      },
      "outputs": [],
      "source": [
        "val_dataset = TweetsDataset(val_data, word2id, DEVICE)\n",
        "val_sampler = SequentialSampler(val_dataset)\n",
        "val_iterator = DataLoader(val_dataset, collate_fn = val_dataset.collate_fn, sampler=val_sampler, batch_size=64)"
      ]
    },
    {
      "cell_type": "code",
      "execution_count": 30,
      "metadata": {
        "colab": {
          "base_uri": "https://localhost:8080/"
        },
        "id": "jQlpcUR28V-j",
        "outputId": "98698124-bf6b-46ca-afd7-27d033a051ce"
      },
      "outputs": [
        {
          "output_type": "execute_result",
          "data": {
            "text/plain": [
              "torch.Size([64, 34])"
            ]
          },
          "metadata": {},
          "execution_count": 30
        }
      ],
      "source": [
        "test_batch = next(iter(val_iterator))\n",
        "test_batch[0].shape"
      ]
    },
    {
      "cell_type": "markdown",
      "metadata": {
        "id": "BUCT8ayD1seK"
      },
      "source": [
        "### CNN model"
      ]
    },
    {
      "cell_type": "code",
      "execution_count": 31,
      "metadata": {
        "colab": {
          "base_uri": "https://localhost:8080/"
        },
        "id": "NfVEoM-IZFFe",
        "outputId": "49139895-b6d4-4d5f-b930-eaa455be5e83"
      },
      "outputs": [
        {
          "output_type": "execute_result",
          "data": {
            "text/plain": [
              "tensor([[[-0.5545, -0.7392,  0.3882, -0.8005],\n",
              "         [-0.3565,  0.1452,  0.2030,  0.4819],\n",
              "         [ 0.2498,  0.3060,  1.0312, -0.7235],\n",
              "         [-1.2128,  0.3623,  0.1080, -0.8983],\n",
              "         [-0.3291, -1.3741, -0.1392,  0.1648],\n",
              "         [ 0.6138, -0.1465, -0.0875,  0.2497],\n",
              "         [ 1.0546,  1.3852,  0.1808, -1.7465],\n",
              "         [-1.0789,  1.2346,  0.9355,  0.0666]],\n",
              "\n",
              "        [[-1.4441, -0.7917,  0.0970,  0.3882],\n",
              "         [-2.2212, -0.0326, -1.0572, -0.8956],\n",
              "         [ 0.1350,  0.4578,  0.3440, -1.7167],\n",
              "         [-0.9506,  0.0487,  1.2992, -0.3824],\n",
              "         [ 1.0201, -0.7395, -1.5087,  1.5383],\n",
              "         [-0.9850,  0.2916, -0.4326,  0.4244],\n",
              "         [-0.4456, -2.1105, -0.2865, -1.4285],\n",
              "         [-0.4086,  0.8346, -0.0683, -2.1030]],\n",
              "\n",
              "        [[-0.7985,  0.3579, -0.9945, -2.3860],\n",
              "         [ 1.2310, -0.2027,  0.0978,  0.7778],\n",
              "         [-0.6092,  1.1835,  0.7896, -0.8010],\n",
              "         [-1.0998, -1.2693,  0.3946,  0.4841],\n",
              "         [-1.2863, -0.3606,  0.4209,  0.4364],\n",
              "         [ 0.8971,  1.6677,  0.9237, -0.8248],\n",
              "         [ 2.3643,  0.1359, -0.9709,  0.1337],\n",
              "         [ 0.4233, -1.0343, -0.1542,  2.1872]]])"
            ]
          },
          "metadata": {},
          "execution_count": 31
        }
      ],
      "source": [
        "fm = torch.randn(3, 8, 4) #batch_size, num_filters, seq_len\n",
        "fm"
      ]
    },
    {
      "cell_type": "code",
      "execution_count": 32,
      "metadata": {
        "colab": {
          "base_uri": "https://localhost:8080/"
        },
        "id": "pXXF4sU2ZFy4",
        "outputId": "92be8b6d-9e24-421d-f9a2-8c93acb153c6"
      },
      "outputs": [
        {
          "output_type": "stream",
          "name": "stdout",
          "text": [
            "torch.Size([3, 8, 2])\n"
          ]
        },
        {
          "output_type": "execute_result",
          "data": {
            "text/plain": [
              "tensor([[[-0.5545,  0.3882],\n",
              "         [ 0.1452,  0.4819],\n",
              "         [ 0.3060,  1.0312],\n",
              "         [ 0.3623,  0.1080],\n",
              "         [-0.3291,  0.1648],\n",
              "         [ 0.6138,  0.2497],\n",
              "         [ 1.3852,  0.1808],\n",
              "         [ 1.2346,  0.9355]],\n",
              "\n",
              "        [[-0.7917,  0.3882],\n",
              "         [-0.0326, -0.8956],\n",
              "         [ 0.4578,  0.3440],\n",
              "         [ 0.0487,  1.2992],\n",
              "         [ 1.0201,  1.5383],\n",
              "         [ 0.2916,  0.4244],\n",
              "         [-0.4456, -0.2865],\n",
              "         [ 0.8346, -0.0683]],\n",
              "\n",
              "        [[ 0.3579, -0.9945],\n",
              "         [ 1.2310,  0.7778],\n",
              "         [ 1.1835,  0.7896],\n",
              "         [-1.0998,  0.4841],\n",
              "         [-0.3606,  0.4364],\n",
              "         [ 1.6677,  0.9237],\n",
              "         [ 2.3643,  0.1337],\n",
              "         [ 0.4233,  2.1872]]])"
            ]
          },
          "metadata": {},
          "execution_count": 32
        }
      ],
      "source": [
        "mp = torch.nn.MaxPool1d(kernel_size=2, stride=2)\n",
        "print(mp(fm).shape)\n",
        "mp(fm)"
      ]
    },
    {
      "cell_type": "code",
      "execution_count": 33,
      "metadata": {
        "colab": {
          "base_uri": "https://localhost:8080/"
        },
        "id": "0JZy7ZDlctwM",
        "outputId": "b936b074-29b0-481b-e07e-7f29a17aafd5"
      },
      "outputs": [
        {
          "output_type": "execute_result",
          "data": {
            "text/plain": [
              "tensor([[ 0.3882,  0.4819,  1.0312,  0.3623,  0.1648,  0.6138,  1.3852,  1.2346],\n",
              "        [ 0.3882, -0.0326,  0.4578,  1.2992,  1.5383,  0.4244, -0.2865,  0.8346],\n",
              "        [ 0.3579,  1.2310,  1.1835,  0.4841,  0.4364,  1.6677,  2.3643,  2.1872]])"
            ]
          },
          "metadata": {},
          "execution_count": 33
        }
      ],
      "source": [
        "fm.max(2)[0]"
      ]
    },
    {
      "cell_type": "code",
      "execution_count": 34,
      "metadata": {
        "id": "NdV7oSIc1seK"
      },
      "outputs": [],
      "source": [
        "class CNN(nn.Module):\n",
        "    \n",
        "    def __init__(self, vocab_size, embedding_dim, model_embs):\n",
        "        super().__init__()\n",
        "        self.embedding = nn.Embedding(vocab_size, embedding_dim)\n",
        "        self.embedding.from_pretrained(torch.tensor(model_embs), freeze=True)\n",
        "        self.bigrams = nn.Conv1d(in_channels=embedding_dim, out_channels=100, kernel_size=2, padding='same')\n",
        "        self.trigrams = nn.Conv1d(in_channels=embedding_dim, out_channels=80, kernel_size=3, padding='same')\n",
        "        self.concat_bigrams = nn.Conv1d(in_channels=180, out_channels=100, kernel_size=2, padding='same')\n",
        "        #self.pooling = nn.MaxPool1d(kernel_size=2, stride=2)\n",
        "        self.relu = nn.ReLU()\n",
        "        self.hidden = nn.Linear(in_features=100, out_features=1)\n",
        "        self.dropout = nn.Dropout(p=0.5)\n",
        "        self.out = nn.Sigmoid()\n",
        "\n",
        "    def forward(self, text):\n",
        "        #batch_size x seq_len\n",
        "        embedded = self.embedding(text)\n",
        "        #batch_size x seq_len x embedding_dim\n",
        "        embedded = embedded.transpose(1,2)\n",
        "        #batch_size x embedding_dim x seq_len\n",
        "        #feature_map_bigrams = self.dropout(self.pooling(self.relu(self.bigrams(embedded))))\n",
        "        #batch_size x filter_count2 x seq_len* \n",
        "        #feature_map_trigrams = self.dropout(self.pooling(self.relu(self.trigrams(embedded))))\n",
        "        #batch_size x filter_count3 x seq_len*\n",
        "        feature_map_bigrams = self.relu(self.bigrams(embedded))\n",
        "        # batch_size x filter_count3 x seq_len*\n",
        "        feature_map_trigrams = self.relu(self.trigrams(embedded))\n",
        "\n",
        "        #pooling1 = feature_map_bigrams.max(2)[0] \n",
        "        # batch_size x filter_count2\n",
        "        #pooling2 = feature_map_trigrams.max(2)[0]\n",
        "        # batch_size x filter_count3\n",
        "        concat = torch.cat((feature_map_bigrams, feature_map_trigrams), 1)\n",
        "        \n",
        "        feature_map_concat = self.relu(self.concat_bigrams(concat))\n",
        "        pooling = feature_map_concat.max(2)[0]\n",
        "        # batch _size x (filter_count2 + filter_count3)\n",
        "        logits = self.hidden(pooling)\n",
        "        logits = self.out(logits)\n",
        "        \n",
        "        return logits"
      ]
    },
    {
      "cell_type": "code",
      "execution_count": 35,
      "metadata": {
        "colab": {
          "base_uri": "https://localhost:8080/"
        },
        "id": "YFQ-WEY4cxkv",
        "outputId": "6df51fa6-6d41-4738-f99e-db9a48daa4bb"
      },
      "outputs": [
        {
          "output_type": "stream",
          "name": "stdout",
          "text": [
            "tensor([[ 3697,  1685, 11262,  ...,     0,     0,     0],\n",
            "        [ 2872,  6334,  9481,  ...,     0,     0,     0],\n",
            "        [ 7430,  3737,  3188,  ...,     0,     0,     0],\n",
            "        ...,\n",
            "        [ 2678, 10343, 14130,  ...,     0,     0,     0],\n",
            "        [10061,  3041,  5786,  ...,     0,     0,     0],\n",
            "        [13611,  5515,   270,  ...,     0,     0,     0]])\n"
          ]
        }
      ],
      "source": [
        "batch, y = next(iter(train_iterator))\n",
        "batch, y = batch.to(device='cpu'), y.to(device='cpu')\n",
        "print(batch)"
      ]
    },
    {
      "cell_type": "code",
      "execution_count": 36,
      "metadata": {
        "id": "G6Zk2Wq6PRTn",
        "outputId": "a0ed211a-a177-4542-e2ee-f31ec3a32fe3",
        "colab": {
          "base_uri": "https://localhost:8080/"
        }
      },
      "outputs": [
        {
          "output_type": "stream",
          "name": "stdout",
          "text": [
            "tensor([[ 3697,  1685, 11262,  ...,     0,     0,     0],\n",
            "        [ 2872,  6334,  9481,  ...,     0,     0,     0],\n",
            "        [ 7430,  3737,  3188,  ...,     0,     0,     0],\n",
            "        ...,\n",
            "        [ 2678, 10343, 14130,  ...,     0,     0,     0],\n",
            "        [10061,  3041,  5786,  ...,     0,     0,     0],\n",
            "        [13611,  5515,   270,  ...,     0,     0,     0]])\n"
          ]
        }
      ],
      "source": [
        "print(batch)"
      ]
    },
    {
      "cell_type": "code",
      "execution_count": 37,
      "metadata": {
        "colab": {
          "base_uri": "https://localhost:8080/"
        },
        "id": "JSmsX_fg4LcO",
        "outputId": "effb559c-a4ea-4c00-e772-02e009c93691"
      },
      "outputs": [
        {
          "output_type": "execute_result",
          "data": {
            "text/plain": [
              "tensor([[0.],\n",
              "        [1.],\n",
              "        [1.],\n",
              "        [1.],\n",
              "        [1.],\n",
              "        [0.],\n",
              "        [1.],\n",
              "        [1.],\n",
              "        [0.],\n",
              "        [1.],\n",
              "        [1.],\n",
              "        [0.],\n",
              "        [0.],\n",
              "        [0.],\n",
              "        [0.],\n",
              "        [1.],\n",
              "        [1.],\n",
              "        [0.],\n",
              "        [0.],\n",
              "        [1.],\n",
              "        [1.],\n",
              "        [1.],\n",
              "        [0.],\n",
              "        [1.],\n",
              "        [1.],\n",
              "        [0.],\n",
              "        [0.],\n",
              "        [1.],\n",
              "        [1.],\n",
              "        [1.],\n",
              "        [1.],\n",
              "        [0.],\n",
              "        [1.],\n",
              "        [1.],\n",
              "        [0.],\n",
              "        [1.],\n",
              "        [1.],\n",
              "        [0.],\n",
              "        [0.],\n",
              "        [0.],\n",
              "        [1.],\n",
              "        [1.],\n",
              "        [0.],\n",
              "        [1.],\n",
              "        [0.],\n",
              "        [0.],\n",
              "        [1.],\n",
              "        [1.],\n",
              "        [1.],\n",
              "        [1.],\n",
              "        [0.],\n",
              "        [0.],\n",
              "        [1.],\n",
              "        [1.],\n",
              "        [0.],\n",
              "        [0.],\n",
              "        [1.],\n",
              "        [0.],\n",
              "        [1.],\n",
              "        [0.],\n",
              "        [1.],\n",
              "        [1.],\n",
              "        [1.],\n",
              "        [0.]])"
            ]
          },
          "metadata": {},
          "execution_count": 37
        }
      ],
      "source": [
        "y"
      ]
    },
    {
      "cell_type": "code",
      "execution_count": 38,
      "metadata": {
        "id": "FufxyQy_PRTo",
        "outputId": "9fe95928-6b6d-464c-8196-26b5300ab30c",
        "colab": {
          "base_uri": "https://localhost:8080/"
        }
      },
      "outputs": [
        {
          "output_type": "execute_result",
          "data": {
            "text/plain": [
              "(18113, 64)"
            ]
          },
          "metadata": {},
          "execution_count": 38
        }
      ],
      "source": [
        "model_embs.shape"
      ]
    },
    {
      "cell_type": "code",
      "execution_count": 39,
      "metadata": {
        "colab": {
          "base_uri": "https://localhost:8080/"
        },
        "id": "oHc9E_96dJBH",
        "outputId": "8e083159-7cd1-4029-a224-f80ec6ea05cf"
      },
      "outputs": [
        {
          "output_type": "stream",
          "name": "stdout",
          "text": [
            "tensor([[0.4558],\n",
            "        [0.5066],\n",
            "        [0.4972],\n",
            "        [0.4905],\n",
            "        [0.4630],\n",
            "        [0.4739],\n",
            "        [0.4768],\n",
            "        [0.4907],\n",
            "        [0.4778],\n",
            "        [0.4792],\n",
            "        [0.4855],\n",
            "        [0.4883],\n",
            "        [0.4885],\n",
            "        [0.4948],\n",
            "        [0.4762],\n",
            "        [0.4748],\n",
            "        [0.4693],\n",
            "        [0.4793],\n",
            "        [0.4824],\n",
            "        [0.4767],\n",
            "        [0.4868],\n",
            "        [0.5047],\n",
            "        [0.4993],\n",
            "        [0.4927],\n",
            "        [0.4671],\n",
            "        [0.4919],\n",
            "        [0.4666],\n",
            "        [0.4761],\n",
            "        [0.4785],\n",
            "        [0.4921],\n",
            "        [0.4821],\n",
            "        [0.4912],\n",
            "        [0.4946],\n",
            "        [0.4721],\n",
            "        [0.4632],\n",
            "        [0.5042],\n",
            "        [0.4708],\n",
            "        [0.4888],\n",
            "        [0.4784],\n",
            "        [0.4651],\n",
            "        [0.4581],\n",
            "        [0.5007],\n",
            "        [0.4716],\n",
            "        [0.4817],\n",
            "        [0.4742],\n",
            "        [0.4764],\n",
            "        [0.4736],\n",
            "        [0.4750],\n",
            "        [0.4984],\n",
            "        [0.4557],\n",
            "        [0.4935],\n",
            "        [0.4699],\n",
            "        [0.4880],\n",
            "        [0.4844],\n",
            "        [0.4750],\n",
            "        [0.4769],\n",
            "        [0.4863],\n",
            "        [0.4884],\n",
            "        [0.4819],\n",
            "        [0.4657],\n",
            "        [0.4974],\n",
            "        [0.4746],\n",
            "        [0.4977],\n",
            "        [0.4814]], grad_fn=<SigmoidBackward0>)\n"
          ]
        },
        {
          "output_type": "stream",
          "name": "stderr",
          "text": [
            "/usr/local/lib/python3.7/dist-packages/torch/nn/modules/conv.py:298: UserWarning: Using padding='same' with even kernel lengths and odd dilation may require a zero-padded copy of the input be created (Triggered internally at  ../aten/src/ATen/native/Convolution.cpp:647.)\n",
            "  self.padding, self.dilation, self.groups)\n"
          ]
        }
      ],
      "source": [
        "model = CNN(len(id2word), 64, model_embs)\n",
        "output = model(batch)\n",
        "print(output)"
      ]
    },
    {
      "cell_type": "code",
      "execution_count": 40,
      "metadata": {
        "colab": {
          "base_uri": "https://localhost:8080/"
        },
        "id": "CBWdfROdQK5v",
        "outputId": "b430a67b-06ce-4201-fb71-8f1b5eb57048"
      },
      "outputs": [
        {
          "output_type": "execute_result",
          "data": {
            "text/plain": [
              "tensor(0.6956, grad_fn=<BinaryCrossEntropyBackward0>)"
            ]
          },
          "metadata": {},
          "execution_count": 40
        }
      ],
      "source": [
        "loss = nn.BCELoss()\n",
        "loss(output, y)"
      ]
    },
    {
      "cell_type": "code",
      "execution_count": 41,
      "metadata": {
        "colab": {
          "base_uri": "https://localhost:8080/"
        },
        "id": "q73ELWxPzjtZ",
        "outputId": "0b4c658e-1df6-401b-dd8d-d040a5d4149f"
      },
      "outputs": [
        {
          "output_type": "execute_result",
          "data": {
            "text/plain": [
              "tensor(0.1951)"
            ]
          },
          "metadata": {},
          "execution_count": 41
        }
      ],
      "source": [
        "f1(output, y.long())"
      ]
    },
    {
      "cell_type": "markdown",
      "metadata": {
        "id": "cYz0OzYT1vt1"
      },
      "source": [
        "### training loop, логика обучения и валидации"
      ]
    },
    {
      "cell_type": "markdown",
      "metadata": {
        "id": "K8sZOK7Kvk7o"
      },
      "source": [
        "теперь нам нужны функции для обучения и валидации,\n",
        "каждый вызов функции - одна эпоха обучения \n",
        "\n",
        "За одну эпоху нам надо для каждого батча:\n",
        "\n",
        "-- применить к нему модель, \n",
        "\n",
        "-- посчитать значение функции потерь, \n",
        "\n",
        "-- посчитать градиенты,\n",
        "\n",
        "-- обновить веса (параметры модели)\n"
      ]
    },
    {
      "cell_type": "code",
      "execution_count": 42,
      "metadata": {
        "id": "BVKQzPPI1seJ"
      },
      "outputs": [],
      "source": [
        "def train(model, iterator, optimizer, criterion):\n",
        "    epoch_loss = 0 # для подсчета среднего лосса на всех батчах\n",
        "\n",
        "    model.train()  # ставим модель в обучение, явно указываем, что сейчас надо будет хранить градиенты у всех весов\n",
        "\n",
        "    for i, (texts, ys) in enumerate(iterator): #итерируемся по батчам\n",
        "        optimizer.zero_grad()  #обнуляем градиенты\n",
        "        preds = model(texts)  #прогоняем данные через модель\n",
        "        loss = criterion(preds, ys) #считаем значение функции потерь  \n",
        "        loss.backward() #считаем градиенты  \n",
        "        optimizer.step() #обновляем веса \n",
        "        epoch_loss += loss.item() #сохраняем значение функции потерь\n",
        "        if not (i + 1) % int(len(iterator)/5):\n",
        "            print(f'Train loss: {epoch_loss/i}')      \n",
        "    return  epoch_loss / len(iterator) # возвращаем среднее значение лосса по всей выборке"
      ]
    },
    {
      "cell_type": "code",
      "execution_count": 43,
      "metadata": {
        "id": "EPfO7p9x1seK"
      },
      "outputs": [],
      "source": [
        "def evaluate(model, iterator, criterion):\n",
        "    epoch_loss = 0\n",
        "    epoch_metric = 0\n",
        "    model.eval() \n",
        "    with torch.no_grad():\n",
        "        for i, (texts, ys) in enumerate(iterator):   \n",
        "            preds = model(texts)  # делаем предсказания на тесте\n",
        "            loss = criterion(preds, ys)   # считаем значения функции ошибки для статистики  \n",
        "            epoch_loss += loss.item()\n",
        "            batch_metric = f1(preds.round().long(), ys.long(), ignore_index=0)\n",
        "            epoch_metric += batch_metric\n",
        "\n",
        "            if not (i + 1) % int(len(iterator)/5):\n",
        "                print(f'Val loss: {epoch_loss/i}, Val f1: {epoch_metric/i}')\n",
        "        \n",
        "    return epoch_metric / len(iterator), epoch_loss / len(iterator) # возвращаем среднее значение по всей выборке"
      ]
    },
    {
      "cell_type": "markdown",
      "metadata": {
        "id": "VRoSupMNQsvF"
      },
      "source": [
        "### инициализируем модель, задаем оптимизатор и функцию потерь"
      ]
    },
    {
      "cell_type": "code",
      "execution_count": 44,
      "metadata": {
        "id": "WO35IZES1seL"
      },
      "outputs": [],
      "source": [
        "model = CNN(len(word2id), 64, model_embs)\n",
        "optimizer = optim.Adam(model.parameters(), lr=0.0001)\n",
        "criterion = nn.BCELoss()\n",
        "\n",
        "# веса модели и значения лосса храним там же, где и все остальные тензоры\n",
        "model = model.to(DEVICE)\n",
        "criterion = criterion.to(DEVICE)"
      ]
    },
    {
      "cell_type": "markdown",
      "metadata": {
        "id": "3kHbVX0y1seL"
      },
      "source": [
        "### запуск обучения!"
      ]
    },
    {
      "cell_type": "code",
      "execution_count": 45,
      "metadata": {
        "colab": {
          "base_uri": "https://localhost:8080/"
        },
        "id": "boMAjlVM1seM",
        "outputId": "d7476986-1e0b-4068-b731-5a86768ebb1b"
      },
      "outputs": [
        {
          "output_type": "stream",
          "name": "stdout",
          "text": [
            "\n",
            "starting Epoch 0\n",
            "Training...\n",
            "Train loss: 0.23399745247831974\n",
            "Train loss: 0.15176916960111825\n",
            "Train loss: 0.11964058508371124\n",
            "Train loss: 0.10163139660509933\n",
            "Train loss: 0.08982022601354701\n",
            "\n",
            "Evaluating on train...\n",
            "Val loss: 0.038050885238157195, Val f1: 0.983944833278656\n",
            "Val loss: 0.03834979573215362, Val f1: 0.9823043346405029\n",
            "Val loss: 0.03837947569338717, Val f1: 0.9817924499511719\n",
            "Val loss: 0.038154044893244435, Val f1: 0.9817901849746704\n",
            "Val loss: 0.03810761427600658, Val f1: 0.981593132019043\n",
            "\n",
            "Evaluating on test...\n",
            "Val loss: 0.03852215752143551, Val f1: 0.9884762167930603\n",
            "Val loss: 0.03737749534356666, Val f1: 0.9852287173271179\n",
            "Val loss: 0.03827691181443851, Val f1: 0.9835225343704224\n",
            "Val loss: 0.038380470274798364, Val f1: 0.9829717874526978\n",
            "Val loss: 0.038407716984807105, Val f1: 0.9826145172119141\n",
            "\n",
            "starting Epoch 1\n",
            "Training...\n",
            "Train loss: 0.03882697469164356\n",
            "Train loss: 0.036730128004830456\n",
            "Train loss: 0.03602213931535025\n",
            "Train loss: 0.03512256103130752\n",
            "Train loss: 0.03442883689883275\n",
            "\n",
            "Evaluating on train...\n",
            "Val loss: 0.028774257535926783, Val f1: 0.9871971607208252\n",
            "Val loss: 0.02902021070769001, Val f1: 0.9863894581794739\n",
            "Val loss: 0.028412825336544094, Val f1: 0.9864041209220886\n",
            "Val loss: 0.028716471443092546, Val f1: 0.9858615398406982\n",
            "Val loss: 0.028791240054422615, Val f1: 0.9856607913970947\n",
            "\n",
            "Evaluating on test...\n",
            "Val loss: 0.030552984908205905, Val f1: 0.9902205467224121\n",
            "Val loss: 0.029611501994592608, Val f1: 0.9873249530792236\n",
            "Val loss: 0.030384826886923, Val f1: 0.985966682434082\n",
            "Val loss: 0.030723680707192544, Val f1: 0.9852114319801331\n",
            "Val loss: 0.030728686027119447, Val f1: 0.9850276708602905\n",
            "\n",
            "starting Epoch 2\n",
            "Training...\n",
            "Train loss: 0.02945475156910415\n",
            "Train loss: 0.028538445244389823\n",
            "Train loss: 0.028081155829308944\n",
            "Train loss: 0.02845675643996207\n",
            "Train loss: 0.028066193220287663\n",
            "\n",
            "Evaluating on train...\n",
            "Val loss: 0.02370107688483589, Val f1: 0.9902147054672241\n",
            "Val loss: 0.023848590184394607, Val f1: 0.9893039464950562\n",
            "Val loss: 0.02426150079463249, Val f1: 0.9887385368347168\n",
            "Val loss: 0.024191993745296504, Val f1: 0.9885479807853699\n",
            "Val loss: 0.024210113396966885, Val f1: 0.9884905815124512\n",
            "\n",
            "Evaluating on test...\n",
            "Val loss: 0.027842185344639735, Val f1: 0.9897353649139404\n",
            "Val loss: 0.02688936616465487, Val f1: 0.9876488447189331\n",
            "Val loss: 0.02780948141681291, Val f1: 0.9865121841430664\n",
            "Val loss: 0.02826997604346311, Val f1: 0.9858998656272888\n",
            "Val loss: 0.028251776330029683, Val f1: 0.9855391383171082\n",
            "\n",
            "starting Epoch 3\n",
            "Training...\n",
            "Train loss: 0.024528798626350153\n",
            "Train loss: 0.02482951147492059\n",
            "Train loss: 0.024785051998942233\n",
            "Train loss: 0.024429891529731292\n",
            "Train loss: 0.024349068787862988\n",
            "\n",
            "Evaluating on train...\n",
            "Val loss: 0.020738045191194696, Val f1: 0.9925010204315186\n",
            "Val loss: 0.020792910542362826, Val f1: 0.991500198841095\n",
            "Val loss: 0.02100055967884854, Val f1: 0.9911081790924072\n",
            "Val loss: 0.021148533195487918, Val f1: 0.9907799959182739\n",
            "Val loss: 0.02119861683774174, Val f1: 0.9908453226089478\n",
            "\n",
            "Evaluating on test...\n",
            "Val loss: 0.02678246798866355, Val f1: 0.9908427596092224\n",
            "Val loss: 0.026184975752870425, Val f1: 0.9881294369697571\n",
            "Val loss: 0.027060656023527807, Val f1: 0.986990213394165\n",
            "Val loss: 0.02759762682789946, Val f1: 0.9862350821495056\n",
            "Val loss: 0.027563363954481588, Val f1: 0.9859620332717896\n",
            "CPU times: user 2min 50s, sys: 2.19 s, total: 2min 53s\n",
            "Wall time: 2min 52s\n"
          ]
        }
      ],
      "source": [
        "%%time\n",
        "losses = []\n",
        "losses_eval = []\n",
        "f1s = []\n",
        "f1s_eval = []\n",
        "\n",
        "for i in range(4):\n",
        "    print(f'\\nstarting Epoch {i}')\n",
        "    print('Training...')\n",
        "    epoch_loss = train(model, train_iterator, optimizer, criterion)\n",
        "    losses.append(epoch_loss)\n",
        "    print('\\nEvaluating on train...')\n",
        "    f1_on_train,_ = evaluate(model, train_iterator, criterion)\n",
        "    f1s.append(f1_on_train)\n",
        "    print('\\nEvaluating on test...')\n",
        "    f1_on_test, epoch_loss_on_test = evaluate(model, val_iterator, criterion)\n",
        "    losses_eval.append(epoch_loss_on_test)\n",
        "    f1s_eval.append(f1_on_test)"
      ]
    },
    {
      "cell_type": "code",
      "execution_count": 46,
      "metadata": {
        "colab": {
          "base_uri": "https://localhost:8080/",
          "height": 295
        },
        "id": "eH7ws8dXmEn5",
        "outputId": "7d85af18-40d4-4378-f3b0-6373b0b73125",
        "scrolled": true
      },
      "outputs": [
        {
          "output_type": "display_data",
          "data": {
            "image/png": "[encoded data removed]",
            "text/plain": [
              "<Figure size 432x288 with 1 Axes>"
            ]
          },
          "metadata": {
            "needs_background": "light"
          }
        }
      ],
      "source": [
        "import matplotlib.pyplot as plt\n",
        "plt.plot(losses)\n",
        "plt.plot(losses_eval)\n",
        "plt.title('BCE loss value')\n",
        "plt.ylabel('BCE loss')\n",
        "plt.xlabel('epoch')\n",
        "plt.legend(['train', 'val'], loc='upper right')\n",
        "plt.show()"
      ]
    },
    {
      "cell_type": "code",
      "execution_count": 47,
      "metadata": {
        "colab": {
          "base_uri": "https://localhost:8080/",
          "height": 295
        },
        "id": "q32B6i6BmGOc",
        "outputId": "48d929b5-8ed8-4fd6-814e-fa3f01483492"
      },
      "outputs": [
        {
          "output_type": "display_data",
          "data": {
            "image/png": "[encoded data removed]",
            "text/plain": [
              "<Figure size 432x288 with 1 Axes>"
            ]
          },
          "metadata": {
            "needs_background": "light"
          }
        }
      ],
      "source": [
        "import matplotlib.pyplot as plt\n",
        "plt.plot([i.cpu() for i in f1s])\n",
        "plt.plot([i.cpu() for i in f1s_eval])\n",
        "plt.title('f1 value')\n",
        "plt.ylabel('f1 value')\n",
        "plt.xlabel('epoch')\n",
        "plt.legend(['train', 'val'], loc='upper right')\n",
        "plt.show()"
      ]
    },
    {
      "cell_type": "markdown",
      "metadata": {
        "id": "OIcYFDEqPRTp"
      },
      "source": [
        "Мы поменяли learning rate и добавили дропаут, кажется, стало лучше"
      ]
    },
    {
      "cell_type": "markdown",
      "metadata": {
        "id": "hj0-XaCkYz8w"
      },
      "source": [
        "Для анализа ошибок можно посмотреть на те примеры, которые мы (не)правильно предсказываем"
      ]
    },
    {
      "cell_type": "code",
      "execution_count": 51,
      "metadata": {
        "id": "bHtAIt5eCrP5"
      },
      "outputs": [],
      "source": [
        "def predict(model, iterator):\n",
        "    model.eval()\n",
        "    fp = []\n",
        "    fn = []\n",
        "    tp = [] \n",
        "    tn = []\n",
        "    with torch.no_grad():\n",
        "        for i, (texts, ys) in enumerate(iterator):   \n",
        "            preds = model(texts)  # делаем предсказания на тесте \n",
        "            for pred, gold, text in zip(preds, ys, texts):\n",
        "                text = ' '.join([id2word[int(word)] for word in text if word !=0])\n",
        "                if round(pred.item()) > gold:\n",
        "                    fp.append(text)\n",
        "                elif round(pred.item()) < gold:\n",
        "                    fn.append(text)\n",
        "                elif round(pred.item()) == gold == 1:\n",
        "                    tp.append(text)\n",
        "                elif round(pred.item()) == gold == 0:\n",
        "                    tn.append(text)\n",
        "\n",
        "    return fp, fn, tp, tn"
      ]
    },
    {
      "cell_type": "code",
      "execution_count": 52,
      "metadata": {
        "id": "phc1BAE4MKhU"
      },
      "outputs": [],
      "source": [
        "fp, fn, tp, tn = predict(model, val_iterator)"
      ]
    },
    {
      "cell_type": "code",
      "source": [
        "def get_metrics(fp, fn, tp, tn):\n",
        "    all_preds = len(fp) + len(fn) + len(tp) + len(tn)\n",
        "    print('accuracy')\n",
        "    print((len(tp) + len(tn))/all_preds)\n",
        "    print('precision')\n",
        "    print(len(tp)/(len(fp) + len(tp)))\n",
        "    print('recall')\n",
        "    print(len(tp)/(len(fn) + len(tp)))"
      ],
      "metadata": {
        "id": "8C1Z1AyFY5wJ"
      },
      "execution_count": 58,
      "outputs": []
    },
    {
      "cell_type": "code",
      "source": [
        "get_metrics(fp, fn, tp, tn)"
      ],
      "metadata": {
        "colab": {
          "base_uri": "https://localhost:8080/"
        },
        "id": "8Jv8H4ZHcJeI",
        "outputId": "5693e66f-0a4f-4339-a9ca-a3f69606a2f4"
      },
      "execution_count": 59,
      "outputs": [
        {
          "output_type": "stream",
          "name": "stdout",
          "text": [
            "accuracy\n",
            "0.9843864974245768\n",
            "precision\n",
            "0.982602015454833\n",
            "recall\n",
            "0.9866594064797168\n"
          ]
        }
      ]
    },
    {
      "cell_type": "code",
      "source": [
        ""
      ],
      "metadata": {
        "id": "HR1p6L6zcLhH"
      },
      "execution_count": 57,
      "outputs": []
    },
    {
      "cell_type": "markdown",
      "source": [
        "И что это мы тут видим? Снова смайлики! И скобочки. И ярко позитивно/негативно окрашенные слова, хотя на них одиних модель справляется куда как хуже"
      ],
      "metadata": {
        "id": "EAj-uqNwV8HU"
      }
    },
    {
      "cell_type": "code",
      "source": [
        ""
      ],
      "metadata": {
        "id": "49WraYfEcGS0"
      },
      "execution_count": null,
      "outputs": []
    },
    {
      "cell_type": "code",
      "execution_count": null,
      "metadata": {
        "id": "xFiLocEC6dUa"
      },
      "outputs": [],
      "source": [
        "print('Верно позитивные:', tp[:10])"
      ]
    },
    {
      "cell_type": "code",
      "execution_count": null,
      "metadata": {
        "id": "IeBGHMjm4LBJ"
      },
      "outputs": [],
      "source": [
        "print('неверно негативные:', fn[:10])"
      ]
    },
    {
      "cell_type": "code",
      "execution_count": null,
      "metadata": {
        "id": "ztrjLRu34e-B"
      },
      "outputs": [],
      "source": [
        "print('неверно позитивные:', fp[:10])"
      ]
    },
    {
      "cell_type": "code",
      "execution_count": null,
      "metadata": {
        "id": "DZL6OlYcbE9d"
      },
      "outputs": [],
      "source": [
        "print('верно негативные:', tn[:10])"
      ]
    },
    {
      "cell_type": "code",
      "source": [
        "fp, fn, tp, tn"
      ],
      "metadata": {
        "id": "XcCLEovZVkP9"
      },
      "execution_count": null,
      "outputs": []
    },
    {
      "cell_type": "code",
      "source": [
        "print()"
      ],
      "metadata": {
        "id": "uczfhBKkX_Ai"
      },
      "execution_count": null,
      "outputs": []
    },
    {
      "cell_type": "code",
      "source": [
        ""
      ],
      "metadata": {
        "id": "55ki5AiaaPZa"
      },
      "execution_count": null,
      "outputs": []
    }
  ],
  "metadata": {
    "accelerator": "GPU",
    "colab": {
      "collapsed_sections": [],
      "name": "cnn_6-Part3.ipynb",
      "provenance": [],
      "include_colab_link": true
    },
    "kernelspec": {
      "display_name": "Python 3 (ipykernel)",
      "language": "python",
      "name": "python3"
    },
    "language_info": {
      "codemirror_mode": {
        "name": "ipython",
        "version": 3
      },
      "file_extension": ".py",
      "mimetype": "text/x-python",
      "name": "python",
      "nbconvert_exporter": "python",
      "pygments_lexer": "ipython3",
      "version": "3.8.12"
    }
  },
  "nbformat": 4,
  "nbformat_minor": 0
}