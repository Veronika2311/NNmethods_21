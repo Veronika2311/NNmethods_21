{
 "cells": [
  {
   "cell_type": "markdown",
   "metadata": {
    "id": "qyh0knhqJx8u"
   },
   "source": [
    "понятное [видео](https://www.youtube.com/watch?v=bNb2fEVKeEo) со стенфордского курса, из [материалов](https://cs231n.github.io/convolutional-networks) по которому взяты иллюстрации.\n",
    "\n",
    "Датасет из [курса](https://github.com/DanAnastasyev/DeepNLP-Course/blob/master/Week%2004/Week_04_Convolutional_Neural_Networks.ipynb) Даниила Анастасьева.\n",
    "\n",
    "Использовались [материалы](https://github.com/mannefedov/hse_ml_m1/blob/master/7_cnn/cnn.ipynb) из курса Михаила Нефедова."
   ]
  },
  {
   "cell_type": "markdown",
   "metadata": {
    "id": "PdbHKxg6J8Q3"
   },
   "source": [
    "# Сверточный слой"
   ]
  },
  {
   "cell_type": "markdown",
   "metadata": {
    "id": "G20z18IaJ6Y5"
   },
   "source": [
    "\n",
    "\n",
    "\n",
    "Желтое - фильтр (= filter,kernel).\n",
    "\n",
    "Зеленое - входные данные, например, изображение.\n",
    "\n",
    "Розовое - карта активации (activation map).\n",
    "\n",
    "Каждый элемент в розовой матрице - результат поэлементного умножения фильтра на числа из области на входных данных.\n",
    "Обучаемые параметры - элементы фильтра.\n",
    "\n",
    "![Conv](https://image.ibb.co/e6t8ZK/Convolution.gif)\n",
    "\n"
   ]
  },
  {
   "cell_type": "markdown",
   "metadata": {
    "id": "jXNixkx2KHsm"
   },
   "source": [
    "Чтобы не терять размер матрицы используется паддинг.\n",
    "\n",
    "![padding](https://3deep.ru/wp-content/uploads/2020/01/keras_conv2d_padding.gif)\n",
    "\n",
    "from https://3deep.ru/machinelearning/"
   ]
  },
  {
   "cell_type": "markdown",
   "metadata": {
    "id": "qp44YeUKKSem"
   },
   "source": [
    "# Pooling слой  (не обучается)\n",
    "\n",
    "![Pool](https://cs231n.github.io/assets/cnn/pool.jpeg)\n",
    "![maxpool](https://cs231n.github.io/assets/cnn/maxpool.jpeg)"
   ]
  },
  {
   "cell_type": "markdown",
   "metadata": {
    "id": "-VqCU9o5KUmr"
   },
   "source": [
    "# Свертки для текстов устроены немного по-другому. В них на одну размерность меньше.\n",
    "\n",
    "![text-convs](https://image.ibb.co/bC3Xun/2018_03_27_01_24_39.png)\n",
    "\n",
    "From [Character-Aware Neural Language Models](https://arxiv.org/pdf/1508.06615.pdf)"
   ]
  },
  {
   "cell_type": "markdown",
   "metadata": {
    "id": "xXx-iELMKUjt"
   },
   "source": [
    "# CNN для обработки текстов\n",
    "\n"
   ]
  },
  {
   "cell_type": "code",
   "execution_count": 1,
   "metadata": {
    "colab": {
     "base_uri": "https://localhost:8080/"
    },
    "id": "S_LxOOJUyn-E",
    "outputId": "6ad4b0f7-9eaf-4e43-e4db-103ce1603684"
   },
   "outputs": [],
   "source": [
    "#!pip install torchmetrics"
   ]
  },
  {
   "cell_type": "code",
   "execution_count": 2,
   "metadata": {
    "colab": {
     "base_uri": "https://localhost:8080/"
    },
    "id": "NovB599mOf9T",
    "outputId": "9f83601f-e2c1-4d76-e7da-294805cb15eb"
   },
   "outputs": [],
   "source": [
    "#!pip install ipdb"
   ]
  },
  {
   "cell_type": "code",
   "execution_count": 1,
   "metadata": {
    "id": "CgiT9Xow1sd5"
   },
   "outputs": [],
   "source": [
    "import pandas as pd\n",
    "import numpy as np\n",
    "from string import punctuation\n",
    "from collections import Counter\n",
    "\n",
    "from sklearn.model_selection import train_test_split\n",
    "from sklearn.utils import shuffle\n",
    "import torch\n",
    "import torch.nn as nn\n",
    "import torch.nn.functional as F\n",
    "from torch.utils.data import Dataset, DataLoader, RandomSampler, SequentialSampler\n",
    "from torch.nn.utils.rnn import pad_sequence\n",
    "import torch.optim as optim\n",
    "from torchmetrics import F1\n",
    "from torchmetrics.functional import f1, recall\n",
    "import ipdb"
   ]
  },
  {
   "cell_type": "markdown",
   "metadata": {
    "id": "FfxNXovr1sd6"
   },
   "source": [
    "### Слова\n",
    "\n"
   ]
  },
  {
   "cell_type": "markdown",
   "metadata": {
    "id": "sZtLedfF00Ih"
   },
   "source": [
    "### Скачивание и подготовка данных"
   ]
  },
  {
   "cell_type": "code",
   "execution_count": 2,
   "metadata": {
    "colab": {
     "base_uri": "https://localhost:8080/"
    },
    "id": "VEBb-YaTR1os",
    "outputId": "5d4e7170-3a62-4000-8b04-64e79c0179bf"
   },
   "outputs": [],
   "source": [
    "import wget\n",
    "#wget.download(\"https://drive.google.com/uc?export=download&id=1z7avv1JiI30V4cmHJGFIfDEs9iE4SHs5\")"
   ]
  },
  {
   "cell_type": "markdown",
   "metadata": {},
   "source": [
    "Колонки датасета:<br>\n",
    " <br>\n",
    "– дата публикации;<br>\n",
    "– имя автора;<br>\n",
    "– текст твита;<br>\n",
    "– класс, к которому принадлежит текст (положительный, отрицательный, нейтральный);<br>\n",
    "– количество добавлений сообщения в избранное;<br>\n",
    "– количество ретвитов (количество копирований этого сообщения другими пользователями);<br>\n",
    "– количество друзей пользователя;<br>\n",
    "– количество пользователей, у которых данный юзер в друзьях (количество фоловеров);<br>\n",
    "– количество листов, в которых состоит пользователь.<br>"
   ]
  },
  {
   "cell_type": "code",
   "execution_count": 3,
   "metadata": {},
   "outputs": [],
   "source": [
    "type_dict = {1:1, -1:0}"
   ]
  },
  {
   "cell_type": "code",
   "execution_count": 12,
   "metadata": {
    "id": "17_AP7LhLPnv"
   },
   "outputs": [],
   "source": [
    "positive = pd.read_csv('positive.csv', encoding='utf-8', sep=';', usecols=[3,4], names=['text', 'type'])\n",
    "negative = pd.read_csv('negative.csv', encoding='utf-8', sep=';', usecols=[3,4], names=['text', 'type'])\n",
    "data = pd.concat([positive, negative])\n",
    "data['type'] = [type_dict[i] for i in data['type']]\n",
    "data.drop_duplicates(inplace=True)"
   ]
  },
  {
   "cell_type": "code",
   "execution_count": 14,
   "metadata": {},
   "outputs": [
    {
     "data": {
      "text/html": [
       "<div>\n",
       "<style scoped>\n",
       "    .dataframe tbody tr th:only-of-type {\n",
       "        vertical-align: middle;\n",
       "    }\n",
       "\n",
       "    .dataframe tbody tr th {\n",
       "        vertical-align: top;\n",
       "    }\n",
       "\n",
       "    .dataframe thead th {\n",
       "        text-align: right;\n",
       "    }\n",
       "</style>\n",
       "<table border=\"1\" class=\"dataframe\">\n",
       "  <thead>\n",
       "    <tr style=\"text-align: right;\">\n",
       "      <th></th>\n",
       "      <th>text</th>\n",
       "      <th>type</th>\n",
       "    </tr>\n",
       "  </thead>\n",
       "  <tbody>\n",
       "    <tr>\n",
       "      <th>0</th>\n",
       "      <td>@first_timee хоть я и школота, но поверь, у на...</td>\n",
       "      <td>1</td>\n",
       "    </tr>\n",
       "    <tr>\n",
       "      <th>1</th>\n",
       "      <td>Да, все-таки он немного похож на него. Но мой ...</td>\n",
       "      <td>1</td>\n",
       "    </tr>\n",
       "    <tr>\n",
       "      <th>2</th>\n",
       "      <td>RT @KatiaCheh: Ну ты идиотка) я испугалась за ...</td>\n",
       "      <td>1</td>\n",
       "    </tr>\n",
       "    <tr>\n",
       "      <th>3</th>\n",
       "      <td>RT @digger2912: \"Кто то в углу сидит и погибае...</td>\n",
       "      <td>1</td>\n",
       "    </tr>\n",
       "    <tr>\n",
       "      <th>4</th>\n",
       "      <td>@irina_dyshkant Вот что значит страшилка :D\\nН...</td>\n",
       "      <td>1</td>\n",
       "    </tr>\n",
       "    <tr>\n",
       "      <th>...</th>\n",
       "      <td>...</td>\n",
       "      <td>...</td>\n",
       "    </tr>\n",
       "    <tr>\n",
       "      <th>111918</th>\n",
       "      <td>Но не каждый хочет что то исправлять:( http://...</td>\n",
       "      <td>0</td>\n",
       "    </tr>\n",
       "    <tr>\n",
       "      <th>111919</th>\n",
       "      <td>скучаю так :-( только @taaannyaaa вправляет мо...</td>\n",
       "      <td>0</td>\n",
       "    </tr>\n",
       "    <tr>\n",
       "      <th>111920</th>\n",
       "      <td>Вот и в школу, в говно это идти уже надо(</td>\n",
       "      <td>0</td>\n",
       "    </tr>\n",
       "    <tr>\n",
       "      <th>111921</th>\n",
       "      <td>RT @_Them__: @LisaBeroud Тауриэль, не грусти :...</td>\n",
       "      <td>0</td>\n",
       "    </tr>\n",
       "    <tr>\n",
       "      <th>111922</th>\n",
       "      <td>Такси везет меня на работу. Раздумываю приплат...</td>\n",
       "      <td>0</td>\n",
       "    </tr>\n",
       "  </tbody>\n",
       "</table>\n",
       "<p>217440 rows × 2 columns</p>\n",
       "</div>"
      ],
      "text/plain": [
       "                                                     text  type\n",
       "0       @first_timee хоть я и школота, но поверь, у на...     1\n",
       "1       Да, все-таки он немного похож на него. Но мой ...     1\n",
       "2       RT @KatiaCheh: Ну ты идиотка) я испугалась за ...     1\n",
       "3       RT @digger2912: \"Кто то в углу сидит и погибае...     1\n",
       "4       @irina_dyshkant Вот что значит страшилка :D\\nН...     1\n",
       "...                                                   ...   ...\n",
       "111918  Но не каждый хочет что то исправлять:( http://...     0\n",
       "111919  скучаю так :-( только @taaannyaaa вправляет мо...     0\n",
       "111920          Вот и в школу, в говно это идти уже надо(     0\n",
       "111921  RT @_Them__: @LisaBeroud Тауриэль, не грусти :...     0\n",
       "111922  Такси везет меня на работу. Раздумываю приплат...     0\n",
       "\n",
       "[217440 rows x 2 columns]"
      ]
     },
     "execution_count": 14,
     "metadata": {},
     "output_type": "execute_result"
    }
   ],
   "source": [
    "data"
   ]
  },
  {
   "cell_type": "code",
   "execution_count": 15,
   "metadata": {
    "id": "_JYJtXCaERbb"
   },
   "outputs": [],
   "source": [
    "train_data, val_data = train_test_split(data, test_size=0.2, shuffle=True)\n",
    "train_data.reset_index(drop=True, inplace=True)\n",
    "val_data.reset_index(drop=True, inplace=True)"
   ]
  },
  {
   "cell_type": "code",
   "execution_count": 16,
   "metadata": {
    "colab": {
     "base_uri": "https://localhost:8080/"
    },
    "id": "UfA7yoOFA4cm",
    "outputId": "ed113ddd-a4c9-4019-cef1-a60898ecd691"
   },
   "outputs": [
    {
     "data": {
      "text/plain": [
       "0.5079447203826343"
      ]
     },
     "execution_count": 16,
     "metadata": {},
     "output_type": "execute_result"
    }
   ],
   "source": [
    "train_data[train_data.type == 1].shape[0] / train_data.shape[0]"
   ]
  },
  {
   "cell_type": "code",
   "execution_count": 17,
   "metadata": {
    "colab": {
     "base_uri": "https://localhost:8080/",
     "height": 1000
    },
    "id": "45ebLSllFFAW",
    "outputId": "dc094ba1-a780-4e5c-e784-3101463299b6"
   },
   "outputs": [
    {
     "data": {
      "text/html": [
       "<div>\n",
       "<style scoped>\n",
       "    .dataframe tbody tr th:only-of-type {\n",
       "        vertical-align: middle;\n",
       "    }\n",
       "\n",
       "    .dataframe tbody tr th {\n",
       "        vertical-align: top;\n",
       "    }\n",
       "\n",
       "    .dataframe thead th {\n",
       "        text-align: right;\n",
       "    }\n",
       "</style>\n",
       "<table border=\"1\" class=\"dataframe\">\n",
       "  <thead>\n",
       "    <tr style=\"text-align: right;\">\n",
       "      <th></th>\n",
       "      <th>text</th>\n",
       "      <th>type</th>\n",
       "    </tr>\n",
       "  </thead>\n",
       "  <tbody>\n",
       "    <tr>\n",
       "      <th>0</th>\n",
       "      <td>эх, ехать на репу пора((\\nЗавтра уже выступление.</td>\n",
       "      <td>0</td>\n",
       "    </tr>\n",
       "    <tr>\n",
       "      <th>1</th>\n",
       "      <td>Аллергия вышла,из-за этих тупых мандарин(((((((</td>\n",
       "      <td>0</td>\n",
       "    </tr>\n",
       "    <tr>\n",
       "      <th>2</th>\n",
       "      <td>@KompaundTone550 @tatysho власть всегда была б...</td>\n",
       "      <td>1</td>\n",
       "    </tr>\n",
       "    <tr>\n",
       "      <th>3</th>\n",
       "      <td>@Alinockaa А хрен, я гулящая пока, потом насиж...</td>\n",
       "      <td>1</td>\n",
       "    </tr>\n",
       "    <tr>\n",
       "      <th>4</th>\n",
       "      <td>RT @vik_vans: блин, слушала первый мини-альбом...</td>\n",
       "      <td>0</td>\n",
       "    </tr>\n",
       "    <tr>\n",
       "      <th>5</th>\n",
       "      <td>Как же не сделать фото на айфон в зеркале:-D h...</td>\n",
       "      <td>1</td>\n",
       "    </tr>\n",
       "    <tr>\n",
       "      <th>6</th>\n",
       "      <td>Заебись погулял... Мама пуховик постирала ;((</td>\n",
       "      <td>0</td>\n",
       "    </tr>\n",
       "    <tr>\n",
       "      <th>7</th>\n",
       "      <td>#HappyBirthdayLouisfromCIS   Почему я мало пиш...</td>\n",
       "      <td>0</td>\n",
       "    </tr>\n",
       "    <tr>\n",
       "      <th>8</th>\n",
       "      <td>@cobyisnotalone ладно :(\\nмне через полтора ча...</td>\n",
       "      <td>0</td>\n",
       "    </tr>\n",
       "    <tr>\n",
       "      <th>9</th>\n",
       "      <td>@DashaSone вот да, это было бы идеально! Хочу ...</td>\n",
       "      <td>1</td>\n",
       "    </tr>\n",
       "    <tr>\n",
       "      <th>10</th>\n",
       "      <td>@imweirdie ты тогда уже ушла:( ПОКАЖУ ПОТОМ,ТЫ...</td>\n",
       "      <td>0</td>\n",
       "    </tr>\n",
       "    <tr>\n",
       "      <th>11</th>\n",
       "      <td>Вчера разговаривала с Лизой и ей вечно что-то ...</td>\n",
       "      <td>1</td>\n",
       "    </tr>\n",
       "    <tr>\n",
       "      <th>12</th>\n",
       "      <td>Тупо сюжет для новой главы спокойника х) У мен...</td>\n",
       "      <td>1</td>\n",
       "    </tr>\n",
       "    <tr>\n",
       "      <th>13</th>\n",
       "      <td>@AristocratBlood Сочувствую((( Много уроков?</td>\n",
       "      <td>0</td>\n",
       "    </tr>\n",
       "    <tr>\n",
       "      <th>14</th>\n",
       "      <td>@Alina_Evrika Привет! По моей традиции: Мишу т...</td>\n",
       "      <td>1</td>\n",
       "    </tr>\n",
       "    <tr>\n",
       "      <th>15</th>\n",
       "      <td>@RirenaErena АЮ молчит... Неужели снова недово...</td>\n",
       "      <td>1</td>\n",
       "    </tr>\n",
       "    <tr>\n",
       "      <th>16</th>\n",
       "      <td>Именно Мыш, именно без мягкого знака. Потому ч...</td>\n",
       "      <td>1</td>\n",
       "    </tr>\n",
       "    <tr>\n",
       "      <th>17</th>\n",
       "      <td>Кепон Кристиана,йоу \\nАхах,очень здорово повес...</td>\n",
       "      <td>1</td>\n",
       "    </tr>\n",
       "    <tr>\n",
       "      <th>18</th>\n",
       "      <td>RT @Liza_konoval: @MarinaDegtyar а все благода...</td>\n",
       "      <td>1</td>\n",
       "    </tr>\n",
       "    <tr>\n",
       "      <th>19</th>\n",
       "      <td>@mr1garik обычный пневмат)\\nДа, этот всередине...</td>\n",
       "      <td>1</td>\n",
       "    </tr>\n",
       "    <tr>\n",
       "      <th>20</th>\n",
       "      <td>@dmitruksergey много хамства у всех. :( но да,...</td>\n",
       "      <td>0</td>\n",
       "    </tr>\n",
       "    <tr>\n",
       "      <th>21</th>\n",
       "      <td>RT @Terra_Titanic: Артемикус двоится) http://t...</td>\n",
       "      <td>1</td>\n",
       "    </tr>\n",
       "    <tr>\n",
       "      <th>22</th>\n",
       "      <td>Новый год к нам мчится! А к вам? Открытки с но...</td>\n",
       "      <td>1</td>\n",
       "    </tr>\n",
       "    <tr>\n",
       "      <th>23</th>\n",
       "      <td>RT @TataFjord: Снежинка ты наша, недоделанная:...</td>\n",
       "      <td>1</td>\n",
       "    </tr>\n",
       "    <tr>\n",
       "      <th>24</th>\n",
       "      <td>RT @Malou38irk: Наши показали на Чемпионате Ми...</td>\n",
       "      <td>1</td>\n",
       "    </tr>\n",
       "    <tr>\n",
       "      <th>25</th>\n",
       "      <td>Домой хочу( устала http://t.co/mza46tsUh1</td>\n",
       "      <td>0</td>\n",
       "    </tr>\n",
       "    <tr>\n",
       "      <th>26</th>\n",
       "      <td>Поговаривают, что Чак Паланик скончался((</td>\n",
       "      <td>0</td>\n",
       "    </tr>\n",
       "    <tr>\n",
       "      <th>27</th>\n",
       "      <td>Когда шли домой мы были свидетелями жестокой д...</td>\n",
       "      <td>0</td>\n",
       "    </tr>\n",
       "    <tr>\n",
       "      <th>28</th>\n",
       "      <td>\"@KyunneyI: че то сегодня Ланды Христофоровны ...</td>\n",
       "      <td>1</td>\n",
       "    </tr>\n",
       "    <tr>\n",
       "      <th>29</th>\n",
       "      <td>RT @gatizoxifywi: писькой, а я не хочу чтоб он...</td>\n",
       "      <td>0</td>\n",
       "    </tr>\n",
       "    <tr>\n",
       "      <th>30</th>\n",
       "      <td>RT @tipodupevyl: что то я забыл что на фликре ...</td>\n",
       "      <td>1</td>\n",
       "    </tr>\n",
       "    <tr>\n",
       "      <th>31</th>\n",
       "      <td>наконец-то приезжает мамуля!после вчерашних со...</td>\n",
       "      <td>0</td>\n",
       "    </tr>\n",
       "    <tr>\n",
       "      <th>32</th>\n",
       "      <td>Мне попалась манга с типично японским уровнем ...</td>\n",
       "      <td>1</td>\n",
       "    </tr>\n",
       "    <tr>\n",
       "      <th>33</th>\n",
       "      <td>RT @nstkotova: @BelibersTEAM Воу, Воу, Воу))))...</td>\n",
       "      <td>1</td>\n",
       "    </tr>\n",
       "    <tr>\n",
       "      <th>34</th>\n",
       "      <td>RT @kota_Oo_oO: @anstation @Lump_Your_Head хпх...</td>\n",
       "      <td>0</td>\n",
       "    </tr>\n",
       "    <tr>\n",
       "      <th>35</th>\n",
       "      <td>RT @_oolya: @aliya_g_ горячий чай? башкирский ...</td>\n",
       "      <td>1</td>\n",
       "    </tr>\n",
       "    <tr>\n",
       "      <th>36</th>\n",
       "      <td>@Sovalong на 1 корпусе)который напротив школы)...</td>\n",
       "      <td>1</td>\n",
       "    </tr>\n",
       "    <tr>\n",
       "      <th>37</th>\n",
       "      <td>Пора домой... Такая шикарная погода но завтра ...</td>\n",
       "      <td>0</td>\n",
       "    </tr>\n",
       "    <tr>\n",
       "      <th>38</th>\n",
       "      <td>ураа, нашел цепочку! все отлично)\\n#ухьюстонав...</td>\n",
       "      <td>1</td>\n",
       "    </tr>\n",
       "    <tr>\n",
       "      <th>39</th>\n",
       "      <td>RT @Cokolik13: 12 декабря - \"Виктория\"- фестив...</td>\n",
       "      <td>1</td>\n",
       "    </tr>\n",
       "    <tr>\n",
       "      <th>40</th>\n",
       "      <td>да,соглашусь с Юрой.\\nЖестокая суббота не толь...</td>\n",
       "      <td>1</td>\n",
       "    </tr>\n",
       "    <tr>\n",
       "      <th>41</th>\n",
       "      <td>@desmount @mikhailprigara как это не встречал?...</td>\n",
       "      <td>1</td>\n",
       "    </tr>\n",
       "    <tr>\n",
       "      <th>42</th>\n",
       "      <td>а из-за большой разницы в возрасте с сестренко...</td>\n",
       "      <td>1</td>\n",
       "    </tr>\n",
       "    <tr>\n",
       "      <th>43</th>\n",
       "      <td>RT @cujaqyfumyr: Наплодил кучу аккаунтов, а уд...</td>\n",
       "      <td>0</td>\n",
       "    </tr>\n",
       "    <tr>\n",
       "      <th>44</th>\n",
       "      <td>@7thousandmiles_ азхахаха, ну да, знаю я твое ...</td>\n",
       "      <td>1</td>\n",
       "    </tr>\n",
       "    <tr>\n",
       "      <th>45</th>\n",
       "      <td>В любом случае, ты был в пустыне. 3:-) #TeamFo...</td>\n",
       "      <td>1</td>\n",
       "    </tr>\n",
       "    <tr>\n",
       "      <th>46</th>\n",
       "      <td>я точно дочь своей мамы\\nу мамы заболела спина...</td>\n",
       "      <td>0</td>\n",
       "    </tr>\n",
       "    <tr>\n",
       "      <th>47</th>\n",
       "      <td>@Soukhinov И всё? :) А ты попробовал бы :) Я с...</td>\n",
       "      <td>1</td>\n",
       "    </tr>\n",
       "    <tr>\n",
       "      <th>48</th>\n",
       "      <td>Q: Привет, ты мне дико нравишься, но я стесняю...</td>\n",
       "      <td>0</td>\n",
       "    </tr>\n",
       "    <tr>\n",
       "      <th>49</th>\n",
       "      <td>RT @Nastia_GD: @_sing_to_me_ @dead_music666 ну...</td>\n",
       "      <td>1</td>\n",
       "    </tr>\n",
       "  </tbody>\n",
       "</table>\n",
       "</div>"
      ],
      "text/plain": [
       "                                                 text  type\n",
       "0   эх, ехать на репу пора((\\nЗавтра уже выступление.     0\n",
       "1     Аллергия вышла,из-за этих тупых мандарин(((((((     0\n",
       "2   @KompaundTone550 @tatysho власть всегда была б...     1\n",
       "3   @Alinockaa А хрен, я гулящая пока, потом насиж...     1\n",
       "4   RT @vik_vans: блин, слушала первый мини-альбом...     0\n",
       "5   Как же не сделать фото на айфон в зеркале:-D h...     1\n",
       "6       Заебись погулял... Мама пуховик постирала ;((     0\n",
       "7   #HappyBirthdayLouisfromCIS   Почему я мало пиш...     0\n",
       "8   @cobyisnotalone ладно :(\\nмне через полтора ча...     0\n",
       "9   @DashaSone вот да, это было бы идеально! Хочу ...     1\n",
       "10  @imweirdie ты тогда уже ушла:( ПОКАЖУ ПОТОМ,ТЫ...     0\n",
       "11  Вчера разговаривала с Лизой и ей вечно что-то ...     1\n",
       "12  Тупо сюжет для новой главы спокойника х) У мен...     1\n",
       "13       @AristocratBlood Сочувствую((( Много уроков?     0\n",
       "14  @Alina_Evrika Привет! По моей традиции: Мишу т...     1\n",
       "15  @RirenaErena АЮ молчит... Неужели снова недово...     1\n",
       "16  Именно Мыш, именно без мягкого знака. Потому ч...     1\n",
       "17  Кепон Кристиана,йоу \\nАхах,очень здорово повес...     1\n",
       "18  RT @Liza_konoval: @MarinaDegtyar а все благода...     1\n",
       "19  @mr1garik обычный пневмат)\\nДа, этот всередине...     1\n",
       "20  @dmitruksergey много хамства у всех. :( но да,...     0\n",
       "21  RT @Terra_Titanic: Артемикус двоится) http://t...     1\n",
       "22  Новый год к нам мчится! А к вам? Открытки с но...     1\n",
       "23  RT @TataFjord: Снежинка ты наша, недоделанная:...     1\n",
       "24  RT @Malou38irk: Наши показали на Чемпионате Ми...     1\n",
       "25          Домой хочу( устала http://t.co/mza46tsUh1     0\n",
       "26          Поговаривают, что Чак Паланик скончался((     0\n",
       "27  Когда шли домой мы были свидетелями жестокой д...     0\n",
       "28  \"@KyunneyI: че то сегодня Ланды Христофоровны ...     1\n",
       "29  RT @gatizoxifywi: писькой, а я не хочу чтоб он...     0\n",
       "30  RT @tipodupevyl: что то я забыл что на фликре ...     1\n",
       "31  наконец-то приезжает мамуля!после вчерашних со...     0\n",
       "32  Мне попалась манга с типично японским уровнем ...     1\n",
       "33  RT @nstkotova: @BelibersTEAM Воу, Воу, Воу))))...     1\n",
       "34  RT @kota_Oo_oO: @anstation @Lump_Your_Head хпх...     0\n",
       "35  RT @_oolya: @aliya_g_ горячий чай? башкирский ...     1\n",
       "36  @Sovalong на 1 корпусе)который напротив школы)...     1\n",
       "37  Пора домой... Такая шикарная погода но завтра ...     0\n",
       "38  ураа, нашел цепочку! все отлично)\\n#ухьюстонав...     1\n",
       "39  RT @Cokolik13: 12 декабря - \"Виктория\"- фестив...     1\n",
       "40  да,соглашусь с Юрой.\\nЖестокая суббота не толь...     1\n",
       "41  @desmount @mikhailprigara как это не встречал?...     1\n",
       "42  а из-за большой разницы в возрасте с сестренко...     1\n",
       "43  RT @cujaqyfumyr: Наплодил кучу аккаунтов, а уд...     0\n",
       "44  @7thousandmiles_ азхахаха, ну да, знаю я твое ...     1\n",
       "45  В любом случае, ты был в пустыне. 3:-) #TeamFo...     1\n",
       "46  я точно дочь своей мамы\\nу мамы заболела спина...     0\n",
       "47  @Soukhinov И всё? :) А ты попробовал бы :) Я с...     1\n",
       "48  Q: Привет, ты мне дико нравишься, но я стесняю...     0\n",
       "49  RT @Nastia_GD: @_sing_to_me_ @dead_music666 ну...     1"
      ]
     },
     "execution_count": 17,
     "metadata": {},
     "output_type": "execute_result"
    }
   ],
   "source": [
    "train_data.head(50)"
   ]
  },
  {
   "cell_type": "markdown",
   "metadata": {},
   "source": [
    "Ну что ж... Где-то здесь должен возникнуть препроцессинг, и он возникнет"
   ]
  },
  {
   "cell_type": "code",
   "execution_count": 18,
   "metadata": {},
   "outputs": [],
   "source": [
    "#!python -m spacy download ru_core_news_sm\n",
    "import spacy\n",
    "from tqdm import tqdm\n",
    "nlp = spacy.load(\"ru_core_news_sm\")"
   ]
  },
  {
   "cell_type": "code",
   "execution_count": 23,
   "metadata": {},
   "outputs": [],
   "source": [
    "import re\n",
    "def preprocess(text, nlp):\n",
    "    doc = nlp(text)\n",
    "    #postags_stop = ['ADP', 'AUX', 'CCONJ', 'DET', 'INTJ', 'PART', 'PRON', 'PUNCT', 'SCONJ']\n",
    "    stops = ['\\n', '\\t']\n",
    "    lemms = []\n",
    "    #doc = re.split('[ \\n\\t,.]', text)\n",
    "    #print(doc)\n",
    "    for word in doc:\n",
    "        if word.lemma_ not in stops:\n",
    "            #lemms.append(word.strip('#,.*\\'\\\"@!?-^$:;').rstrip('():***').lower())\n",
    "            lemms.append(word.lemma_.lower())\n",
    "    return ' '.join(lemms)"
   ]
  },
  {
   "cell_type": "code",
   "execution_count": 24,
   "metadata": {},
   "outputs": [
    {
     "data": {
      "text/plain": [
       "'@greenloshadka уиии , круто ) беларусь , минск ...'"
      ]
     },
     "execution_count": 24,
     "metadata": {},
     "output_type": "execute_result"
    }
   ],
   "source": [
    "preprocess('@GREENloshadka уиии, круто)\\nбеларусь, минск\\n...\t', nlp)"
   ]
  },
  {
   "cell_type": "markdown",
   "metadata": {},
   "source": [
    "Почему мы можем трогать только train_data? Потому что иначе может попасть что-нибудь из теста. Вероятно, будет не очень заментно, но исключать возможность не стоит, и на уровне слов она больше, чем на уровне символов"
   ]
  },
  {
   "cell_type": "code",
   "execution_count": 35,
   "metadata": {
    "colab": {
     "base_uri": "https://localhost:8080/"
    },
    "id": "T8t4nDCR1sd-",
    "outputId": "d9acca2c-31d3-463d-a2d2-6bcdc127db49"
   },
   "outputs": [
    {
     "name": "stderr",
     "output_type": "stream",
     "text": [
      "100%|█████████████████████████████████████████████████████████████████████████████████████████████████████████████████████████████| 173952/173952 [28:50<00:00, 100.52it/s]"
     ]
    },
    {
     "name": "stdout",
     "output_type": "stream",
     "text": [
      "всего уникальных слов: 236059\n"
     ]
    },
    {
     "name": "stderr",
     "output_type": "stream",
     "text": [
      "\n"
     ]
    }
   ],
   "source": [
    "texts_of_lemms = []\n",
    "vocab = Counter()\n",
    "for text in tqdm(train_data['text']):\n",
    "    lemma_text = preprocess(text, nlp)\n",
    "    vocab.update(lemma_text.split(' '))\n",
    "    texts_of_lemms.append(lemma_text)\n",
    "print('всего уникальных слов:', len(vocab))"
   ]
  },
  {
   "cell_type": "code",
   "execution_count": 26,
   "metadata": {
    "colab": {
     "base_uri": "https://localhost:8080/"
    },
    "collapsed": true,
    "id": "TFlVinuMObSL",
    "outputId": "fed8ab1c-c343-4b90-f432-6a27190e3cba"
   },
   "outputs": [
    {
     "data": {
      "text/plain": [
       "Counter({'эх': 697,\n",
       "         ',': 143900,\n",
       "         'ехать': 1089,\n",
       "         'на': 28911,\n",
       "         'репа': 23,\n",
       "         'пора': 998,\n",
       "         '(': 117281,\n",
       "         'завтра': 4052,\n",
       "         'уже': 8353,\n",
       "         'выступление': 117,\n",
       "         '.': 45625,\n",
       "         'аллергия': 89,\n",
       "         'выйти': 903,\n",
       "         'из': 5395,\n",
       "         '-': 25650,\n",
       "         'за': 9271,\n",
       "         'этот': 7575,\n",
       "         'тупой': 406,\n",
       "         'мандарин': 88,\n",
       "         '@kompaundtone550': 1,\n",
       "         '@tatysho': 1,\n",
       "         'власть': 122,\n",
       "         'всегда': 2344,\n",
       "         'была': 1543,\n",
       "         'бандитский': 3,\n",
       "         'просто': 5102,\n",
       "         'теперь': 4287,\n",
       "         'об': 644,\n",
       "         'знать': 5216,\n",
       "         'весь': 9016,\n",
       "         'мир': 742,\n",
       "         'они': 2711,\n",
       "         'сами': 223,\n",
       "         'себя': 3617,\n",
       "         'имидж': 7,\n",
       "         'сделать': 2275,\n",
       "         ')': 111651,\n",
       "         '@alinockaa': 1,\n",
       "         'а': 26921,\n",
       "         'хрен': 203,\n",
       "         'я': 50091,\n",
       "         'гулящая': 1,\n",
       "         'пока': 1758,\n",
       "         'потом': 2099,\n",
       "         'насидеться': 2,\n",
       "         'дома': 1349,\n",
       "         ':': 38090,\n",
       "         'dd': 947,\n",
       "         'но': 12118,\n",
       "         'сегодня': 6666,\n",
       "         'буду': 3188,\n",
       "         'спаааааать!:ddd': 1,\n",
       "         'rt': 26307,\n",
       "         '@vik_vans': 12,\n",
       "         'блин': 3056,\n",
       "         'слушать': 800,\n",
       "         'первый': 2127,\n",
       "         'мини': 58,\n",
       "         'альбом': 208,\n",
       "         'эксо': 16,\n",
       "         'и': 46208,\n",
       "         'как': 17562,\n",
       "         'то': 15161,\n",
       "         'грустно': 61,\n",
       "         'стать': 1664,\n",
       "         'хотеть': 8717,\n",
       "         'эра': 9,\n",
       "         'мама': 2148,\n",
       "         ':(': 24405,\n",
       "         'же': 7588,\n",
       "         'не': 57518,\n",
       "         'фото': 669,\n",
       "         'айфон': 206,\n",
       "         'в': 43404,\n",
       "         'зеркале:-d': 1,\n",
       "         'http://t.co/oz8twzzpxc': 1,\n",
       "         'заебись': 111,\n",
       "         'погулял': 13,\n",
       "         '...': 16720,\n",
       "         'пуховик': 27,\n",
       "         'постирать': 12,\n",
       "         ';': 4298,\n",
       "         '#': 14035,\n",
       "         'happybirthdaylouisfromcis': 4,\n",
       "         '': 25585,\n",
       "         'почему': 3047,\n",
       "         'мало': 809,\n",
       "         'писать': 2238,\n",
       "         'тви': 482,\n",
       "         '99;;((99': 1,\n",
       "         '@cobyisnotalone': 2,\n",
       "         'ладно': 795,\n",
       "         'мне': 14325,\n",
       "         'через': 1325,\n",
       "         'полтора': 132,\n",
       "         'час': 2219,\n",
       "         'только': 7170,\n",
       "         '@dashasone': 1,\n",
       "         'вот': 7614,\n",
       "         'да': 7310,\n",
       "         'это': 16628,\n",
       "         'было': 3496,\n",
       "         'бы': 6360,\n",
       "         'идеальный': 203,\n",
       "         '!': 44596,\n",
       "         'все': 9118,\n",
       "         'примерно': 109,\n",
       "         'так': 14631,\n",
       "         '@imweirdie': 2,\n",
       "         'ты': 11883,\n",
       "         'тогда': 1182,\n",
       "         'уйти': 717,\n",
       "         'покажу': 8,\n",
       "         'уржешься': 1,\n",
       "         'думаю': 14,\n",
       "         'вчера': 1457,\n",
       "         'разговаривать': 286,\n",
       "         'с': 23064,\n",
       "         'лиза': 91,\n",
       "         'ей': 745,\n",
       "         'вечно': 216,\n",
       "         'что': 29934,\n",
       "         'казаться': 1140,\n",
       "         ':)': 14365,\n",
       "         'птом': 1,\n",
       "         'чуть': 860,\n",
       "         'обосрали': 8,\n",
       "         'энрики': 1,\n",
       "         'её': 1134,\n",
       "         'остановить': 45,\n",
       "         'люблюеё': 1,\n",
       "         '&': 788,\n",
       "         'lt;3': 237,\n",
       "         'тупо': 198,\n",
       "         'сюжет': 68,\n",
       "         'для': 3351,\n",
       "         'новый': 3981,\n",
       "         'глава': 85,\n",
       "         'спокойника': 1,\n",
       "         'х': 975,\n",
       "         'у': 17236,\n",
       "         'меня': 16752,\n",
       "         'паника': 58,\n",
       "         'орать': 103,\n",
       "         'собака': 314,\n",
       "         'лаять': 9,\n",
       "         'пиздец': 728,\n",
       "         '@aristocratblood': 1,\n",
       "         'сочувствовать': 104,\n",
       "         'много': 1664,\n",
       "         'урок': 1409,\n",
       "         '?': 24539,\n",
       "         '@alina_evrika': 4,\n",
       "         'привет': 961,\n",
       "         'по': 9821,\n",
       "         'мой': 9192,\n",
       "         'традиция': 94,\n",
       "         'миша': 59,\n",
       "         'тебе': 4445,\n",
       "         'http://t.co/s6x3uqxslc': 2,\n",
       "         '@rirenaerena': 6,\n",
       "         'ая': 11,\n",
       "         'молчать': 122,\n",
       "         'неужели': 225,\n",
       "         'снова': 983,\n",
       "         'недовольный': 36,\n",
       "         'спектакль': 57,\n",
       "         'отзыв': 48,\n",
       "         'вроде': 1061,\n",
       "         'хороший': 5666,\n",
       "         'от': 4627,\n",
       "         'новенький': 63,\n",
       "         'важный': 354,\n",
       "         'именно': 639,\n",
       "         'мыш': 2,\n",
       "         'без': 2695,\n",
       "         'мягкий': 61,\n",
       "         'знак': 94,\n",
       "         'потому': 1315,\n",
       "         'он': 5310,\n",
       "         ':d': 12163,\n",
       "         'кепон': 1,\n",
       "         'кристиана': 1,\n",
       "         'йоу': 46,\n",
       "         'ахах': 1221,\n",
       "         'очень': 5722,\n",
       "         'здорово': 71,\n",
       "         'повеселиться': 20,\n",
       "         'http://t.co/wkg2qlzd7y': 1,\n",
       "         '@liza_konoval': 3,\n",
       "         '@marinadegtyar': 4,\n",
       "         'благодаря': 94,\n",
       "         'коршунов': 1,\n",
       "         'епта': 33,\n",
       "         'спасиба': 14,\n",
       "         'ему': 887,\n",
       "         'шоле': 2,\n",
       "         ':*': 3218,\n",
       "         '@mr1garik': 3,\n",
       "         'обычный': 202,\n",
       "         'пневмат': 1,\n",
       "         'всередине': 1,\n",
       "         'железный': 48,\n",
       "         'тут': 2687,\n",
       "         'пластмасса': 3,\n",
       "         '@dmitruksergey': 1,\n",
       "         'хамство': 4,\n",
       "         'всех': 1013,\n",
       "         'восток': 20,\n",
       "         'больше': 2482,\n",
       "         '@terra_titanic': 1,\n",
       "         'артемикус': 1,\n",
       "         'двоиться': 1,\n",
       "         'http://t.co/turxtkmxnf': 1,\n",
       "         'год': 4977,\n",
       "         'к': 5228,\n",
       "         'нам': 1349,\n",
       "         'мчаться': 12,\n",
       "         'вам': 1400,\n",
       "         'открытка': 53,\n",
       "         'новогодний': 917,\n",
       "         'настроение': 2233,\n",
       "         'http://t.co/q4zjuoqdpb': 1,\n",
       "         '@tatafjord': 4,\n",
       "         'снежинка': 74,\n",
       "         'наш': 2005,\n",
       "         'недоделанная': 1,\n",
       "         'ddd': 471,\n",
       "         'биатлон': 116,\n",
       "         'http://t.co/kqbrcz1bpi': 1,\n",
       "         '@malou38irk': 1,\n",
       "         'показать': 320,\n",
       "         'чемпионат': 33,\n",
       "         'сибирь': 37,\n",
       "         'тащить': 51,\n",
       "         'домой': 1270,\n",
       "         'устать': 656,\n",
       "         'http://t.co/mza46tsuh1': 1,\n",
       "         'поговаривать': 2,\n",
       "         'чак': 12,\n",
       "         'паланик': 3,\n",
       "         'скончаться': 28,\n",
       "         'когда': 6082,\n",
       "         'идти': 2587,\n",
       "         'мы': 5047,\n",
       "         'были': 737,\n",
       "         'свидетель': 14,\n",
       "         'жестокий': 81,\n",
       "         'драка': 27,\n",
       "         'двое': 102,\n",
       "         'одного': 416,\n",
       "         'честно': 392,\n",
       "         'ребят': 337,\n",
       "         '\"': 17467,\n",
       "         '@kyunneyi': 2,\n",
       "         'че': 776,\n",
       "         'ланды': 1,\n",
       "         'христофорович': 1,\n",
       "         'видно': 282,\n",
       "         'скоро': 1472,\n",
       "         '@gatizoxifywi': 1,\n",
       "         'писькой': 5,\n",
       "         'чтоб': 670,\n",
       "         'называть': 270,\n",
       "         'тебя': 5791,\n",
       "         '@tipodupevyl': 3,\n",
       "         'забыть': 1330,\n",
       "         'фликре': 2,\n",
       "         'ещё': 2059,\n",
       "         'состаю': 3,\n",
       "         'пара': 1198,\n",
       "         'freebsd': 10,\n",
       "         'bsd': 4,\n",
       "         'комьюнити': 5,\n",
       "         'закинуть': 34,\n",
       "         'несколько': 363,\n",
       "         'фотка': 900,\n",
       "         'конференция': 65,\n",
       "         'наконец': 738,\n",
       "         'приезжать': 216,\n",
       "         'мамуля!после': 1,\n",
       "         'вчерашний': 224,\n",
       "         'событие': 147,\n",
       "         'бояться': 851,\n",
       "         'вокзал': 109,\n",
       "         'попасться': 79,\n",
       "         'манга': 9,\n",
       "         'типично': 1,\n",
       "         'японский': 46,\n",
       "         'уровень': 145,\n",
       "         'шизофрения': 10,\n",
       "         'маленький': 716,\n",
       "         'девочка': 776,\n",
       "         'ходить': 1236,\n",
       "         'город': 858,\n",
       "         'приставать': 15,\n",
       "         'мужик': 413,\n",
       "         'проси': 8,\n",
       "         '@nstkotova': 3,\n",
       "         '@belibersteam': 4,\n",
       "         'воу': 194,\n",
       "         'какой': 4728,\n",
       "         'строгий': 20,\n",
       "         '@kota_oo_oo': 42,\n",
       "         '@anstation': 15,\n",
       "         '@lump_your_head': 3,\n",
       "         'хпхпхп': 1,\n",
       "         'любить': 4119,\n",
       "         '*': 5136,\n",
       "         'пхпхапаъхпах': 1,\n",
       "         '@_oolya': 3,\n",
       "         '@aliya_g': 5,\n",
       "         '_': 8112,\n",
       "         'горячий': 184,\n",
       "         'чай': 492,\n",
       "         'башкирский': 5,\n",
       "         'мёд': 64,\n",
       "         '@sovalong': 2,\n",
       "         '1': 899,\n",
       "         'корпусе)который': 1,\n",
       "         'напротив': 37,\n",
       "         'школы)так': 1,\n",
       "         'крыша': 64,\n",
       "         'над': 412,\n",
       "         'крыльцом': 1,\n",
       "         'ёлка': 713,\n",
       "         'стоить': 814,\n",
       "         'такой': 8671,\n",
       "         'шикарный': 262,\n",
       "         'погода': 615,\n",
       "         'дело': 1625,\n",
       "         'ураа': 26,\n",
       "         'найти': 1486,\n",
       "         'цепочка': 18,\n",
       "         'отличный': 788,\n",
       "         'ухьюстонавсеотлично': 1,\n",
       "         '@cokolik13': 1,\n",
       "         '12': 356,\n",
       "         'декабрь': 423,\n",
       "         'виктория\"-': 1,\n",
       "         'фестиваль': 32,\n",
       "         'добро': 256,\n",
       "         'согласиться': 96,\n",
       "         'юра': 23,\n",
       "         'суббота': 509,\n",
       "         'него': 1238,\n",
       "         '..': 8735,\n",
       "         '@desmount': 1,\n",
       "         '@mikhailprigara': 1,\n",
       "         'встречать': 189,\n",
       "         'диджей': 15,\n",
       "         'скоробогатый': 1,\n",
       "         'большой': 638,\n",
       "         'разница': 115,\n",
       "         'возраст': 133,\n",
       "         'сестрёнка': 44,\n",
       "         'она': 3500,\n",
       "         'вообще': 3749,\n",
       "         'ребёнок': 812,\n",
       "         '@cujaqyfumyr': 5,\n",
       "         'наплодить': 3,\n",
       "         'куча': 390,\n",
       "         'аккаунт': 96,\n",
       "         'удалить': 266,\n",
       "         'некак': 3,\n",
       "         '@7thousandmiles': 1,\n",
       "         'азхахаха': 2,\n",
       "         'ну': 9971,\n",
       "         'твой': 1878,\n",
       "         'немножко': 80,\n",
       "         'тем': 529,\n",
       "         'более': 444,\n",
       "         'со': 2393,\n",
       "         'мной': 1015,\n",
       "         'бывать': 712,\n",
       "         'множко': 1,\n",
       "         'любой': 385,\n",
       "         'случай': 365,\n",
       "         'был': 1748,\n",
       "         'пустыня': 6,\n",
       "         '3:-': 11,\n",
       "         'teamfollowback': 186,\n",
       "         'точно': 931,\n",
       "         'дочь': 75,\n",
       "         'свой': 4170,\n",
       "         'заболеть': 612,\n",
       "         'спина.поехали': 1,\n",
       "         'костоправу.решили': 1,\n",
       "         'осанка': 1,\n",
       "         'поправить': 9,\n",
       "         'ниче': 118,\n",
       "         'болеть': 1930,\n",
       "         '@soukhinov': 1,\n",
       "         'всё': 3223,\n",
       "         'попробовать': 211,\n",
       "         'будущий': 73,\n",
       "         'жена': 284,\n",
       "         'тоже': 4112,\n",
       "         'встречаться': 120,\n",
       "         'предложение': 132,\n",
       "         'получиться': 745,\n",
       "         'q': 245,\n",
       "         'дико': 158,\n",
       "         'нравишься': 43,\n",
       "         'стесняться': 55,\n",
       "         'подойти': 163,\n",
       "         'начать': 1002,\n",
       "         'общение': 131,\n",
       "         'a': 321,\n",
       "         'http://t.co/lphybsfavf': 1,\n",
       "         '@nastia_gd': 8,\n",
       "         '@_sing_to_me': 3,\n",
       "         '@dead_music666': 25,\n",
       "         'еще': 6607,\n",
       "         'нет': 6011,\n",
       "         'группа': 544,\n",
       "         'планировать': 124,\n",
       "         'сходить': 667,\n",
       "         'дискотека': 78,\n",
       "         'ли?:d': 9,\n",
       "         'http://t.co/thn1hxj0mn': 1,\n",
       "         'лень': 455,\n",
       "         'учёба': 455,\n",
       "         'решить': 896,\n",
       "         'пойти': 2506,\n",
       "         'нет=': 9,\n",
       "         '):': 96,\n",
       "         '@antipovaaa69': 1,\n",
       "         'выпускать': 39,\n",
       "         'даже': 4051,\n",
       "         '@sotenko': 1,\n",
       "         '@suristor': 1,\n",
       "         'морально)не': 1,\n",
       "         'считать': 405,\n",
       "         'нужный': 2654,\n",
       "         'про': 2301,\n",
       "         'если': 4367,\n",
       "         'кто': 6579,\n",
       "         'достаёт': 4,\n",
       "         'им': 557,\n",
       "         'http://t.co/yug9k43omz': 1,\n",
       "         'препод': 128,\n",
       "         'поприкалывались': 2,\n",
       "         'красный': 293,\n",
       "         'глаз': 843,\n",
       "         'заспанный': 2,\n",
       "         'лицо': 528,\n",
       "         'готовиться': 349,\n",
       "         'да%': 1,\n",
       "         'блиииинчик': 1,\n",
       "         'круто': 314,\n",
       "         'элинку': 1,\n",
       "         'встретить': 304,\n",
       "         'саша': 278,\n",
       "         'после': 1893,\n",
       "         'прекрасный': 694,\n",
       "         'день': 7904,\n",
       "         'скачок': 4,\n",
       "         'чувствовать': 853,\n",
       "         'везти': 196,\n",
       "         ':-)': 1651,\n",
       "         'ff': 121,\n",
       "         'мать': 252,\n",
       "         'пластиковый': 18,\n",
       "         'стаканчик': 19,\n",
       "         '—': 3543,\n",
       "         'зло': 141,\n",
       "         ':-(': 1114,\n",
       "         '@al_kamenetskaya': 1,\n",
       "         'вдруг': 347,\n",
       "         'свалю': 12,\n",
       "         'конечно': 1335,\n",
       "         'полевой': 4,\n",
       "         'матюхов': 1,\n",
       "         'приехать': 858,\n",
       "         'пермь': 32,\n",
       "         'ааааааааааааа': 9,\n",
       "         '@fantastic_and': 4,\n",
       "         'показывать': 267,\n",
       "         'ответить': 328,\n",
       "         'русский': 635,\n",
       "         'рок': 115,\n",
       "         '@valeramod': 2,\n",
       "         'спасибо': 3203,\n",
       "         'предыдущиий': 1,\n",
       "         'ответ': 342,\n",
       "         'мочь': 6923,\n",
       "         'поскользнуться': 6,\n",
       "         'ровный': 32,\n",
       "         'место': 1010,\n",
       "         'того': 1062,\n",
       "         'потянуть': 39,\n",
       "         'рука': 1054,\n",
       "         'таки': 1013,\n",
       "         'мило': 158,\n",
       "         'сторона': 372,\n",
       "         '^^': 316,\n",
       "         'самом': 419,\n",
       "         'парень': 1074,\n",
       "         'который': 815,\n",
       "         'косить': 18,\n",
       "         'под': 1346,\n",
       "         'девушка': 928,\n",
       "         '@atompatricia': 1,\n",
       "         'лалка': 20,\n",
       "         'твит': 944,\n",
       "         'потерять': 400,\n",
       "         'муз': 28,\n",
       "         'сл': 7,\n",
       "         'с.': 10,\n",
       "         'филиппов': 1,\n",
       "         'песня': 1091,\n",
       "         'написать': 1660,\n",
       "         '@oxygen_star': 1,\n",
       "         '…': 2655,\n",
       "         'http://t.co/xff7yuyr0c': 1,\n",
       "         'ахаха': 1071,\n",
       "         '@kate_midnight': 1,\n",
       "         'разгадать': 6,\n",
       "         'полгода': 86,\n",
       "         'понадобиться': 34,\n",
       "         'картинка': 327,\n",
       "         'плюс': 178,\n",
       "         'отсутствие': 108,\n",
       "         'заставить': 224,\n",
       "         'задуматься': 53,\n",
       "         'до': 4009,\n",
       "         'свидание': 42,\n",
       "         'личный': 198,\n",
       "         'жизнь': 2476,\n",
       "         'нас': 3286,\n",
       "         'друг': 2059,\n",
       "         'друга': 233,\n",
       "         'понимать': 1523,\n",
       "         'http://t.co/rkjrxrw7ni': 1,\n",
       "         '@dasha_testelec': 1,\n",
       "         'оуоуоуоу': 1,\n",
       "         'потрудиться': 7,\n",
       "         'прийдеться': 5,\n",
       "         'удачки': 16,\n",
       "         'там': 3942,\n",
       "         '@inkara1998': 2,\n",
       "         '@onedirection': 6,\n",
       "         'хочуууууу': 10,\n",
       "         ':(((': 2078,\n",
       "         '@yascheritsa007': 1,\n",
       "         'плохой': 1743,\n",
       "         'гуманитарий': 12,\n",
       "         'раз': 2930,\n",
       "         'задумываешься': 5,\n",
       "         'о': 3934,\n",
       "         'порка': 2,\n",
       "         '@koryakish': 1,\n",
       "         'нами': 226,\n",
       "         'кстати': 916,\n",
       "         'др': 488,\n",
       "         'явно': 167,\n",
       "         'обделить': 2,\n",
       "         '@lapochka1588': 4,\n",
       "         'бросать': 52,\n",
       "         'бросить': 173,\n",
       "         'момент': 779,\n",
       "         'нежность': 29,\n",
       "         'woman.ru': 1,\n",
       "         'http://t.co/rsvlwxfzhw': 1,\n",
       "         'всем': 1117,\n",
       "         'доброе': 43,\n",
       "         ';)': 3582,\n",
       "         'нормально': 388,\n",
       "         'начался': 2,\n",
       "         'начало': 407,\n",
       "         '....': 2654,\n",
       "         'похожий': 557,\n",
       "         'ведь': 1209,\n",
       "         'контрольная': 37,\n",
       "         'матану': 30,\n",
       "         'желание': 560,\n",
       "         'голова': 1395,\n",
       "         'трещит': 16,\n",
       "         '@izmaylovamail': 7,\n",
       "         'говорить': 2698,\n",
       "         'раньше': 833,\n",
       "         'тот': 3665,\n",
       "         'где': 2059,\n",
       "         'появиться': 346,\n",
       "         'дом': 1320,\n",
       "         'цыганка': 3,\n",
       "         'ее': 1085,\n",
       "         'вместе': 595,\n",
       "         'ним': 630,\n",
       "         'сжечь': 44,\n",
       "         '@agatacrysty': 7,\n",
       "         'думать': 3056,\n",
       "         'индия': 22,\n",
       "         'коробка': 77,\n",
       "         'отрадный': 5,\n",
       "         'россия': 650,\n",
       "         'прохладный': 11,\n",
       "         'особенно': 520,\n",
       "         'зима': 918,\n",
       "         'лента': 834,\n",
       "         'впечатление': 100,\n",
       "         'киев': 221,\n",
       "         'чувство': 723,\n",
       "         'одна': 623,\n",
       "         'провести': 394,\n",
       "         'выходной': 859,\n",
       "         'беларусь': 48,\n",
       "         '@yulyashka1': 1,\n",
       "         'очередной': 262,\n",
       "         'нелёгкий': 23,\n",
       "         'победа': 168,\n",
       "         '/': 1738,\n",
       "         '13:00': 9,\n",
       "         'шк': 279,\n",
       "         '№': 68,\n",
       "         '114': 1,\n",
       "         'vs': 22,\n",
       "         '42': 21,\n",
       "         'ждать': 1955,\n",
       "         'болельщик': 28,\n",
       "         'десктоп': 8,\n",
       "         'тепловат': 2,\n",
       "         'сейчас': 3289,\n",
       "         'прямо': 278,\n",
       "         'чуствую': 10,\n",
       "         'нога': 772,\n",
       "         'тепло': 147,\n",
       "         'сеанс': 36,\n",
       "         'mw2': 2,\n",
       "         '@barabanoanasty': 6,\n",
       "         'оусс': 1,\n",
       "         'давать': 1392,\n",
       "         'повангуй': 2,\n",
       "         'проверить': 120,\n",
       "         'способность': 41,\n",
       "         'лягла': 6,\n",
       "         'спать': 2995,\n",
       "         'взять': 801,\n",
       "         'розбудили': 5,\n",
       "         '@donpadonag': 1,\n",
       "         'хуя': 39,\n",
       "         'нести': 107,\n",
       "         'ж': 1054,\n",
       "         'умолчание': 3,\n",
       "         'добрый': 1604,\n",
       "         'утро:(((я': 1,\n",
       "         'выспаться': 399,\n",
       "         'задавать': 102,\n",
       "         'английский': 452,\n",
       "         'школьному+ещё': 1,\n",
       "         'факультотив': 1,\n",
       "         '@kirillrogatko': 2,\n",
       "         'сбыться': 79,\n",
       "         'сказать': 2936,\n",
       "         'даа': 343,\n",
       "         'чем': 1255,\n",
       "         'заниматься': 277,\n",
       "         'вечер': 1688,\n",
       "         'http://t.co/lbhjsplaeq': 1,\n",
       "         'помощь': 289,\n",
       "         '@youtube': 113,\n",
       "         '@stasslu': 2,\n",
       "         'чувак': 484,\n",
       "         'краб': 7,\n",
       "         'протрезветь': 2,\n",
       "         'нг': 1199,\n",
       "         'порадовать': 150,\n",
       "         'быть': 6710,\n",
       "         'возможность': 185,\n",
       "         'правильно': 274,\n",
       "         'фёти': 1,\n",
       "         'сэкондс': 1,\n",
       "         'марс': 64,\n",
       "         'или': 2637,\n",
       "         'фёрти.или': 1,\n",
       "         'иначе': 209,\n",
       "         'http://t.co/gsg6ranyta': 1,\n",
       "         '@kleka903': 1,\n",
       "         'ни': 1974,\n",
       "         '10': 873,\n",
       "         'полюбить': 59,\n",
       "         'мираи': 1,\n",
       "         '3': 1703,\n",
       "         '@llamperg': 1,\n",
       "         'ага': 657,\n",
       "         'када': 7,\n",
       "         'клубника': 15,\n",
       "         'узнать': 573,\n",
       "         'ахуй': 3,\n",
       "         'была.про': 1,\n",
       "         'бананы': 5,\n",
       "         'давно': 956,\n",
       "         'известный': 109,\n",
       "         'нее': 598,\n",
       "         'реально': 443,\n",
       "         'бесить': 482,\n",
       "         'ночь': 2158,\n",
       "         'длинный': 143,\n",
       "         'рассвет': 34,\n",
       "         'блять': 699,\n",
       "         '11': 302,\n",
       "         'закат': 35,\n",
       "         '5': 1176,\n",
       "         '21': 114,\n",
       "         'март': 109,\n",
       "         'ох': 526,\n",
       "         'долго': 684,\n",
       "         '\\xa0': 1081,\n",
       "         'один': 2320,\n",
       "         '2х': 25,\n",
       "         'будет': 5011,\n",
       "         'впервые': 204,\n",
       "         'читать': 1375,\n",
       "         'сказка': 159,\n",
       "         'умилительный': 1,\n",
       "         'слишком': 629,\n",
       "         'легко': 74,\n",
       "         'отказываться': 74,\n",
       "         'мечтание': 6,\n",
       "         'хотя': 1347,\n",
       "         'вселенная': 37,\n",
       "         'готовый': 453,\n",
       "         'помочь': 578,\n",
       "         'их': 2000,\n",
       "         'осуществить': 12,\n",
       "         '©': 100,\n",
       "         'пауло': 3,\n",
       "         'коэльо': 3,\n",
       "         'го': 132,\n",
       "         'отец': 152,\n",
       "         'уходить': 371,\n",
       "         'неизвестный': 58,\n",
       "         'направление': 33,\n",
       "         '(((вот': 2,\n",
       "         'хуже': 103,\n",
       "         'ооо': 289,\n",
       "         'the': 165,\n",
       "         'hunger': 1,\n",
       "         'games': 6,\n",
       "         'catching': 1,\n",
       "         'fire': 4,\n",
       "         'море': 165,\n",
       "         'эмоция': 191,\n",
       "         '@osipanochka': 5,\n",
       "         'фолловеру': 8,\n",
       "         '@yuliakukish': 2,\n",
       "         'поставить': 637,\n",
       "         'смочь': 785,\n",
       "         'тобой': 937,\n",
       "         'отношение': 256,\n",
       "         'построить': 35,\n",
       "         'ложь': 37,\n",
       "         'фальши': 2,\n",
       "         'чтобы': 1868,\n",
       "         '@yana_guyer': 1,\n",
       "         'боль': 658,\n",
       "         'нечего': 427,\n",
       "         'делать': 3366,\n",
       "         'код': 71,\n",
       "         'вк': 795,\n",
       "         'работать': 1283,\n",
       "         'праздник': 695,\n",
       "         'приходить': 495,\n",
       "         'вы': 2735,\n",
       "         'попросить': 230,\n",
       "         'дед': 254,\n",
       "         'мороз': 482,\n",
       "         'http://t.co/ggdcwyhimp': 1,\n",
       "         '@anisovichvlad': 1,\n",
       "         'аххахаха': 18,\n",
       "         'старый': 582,\n",
       "         '-добрые': 1,\n",
       "         'милость': 80,\n",
       "         'ностальжи': 10,\n",
       "         'криминал': 16,\n",
       "         '@burnedparter': 4,\n",
       "         'вкус': 171,\n",
       "         'цвет': 262,\n",
       "         'отп': 9,\n",
       "         'разный': 322,\n",
       "         ':3': 825,\n",
       "         'кинкануло': 1,\n",
       "         'парочка': 66,\n",
       "         'мимими': 80,\n",
       "         'серия': 713,\n",
       "         'сериал': 530,\n",
       "         'перестать': 290,\n",
       "         'смотреть': 2923,\n",
       "         '@z8ss': 18,\n",
       "         '@wombat5301': 4,\n",
       "         '@panovaolga1': 7,\n",
       "         'интересный': 1297,\n",
       "         'пример': 107,\n",
       "         'http://t.co/j9zqgbnfmj': 2,\n",
       "         '@to_over_kill': 144,\n",
       "         '@fuck_time01': 13,\n",
       "         'выздоравливай': 30,\n",
       "         'страшный': 684,\n",
       "         'одной': 532,\n",
       "         'свет': 434,\n",
       "         'телевизор': 138,\n",
       "         'скорей': 116,\n",
       "         'дойти': 229,\n",
       "         'письмо': 317,\n",
       "         'милый': 753,\n",
       "         'твиттерских': 48,\n",
       "         'сутки': 128,\n",
       "         'ничто': 2545,\n",
       "         'есть': 789,\n",
       "         'сессия': 462,\n",
       "         'гастрит': 8,\n",
       "         '@creative_link': 5,\n",
       "         'другую': 103,\n",
       "         'отобрать': 42,\n",
       "         'них': 939,\n",
       "         'мелочёвка': 2,\n",
       "         '@zhardeckaya1': 4,\n",
       "         'соник': 2,\n",
       "         'огонь': 189,\n",
       "         'сеге': 3,\n",
       "         'рубился': 1,\n",
       "         '@kitosebo': 1,\n",
       "         'поменять': 117,\n",
       "         '2': 2152,\n",
       "         'вопрос': 858,\n",
       "         'будут': 755,\n",
       "         'устный': 16,\n",
       "         'реферат': 65,\n",
       "         '200': 56,\n",
       "         'совет': 136,\n",
       "         '@dshuypova7': 1,\n",
       "         '7': 535,\n",
       "         'юля': 113,\n",
       "         '4': 1111,\n",
       "         'человек': 4385,\n",
       "         'автобус': 362,\n",
       "         ':-d': 308,\n",
       "         'ух': 104,\n",
       "         'сколько': 839,\n",
       "         'сонный': 44,\n",
       "         'можно': 2280,\n",
       "         'случайный': 36,\n",
       "         'открытие': 67,\n",
       "         'счастие': 639,\n",
       "         'семь': 67,\n",
       "         'утро': 3025,\n",
       "         'скучать': 1411,\n",
       "         'время': 2958,\n",
       "         'dsds': 1,\n",
       "         'матео': 2,\n",
       "         'моему': 193,\n",
       "         'нереально': 114,\n",
       "         'крутой': 1398,\n",
       "         'тип': 413,\n",
       "         'http://t.co/0ofedllltz': 1,\n",
       "         'которых': 207,\n",
       "         'мотив': 14,\n",
       "         'жить': 1221,\n",
       "         'упасть': 361,\n",
       "         'бездна': 4,\n",
       "         'божественный': 27,\n",
       "         'маникюр': 43,\n",
       "         'http://t.co/bbczhtvzhl': 1,\n",
       "         '@elizabethleeev': 3,\n",
       "         'разве': 157,\n",
       "         'о_о': 928,\n",
       "         'чёт': 162,\n",
       "         'курс': 318,\n",
       "         'ссылка': 206,\n",
       "         'дс': 6,\n",
       "         'wt': 1,\n",
       "         'жирный': 162,\n",
       "         'столько': 803,\n",
       "         'поклонник': 30,\n",
       "         'жаль': 1261,\n",
       "         'варик': 11,\n",
       "         'накрыться': 23,\n",
       "         'волгу': 2,\n",
       "         '@versaaachi': 2,\n",
       "         'проводить': 206,\n",
       "         'бесценно': 15,\n",
       "         'http://t.co/sts5anne4c': 2,\n",
       "         '@abaltaeva': 1,\n",
       "         'весёлый': 763,\n",
       "         'херово': 69,\n",
       "         'горло': 305,\n",
       "         'ужас': 475,\n",
       "         'болит': 21,\n",
       "         'надо': 4221,\n",
       "         'наушник': 261,\n",
       "         'сломать': 220,\n",
       "         'капец': 539,\n",
       "         'папа': 717,\n",
       "         'уехать': 443,\n",
       "         'иркутск': 16,\n",
       "         'аааа': 322,\n",
       "         'скучашеньки': 1,\n",
       "         'mousson': 1,\n",
       "         'посмотреть': 1587,\n",
       "         'редкий': 42,\n",
       "         'гол': 60,\n",
       "         'травма': 60,\n",
       "         'получить': 611,\n",
       "         'прийтись': 684,\n",
       "         'отказаться': 132,\n",
       "         'сладостей((а': 1,\n",
       "         '@difolyda': 1,\n",
       "         'заряжаю': 5,\n",
       "         'коммуникатор': 7,\n",
       "         'usb': 27,\n",
       "         'извращенец': 28,\n",
       "         'учебный': 73,\n",
       "         'будни': 62,\n",
       "         'http://t.co/dmegvfqxxe': 1,\n",
       "         'стих': 176,\n",
       "         'литре.пиздец': 1,\n",
       "         'трудный': 265,\n",
       "         'супергерой': 4,\n",
       "         'отвечать': 360,\n",
       "         '@maslennikovaele': 23,\n",
       "         '@lanafom': 12,\n",
       "         '@avodkin': 16,\n",
       "         '@sasa7844': 18,\n",
       "         '@chopik21': 4,\n",
       "         '@larisa5826': 13,\n",
       "         '@weelelee': 13,\n",
       "         '@alex07s': 5,\n",
       "         '@nosensus': 39,\n",
       "         'приветик': 40,\n",
       "         '@juliannakheyna': 2,\n",
       "         'утречка': 22,\n",
       "         'чо': 396,\n",
       "         'рано': 429,\n",
       "         'встать': 538,\n",
       "         '@natalielied': 3,\n",
       "         'судить': 185,\n",
       "         'ой': 646,\n",
       "         'мамочка': 86,\n",
       "         '@jeeevas': 1,\n",
       "         'сразу': 913,\n",
       "         'африка': 22,\n",
       "         'босиком': 9,\n",
       "         'круглый': 34,\n",
       "         '@edwardlucas': 1,\n",
       "         'воскресение': 277,\n",
       "         '@olegkozlow': 3,\n",
       "         'готовить': 286,\n",
       "         'ними': 281,\n",
       "         'практически': 121,\n",
       "         '@chemical_ghost': 1,\n",
       "         '@time_t0_die': 1,\n",
       "         'отмечать': 192,\n",
       "         '@whitefrom': 1,\n",
       "         'путь': 175,\n",
       "         'прийти': 1741,\n",
       "         '@ldariaaal': 1,\n",
       "         'сильно': 848,\n",
       "         'замете': 1,\n",
       "         'эффект': 54,\n",
       "         '@_yasno_ponyatno': 1,\n",
       "         'убедить': 19,\n",
       "         'том': 555,\n",
       "         'улыбаться': 186,\n",
       "         'выбраться': 24,\n",
       "         'печаль': 358,\n",
       "         '@fikaxokopyb': 1,\n",
       "         'настроить': 49,\n",
       "         'svn': 5,\n",
       "         'xcode': 1,\n",
       "         'задолбался': 7,\n",
       "         'вроди': 5,\n",
       "         'логинится': 1,\n",
       "         'при': 651,\n",
       "         'импорт': 4,\n",
       "         'ошибка': 235,\n",
       "         'блииин': 172,\n",
       "         '@evgenii__9833': 10,\n",
       "         '@azhaglova': 3,\n",
       "         'тройка': 105,\n",
       "         '@sikorinni': 1,\n",
       "         'ща': 210,\n",
       "         'семья': 323,\n",
       "         '@pln162013': 1,\n",
       "         'http://t.co/29lwyepxkd': 1,\n",
       "         'вид': 350,\n",
       "         'школа': 2440,\n",
       "         '@itolipiqve': 1,\n",
       "         'imac': 2,\n",
       "         'штука': 189,\n",
       "         'ш': 24,\n",
       "         'г': 108,\n",
       "         'сам': 676,\n",
       "         'экран': 137,\n",
       "         'доставляет=': 1,\n",
       "         'понедельник': 552,\n",
       "         'два': 1678,\n",
       "         'неделя': 1538,\n",
       "         'остаться': 1347,\n",
       "         'каникулы': 458,\n",
       "         ...})"
      ]
     },
     "execution_count": 26,
     "metadata": {},
     "output_type": "execute_result"
    }
   ],
   "source": [
    "vocab"
   ]
  },
  {
   "cell_type": "code",
   "execution_count": 27,
   "metadata": {
    "colab": {
     "base_uri": "https://localhost:8080/"
    },
    "id": "0wKHM_LU1seA",
    "outputId": "22c2891d-2daa-4c43-8a7d-7b0e4f10d807"
   },
   "outputs": [
    {
     "name": "stdout",
     "output_type": "stream",
     "text": [
      "уникальных слов, встретившихся больше 5 раз: 18115\n"
     ]
    }
   ],
   "source": [
    "filtered_vocab = set()\n",
    "\n",
    "for word in vocab:\n",
    "    if vocab[word] > 5:\n",
    "        filtered_vocab.add(word)\n",
    "print('уникальных слов, встретившихся больше 5 раз:', len(filtered_vocab))"
   ]
  },
  {
   "cell_type": "code",
   "execution_count": 36,
   "metadata": {},
   "outputs": [],
   "source": [
    "clean_texts_of_lemms = []\n",
    "for text in texts_of_lemms:\n",
    "    clean_text = []\n",
    "    for word in text.split():\n",
    "        if word in filtered_vocab:\n",
    "            clean_text.append(word)\n",
    "    clean_texts_of_lemms.append(' '.join(clean_text))"
   ]
  },
  {
   "cell_type": "code",
   "execution_count": 42,
   "metadata": {},
   "outputs": [
    {
     "data": {
      "text/plain": [
       "['эх , ехать на репа пора ( ( завтра уже выступление .',\n",
       " 'аллергия выйти , из - за этот тупой мандарин ( ( ( ( ( ( (',\n",
       " '@kompaundtone550 @tatysho власть всегда была бандитский , просто теперь об знать весь мир . они сами себя имидж сделать )',\n",
       " '@alinockaa а хрен , я гулящая пока , потом насидеться дома : dd но сегодня я дома буду спаааааать!:ddd',\n",
       " 'rt @vik_vans : блин , слушать первый мини - альбом эксо и как то грустно стать . хотеть эра мама :(']"
      ]
     },
     "execution_count": 42,
     "metadata": {},
     "output_type": "execute_result"
    }
   ],
   "source": [
    "texts_of_lemms[:5]"
   ]
  },
  {
   "cell_type": "code",
   "execution_count": 43,
   "metadata": {},
   "outputs": [],
   "source": [
    "train_data['clean_texts'] = clean_texts_of_lemms"
   ]
  },
  {
   "cell_type": "code",
   "execution_count": 44,
   "metadata": {},
   "outputs": [],
   "source": [
    "train_data.to_csv('train.csv')"
   ]
  },
  {
   "cell_type": "code",
   "execution_count": 45,
   "metadata": {},
   "outputs": [
    {
     "name": "stderr",
     "output_type": "stream",
     "text": [
      "100%|███████████████████████████████████████████████████████████████████████████████████████████████████████████████████████████████| 43488/43488 [06:52<00:00, 105.31it/s]\n"
     ]
    }
   ],
   "source": [
    "clean_texts_of_lemms_test = []\n",
    "for text in tqdm(val_data['text']):\n",
    "    lemma_text = preprocess(text, nlp)\n",
    "    clean_text = []\n",
    "    for word in lemma_text.split():\n",
    "        if word in filtered_vocab:\n",
    "            clean_text.append(word)\n",
    "    clean_texts_of_lemms_test.append(' '.join(clean_text))"
   ]
  },
  {
   "cell_type": "code",
   "execution_count": 47,
   "metadata": {},
   "outputs": [],
   "source": [
    "val_data['clean_texts'] = clean_texts_of_lemms_test\n",
    "val_data.to_csv('val.csv')"
   ]
  },
  {
   "cell_type": "code",
   "execution_count": 48,
   "metadata": {
    "id": "BEUhJv5N1seC"
   },
   "outputs": [],
   "source": [
    "#создаем словарь с индексами symbol2id, для спецсимвола паддинга дефолтный индекс - 0\n",
    "word2id = {'PAD':0}\n",
    "\n",
    "for symbol in filtered_vocab:\n",
    "    word2id[symbol] = len(word2id)"
   ]
  },
  {
   "cell_type": "code",
   "execution_count": 49,
   "metadata": {
    "id": "P6J89I9d1seC"
   },
   "outputs": [],
   "source": [
    "#обратный словарь для того, чтобы раскодировать последовательность\n",
    "id2word = {i:word for word, i in word2id.items()}"
   ]
  },
  {
   "cell_type": "code",
   "execution_count": 50,
   "metadata": {
    "colab": {
     "base_uri": "https://localhost:8080/"
    },
    "id": "YrzM7MnCQeP_",
    "outputId": "5ecd631f-a97a-438c-b9d2-3f994eb9a806"
   },
   "outputs": [
    {
     "data": {
      "text/plain": [
       "device(type='cuda')"
      ]
     },
     "execution_count": 50,
     "metadata": {},
     "output_type": "execute_result"
    }
   ],
   "source": [
    "DEVICE = torch.device('cuda') if torch.cuda.is_available() else torch.device('cpu')\n",
    "DEVICE"
   ]
  },
  {
   "cell_type": "markdown",
   "metadata": {
    "id": "obiXRWLt1OZJ"
   },
   "source": [
    "### Dataset & DataLoader"
   ]
  },
  {
   "cell_type": "code",
   "execution_count": 52,
   "metadata": {
    "id": "FMs4ZohJ1seI"
   },
   "outputs": [],
   "source": [
    "class TweetsDataset(Dataset):\n",
    "\n",
    "    def __init__(self, dataset, word2id, DEVICE):\n",
    "        self.dataset = dataset['clean_texts'].values\n",
    "        self.word2id = word2id\n",
    "        self.length = dataset.shape[0]\n",
    "        self.target = dataset['type'].values\n",
    "        self.device = DEVICE\n",
    "\n",
    "    def __len__(self):\n",
    "        return self.length\n",
    "\n",
    "    def __getitem__(self, index): \n",
    "        words = self.dataset[index].split(' ')\n",
    "        ids = torch.LongTensor([self.word2id[word.lower()] for word in words if word.lower() in self.word2id])\n",
    "        y = [self.target[index]]\n",
    "        return ids, y\n",
    "\n",
    "    def collate_fn(self, batch): #этот метод можно реализовывать и отдельно,\n",
    "    # он понадобится для DataLoader во время итерации по батчам\n",
    "        ids, y = list(zip(*batch))\n",
    "        padded_ids = pad_sequence(ids, batch_first=True).to(self.device)\n",
    "        y = torch.Tensor(y).to(self.device)\n",
    "        return padded_ids, y"
   ]
  },
  {
   "cell_type": "markdown",
   "metadata": {
    "id": "m5Wjfyxar7U1"
   },
   "source": [
    "### создаем итераторы по данным для трейна и теста"
   ]
  },
  {
   "cell_type": "code",
   "execution_count": 53,
   "metadata": {
    "id": "8Zl4FxB71seI"
   },
   "outputs": [],
   "source": [
    "train_dataset = TweetsDataset(train_data, word2id, DEVICE)\n",
    "train_sampler = RandomSampler(train_dataset)\n",
    "train_iterator = DataLoader(train_dataset, collate_fn = train_dataset.collate_fn, sampler=train_sampler, batch_size=64)"
   ]
  },
  {
   "cell_type": "code",
   "execution_count": 54,
   "metadata": {
    "id": "xauLXZwQNcCq"
   },
   "outputs": [],
   "source": [
    "batch = next(iter(train_iterator))"
   ]
  },
  {
   "cell_type": "code",
   "execution_count": 55,
   "metadata": {
    "colab": {
     "base_uri": "https://localhost:8080/"
    },
    "id": "GOqAu8X8S36K",
    "outputId": "b0d6b0b8-b334-4bdf-8181-f0b4324d747c"
   },
   "outputs": [
    {
     "data": {
      "text/plain": [
       "torch.Size([64, 35])"
      ]
     },
     "execution_count": 55,
     "metadata": {},
     "output_type": "execute_result"
    }
   ],
   "source": [
    "batch[0].shape"
   ]
  },
  {
   "cell_type": "code",
   "execution_count": 56,
   "metadata": {
    "colab": {
     "base_uri": "https://localhost:8080/"
    },
    "id": "aZbD27_A6Nck",
    "outputId": "14d5a1f5-6037-4976-cff2-60f24266ff5d"
   },
   "outputs": [
    {
     "data": {
      "text/plain": [
       "['я',\n",
       " 'любить',\n",
       " 'тебя',\n",
       " 'девочка',\n",
       " '!',\n",
       " '!',\n",
       " '!',\n",
       " '@aizadolmatova',\n",
       " 'ты',\n",
       " 'рядом',\n",
       " '?',\n",
       " '(',\n",
       " 'PAD',\n",
       " 'PAD',\n",
       " 'PAD',\n",
       " 'PAD',\n",
       " 'PAD',\n",
       " 'PAD',\n",
       " 'PAD',\n",
       " 'PAD',\n",
       " 'PAD',\n",
       " 'PAD',\n",
       " 'PAD',\n",
       " 'PAD',\n",
       " 'PAD',\n",
       " 'PAD',\n",
       " 'PAD',\n",
       " 'PAD',\n",
       " 'PAD',\n",
       " 'PAD',\n",
       " 'PAD',\n",
       " 'PAD',\n",
       " 'PAD',\n",
       " 'PAD',\n",
       " 'PAD']"
      ]
     },
     "execution_count": 56,
     "metadata": {},
     "output_type": "execute_result"
    }
   ],
   "source": [
    "[id2word[int(i)] for i in batch[0][0]]"
   ]
  },
  {
   "cell_type": "code",
   "execution_count": 57,
   "metadata": {
    "colab": {
     "base_uri": "https://localhost:8080/"
    },
    "collapsed": true,
    "id": "tj6Wltq3TfGQ",
    "outputId": "7eb93dea-f5f6-4748-b9db-70bf93b82de3"
   },
   "outputs": [
    {
     "data": {
      "text/plain": [
       "tensor([[0.],\n",
       "        [1.],\n",
       "        [0.],\n",
       "        [0.],\n",
       "        [0.],\n",
       "        [0.],\n",
       "        [1.],\n",
       "        [1.],\n",
       "        [1.],\n",
       "        [0.],\n",
       "        [1.],\n",
       "        [0.],\n",
       "        [0.],\n",
       "        [1.],\n",
       "        [0.],\n",
       "        [0.],\n",
       "        [0.],\n",
       "        [1.],\n",
       "        [0.],\n",
       "        [0.],\n",
       "        [1.],\n",
       "        [1.],\n",
       "        [1.],\n",
       "        [0.],\n",
       "        [1.],\n",
       "        [1.],\n",
       "        [1.],\n",
       "        [0.],\n",
       "        [1.],\n",
       "        [1.],\n",
       "        [1.],\n",
       "        [0.],\n",
       "        [1.],\n",
       "        [1.],\n",
       "        [1.],\n",
       "        [1.],\n",
       "        [0.],\n",
       "        [0.],\n",
       "        [1.],\n",
       "        [1.],\n",
       "        [1.],\n",
       "        [0.],\n",
       "        [1.],\n",
       "        [0.],\n",
       "        [0.],\n",
       "        [0.],\n",
       "        [1.],\n",
       "        [0.],\n",
       "        [1.],\n",
       "        [1.],\n",
       "        [0.],\n",
       "        [0.],\n",
       "        [0.],\n",
       "        [1.],\n",
       "        [0.],\n",
       "        [1.],\n",
       "        [0.],\n",
       "        [0.],\n",
       "        [0.],\n",
       "        [0.],\n",
       "        [0.],\n",
       "        [1.],\n",
       "        [0.],\n",
       "        [1.]], device='cuda:0')"
      ]
     },
     "execution_count": 57,
     "metadata": {},
     "output_type": "execute_result"
    }
   ],
   "source": [
    "batch[1]"
   ]
  },
  {
   "cell_type": "code",
   "execution_count": 60,
   "metadata": {
    "id": "ZR_upb-_1seJ"
   },
   "outputs": [],
   "source": [
    "val_dataset = TweetsDataset(val_data, word2id, DEVICE)\n",
    "val_sampler = SequentialSampler(val_dataset)\n",
    "val_iterator = DataLoader(val_dataset, collate_fn = val_dataset.collate_fn, sampler=val_sampler, batch_size=64)"
   ]
  },
  {
   "cell_type": "code",
   "execution_count": 61,
   "metadata": {
    "colab": {
     "base_uri": "https://localhost:8080/"
    },
    "id": "jQlpcUR28V-j",
    "outputId": "70c82a34-0bd9-4968-a2f6-ce2c261e8a19"
   },
   "outputs": [
    {
     "data": {
      "text/plain": [
       "torch.Size([64, 34])"
      ]
     },
     "execution_count": 61,
     "metadata": {},
     "output_type": "execute_result"
    }
   ],
   "source": [
    "test_batch = next(iter(val_iterator))\n",
    "test_batch[0].shape"
   ]
  },
  {
   "cell_type": "markdown",
   "metadata": {
    "id": "BUCT8ayD1seK"
   },
   "source": [
    "### CNN model"
   ]
  },
  {
   "cell_type": "code",
   "execution_count": 62,
   "metadata": {
    "colab": {
     "base_uri": "https://localhost:8080/"
    },
    "id": "NfVEoM-IZFFe",
    "outputId": "8f421f2e-f59e-4eb1-fc81-1d45ff47da1e"
   },
   "outputs": [
    {
     "data": {
      "text/plain": [
       "tensor([[[-0.7822,  0.5771,  0.4306, -0.3864],\n",
       "         [ 0.4585, -1.3205, -2.0329,  0.0394],\n",
       "         [ 1.0170,  0.7883, -1.2407, -0.2182],\n",
       "         [ 1.4919,  0.2329,  0.2809,  0.2891],\n",
       "         [ 0.4289, -1.2123, -0.0733, -0.4747],\n",
       "         [ 1.7432, -2.3898, -0.2147, -1.6755],\n",
       "         [ 0.9011,  1.7878,  0.8172,  0.1693],\n",
       "         [-0.5749, -1.2151,  0.1544, -1.4641]],\n",
       "\n",
       "        [[ 0.7682, -1.8860, -0.2762,  0.3652],\n",
       "         [ 0.9206,  1.0618,  2.0196, -0.5529],\n",
       "         [ 0.0845,  1.4183,  0.8321, -0.8665],\n",
       "         [ 0.1181, -2.8269,  1.0087, -2.0653],\n",
       "         [ 0.3446,  0.5667,  0.9302, -0.2690],\n",
       "         [ 0.9656,  0.0124, -0.5357,  0.0490],\n",
       "         [ 2.0479, -1.0736, -1.1618, -0.7393],\n",
       "         [ 1.3195, -1.1228, -1.1604,  0.0388]],\n",
       "\n",
       "        [[ 0.2808,  0.5610, -0.7593, -0.8324],\n",
       "         [ 1.1588,  0.1211, -1.5451,  0.4535],\n",
       "         [-0.4931, -1.6415,  0.2746,  0.0742],\n",
       "         [ 0.8807,  0.4609,  1.0995,  0.1729],\n",
       "         [ 1.4304, -0.3582,  2.1742, -0.7743],\n",
       "         [ 0.6367, -1.4183,  0.3256, -0.9244],\n",
       "         [ 0.5706,  1.1872, -0.6823,  1.5253],\n",
       "         [ 0.5836,  0.0354, -0.1851,  0.5819]]])"
      ]
     },
     "execution_count": 62,
     "metadata": {},
     "output_type": "execute_result"
    }
   ],
   "source": [
    "fm = torch.randn(3, 8, 4) #batch_size, num_filters, seq_len\n",
    "fm"
   ]
  },
  {
   "cell_type": "code",
   "execution_count": 63,
   "metadata": {
    "colab": {
     "base_uri": "https://localhost:8080/"
    },
    "id": "pXXF4sU2ZFy4",
    "outputId": "84b83853-bd68-424a-db1b-71bb2f2a6862"
   },
   "outputs": [
    {
     "name": "stdout",
     "output_type": "stream",
     "text": [
      "torch.Size([3, 8, 2])\n"
     ]
    },
    {
     "data": {
      "text/plain": [
       "tensor([[[ 0.5771,  0.4306],\n",
       "         [ 0.4585,  0.0394],\n",
       "         [ 1.0170, -0.2182],\n",
       "         [ 1.4919,  0.2891],\n",
       "         [ 0.4289, -0.0733],\n",
       "         [ 1.7432, -0.2147],\n",
       "         [ 1.7878,  0.8172],\n",
       "         [-0.5749,  0.1544]],\n",
       "\n",
       "        [[ 0.7682,  0.3652],\n",
       "         [ 1.0618,  2.0196],\n",
       "         [ 1.4183,  0.8321],\n",
       "         [ 0.1181,  1.0087],\n",
       "         [ 0.5667,  0.9302],\n",
       "         [ 0.9656,  0.0490],\n",
       "         [ 2.0479, -0.7393],\n",
       "         [ 1.3195,  0.0388]],\n",
       "\n",
       "        [[ 0.5610, -0.7593],\n",
       "         [ 1.1588,  0.4535],\n",
       "         [-0.4931,  0.2746],\n",
       "         [ 0.8807,  1.0995],\n",
       "         [ 1.4304,  2.1742],\n",
       "         [ 0.6367,  0.3256],\n",
       "         [ 1.1872,  1.5253],\n",
       "         [ 0.5836,  0.5819]]])"
      ]
     },
     "execution_count": 63,
     "metadata": {},
     "output_type": "execute_result"
    }
   ],
   "source": [
    "mp = torch.nn.MaxPool1d(kernel_size=2, stride=2)\n",
    "print(mp(fm).shape)\n",
    "mp(fm)"
   ]
  },
  {
   "cell_type": "code",
   "execution_count": 64,
   "metadata": {
    "colab": {
     "base_uri": "https://localhost:8080/"
    },
    "id": "0JZy7ZDlctwM",
    "outputId": "b1696999-a3c0-4262-cb53-41bf8905754d"
   },
   "outputs": [
    {
     "data": {
      "text/plain": [
       "tensor([[0.5771, 0.4585, 1.0170, 1.4919, 0.4289, 1.7432, 1.7878, 0.1544],\n",
       "        [0.7682, 2.0196, 1.4183, 1.0087, 0.9302, 0.9656, 2.0479, 1.3195],\n",
       "        [0.5610, 1.1588, 0.2746, 1.0995, 2.1742, 0.6367, 1.5253, 0.5836]])"
      ]
     },
     "execution_count": 64,
     "metadata": {},
     "output_type": "execute_result"
    }
   ],
   "source": [
    "fm.max(2)[0]"
   ]
  },
  {
   "cell_type": "code",
   "execution_count": 71,
   "metadata": {
    "id": "NdV7oSIc1seK"
   },
   "outputs": [],
   "source": [
    "class CNN(nn.Module):\n",
    "    \n",
    "    def __init__(self, vocab_size, embedding_dim):\n",
    "        super().__init__()\n",
    "        self.embedding = nn.Embedding(vocab_size, embedding_dim)\n",
    "        self.bigrams = nn.Conv1d(in_channels=embedding_dim, out_channels=100, kernel_size=2, padding='same')\n",
    "        self.trigrams = nn.Conv1d(in_channels=embedding_dim, out_channels=80, kernel_size=3, padding='same')\n",
    "        self.concat_bigrams = nn.Conv1d(in_channels=180, out_channels=100, kernel_size=2, padding='same')\n",
    "        #self.pooling = nn.MaxPool1d(kernel_size=2, stride=2)\n",
    "        self.relu = nn.ReLU()\n",
    "        self.hidden = nn.Linear(in_features=100, out_features=1)\n",
    "        self.dropout = nn.Dropout(p=0.5)\n",
    "        self.out = nn.Sigmoid()\n",
    "\n",
    "    def forward(self, text):\n",
    "        #batch_size x seq_len\n",
    "        embedded = self.embedding(text)\n",
    "        #batch_size x seq_len x embedding_dim\n",
    "        embedded = embedded.transpose(1,2)\n",
    "        #batch_size x embedding_dim x seq_len\n",
    "        #feature_map_bigrams = self.dropout(self.pooling(self.relu(self.bigrams(embedded))))\n",
    "        #batch_size x filter_count2 x seq_len* \n",
    "        #feature_map_trigrams = self.dropout(self.pooling(self.relu(self.trigrams(embedded))))\n",
    "        #batch_size x filter_count3 x seq_len*\n",
    "        feature_map_bigrams = self.relu(self.bigrams(embedded))\n",
    "        # batch_size x filter_count3 x seq_len*\n",
    "        feature_map_trigrams = self.relu(self.trigrams(embedded))\n",
    "\n",
    "        #pooling1 = feature_map_bigrams.max(2)[0] \n",
    "        # batch_size x filter_count2\n",
    "        #pooling2 = feature_map_trigrams.max(2)[0]\n",
    "        # batch_size x filter_count3\n",
    "        concat = torch.cat((feature_map_bigrams, feature_map_trigrams), 1)\n",
    "        \n",
    "        feature_map_concat = self.relu(self.concat_bigrams(concat))\n",
    "        pooling = feature_map_concat.max(2)[0]\n",
    "        # batch _size x (filter_count2 + filter_count3)\n",
    "        logits = self.hidden(pooling)\n",
    "        logits = self.out(logits)\n",
    "        \n",
    "        return logits"
   ]
  },
  {
   "cell_type": "code",
   "execution_count": 72,
   "metadata": {
    "colab": {
     "base_uri": "https://localhost:8080/"
    },
    "collapsed": true,
    "id": "YFQ-WEY4cxkv",
    "outputId": "d8a84c76-aad6-4529-a0bf-0eba0fe18e02"
   },
   "outputs": [
    {
     "name": "stdout",
     "output_type": "stream",
     "text": [
      "tensor([[ 6730,  4429,  3079,  ...,     0,     0,     0],\n",
      "        [ 4675,  8143, 11223,  ...,     0,     0,     0],\n",
      "        [ 9558, 17855,   189,  ...,     0,     0,     0],\n",
      "        ...,\n",
      "        [17228,   189, 17202,  ...,     0,     0,     0],\n",
      "        [10350,  5507, 11223,  ...,     0,     0,     0],\n",
      "        [11088, 10655, 11179,  ...,     0,     0,     0]])\n"
     ]
    }
   ],
   "source": [
    "batch, y = next(iter(train_iterator))\n",
    "batch, y = batch.to(device='cpu'), y.to(device='cpu')\n",
    "print(batch)"
   ]
  },
  {
   "cell_type": "code",
   "execution_count": 73,
   "metadata": {
    "collapsed": true
   },
   "outputs": [
    {
     "name": "stdout",
     "output_type": "stream",
     "text": [
      "tensor([[ 6730,  4429,  3079,  ...,     0,     0,     0],\n",
      "        [ 4675,  8143, 11223,  ...,     0,     0,     0],\n",
      "        [ 9558, 17855,   189,  ...,     0,     0,     0],\n",
      "        ...,\n",
      "        [17228,   189, 17202,  ...,     0,     0,     0],\n",
      "        [10350,  5507, 11223,  ...,     0,     0,     0],\n",
      "        [11088, 10655, 11179,  ...,     0,     0,     0]])\n"
     ]
    }
   ],
   "source": [
    "print(batch)"
   ]
  },
  {
   "cell_type": "code",
   "execution_count": 74,
   "metadata": {
    "colab": {
     "base_uri": "https://localhost:8080/"
    },
    "collapsed": true,
    "id": "JSmsX_fg4LcO",
    "outputId": "3fd4eec0-cf9c-4ad0-a016-d9301b1cd055"
   },
   "outputs": [
    {
     "data": {
      "text/plain": [
       "tensor([[1.],\n",
       "        [0.],\n",
       "        [0.],\n",
       "        [0.],\n",
       "        [1.],\n",
       "        [0.],\n",
       "        [0.],\n",
       "        [0.],\n",
       "        [1.],\n",
       "        [1.],\n",
       "        [0.],\n",
       "        [0.],\n",
       "        [1.],\n",
       "        [0.],\n",
       "        [0.],\n",
       "        [0.],\n",
       "        [1.],\n",
       "        [0.],\n",
       "        [0.],\n",
       "        [0.],\n",
       "        [1.],\n",
       "        [1.],\n",
       "        [1.],\n",
       "        [0.],\n",
       "        [1.],\n",
       "        [1.],\n",
       "        [0.],\n",
       "        [1.],\n",
       "        [1.],\n",
       "        [0.],\n",
       "        [1.],\n",
       "        [1.],\n",
       "        [0.],\n",
       "        [1.],\n",
       "        [0.],\n",
       "        [0.],\n",
       "        [1.],\n",
       "        [0.],\n",
       "        [0.],\n",
       "        [1.],\n",
       "        [1.],\n",
       "        [0.],\n",
       "        [0.],\n",
       "        [1.],\n",
       "        [0.],\n",
       "        [1.],\n",
       "        [1.],\n",
       "        [1.],\n",
       "        [0.],\n",
       "        [0.],\n",
       "        [1.],\n",
       "        [1.],\n",
       "        [0.],\n",
       "        [1.],\n",
       "        [0.],\n",
       "        [1.],\n",
       "        [0.],\n",
       "        [0.],\n",
       "        [1.],\n",
       "        [1.],\n",
       "        [0.],\n",
       "        [0.],\n",
       "        [0.],\n",
       "        [1.]])"
      ]
     },
     "execution_count": 74,
     "metadata": {},
     "output_type": "execute_result"
    }
   ],
   "source": [
    "y"
   ]
  },
  {
   "cell_type": "code",
   "execution_count": 75,
   "metadata": {
    "colab": {
     "base_uri": "https://localhost:8080/"
    },
    "collapsed": true,
    "id": "oHc9E_96dJBH",
    "outputId": "906c52ad-5e04-4586-990f-b5e9adc6edbd"
   },
   "outputs": [
    {
     "name": "stdout",
     "output_type": "stream",
     "text": [
      "tensor([[0.5455],\n",
      "        [0.5770],\n",
      "        [0.5532],\n",
      "        [0.5560],\n",
      "        [0.5638],\n",
      "        [0.5450],\n",
      "        [0.5493],\n",
      "        [0.5404],\n",
      "        [0.5723],\n",
      "        [0.5844],\n",
      "        [0.5522],\n",
      "        [0.5637],\n",
      "        [0.5573],\n",
      "        [0.5497],\n",
      "        [0.5386],\n",
      "        [0.5305],\n",
      "        [0.5666],\n",
      "        [0.5911],\n",
      "        [0.5863],\n",
      "        [0.5430],\n",
      "        [0.5423],\n",
      "        [0.5724],\n",
      "        [0.5448],\n",
      "        [0.5582],\n",
      "        [0.5664],\n",
      "        [0.5526],\n",
      "        [0.5589],\n",
      "        [0.5623],\n",
      "        [0.5676],\n",
      "        [0.5358],\n",
      "        [0.5463],\n",
      "        [0.5492],\n",
      "        [0.5465],\n",
      "        [0.5400],\n",
      "        [0.5802],\n",
      "        [0.5690],\n",
      "        [0.5823],\n",
      "        [0.5604],\n",
      "        [0.5707],\n",
      "        [0.5593],\n",
      "        [0.5849],\n",
      "        [0.5785],\n",
      "        [0.5368],\n",
      "        [0.5586],\n",
      "        [0.5561],\n",
      "        [0.5798],\n",
      "        [0.5447],\n",
      "        [0.5866],\n",
      "        [0.5704],\n",
      "        [0.5653],\n",
      "        [0.5837],\n",
      "        [0.5681],\n",
      "        [0.5381],\n",
      "        [0.5530],\n",
      "        [0.5857],\n",
      "        [0.5381],\n",
      "        [0.5395],\n",
      "        [0.5706],\n",
      "        [0.5698],\n",
      "        [0.5948],\n",
      "        [0.5967],\n",
      "        [0.5547],\n",
      "        [0.5330],\n",
      "        [0.5641]], grad_fn=<SigmoidBackward0>)\n"
     ]
    }
   ],
   "source": [
    "model = CNN(len(id2word), 64)\n",
    "output = model(batch)\n",
    "print(output)"
   ]
  },
  {
   "cell_type": "code",
   "execution_count": 76,
   "metadata": {
    "colab": {
     "base_uri": "https://localhost:8080/"
    },
    "id": "CBWdfROdQK5v",
    "outputId": "93408385-6f5c-45f7-e6ed-d2feafd8d6c7"
   },
   "outputs": [
    {
     "data": {
      "text/plain": [
       "tensor(0.7036, grad_fn=<BinaryCrossEntropyBackward0>)"
      ]
     },
     "execution_count": 76,
     "metadata": {},
     "output_type": "execute_result"
    }
   ],
   "source": [
    "loss = nn.BCELoss()\n",
    "loss(output, y)"
   ]
  },
  {
   "cell_type": "code",
   "execution_count": 77,
   "metadata": {
    "colab": {
     "base_uri": "https://localhost:8080/"
    },
    "id": "q73ELWxPzjtZ",
    "outputId": "5a18feb0-b932-407f-8a2e-02b1fa41e8b5"
   },
   "outputs": [
    {
     "data": {
      "text/plain": [
       "tensor(0.6383)"
      ]
     },
     "execution_count": 77,
     "metadata": {},
     "output_type": "execute_result"
    }
   ],
   "source": [
    "f1(output, y.long())"
   ]
  },
  {
   "cell_type": "markdown",
   "metadata": {
    "id": "cYz0OzYT1vt1"
   },
   "source": [
    "### training loop, логика обучения и валидации"
   ]
  },
  {
   "cell_type": "markdown",
   "metadata": {
    "id": "K8sZOK7Kvk7o"
   },
   "source": [
    "теперь нам нужны функции для обучения и валидации,\n",
    "каждый вызов функции - одна эпоха обучения \n",
    "\n",
    "За одну эпоху нам надо для каждого батча:\n",
    "\n",
    "-- применить к нему модель, \n",
    "\n",
    "-- посчитать значение функции потерь, \n",
    "\n",
    "-- посчитать градиенты,\n",
    "\n",
    "-- обновить веса (параметры модели)\n"
   ]
  },
  {
   "cell_type": "code",
   "execution_count": 78,
   "metadata": {
    "id": "BVKQzPPI1seJ"
   },
   "outputs": [],
   "source": [
    "def train(model, iterator, optimizer, criterion):\n",
    "    epoch_loss = 0 # для подсчета среднего лосса на всех батчах\n",
    "\n",
    "    model.train()  # ставим модель в обучение, явно указываем, что сейчас надо будет хранить градиенты у всех весов\n",
    "\n",
    "    for i, (texts, ys) in enumerate(iterator): #итерируемся по батчам\n",
    "        optimizer.zero_grad()  #обнуляем градиенты\n",
    "        preds = model(texts)  #прогоняем данные через модель\n",
    "        loss = criterion(preds, ys) #считаем значение функции потерь  \n",
    "        loss.backward() #считаем градиенты  \n",
    "        optimizer.step() #обновляем веса \n",
    "        epoch_loss += loss.item() #сохраняем значение функции потерь\n",
    "        if not (i + 1) % int(len(iterator)/5):\n",
    "            print(f'Train loss: {epoch_loss/i}')      \n",
    "    return  epoch_loss / len(iterator) # возвращаем среднее значение лосса по всей выборке"
   ]
  },
  {
   "cell_type": "code",
   "execution_count": 79,
   "metadata": {
    "id": "EPfO7p9x1seK"
   },
   "outputs": [],
   "source": [
    "def evaluate(model, iterator, criterion):\n",
    "    epoch_loss = 0\n",
    "    epoch_metric = 0\n",
    "    model.eval() \n",
    "    with torch.no_grad():\n",
    "        for i, (texts, ys) in enumerate(iterator):   \n",
    "            preds = model(texts)  # делаем предсказания на тесте\n",
    "            loss = criterion(preds, ys)   # считаем значения функции ошибки для статистики  \n",
    "            epoch_loss += loss.item()\n",
    "            batch_metric = f1(preds.round().long(), ys.long(), ignore_index=0)\n",
    "            epoch_metric += batch_metric\n",
    "\n",
    "            if not (i + 1) % int(len(iterator)/5):\n",
    "                print(f'Val loss: {epoch_loss/i}, Val f1: {epoch_metric/i}')\n",
    "        \n",
    "    return epoch_metric / len(iterator), epoch_loss / len(iterator) # возвращаем среднее значение по всей выборке"
   ]
  },
  {
   "cell_type": "markdown",
   "metadata": {
    "id": "VRoSupMNQsvF"
   },
   "source": [
    "### инициализируем модель, задаем оптимизатор и функцию потерь"
   ]
  },
  {
   "cell_type": "code",
   "execution_count": 87,
   "metadata": {
    "id": "WO35IZES1seL"
   },
   "outputs": [],
   "source": [
    "model = CNN(len(word2id), 64)\n",
    "optimizer = optim.Adam(model.parameters(), lr=0.0001)\n",
    "criterion = nn.BCELoss()\n",
    "\n",
    "# веса модели и значения лосса храним там же, где и все остальные тензоры\n",
    "model = model.to(DEVICE)\n",
    "criterion = criterion.to(DEVICE)"
   ]
  },
  {
   "cell_type": "markdown",
   "metadata": {
    "id": "3kHbVX0y1seL"
   },
   "source": [
    "### запуск обучения!"
   ]
  },
  {
   "cell_type": "code",
   "execution_count": 89,
   "metadata": {
    "colab": {
     "base_uri": "https://localhost:8080/"
    },
    "id": "boMAjlVM1seM",
    "outputId": "d2925b1a-08cc-447a-fa61-0199f7575432"
   },
   "outputs": [
    {
     "name": "stdout",
     "output_type": "stream",
     "text": [
      "\n",
      "starting Epoch 0\n",
      "Training...\n",
      "Train loss: 0.029679662400848666\n",
      "Train loss: 0.028911525532986843\n",
      "Train loss: 0.029187862606284472\n",
      "Train loss: 0.028946883775792548\n",
      "Train loss: 0.028674452965190236\n",
      "\n",
      "Evaluating on train...\n",
      "Val loss: 0.026262281669331, Val f1: 0.9884724617004395\n",
      "Val loss: 0.0253663602084948, Val f1: 0.9879990816116333\n",
      "Val loss: 0.025473053628036466, Val f1: 0.9877691864967346\n",
      "Val loss: 0.025181002846630187, Val f1: 0.9878318309783936\n",
      "Val loss: 0.025178827590686834, Val f1: 0.9877967834472656\n",
      "\n",
      "Evaluating on test...\n",
      "Val loss: 0.02719665092709302, Val f1: 0.9934788346290588\n",
      "Val loss: 0.02837283679775108, Val f1: 0.9887653589248657\n",
      "Val loss: 0.029119534590527178, Val f1: 0.9869243502616882\n",
      "Val loss: 0.029728626860980736, Val f1: 0.9861316680908203\n",
      "Val loss: 0.029971319913630064, Val f1: 0.9856427311897278\n",
      "\n",
      "starting Epoch 1\n",
      "Training...\n",
      "Train loss: 0.02500744269054446\n",
      "Train loss: 0.024676515495065682\n",
      "Train loss: 0.025023511601233603\n",
      "Train loss: 0.025026446464606583\n",
      "Train loss: 0.025009226114402063\n",
      "\n",
      "Evaluating on train...\n",
      "Val loss: 0.02231225202912963, Val f1: 0.9917683601379395\n",
      "Val loss: 0.022153599696773833, Val f1: 0.9908261895179749\n",
      "Val loss: 0.022267076506560023, Val f1: 0.9903903007507324\n",
      "Val loss: 0.0220940774542646, Val f1: 0.9902719259262085\n",
      "Val loss: 0.021914364547981277, Val f1: 0.9902445673942566\n",
      "\n",
      "Evaluating on test...\n",
      "Val loss: 0.02568387968381608, Val f1: 0.994379460811615\n",
      "Val loss: 0.02713894757665932, Val f1: 0.9893105030059814\n",
      "Val loss: 0.027536388108461676, Val f1: 0.9874641299247742\n",
      "Val loss: 0.028005676715787572, Val f1: 0.9866953492164612\n",
      "Val loss: 0.02800740947501369, Val f1: 0.9861434698104858\n",
      "\n",
      "starting Epoch 2\n",
      "Training...\n",
      "Train loss: 0.02135467908852171\n",
      "Train loss: 0.02157297199177399\n",
      "Train loss: 0.022054589394019563\n",
      "Train loss: 0.02191245469497934\n",
      "Train loss: 0.022252559015433666\n",
      "\n",
      "Evaluating on train...\n",
      "Val loss: 0.018910861155695464, Val f1: 0.9942167401313782\n",
      "Val loss: 0.01979132803461221, Val f1: 0.9926602840423584\n",
      "Val loss: 0.019751361512512843, Val f1: 0.9922280311584473\n",
      "Val loss: 0.019436459324720268, Val f1: 0.992240309715271\n",
      "Val loss: 0.01935808874255484, Val f1: 0.9921584725379944\n",
      "\n",
      "Evaluating on test...\n",
      "Val loss: 0.024712752391658595, Val f1: 0.9943584203720093\n",
      "Val loss: 0.02578448404182553, Val f1: 0.989886999130249\n",
      "Val loss: 0.026652555814963515, Val f1: 0.9881200790405273\n",
      "Val loss: 0.027125157919455575, Val f1: 0.9874101281166077\n",
      "Val loss: 0.027195058305627705, Val f1: 0.986909806728363\n",
      "Wall time: 2min 5s\n"
     ]
    }
   ],
   "source": [
    "%%time\n",
    "losses = []\n",
    "losses_eval = []\n",
    "f1s = []\n",
    "f1s_eval = []\n",
    "\n",
    "for i in range(3):\n",
    "    print(f'\\nstarting Epoch {i}')\n",
    "    print('Training...')\n",
    "    epoch_loss = train(model, train_iterator, optimizer, criterion)\n",
    "    losses.append(epoch_loss)\n",
    "    print('\\nEvaluating on train...')\n",
    "    f1_on_train,_ = evaluate(model, train_iterator, criterion)\n",
    "    f1s.append(f1_on_train)\n",
    "    print('\\nEvaluating on test...')\n",
    "    f1_on_test, epoch_loss_on_test = evaluate(model, val_iterator, criterion)\n",
    "    losses_eval.append(epoch_loss_on_test)\n",
    "    f1s_eval.append(f1_on_test)"
   ]
  },
  {
   "cell_type": "code",
   "execution_count": 90,
   "metadata": {
    "colab": {
     "base_uri": "https://localhost:8080/",
     "height": 295
    },
    "id": "eH7ws8dXmEn5",
    "outputId": "3e742ebc-e57f-4d67-eb70-36240964a9d0",
    "scrolled": true
   },
   "outputs": [
    {
     "data": {
      "image/png": "[encoded data removed]",
      "text/plain": [
       "<Figure size 432x288 with 1 Axes>"
      ]
     },
     "metadata": {
      "needs_background": "light"
     },
     "output_type": "display_data"
    }
   ],
   "source": [
    "import matplotlib.pyplot as plt\n",
    "plt.plot(losses)\n",
    "plt.plot(losses_eval)\n",
    "plt.title('BCE loss value')\n",
    "plt.ylabel('BCE loss')\n",
    "plt.xlabel('epoch')\n",
    "plt.legend(['train', 'val'], loc='upper right')\n",
    "plt.show()"
   ]
  },
  {
   "cell_type": "code",
   "execution_count": 91,
   "metadata": {
    "colab": {
     "base_uri": "https://localhost:8080/",
     "height": 295
    },
    "id": "q32B6i6BmGOc",
    "outputId": "9c885f61-e361-4622-d564-001b386fbcbb"
   },
   "outputs": [
    {
     "data": {
      "image/png": "[encoded data removed]",
      "text/plain": [
       "<Figure size 432x288 with 1 Axes>"
      ]
     },
     "metadata": {
      "needs_background": "light"
     },
     "output_type": "display_data"
    }
   ],
   "source": [
    "import matplotlib.pyplot as plt\n",
    "plt.plot([i.cpu() for i in f1s])\n",
    "plt.plot([i.cpu() for i in f1s_eval])\n",
    "plt.title('f1 value')\n",
    "plt.ylabel('f1 value')\n",
    "plt.xlabel('epoch')\n",
    "plt.legend(['train', 'val'], loc='upper right')\n",
    "plt.show()"
   ]
  },
  {
   "cell_type": "markdown",
   "metadata": {},
   "source": [
    "Мы поменяли learning rate и добавили дропаут, кажется, стало лучше"
   ]
  },
  {
   "cell_type": "markdown",
   "metadata": {
    "id": "hj0-XaCkYz8w"
   },
   "source": [
    "Для анализа ошибок можно посмотреть на те примеры, которые мы (не)правильно предсказываем"
   ]
  },
  {
   "cell_type": "code",
   "execution_count": 94,
   "metadata": {
    "id": "bHtAIt5eCrP5"
   },
   "outputs": [],
   "source": [
    "def predict(model, iterator):\n",
    "    model.eval()\n",
    "    fp = []\n",
    "    fn = []\n",
    "    tp = [] \n",
    "    tn = []\n",
    "    with torch.no_grad():\n",
    "        for i, (texts, ys) in enumerate(iterator):   \n",
    "            preds = model(texts)  # делаем предсказания на тесте \n",
    "            for pred, gold, text in zip(preds, ys, texts):\n",
    "                text = ' '.join([id2word[int(word)] for word in text if word !=0])\n",
    "                if round(pred.item()) > gold:\n",
    "                    fp.append(text)\n",
    "                elif round(pred.item()) < gold:\n",
    "                    fn.append(text)\n",
    "                elif round(pred.item()) == gold == 1:\n",
    "                    tp.append(text)\n",
    "                elif round(pred.item()) == gold == 0:\n",
    "                    tn.append(text)\n",
    "    return fp, fn, tp, tn"
   ]
  },
  {
   "cell_type": "code",
   "execution_count": 95,
   "metadata": {
    "id": "phc1BAE4MKhU"
   },
   "outputs": [],
   "source": [
    "fp, fn, tp, tn = predict(model, val_iterator)"
   ]
  },
  {
   "cell_type": "code",
   "execution_count": 99,
   "metadata": {
    "colab": {
     "base_uri": "https://localhost:8080/"
    },
    "id": "xFiLocEC6dUa",
    "outputId": "1f9c6572-ae90-4cbb-e767-b1485882fa2e"
   },
   "outputs": [
    {
     "name": "stdout",
     "output_type": "stream",
     "text": [
      "positive ['вот да , ибо мой творческий натура не на простор контакт в ) :d', 'q : посмотреть страница вк :) a :', 'дуу бе шд тэ хэхэ дуу :-))', 'весь поздравлять с день администратор :)', '. :)', 'он смочь сделать это вечер . :-) # instantfollowback', 'была вчера в \" \" . там целый поляна - \" рождественский звезда \" . красотища ! :)', 'когда он писать в твой тетрадка , когда ты это восхитительный :*', 'энэ яасан намайг дээр бсан юм бэ : -):-):- )', 'мне всегда нравиться парень , которые старший меня :d я с ним иногда в вк переписываться , но в реал ни разу не разговаривать']\n"
     ]
    }
   ],
   "source": [
    "print('positive', tp[:10])"
   ]
  },
  {
   "cell_type": "code",
   "execution_count": 101,
   "metadata": {
    "colab": {
     "base_uri": "https://localhost:8080/"
    },
    "id": "IeBGHMjm4LBJ",
    "outputId": "455b8bda-35c1-4d09-b4f7-117091e7a1b2"
   },
   "outputs": [
    {
     "name": "stdout",
     "output_type": "stream",
     "text": [
      "false_n ['g красота самая главный неё нельзя !', 'rt @igorg1975 : и медаль после : t ”', 'rt : а мне очень _', 'нифига ты тоже хотеть так', 'крутой варежка номер день !', 'работа кать , кофта с высокий горло нет ?', 'красавчик по матану кстати тоже не , по физика тоже не ....', 'rt : @ocheshuenaya ...', ', - ведь лдпр по тихоньку захватывать территория', 'rt @lovkovusha : @mistermakaron не смотреть сериал новый серия выйти']\n"
     ]
    }
   ],
   "source": [
    "print('false_n', fn[:10])"
   ]
  },
  {
   "cell_type": "code",
   "execution_count": 103,
   "metadata": {
    "colab": {
     "base_uri": "https://localhost:8080/"
    },
    "id": "ztrjLRu34e-B",
    "outputId": "8f86977e-ff06-4552-a023-ab55c98974b1"
   },
   "outputs": [
    {
     "name": "stdout",
     "output_type": "stream",
     "text": [
      "false_p: ['rt : смешной', 'что вообще сегодня в метро', '@cheko_ov я очень рад ! очень - очень - очень рад !', 'блять . сейчас контрольный работа по', 'придурок , стать слушать за 2 неделя до себя это не простить ! да , надо билет купить , но это после', 'наш следующий лето увидеть свой друг , родных , , дом , мой комната , ждать', 'че ты же мешать тебе', 'ой про весь плохой ... мочь на каникулах подойти к', 'так тянуть написать ему , любить мой , но сахар то родной ... и от это грустный', '@do_or_die_xxx это еще что , вот иногда я напишу какой - нибудь твит с телефон , отправлять , а вместо того чтобы отправить он выходить из тви -_-']\n"
     ]
    }
   ],
   "source": [
    "print('false_p:', fp[:10])"
   ]
  },
  {
   "cell_type": "code",
   "execution_count": 104,
   "metadata": {
    "id": "DZL6OlYcbE9d"
   },
   "outputs": [
    {
     "name": "stdout",
     "output_type": "stream",
     "text": [
      "true_n: ['здесь стремно , такой звук :(', 'ну вот опять :( аж глаз ...', 'бляха , шо щас і , а вона не ( ( (', '# короче еще больше , чем ожидаться ( ( ( (', 'бля . зачем я это увидеть (', 'мороз стоять жуткий ( # крещение # # # photo # # # # путешествие @ …', 'полночь башка . и утро совсем разбить (', 'пойти выпью : ~ ( # ru_ff # ff_ru', 'смотреть концерт и понимать , что а мочь я так и не попасть на его концерт . ( ( ( (', 'блиииин , завтра и история ( ( ( (']\n"
     ]
    }
   ],
   "source": [
    "print('true_n:', tn[:10])"
   ]
  },
  {
   "cell_type": "markdown",
   "metadata": {},
   "source": [
    "А почему так хорошо? А потому, что скобочки не удаляли, а их в русскоязычном сегменте интернета часто используют как смайлики (или в составе других текстовых смайликов)"
   ]
  },
  {
   "cell_type": "code",
   "execution_count": null,
   "metadata": {},
   "outputs": [],
   "source": []
  }
 ],
 "metadata": {
  "accelerator": "GPU",
  "colab": {
   "collapsed_sections": [],
   "name": "9_CNN.ipynb",
   "provenance": [],
   "toc_visible": true
  },
  "kernelspec": {
   "display_name": "Python 3 (ipykernel)",
   "language": "python",
   "name": "python3"
  },
  "language_info": {
   "codemirror_mode": {
    "name": "ipython",
    "version": 3
   },
   "file_extension": ".py",
   "mimetype": "text/x-python",
   "name": "python",
   "nbconvert_exporter": "python",
   "pygments_lexer": "ipython3",
   "version": "3.8.12"
  }
 },
 "nbformat": 4,
 "nbformat_minor": 1
}
