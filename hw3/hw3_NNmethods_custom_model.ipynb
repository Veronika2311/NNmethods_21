{
  "cells": [
    {
      "cell_type": "markdown",
      "metadata": {
        "id": "view-in-github",
        "colab_type": "text"
      },
      "source": [
        "<a href=\"https://colab.research.google.com/github/Veronika2311/NNmethods_21/blob/main/hw3/hw3_NNmethods_custom_model.ipynb\" target=\"_parent\"><img src=\"https://colab.research.google.com/assets/colab-badge.svg\" alt=\"Open In Colab\"/></a>"
      ]
    },
    {
      "cell_type": "code",
      "execution_count": null,
      "metadata": {
        "colab": {
          "base_uri": "https://localhost:8080/",
          "height": 35
        },
        "id": "Y0fOWhqwW-AT",
        "outputId": "dc9228ae-6721-401f-f641-e3e7a08da8ef"
      },
      "outputs": [
        {
          "output_type": "execute_result",
          "data": {
            "application/vnd.google.colaboratory.intrinsic+json": {
              "type": "string"
            },
            "text/plain": [
              "'\\n!pip install pandas\\n!pip install torch\\n!pip install nltk\\n!pip install tqdm\\n!pip install seaborn\\n!pip install numpy\\n!pip install sklearn\\n'"
            ]
          },
          "metadata": {},
          "execution_count": 1
        }
      ],
      "source": [
        "'''\n",
        "!pip install pandas\n",
        "!pip install torch\n",
        "!pip install nltk\n",
        "!pip install tqdm\n",
        "!pip install seaborn\n",
        "!pip install numpy\n",
        "!pip install sklearn\n",
        "'''"
      ]
    },
    {
      "cell_type": "code",
      "source": [
        "!pip install --upgrade gensim"
      ],
      "metadata": {
        "colab": {
          "base_uri": "https://localhost:8080/"
        },
        "id": "lcok5ZBn3-j_",
        "outputId": "3f469901-7f6b-4b40-fcaa-f5e47bd91332"
      },
      "execution_count": null,
      "outputs": [
        {
          "output_type": "stream",
          "name": "stdout",
          "text": [
            "Requirement already satisfied: gensim in /usr/local/lib/python3.7/dist-packages (3.6.0)\n",
            "Collecting gensim\n",
            "  Downloading gensim-4.1.2-cp37-cp37m-manylinux_2_12_x86_64.manylinux2010_x86_64.whl (24.1 MB)\n",
            "\u001b[K     |████████████████████████████████| 24.1 MB 3.3 MB/s \n",
            "\u001b[?25hRequirement already satisfied: numpy>=1.17.0 in /usr/local/lib/python3.7/dist-packages (from gensim) (1.19.5)\n",
            "Requirement already satisfied: smart-open>=1.8.1 in /usr/local/lib/python3.7/dist-packages (from gensim) (5.2.1)\n",
            "Requirement already satisfied: scipy>=0.18.1 in /usr/local/lib/python3.7/dist-packages (from gensim) (1.4.1)\n",
            "Installing collected packages: gensim\n",
            "  Attempting uninstall: gensim\n",
            "    Found existing installation: gensim 3.6.0\n",
            "    Uninstalling gensim-3.6.0:\n",
            "      Successfully uninstalled gensim-3.6.0\n",
            "Successfully installed gensim-4.1.2\n"
          ]
        }
      ]
    },
    {
      "cell_type": "code",
      "execution_count": null,
      "metadata": {
        "id": "u3wugeOHW-AV"
      },
      "outputs": [],
      "source": [
        "import torch\n",
        "import nltk\n",
        "from nltk import word_tokenize\n",
        "#nltk.download('punkt')"
      ]
    },
    {
      "cell_type": "code",
      "source": [
        "!unzip data.zip"
      ],
      "metadata": {
        "colab": {
          "base_uri": "https://localhost:8080/"
        },
        "id": "80Qj6LE_1p5v",
        "outputId": "1cf06090-64f5-4f79-b20e-6a8741ab6685"
      },
      "execution_count": null,
      "outputs": [
        {
          "output_type": "stream",
          "name": "stdout",
          "text": [
            "unzip:  cannot find or open data.zip, data.zip.zip or data.zip.ZIP.\n"
          ]
        }
      ]
    },
    {
      "cell_type": "markdown",
      "metadata": {
        "id": "m9XIrxSmW-AX"
      },
      "source": [
        "# Скачиваем данные"
      ]
    },
    {
      "cell_type": "code",
      "execution_count": null,
      "metadata": {
        "id": "qmzaEwy9W-Ae"
      },
      "outputs": [],
      "source": [
        "import pandas as pd"
      ]
    },
    {
      "cell_type": "code",
      "execution_count": null,
      "metadata": {
        "colab": {
          "base_uri": "https://localhost:8080/",
          "height": 423
        },
        "id": "fCDc7uZ_y-Iy",
        "outputId": "a23630fe-9f5d-4890-f432-a5cd801fc70c"
      },
      "outputs": [
        {
          "output_type": "execute_result",
          "data": {
            "text/html": [
              "\n",
              "  <div id=\"df-a640fe96-1fe3-4e92-b241-49b5957d3789\">\n",
              "    <div class=\"colab-df-container\">\n",
              "      <div>\n",
              "<style scoped>\n",
              "    .dataframe tbody tr th:only-of-type {\n",
              "        vertical-align: middle;\n",
              "    }\n",
              "\n",
              "    .dataframe tbody tr th {\n",
              "        vertical-align: top;\n",
              "    }\n",
              "\n",
              "    .dataframe thead th {\n",
              "        text-align: right;\n",
              "    }\n",
              "</style>\n",
              "<table border=\"1\" class=\"dataframe\">\n",
              "  <thead>\n",
              "    <tr style=\"text-align: right;\">\n",
              "      <th></th>\n",
              "      <th>title</th>\n",
              "      <th>text</th>\n",
              "      <th>subject</th>\n",
              "      <th>date</th>\n",
              "    </tr>\n",
              "  </thead>\n",
              "  <tbody>\n",
              "    <tr>\n",
              "      <th>0</th>\n",
              "      <td>Donald Trump Sends Out Embarrassing New Year’...</td>\n",
              "      <td>Donald Trump just couldn t wish all Americans ...</td>\n",
              "      <td>News</td>\n",
              "      <td>December 31, 2017</td>\n",
              "    </tr>\n",
              "    <tr>\n",
              "      <th>1</th>\n",
              "      <td>Drunk Bragging Trump Staffer Started Russian ...</td>\n",
              "      <td>House Intelligence Committee Chairman Devin Nu...</td>\n",
              "      <td>News</td>\n",
              "      <td>December 31, 2017</td>\n",
              "    </tr>\n",
              "    <tr>\n",
              "      <th>2</th>\n",
              "      <td>Sheriff David Clarke Becomes An Internet Joke...</td>\n",
              "      <td>On Friday, it was revealed that former Milwauk...</td>\n",
              "      <td>News</td>\n",
              "      <td>December 30, 2017</td>\n",
              "    </tr>\n",
              "    <tr>\n",
              "      <th>3</th>\n",
              "      <td>Trump Is So Obsessed He Even Has Obama’s Name...</td>\n",
              "      <td>On Christmas day, Donald Trump announced that ...</td>\n",
              "      <td>News</td>\n",
              "      <td>December 29, 2017</td>\n",
              "    </tr>\n",
              "    <tr>\n",
              "      <th>4</th>\n",
              "      <td>Pope Francis Just Called Out Donald Trump Dur...</td>\n",
              "      <td>Pope Francis used his annual Christmas Day mes...</td>\n",
              "      <td>News</td>\n",
              "      <td>December 25, 2017</td>\n",
              "    </tr>\n",
              "    <tr>\n",
              "      <th>...</th>\n",
              "      <td>...</td>\n",
              "      <td>...</td>\n",
              "      <td>...</td>\n",
              "      <td>...</td>\n",
              "    </tr>\n",
              "    <tr>\n",
              "      <th>23476</th>\n",
              "      <td>McPain: John McCain Furious That Iran Treated ...</td>\n",
              "      <td>21st Century Wire says As 21WIRE reported earl...</td>\n",
              "      <td>Middle-east</td>\n",
              "      <td>January 16, 2016</td>\n",
              "    </tr>\n",
              "    <tr>\n",
              "      <th>23477</th>\n",
              "      <td>JUSTICE? Yahoo Settles E-mail Privacy Class-ac...</td>\n",
              "      <td>21st Century Wire says It s a familiar theme. ...</td>\n",
              "      <td>Middle-east</td>\n",
              "      <td>January 16, 2016</td>\n",
              "    </tr>\n",
              "    <tr>\n",
              "      <th>23478</th>\n",
              "      <td>Sunnistan: US and Allied ‘Safe Zone’ Plan to T...</td>\n",
              "      <td>Patrick Henningsen  21st Century WireRemember ...</td>\n",
              "      <td>Middle-east</td>\n",
              "      <td>January 15, 2016</td>\n",
              "    </tr>\n",
              "    <tr>\n",
              "      <th>23479</th>\n",
              "      <td>How to Blow $700 Million: Al Jazeera America F...</td>\n",
              "      <td>21st Century Wire says Al Jazeera America will...</td>\n",
              "      <td>Middle-east</td>\n",
              "      <td>January 14, 2016</td>\n",
              "    </tr>\n",
              "    <tr>\n",
              "      <th>23480</th>\n",
              "      <td>10 U.S. Navy Sailors Held by Iranian Military ...</td>\n",
              "      <td>21st Century Wire says As 21WIRE predicted in ...</td>\n",
              "      <td>Middle-east</td>\n",
              "      <td>January 12, 2016</td>\n",
              "    </tr>\n",
              "  </tbody>\n",
              "</table>\n",
              "<p>23481 rows × 4 columns</p>\n",
              "</div>\n",
              "      <button class=\"colab-df-convert\" onclick=\"convertToInteractive('df-a640fe96-1fe3-4e92-b241-49b5957d3789')\"\n",
              "              title=\"Convert this dataframe to an interactive table.\"\n",
              "              style=\"display:none;\">\n",
              "        \n",
              "  <svg xmlns=\"http://www.w3.org/2000/svg\" height=\"24px\"viewBox=\"0 0 24 24\"\n",
              "       width=\"24px\">\n",
              "    <path d=\"M0 0h24v24H0V0z\" fill=\"none\"/>\n",
              "    <path d=\"M18.56 5.44l.94 2.06.94-2.06 2.06-.94-2.06-.94-.94-2.06-.94 2.06-2.06.94zm-11 1L8.5 8.5l.94-2.06 2.06-.94-2.06-.94L8.5 2.5l-.94 2.06-2.06.94zm10 10l.94 2.06.94-2.06 2.06-.94-2.06-.94-.94-2.06-.94 2.06-2.06.94z\"/><path d=\"M17.41 7.96l-1.37-1.37c-.4-.4-.92-.59-1.43-.59-.52 0-1.04.2-1.43.59L10.3 9.45l-7.72 7.72c-.78.78-.78 2.05 0 2.83L4 21.41c.39.39.9.59 1.41.59.51 0 1.02-.2 1.41-.59l7.78-7.78 2.81-2.81c.8-.78.8-2.07 0-2.86zM5.41 20L4 18.59l7.72-7.72 1.47 1.35L5.41 20z\"/>\n",
              "  </svg>\n",
              "      </button>\n",
              "      \n",
              "  <style>\n",
              "    .colab-df-container {\n",
              "      display:flex;\n",
              "      flex-wrap:wrap;\n",
              "      gap: 12px;\n",
              "    }\n",
              "\n",
              "    .colab-df-convert {\n",
              "      background-color: #E8F0FE;\n",
              "      border: none;\n",
              "      border-radius: 50%;\n",
              "      cursor: pointer;\n",
              "      display: none;\n",
              "      fill: #1967D2;\n",
              "      height: 32px;\n",
              "      padding: 0 0 0 0;\n",
              "      width: 32px;\n",
              "    }\n",
              "\n",
              "    .colab-df-convert:hover {\n",
              "      background-color: #E2EBFA;\n",
              "      box-shadow: 0px 1px 2px rgba(60, 64, 67, 0.3), 0px 1px 3px 1px rgba(60, 64, 67, 0.15);\n",
              "      fill: #174EA6;\n",
              "    }\n",
              "\n",
              "    [theme=dark] .colab-df-convert {\n",
              "      background-color: #3B4455;\n",
              "      fill: #D2E3FC;\n",
              "    }\n",
              "\n",
              "    [theme=dark] .colab-df-convert:hover {\n",
              "      background-color: #434B5C;\n",
              "      box-shadow: 0px 1px 3px 1px rgba(0, 0, 0, 0.15);\n",
              "      filter: drop-shadow(0px 1px 2px rgba(0, 0, 0, 0.3));\n",
              "      fill: #FFFFFF;\n",
              "    }\n",
              "  </style>\n",
              "\n",
              "      <script>\n",
              "        const buttonEl =\n",
              "          document.querySelector('#df-a640fe96-1fe3-4e92-b241-49b5957d3789 button.colab-df-convert');\n",
              "        buttonEl.style.display =\n",
              "          google.colab.kernel.accessAllowed ? 'block' : 'none';\n",
              "\n",
              "        async function convertToInteractive(key) {\n",
              "          const element = document.querySelector('#df-a640fe96-1fe3-4e92-b241-49b5957d3789');\n",
              "          const dataTable =\n",
              "            await google.colab.kernel.invokeFunction('convertToInteractive',\n",
              "                                                     [key], {});\n",
              "          if (!dataTable) return;\n",
              "\n",
              "          const docLinkHtml = 'Like what you see? Visit the ' +\n",
              "            '<a target=\"_blank\" href=https://colab.research.google.com/notebooks/data_table.ipynb>data table notebook</a>'\n",
              "            + ' to learn more about interactive tables.';\n",
              "          element.innerHTML = '';\n",
              "          dataTable['output_type'] = 'display_data';\n",
              "          await google.colab.output.renderOutput(dataTable, element);\n",
              "          const docLink = document.createElement('div');\n",
              "          docLink.innerHTML = docLinkHtml;\n",
              "          element.appendChild(docLink);\n",
              "        }\n",
              "      </script>\n",
              "    </div>\n",
              "  </div>\n",
              "  "
            ],
            "text/plain": [
              "                                                   title  ...               date\n",
              "0       Donald Trump Sends Out Embarrassing New Year’...  ...  December 31, 2017\n",
              "1       Drunk Bragging Trump Staffer Started Russian ...  ...  December 31, 2017\n",
              "2       Sheriff David Clarke Becomes An Internet Joke...  ...  December 30, 2017\n",
              "3       Trump Is So Obsessed He Even Has Obama’s Name...  ...  December 29, 2017\n",
              "4       Pope Francis Just Called Out Donald Trump Dur...  ...  December 25, 2017\n",
              "...                                                  ...  ...                ...\n",
              "23476  McPain: John McCain Furious That Iran Treated ...  ...   January 16, 2016\n",
              "23477  JUSTICE? Yahoo Settles E-mail Privacy Class-ac...  ...   January 16, 2016\n",
              "23478  Sunnistan: US and Allied ‘Safe Zone’ Plan to T...  ...   January 15, 2016\n",
              "23479  How to Blow $700 Million: Al Jazeera America F...  ...   January 14, 2016\n",
              "23480  10 U.S. Navy Sailors Held by Iranian Military ...  ...   January 12, 2016\n",
              "\n",
              "[23481 rows x 4 columns]"
            ]
          },
          "metadata": {},
          "execution_count": 9
        }
      ],
      "source": [
        "data = pd.read_csv('Fake.csv', encoding='utf8')\n",
        "data"
      ]
    },
    {
      "cell_type": "code",
      "execution_count": null,
      "metadata": {
        "colab": {
          "base_uri": "https://localhost:8080/"
        },
        "id": "LxvkAFgKy-I0",
        "outputId": "fd956542-af71-4113-e022-57a39cfd5b53"
      },
      "outputs": [
        {
          "output_type": "execute_result",
          "data": {
            "text/plain": [
              "News               38.541800\n",
              "politics           29.134194\n",
              "left-news          18.989822\n",
              "Government News     6.686257\n",
              "US_News             3.334611\n",
              "Middle-east         3.313317\n",
              "Name: subject, dtype: float64"
            ]
          },
          "metadata": {},
          "execution_count": 10
        }
      ],
      "source": [
        "data.subject.value_counts() * 100 / data.shape[0]"
      ]
    },
    {
      "cell_type": "markdown",
      "metadata": {
        "id": "y9ISa_Gqy-I1"
      },
      "source": [
        "Ну, у нас есть дисбаланс классов"
      ]
    },
    {
      "cell_type": "markdown",
      "metadata": {
        "id": "gfHbifWIW-Al"
      },
      "source": [
        "# Предобученные эмбеддинги\n",
        "[Источник](https://fasttext.cc/docs/en/crawl-vectors.html)  \n",
        "Вы можете взять любые word2vec подобные эмббединги. Если вы хотите использовать elmo, bert, etc сначала попробуйте с word2vec подобными эмббедингами, а потом можете перейти к более сложным моделям.  \n",
        "Ниже мы сначала скачиваем, а потом распоковываем эмбеддинги."
      ]
    },
    {
      "cell_type": "code",
      "execution_count": null,
      "metadata": {
        "id": "M0lwyZUFW-Ap"
      },
      "outputs": [],
      "source": [
        "from nltk.tokenize import word_tokenize, wordpunct_tokenize\n",
        "from tqdm import tqdm"
      ]
    },
    {
      "cell_type": "code",
      "execution_count": null,
      "metadata": {
        "id": "QQpX51Y4W-Aq"
      },
      "outputs": [],
      "source": [
        "# потом можете добавить свою предобработку\n",
        "\n",
        "def process_text(text):\n",
        "    \n",
        "    words = wordpunct_tokenize(text.lower())\n",
        "    \n",
        "    return words"
      ]
    },
    {
      "cell_type": "code",
      "execution_count": null,
      "metadata": {
        "colab": {
          "base_uri": "https://localhost:8080/"
        },
        "id": "HyI2erCDW-Ar",
        "outputId": "d034e775-bfaf-4b58-81f3-4401999757fb"
      },
      "outputs": [
        {
          "output_type": "stream",
          "name": "stderr",
          "text": [
            "100%|██████████| 23481/23481 [00:07<00:00, 3333.01it/s]\n"
          ]
        }
      ],
      "source": [
        "word2freq = {}\n",
        "lengths = []\n",
        "\n",
        "for text in tqdm(data.text):\n",
        "    \n",
        "    words = process_text(text)\n",
        "    \n",
        "    lengths.append(len(words))\n",
        "    \n",
        "    for word in words:\n",
        "        \n",
        "        if word in word2freq:\n",
        "            word2freq[word] += 1\n",
        "        else:\n",
        "            word2freq[word] = 1"
      ]
    },
    {
      "cell_type": "code",
      "execution_count": null,
      "metadata": {
        "id": "FGzDm0ptW-At"
      },
      "outputs": [],
      "source": [
        "import seaborn as sns\n",
        "from matplotlib import pyplot as plt"
      ]
    },
    {
      "cell_type": "code",
      "execution_count": null,
      "metadata": {
        "colab": {
          "base_uri": "https://localhost:8080/",
          "height": 694
        },
        "id": "iZBR-aYDW-Av",
        "outputId": "260e8a97-3e2c-49e1-d350-62ebd7d1ba03"
      },
      "outputs": [
        {
          "output_type": "stream",
          "name": "stderr",
          "text": [
            "/usr/local/lib/python3.7/dist-packages/seaborn/distributions.py:2619: FutureWarning: `distplot` is a deprecated function and will be removed in a future version. Please adapt your code to use either `displot` (a figure-level function with similar flexibility) or `histplot` (an axes-level function for histograms).\n",
            "  warnings.warn(msg, FutureWarning)\n"
          ]
        },
        {
          "output_type": "execute_result",
          "data": {
            "text/plain": [
              "<matplotlib.axes._subplots.AxesSubplot at 0x7f9872045790>"
            ]
          },
          "metadata": {},
          "execution_count": 15
        },
        {
          "output_type": "display_data",
          "data": {
            "image/png": "[encoded data removed]",
            "text/plain": [
              "<Figure size 1152x720 with 1 Axes>"
            ]
          },
          "metadata": {
            "needs_background": "light"
          }
        }
      ],
      "source": [
        "plt.figure(figsize=(16, 10))\n",
        "plt.title('Распределение длин слов в текстах')\n",
        "plt.xlabel('Длина предложения')\n",
        "plt.ylabel('Доля')\n",
        "sns.distplot(lengths)"
      ]
    },
    {
      "cell_type": "code",
      "execution_count": null,
      "metadata": {
        "colab": {
          "base_uri": "https://localhost:8080/",
          "height": 35
        },
        "id": "OBzmPqXIW-Aw",
        "outputId": "7f9379c4-4918-4f3e-cd44-b9b8037ec1da"
      },
      "outputs": [
        {
          "output_type": "execute_result",
          "data": {
            "application/vnd.google.colaboratory.intrinsic+json": {
              "type": "string"
            },
            "text/plain": [
              "'62.48 % наших текстов входят в промежуток от 3 до 512 слов'"
            ]
          },
          "metadata": {},
          "execution_count": 16
        }
      ],
      "source": [
        "upper_threshold = 512 #больше карта не потянет\n",
        "lower_threshold = 3\n",
        "\n",
        "correct_percent = len([sent_len for sent_len in lengths \n",
        "                       if sent_len <= upper_threshold and sent_len >= lower_threshold]) * 100 / len(lengths)\n",
        "\n",
        "'{:.2f} % наших текстов входят в промежуток от {} до {} слов'.format(correct_percent, lower_threshold, upper_threshold)"
      ]
    },
    {
      "cell_type": "code",
      "execution_count": null,
      "metadata": {
        "colab": {
          "base_uri": "https://localhost:8080/"
        },
        "id": "GbSer_0bW-Ay",
        "outputId": "226a4f65-1533-4668-e0e0-f53d94980727"
      },
      "outputs": [
        {
          "output_type": "execute_result",
          "data": {
            "text/plain": [
              "95413"
            ]
          },
          "metadata": {},
          "execution_count": 17
        }
      ],
      "source": [
        "len(word2freq)"
      ]
    },
    {
      "cell_type": "code",
      "execution_count": null,
      "metadata": {
        "colab": {
          "base_uri": "https://localhost:8080/",
          "height": 35
        },
        "id": "szg6XD3EW-Az",
        "outputId": "7461e204-3547-4508-d203-fafc3b40060c"
      },
      "outputs": [
        {
          "output_type": "execute_result",
          "data": {
            "application/vnd.google.colaboratory.intrinsic+json": {
              "type": "string"
            },
            "text/plain": [
              "'54174 слов, которые встречались 3 и менее раз'"
            ]
          },
          "metadata": {},
          "execution_count": 18
        }
      ],
      "source": [
        "'{} слов, которые встречались 3 и менее раз'.format(len([word for word in word2freq if word2freq[word] <= 3]))"
      ]
    },
    {
      "cell_type": "markdown",
      "metadata": {
        "id": "bZbOg0FqW-A1"
      },
      "source": [
        "# Читаем файл с эмбеддингами\n",
        "### Этот файл с 300 числами для 2 000 000 слов и он может не влезть в память\n",
        "Поэтому прочитаем только те слова, которые мы знаем"
      ]
    },
    {
      "cell_type": "code",
      "source": [
        "!wget -c \"https://s3.amazonaws.com/dl4j-distribution/GoogleNews-vectors-negative300.bin.gz\"\n",
        "!gzip -d GoogleNews-vectors-negative300.bin.gz"
      ],
      "metadata": {
        "colab": {
          "base_uri": "https://localhost:8080/"
        },
        "id": "1qFc9mQl3TOQ",
        "outputId": "9620f226-a00a-4037-af7e-ca3407a52807"
      },
      "execution_count": null,
      "outputs": [
        {
          "output_type": "stream",
          "name": "stdout",
          "text": [
            "--2021-12-31 00:08:43--  https://s3.amazonaws.com/dl4j-distribution/GoogleNews-vectors-negative300.bin.gz\n",
            "Resolving s3.amazonaws.com (s3.amazonaws.com)... 52.216.112.125\n",
            "Connecting to s3.amazonaws.com (s3.amazonaws.com)|52.216.112.125|:443... connected.\n",
            "HTTP request sent, awaiting response... 200 OK\n",
            "Length: 1647046227 (1.5G) [application/x-gzip]\n",
            "Saving to: ‘GoogleNews-vectors-negative300.bin.gz’\n",
            "\n",
            "GoogleNews-vectors- 100%[===================>]   1.53G  35.1MB/s    in 47s     \n",
            "\n",
            "2021-12-31 00:09:31 (33.3 MB/s) - ‘GoogleNews-vectors-negative300.bin.gz’ saved [1647046227/1647046227]\n",
            "\n"
          ]
        }
      ]
    },
    {
      "cell_type": "code",
      "execution_count": null,
      "metadata": {
        "id": "CMQx4vTgy-I8"
      },
      "outputs": [],
      "source": [
        "import numpy as np\n",
        "from gensim.models.keyedvectors import KeyedVectors\n",
        "\n",
        "model = KeyedVectors.load_word2vec_format('GoogleNews-vectors-negative300.bin', binary=True)"
      ]
    },
    {
      "cell_type": "code",
      "execution_count": null,
      "metadata": {
        "colab": {
          "base_uri": "https://localhost:8080/"
        },
        "id": "uIIGBElNy-I8",
        "outputId": "6bc7ce04-b3c8-4aae-cfbd-da3fd36292f1"
      },
      "outputs": [
        {
          "output_type": "stream",
          "name": "stderr",
          "text": [
            "100%|██████████| 95413/95413 [00:00<00:00, 121107.79it/s]\n"
          ]
        }
      ],
      "source": [
        "word2index = {'PAD': 0, 'UNK': 1}\n",
        "vectors = []\n",
        "\n",
        "n_words, embedding_dim = len(model.index_to_key), model.vector_size\n",
        "\n",
        "#паддинги и уникальные\n",
        "vectors.append(np.random.uniform(-0.25, 0.25, embedding_dim))\n",
        "vectors.append(np.random.uniform(-0.25, 0.25, embedding_dim))\n",
        "#progress_bar = tqdm(desc='Read word2vec', total=n_words)\n",
        "\n",
        "for word in tqdm(word2freq.keys()):\n",
        "    word2index[word] = len(word2index)\n",
        "    if word in model:\n",
        "        vectors.append(model.get_vector(word))\n",
        "    else:\n",
        "        vectors.append(np.random.uniform(-0.25, 0.25, embedding_dim))\n",
        "\n",
        "vectors = torch.FloatTensor(np.array(vectors))"
      ]
    },
    {
      "cell_type": "code",
      "execution_count": null,
      "metadata": {
        "colab": {
          "base_uri": "https://localhost:8080/"
        },
        "id": "Rb49Fp1iy-I9",
        "outputId": "ee288915-43d8-49f7-e865-1b33b29b6e8b"
      },
      "outputs": [
        {
          "output_type": "execute_result",
          "data": {
            "text/plain": [
              "95415"
            ]
          },
          "metadata": {},
          "execution_count": 22
        }
      ],
      "source": [
        "len(vectors)"
      ]
    },
    {
      "cell_type": "code",
      "execution_count": null,
      "metadata": {
        "colab": {
          "base_uri": "https://localhost:8080/"
        },
        "id": "AYJMzgpnW-A7",
        "outputId": "8d88c7f6-56f6-4925-ff41-3914d9db6e11"
      },
      "outputs": [
        {
          "output_type": "execute_result",
          "data": {
            "text/plain": [
              "95415"
            ]
          },
          "metadata": {},
          "execution_count": 23
        }
      ],
      "source": [
        "len(word2index)"
      ]
    },
    {
      "cell_type": "code",
      "execution_count": null,
      "metadata": {
        "id": "_fo1fB6JW-A-"
      },
      "outputs": [],
      "source": [
        "import torch"
      ]
    },
    {
      "cell_type": "code",
      "execution_count": null,
      "metadata": {
        "id": "jaMMD5CDW-BG"
      },
      "outputs": [],
      "source": [
        "device = torch.device('cuda') if torch.cuda.is_available() else torch.device('cpu')"
      ]
    },
    {
      "cell_type": "markdown",
      "metadata": {
        "id": "stBQ3yhqW-Bi"
      },
      "source": [
        "# Подготовим данные в DataLoader"
      ]
    },
    {
      "cell_type": "code",
      "execution_count": null,
      "metadata": {
        "id": "vPX_m5M4W-Bi"
      },
      "outputs": [],
      "source": [
        "from torch.utils.data import Dataset, DataLoader"
      ]
    },
    {
      "cell_type": "code",
      "execution_count": null,
      "metadata": {
        "colab": {
          "base_uri": "https://localhost:8080/"
        },
        "id": "hV76BdN0W-Bj",
        "outputId": "7ff91848-d5b5-4d3b-82fa-ac42553cf07a"
      },
      "outputs": [
        {
          "output_type": "execute_result",
          "data": {
            "text/plain": [
              "True"
            ]
          },
          "metadata": {},
          "execution_count": 27
        }
      ],
      "source": [
        "'UNK' in word2index"
      ]
    },
    {
      "cell_type": "code",
      "execution_count": null,
      "metadata": {
        "colab": {
          "base_uri": "https://localhost:8080/",
          "height": 206
        },
        "id": "INB_dPAnW-Bk",
        "outputId": "f189e45a-0d7d-43bb-bc6c-918b37719723"
      },
      "outputs": [
        {
          "output_type": "execute_result",
          "data": {
            "text/html": [
              "\n",
              "  <div id=\"df-a3059d99-dca7-43cb-9780-77f4e2f8a259\">\n",
              "    <div class=\"colab-df-container\">\n",
              "      <div>\n",
              "<style scoped>\n",
              "    .dataframe tbody tr th:only-of-type {\n",
              "        vertical-align: middle;\n",
              "    }\n",
              "\n",
              "    .dataframe tbody tr th {\n",
              "        vertical-align: top;\n",
              "    }\n",
              "\n",
              "    .dataframe thead th {\n",
              "        text-align: right;\n",
              "    }\n",
              "</style>\n",
              "<table border=\"1\" class=\"dataframe\">\n",
              "  <thead>\n",
              "    <tr style=\"text-align: right;\">\n",
              "      <th></th>\n",
              "      <th>title</th>\n",
              "      <th>text</th>\n",
              "      <th>subject</th>\n",
              "      <th>date</th>\n",
              "    </tr>\n",
              "  </thead>\n",
              "  <tbody>\n",
              "    <tr>\n",
              "      <th>0</th>\n",
              "      <td>Donald Trump Sends Out Embarrassing New Year’...</td>\n",
              "      <td>Donald Trump just couldn t wish all Americans ...</td>\n",
              "      <td>News</td>\n",
              "      <td>December 31, 2017</td>\n",
              "    </tr>\n",
              "    <tr>\n",
              "      <th>1</th>\n",
              "      <td>Drunk Bragging Trump Staffer Started Russian ...</td>\n",
              "      <td>House Intelligence Committee Chairman Devin Nu...</td>\n",
              "      <td>News</td>\n",
              "      <td>December 31, 2017</td>\n",
              "    </tr>\n",
              "    <tr>\n",
              "      <th>2</th>\n",
              "      <td>Sheriff David Clarke Becomes An Internet Joke...</td>\n",
              "      <td>On Friday, it was revealed that former Milwauk...</td>\n",
              "      <td>News</td>\n",
              "      <td>December 30, 2017</td>\n",
              "    </tr>\n",
              "    <tr>\n",
              "      <th>3</th>\n",
              "      <td>Trump Is So Obsessed He Even Has Obama’s Name...</td>\n",
              "      <td>On Christmas day, Donald Trump announced that ...</td>\n",
              "      <td>News</td>\n",
              "      <td>December 29, 2017</td>\n",
              "    </tr>\n",
              "    <tr>\n",
              "      <th>4</th>\n",
              "      <td>Pope Francis Just Called Out Donald Trump Dur...</td>\n",
              "      <td>Pope Francis used his annual Christmas Day mes...</td>\n",
              "      <td>News</td>\n",
              "      <td>December 25, 2017</td>\n",
              "    </tr>\n",
              "  </tbody>\n",
              "</table>\n",
              "</div>\n",
              "      <button class=\"colab-df-convert\" onclick=\"convertToInteractive('df-a3059d99-dca7-43cb-9780-77f4e2f8a259')\"\n",
              "              title=\"Convert this dataframe to an interactive table.\"\n",
              "              style=\"display:none;\">\n",
              "        \n",
              "  <svg xmlns=\"http://www.w3.org/2000/svg\" height=\"24px\"viewBox=\"0 0 24 24\"\n",
              "       width=\"24px\">\n",
              "    <path d=\"M0 0h24v24H0V0z\" fill=\"none\"/>\n",
              "    <path d=\"M18.56 5.44l.94 2.06.94-2.06 2.06-.94-2.06-.94-.94-2.06-.94 2.06-2.06.94zm-11 1L8.5 8.5l.94-2.06 2.06-.94-2.06-.94L8.5 2.5l-.94 2.06-2.06.94zm10 10l.94 2.06.94-2.06 2.06-.94-2.06-.94-.94-2.06-.94 2.06-2.06.94z\"/><path d=\"M17.41 7.96l-1.37-1.37c-.4-.4-.92-.59-1.43-.59-.52 0-1.04.2-1.43.59L10.3 9.45l-7.72 7.72c-.78.78-.78 2.05 0 2.83L4 21.41c.39.39.9.59 1.41.59.51 0 1.02-.2 1.41-.59l7.78-7.78 2.81-2.81c.8-.78.8-2.07 0-2.86zM5.41 20L4 18.59l7.72-7.72 1.47 1.35L5.41 20z\"/>\n",
              "  </svg>\n",
              "      </button>\n",
              "      \n",
              "  <style>\n",
              "    .colab-df-container {\n",
              "      display:flex;\n",
              "      flex-wrap:wrap;\n",
              "      gap: 12px;\n",
              "    }\n",
              "\n",
              "    .colab-df-convert {\n",
              "      background-color: #E8F0FE;\n",
              "      border: none;\n",
              "      border-radius: 50%;\n",
              "      cursor: pointer;\n",
              "      display: none;\n",
              "      fill: #1967D2;\n",
              "      height: 32px;\n",
              "      padding: 0 0 0 0;\n",
              "      width: 32px;\n",
              "    }\n",
              "\n",
              "    .colab-df-convert:hover {\n",
              "      background-color: #E2EBFA;\n",
              "      box-shadow: 0px 1px 2px rgba(60, 64, 67, 0.3), 0px 1px 3px 1px rgba(60, 64, 67, 0.15);\n",
              "      fill: #174EA6;\n",
              "    }\n",
              "\n",
              "    [theme=dark] .colab-df-convert {\n",
              "      background-color: #3B4455;\n",
              "      fill: #D2E3FC;\n",
              "    }\n",
              "\n",
              "    [theme=dark] .colab-df-convert:hover {\n",
              "      background-color: #434B5C;\n",
              "      box-shadow: 0px 1px 3px 1px rgba(0, 0, 0, 0.15);\n",
              "      filter: drop-shadow(0px 1px 2px rgba(0, 0, 0, 0.3));\n",
              "      fill: #FFFFFF;\n",
              "    }\n",
              "  </style>\n",
              "\n",
              "      <script>\n",
              "        const buttonEl =\n",
              "          document.querySelector('#df-a3059d99-dca7-43cb-9780-77f4e2f8a259 button.colab-df-convert');\n",
              "        buttonEl.style.display =\n",
              "          google.colab.kernel.accessAllowed ? 'block' : 'none';\n",
              "\n",
              "        async function convertToInteractive(key) {\n",
              "          const element = document.querySelector('#df-a3059d99-dca7-43cb-9780-77f4e2f8a259');\n",
              "          const dataTable =\n",
              "            await google.colab.kernel.invokeFunction('convertToInteractive',\n",
              "                                                     [key], {});\n",
              "          if (!dataTable) return;\n",
              "\n",
              "          const docLinkHtml = 'Like what you see? Visit the ' +\n",
              "            '<a target=\"_blank\" href=https://colab.research.google.com/notebooks/data_table.ipynb>data table notebook</a>'\n",
              "            + ' to learn more about interactive tables.';\n",
              "          element.innerHTML = '';\n",
              "          dataTable['output_type'] = 'display_data';\n",
              "          await google.colab.output.renderOutput(dataTable, element);\n",
              "          const docLink = document.createElement('div');\n",
              "          docLink.innerHTML = docLinkHtml;\n",
              "          element.appendChild(docLink);\n",
              "        }\n",
              "      </script>\n",
              "    </div>\n",
              "  </div>\n",
              "  "
            ],
            "text/plain": [
              "                                               title  ...               date\n",
              "0   Donald Trump Sends Out Embarrassing New Year’...  ...  December 31, 2017\n",
              "1   Drunk Bragging Trump Staffer Started Russian ...  ...  December 31, 2017\n",
              "2   Sheriff David Clarke Becomes An Internet Joke...  ...  December 30, 2017\n",
              "3   Trump Is So Obsessed He Even Has Obama’s Name...  ...  December 29, 2017\n",
              "4   Pope Francis Just Called Out Donald Trump Dur...  ...  December 25, 2017\n",
              "\n",
              "[5 rows x 4 columns]"
            ]
          },
          "metadata": {},
          "execution_count": 28
        }
      ],
      "source": [
        "data.head()"
      ]
    },
    {
      "cell_type": "markdown",
      "metadata": {
        "id": "1qv1mKAeW-Bl"
      },
      "source": [
        "# Замапим категории в индексы"
      ]
    },
    {
      "cell_type": "code",
      "execution_count": null,
      "metadata": {
        "id": "iHeFzZe1W-Bl"
      },
      "outputs": [],
      "source": [
        "cat_mapper = {sub: n for n, sub in enumerate(data.subject.unique())}"
      ]
    },
    {
      "cell_type": "code",
      "execution_count": null,
      "metadata": {
        "colab": {
          "base_uri": "https://localhost:8080/"
        },
        "id": "X3x9QhXYW-Bn",
        "outputId": "798bc910-37ff-4d18-c2dd-b04bae14e788"
      },
      "outputs": [
        {
          "output_type": "execute_result",
          "data": {
            "text/plain": [
              "{'Government News': 2,\n",
              " 'Middle-east': 5,\n",
              " 'News': 0,\n",
              " 'US_News': 4,\n",
              " 'left-news': 3,\n",
              " 'politics': 1}"
            ]
          },
          "metadata": {},
          "execution_count": 30
        }
      ],
      "source": [
        "cat_mapper"
      ]
    },
    {
      "cell_type": "code",
      "execution_count": null,
      "metadata": {
        "id": "ef--8SWbW-Bo"
      },
      "outputs": [],
      "source": [
        "data.subject = data.subject.map(cat_mapper)"
      ]
    },
    {
      "cell_type": "markdown",
      "metadata": {
        "id": "vc48ALg_W-Bp"
      },
      "source": [
        "# Читалка данных"
      ]
    },
    {
      "cell_type": "code",
      "execution_count": null,
      "metadata": {
        "id": "ZkX8SC_sW-Bp"
      },
      "outputs": [],
      "source": [
        "class WordData(Dataset):\n",
        "    \n",
        "    def __init__(self, x_data, y_data, word2index, sequence_length=512, pad_token='PAD', verbose=True):\n",
        "        \n",
        "        super().__init__()\n",
        "        \n",
        "        self.x_data = []\n",
        "        self.y_data = y_data\n",
        "        \n",
        "        self.word2index = word2index\n",
        "        self.sequence_length = sequence_length\n",
        "        \n",
        "        self.pad_token = pad_token\n",
        "        self.pad_index = self.word2index[self.pad_token]\n",
        "        \n",
        "        self.load(x_data, verbose=verbose)\n",
        "        \n",
        "    @staticmethod\n",
        "    def process_text(text):\n",
        "        \n",
        "        # Место для вашей предобработки\n",
        "        \n",
        "        words = wordpunct_tokenize(text.lower())\n",
        "        #words = re.findall('[a-яА-ЯеЁ]+', text.lower())\n",
        "        return words\n",
        "        \n",
        "    def load(self, data, verbose=True):\n",
        "        \n",
        "        data_iterator = tqdm(data, desc='Loading data', disable=not verbose)\n",
        "        \n",
        "        for text in data_iterator:\n",
        "            \n",
        "            words = self.process_text(text)\n",
        "            \n",
        "            indexed_words = self.indexing(words)\n",
        "            \n",
        "            self.x_data.append(indexed_words)\n",
        "    \n",
        "    def indexing(self, tokenized_text):\n",
        "\n",
        "        # здесь мы не используем токен UNK, потому что мы его специально не учили\n",
        "        # становится непонятно какой же эмбеддинг присвоить неизвестному слову,\n",
        "        # поэтому просто выбрасываем наши неизветсные слова\n",
        "        \n",
        "        return [self.word2index[word]  if word in self.word2index else self.word2index['UNK'] for word in tokenized_text]\n",
        "    \n",
        "    def padding(self, sequence):\n",
        "        \n",
        "        # Ограничить длину self.sequence_length\n",
        "        # если длина меньше максимально - западить\n",
        "        if len(sequence)< self.sequence_length:\n",
        "          add_pad = self.sequence_length - len(sequence)\n",
        "          return sequence+[self.pad_index]*add_pad\n",
        "        else:\n",
        "          return sequence[:self.sequence_length]\n",
        "    \n",
        "    def __len__(self):\n",
        "        \n",
        "        return len(self.x_data)\n",
        "    \n",
        "    def __getitem__(self, idx):\n",
        "        \n",
        "        x = self.x_data[idx]\n",
        "        x = self.padding(x)\n",
        "        x = torch.Tensor(x).long()\n",
        "        \n",
        "        y = self.y_data[idx]\n",
        "        \n",
        "        return x, y"
      ]
    },
    {
      "cell_type": "code",
      "execution_count": null,
      "metadata": {
        "id": "R3WW8V9lyLm0"
      },
      "outputs": [],
      "source": [
        "from sklearn.model_selection import train_test_split\n",
        "from sklearn.metrics import accuracy_score"
      ]
    },
    {
      "cell_type": "code",
      "execution_count": null,
      "metadata": {
        "colab": {
          "base_uri": "https://localhost:8080/"
        },
        "id": "Lnc2nD8gW-Br",
        "outputId": "d5ffef56-e728-47f1-cf5e-d81c8f62aee2"
      },
      "outputs": [
        {
          "output_type": "stream",
          "name": "stderr",
          "text": [
            "Loading data: 100%|██████████| 18784/18784 [00:06<00:00, 3064.51it/s]\n",
            "Loading data: 100%|██████████| 4697/4697 [00:01<00:00, 3189.96it/s]\n"
          ]
        }
      ],
      "source": [
        "x_train, x_validation, y_train, y_validation = train_test_split(data.text, data.subject, test_size=0.2)\n",
        "\n",
        "train_dataset = WordData(list(x_train), list(y_train), word2index)\n",
        "train_loader = DataLoader(train_dataset, batch_size=16)\n",
        "\n",
        "validation_dataset = WordData(list(x_validation), list(y_validation), word2index)\n",
        "validation_loader = DataLoader(validation_dataset, batch_size=16)"
      ]
    },
    {
      "cell_type": "code",
      "execution_count": null,
      "metadata": {
        "id": "dGeftxdgW-Br"
      },
      "outputs": [],
      "source": [
        "for x, y in train_loader:\n",
        "    break"
      ]
    },
    {
      "cell_type": "code",
      "execution_count": null,
      "metadata": {
        "colab": {
          "base_uri": "https://localhost:8080/"
        },
        "id": "nNkGQffBW-Bs",
        "outputId": "c59a0356-82db-4a0f-921c-dd06e347a514"
      },
      "outputs": [
        {
          "output_type": "execute_result",
          "data": {
            "text/plain": [
              "tensor([[42676,   152,  2239,  ...,     0,     0,     0],\n",
              "        [  174,     6,  2255,  ...,     0,     0,     0],\n",
              "        [   31,   628, 82326,  ...,     0,     0,     0],\n",
              "        ...,\n",
              "        [64661,   178,    10,  ...,    18, 32144, 11034],\n",
              "        [   31,  1194,   144,  ...,    73,  1366,    19],\n",
              "        [  612,   158,     6,  ...,    19,  1702,    23]])"
            ]
          },
          "metadata": {},
          "execution_count": 36
        }
      ],
      "source": [
        "x"
      ]
    },
    {
      "cell_type": "code",
      "execution_count": null,
      "metadata": {
        "colab": {
          "base_uri": "https://localhost:8080/"
        },
        "id": "fxUk4nGcW-Bt",
        "outputId": "781f42de-9397-465e-f75c-48a51d767038"
      },
      "outputs": [
        {
          "output_type": "execute_result",
          "data": {
            "text/plain": [
              "tensor([3, 1, 3, 3, 0, 0, 1, 1, 3, 0, 1, 4, 0, 0, 1, 3])"
            ]
          },
          "metadata": {},
          "execution_count": 37
        }
      ],
      "source": [
        "y"
      ]
    },
    {
      "cell_type": "markdown",
      "metadata": {
        "id": "Zy0dkkTIW-Bw"
      },
      "source": [
        "# Обучить нейронку"
      ]
    },
    {
      "cell_type": "code",
      "source": [
        "import torch.nn as nn\n",
        "import torch.nn.functional as F"
      ],
      "metadata": {
        "id": "8lnO524Z0ELN"
      },
      "execution_count": null,
      "outputs": []
    },
    {
      "cell_type": "code",
      "source": [
        "class RNNCell(nn.Module):\n",
        "    def __init__(self, emb_size, hidden_size, ):\n",
        "        super().__init__()\n",
        "        self.emb_size = emb_size\n",
        "        self.hidden_size = hidden_size\n",
        "      \n",
        "        self.wih = nn.Parameter(torch.rand((emb_size, hidden_size),))\n",
        "        self.whh = nn.Parameter(torch.rand((hidden_size, hidden_size), ))\n",
        "        self.b_ih = nn.Parameter(torch.rand(hidden_size,))\n",
        "        self.b_hh = nn.Parameter(torch.rand( hidden_size, ))\n",
        "\n",
        "        # self.init_parameters()\n",
        "\n",
        "    def  init_parameters(self):\n",
        "        self.wih.uniform_(-1, 1)\n",
        "        self.whh.uniform_(-1, 1)\n",
        "        self.b_ih.uniform_(-1, 1)\n",
        "        self.b_hh.uniform_(-1, 1)\n",
        "\n",
        "    def forward(self, x, hidden_state, ):\n",
        "        # x : <batch, emb_size>\n",
        "        # hidden_state: <batch, hidden_size>\n",
        "        # wih: <hidden_size, emb_size>\n",
        "        # whh: <hidden_size, hidden_size>\n",
        "        # b_wih: <hidden_size>\n",
        "        # b_wih: <hidden_size>\n",
        "        # print('x', x.size())\n",
        "        # x = x.unsqueeze(-1)\n",
        "        # print('x', x.size())\n",
        "        wih_output = torch.matmul( x, self.wih) + self.b_ih # <batch, hidden_size>\n",
        "        # print('wih_output', wih_output.size())\n",
        "        whh_output = torch.matmul(hidden_state, self.whh) + self.b_hh # <batch, hidden_size>\n",
        "        # print(\"whh_output\", whh_output.size())\n",
        "\n",
        "        cell_output = F.tanh(wih_output + whh_output) # <batch, hidden_size>\n",
        "        # print(\"cell_output\", cell_output.size())\n",
        "        return cell_output\n"
      ],
      "metadata": {
        "id": "aynDtjxJeyVX"
      },
      "execution_count": null,
      "outputs": []
    },
    {
      "cell_type": "code",
      "source": [
        "class GRUCell(nn.Module):\n",
        "    def __init__(self, emb_size, hidden_size, ):\n",
        "        super().__init__()\n",
        "        self.emb_size = emb_size\n",
        "        self.hidden_size = hidden_size\n",
        "      \n",
        "        self.wir = nn.Parameter(torch.rand((emb_size, 1),))\n",
        "        self.wiz = nn.Parameter(torch.rand((emb_size, 1),))\n",
        "        self.win = nn.Parameter(torch.rand((emb_size, hidden_size),))\n",
        "        self.b_ir = nn.Parameter(torch.rand(1,))\n",
        "        self.b_iz = nn.Parameter(torch.rand(1,))\n",
        "        self.b_in = nn.Parameter(torch.rand(hidden_size,))\n",
        "    \n",
        "        self.whr = nn.Parameter(torch.rand((hidden_size, 1), ))\n",
        "        self.whz = nn.Parameter(torch.rand((hidden_size, 1), ))\n",
        "        self.whn = nn.Parameter(torch.rand((hidden_size, hidden_size), ))\n",
        "        self.b_hr = nn.Parameter(torch.rand(1,))\n",
        "        self.b_hz = nn.Parameter(torch.rand(1,))\n",
        "        self.b_hn = nn.Parameter(torch.rand(hidden_size,))\n",
        "\n",
        "\n",
        "    def forward(self, x, hidden_state, ):\n",
        "        # x : <batch, emb_size>\n",
        "        # hidden_state: <batch, hidden_size>\n",
        "        r_x = torch.matmul(x, self.wir) + self.b_ir\n",
        "        r_h = torch.matmul(hidden_state, self.whr) + self.b_hr\n",
        "        r = torch.sigmoid(r_x + r_h)\n",
        "\n",
        "        z_x = torch.matmul(x, self.wiz,) + self.b_iz\n",
        "        z_h = torch.matmul(hidden_state, self.whz,) + self.b_hz\n",
        "        z = torch.sigmoid(z_x + z_h)\n",
        "\n",
        "        n_x = torch.matmul(x, self.win,) + self.b_in\n",
        "        n_h = r * torch.matmul(hidden_state, self.whn,) + self.b_hn\n",
        "        n = torch.tanh(n_x + n_h)\n",
        "\n",
        "        cell_output = (1 - z) * n + z * hidden_state\n",
        "        return cell_output"
      ],
      "metadata": {
        "id": "ZRU1PONum6Bg"
      },
      "execution_count": null,
      "outputs": []
    },
    {
      "cell_type": "code",
      "source": [
        "class LSTMCell(nn.Module):\n",
        "    def __init__(self, emb_size, hidden_size, ):\n",
        "\n",
        "        super().__init__()\n",
        "        self.emb_size = emb_size\n",
        "        self.hidden_size = hidden_size\n",
        "      \n",
        "        self.wii = nn.Parameter(torch.rand((emb_size, 1),))\n",
        "        self.wif = nn.Parameter(torch.rand((emb_size, 1),))\n",
        "        self.wig = nn.Parameter(torch.rand((emb_size, hidden_size),))\n",
        "        self.wio = nn.Parameter(torch.rand((emb_size, 1),))\n",
        "        self.b_ii = nn.Parameter(torch.rand(1,))\n",
        "        self.b_if = nn.Parameter(torch.rand(1,))\n",
        "        self.b_ig = nn.Parameter(torch.rand(hidden_size))\n",
        "        self.b_io = nn.Parameter(torch.rand(1,))\n",
        "    \n",
        "        self.whi = nn.Parameter(torch.rand((hidden_size, 1), ))\n",
        "        self.whf = nn.Parameter(torch.rand((hidden_size, 1), ))\n",
        "        self.whg = nn.Parameter(torch.rand((hidden_size, hidden_size), ))\n",
        "        self.who = nn.Parameter(torch.rand((hidden_size, 1), ))\n",
        "        self.b_hi = nn.Parameter(torch.rand(1,))\n",
        "        self.b_hf = nn.Parameter(torch.rand(1,))\n",
        "        self.b_hg = nn.Parameter(torch.rand(hidden_size,))\n",
        "        self.b_ho = nn.Parameter(torch.rand(1,))\n",
        "\n",
        "    def forward(self, x, hidden_state, cell_state ):\n",
        "        # x : <batch, emb_size>\n",
        "        # hidden_state: <batch, hidden_size>\n",
        "        i_x = torch.matmul(x, self.wii) + self.b_ii\n",
        "        i_h = torch.matmul(hidden_state, self.whi) + self.b_hi\n",
        "        i = torch.sigmoid(i_x + i_h)\n",
        "\n",
        "        f_x = torch.matmul(x, self.wif) + self.b_if\n",
        "        f_h = torch.matmul(hidden_state, self.whf) + self.b_hf\n",
        "        f = torch.sigmoid(f_x + f_h)\n",
        "\n",
        "        g_x = torch.matmul(x, self.wig) + self.b_ig\n",
        "        g_h = torch.matmul(hidden_state, self.whg) + self.b_hg\n",
        "        g = torch.tanh(g_x + g_h)\n",
        "\n",
        "        o_x = torch.matmul(x, self.wio) + self.b_io\n",
        "        o_h = torch.matmul(hidden_state, self.who) + self.b_ho\n",
        "        o = torch.sigmoid(o_x + o_h)\n",
        "\n",
        "        new_cell_state = f * cell_state + i * g\n",
        "        h = o * torch.tanh(new_cell_state)\n",
        "\n",
        "        return h, new_cell_state"
      ],
      "metadata": {
        "id": "lWyQGR_5VTBm"
      },
      "execution_count": null,
      "outputs": []
    },
    {
      "cell_type": "code",
      "source": [
        "class RNNLayer(nn.Module):\n",
        "    def __init__(self, emb_size, hidden_size, cell_type):\n",
        "\n",
        "        super().__init__()\n",
        "        self.emb_size = emb_size\n",
        "        self.hidden_size = hidden_size\n",
        "        self.cell_type = cell_type\n",
        "\n",
        "        if cell_type == \"RNN\":\n",
        "            self.rnn_cell = RNNCell(emb_size=emb_size, hidden_size=hidden_size)\n",
        "        elif cell_type == \"GRU\":\n",
        "          self.rnn_cell = GRUCell(emb_size=emb_size, hidden_size=hidden_size)\n",
        "        elif cell_type == \"LSTM\":\n",
        "            self.rnn_cell = LSTMCell(emb_size=emb_size, hidden_size=hidden_size)\n",
        "\n",
        "    def forward(self, x,  ):\n",
        "        hidden_state = torch.zeros((self.hidden_size), dtype=torch.float32).to(device)\n",
        "        cell = torch.zeros((self.hidden_size), dtype=torch.float32).to(device)\n",
        "        seq_length = x.size()[1]\n",
        "        for i in range(seq_length):\n",
        "            input_token = x[:, i, :]\n",
        "            if self.cell_type == \"RNN\" or self.cell_type == \"GRU\":\n",
        "                hidden_state = self.rnn_cell(x=input_token, hidden_state=hidden_state, )\n",
        "            elif self.cell_type == \"LSTM\":\n",
        "                hidden_state, cell = self.rnn_cell(x=input_token, hidden_state=hidden_state, cell_state=cell)\n",
        "\n",
        "        return hidden_state"
      ],
      "metadata": {
        "id": "XKTyAlo3ZpzM"
      },
      "execution_count": null,
      "outputs": []
    },
    {
      "cell_type": "code",
      "source": [
        ""
      ],
      "metadata": {
        "id": "5fLdPKke54bV"
      },
      "execution_count": null,
      "outputs": []
    },
    {
      "cell_type": "code",
      "execution_count": null,
      "metadata": {
        "id": "3wwkxZm1vE43"
      },
      "outputs": [],
      "source": [
        "from math import sqrt\n",
        "\n",
        "class CLSTM(torch.nn.Module):\n",
        "    def __init__(self, matrix_w, n, conv_out=150, conv_window=[2, 3, 4],\n",
        "                 dropout = 0.5,  output_dim=6, lstm_memory_dim=150,\n",
        "                 dropout_locate='lstm', max_length=512, cell_type='RNN'): #n - количетсво категорий\n",
        "        \n",
        "        super().__init__()\n",
        "\n",
        "        self.n = n\n",
        "        self.embedding_dim = matrix_w.shape[1]\n",
        "        #self.hidden_size = hidden_size\n",
        "        self.conv_out = conv_out\n",
        "        self.conv_window = conv_window\n",
        "        self.max_cnn_res = max_length - max(conv_window) + 1\n",
        "        self.lstm_memory_dim = lstm_memory_dim\n",
        "        self.dropout = dropout\n",
        "        self.dropout_locate = dropout_locate\n",
        "        self.cell_type = cell_type\n",
        "        \n",
        "        self.emb_layer = torch.nn.Embedding.from_pretrained(torch.Tensor(matrix_w))\n",
        "        conv_layers = []\n",
        "        for c in conv_window:\n",
        "            conv_layers.append(torch.nn.Conv1d(self.embedding_dim, self.conv_out, kernel_size=(c,), padding='valid'))\n",
        "        self.convs = torch.nn.ModuleList(conv_layers)\n",
        "\n",
        "        \n",
        "        self.custom_rnn = RNNLayer(emb_size=self.conv_out * len(self.conv_window),\n",
        "                             hidden_size=self.lstm_memory_dim,\n",
        "                             cell_type=self.cell_type) \n",
        "        \n",
        "        self.soft = torch.nn.Softmax(dim=1)\n",
        "        self.relu = torch.nn.ReLU()\n",
        "        self.linear = torch.nn.Linear(in_features=self.lstm_memory_dim,\n",
        "                                out_features=self.n)\n",
        "        self.dropout = torch.nn.Dropout(p=0.5)\n",
        "\n",
        "        \n",
        "    def forward(self, x):\n",
        "        \n",
        "        if self.dropout_locate == 'cnn':\n",
        "            x_emb = self.emb_layer(x)\n",
        "        else:\n",
        "            x_emb = self.dropout(self.emb_layer(x))\n",
        "            \n",
        "        x_emb = x_emb.transpose(1,2)\n",
        "        \n",
        "        cnn_results = []\n",
        "        for conv in self.convs:\n",
        "            cnn_res = self.relu(conv(x_emb))[:, :, :self.max_cnn_res]\n",
        "            cnn_results.append(cnn_res)\n",
        "            \n",
        "        if len(self.conv_window) > 1:\n",
        "            to_lstm = torch.cat(cnn_results, 1)\n",
        "        else:\n",
        "            to_lstm = cnn_res\n",
        "            \n",
        "        to_lstm = to_lstm.transpose(1, 2)\n",
        "        # _, (x, _)= self.LSTM(to_lstm)\n",
        "        # print('to_lstm', to_lstm.size())\n",
        "        x= self.custom_rnn(to_lstm)\n",
        "        # print('x', x.size())\n",
        "        # x.squeeze_(0)\n",
        "        \n",
        "        if self.dropout_locate == 'cnn':           \n",
        "            x = self.dropout(x)\n",
        "        logits = self.soft(self.linear(x))\n",
        "        # print('logits', logits.size())\n",
        "        return logits"
      ]
    },
    {
      "cell_type": "code",
      "execution_count": null,
      "metadata": {
        "id": "7epGE0zmy-JF"
      },
      "outputs": [],
      "source": [
        "model_clstm = model_clstm(vectors, 6)"
      ]
    },
    {
      "cell_type": "code",
      "execution_count": null,
      "metadata": {
        "colab": {
          "base_uri": "https://localhost:8080/"
        },
        "id": "LgO4NGkAy-JF",
        "outputId": "afd058eb-4ae7-4296-bce4-fa44e69ba118"
      },
      "outputs": [
        {
          "output_type": "execute_result",
          "data": {
            "text/plain": [
              "model_clstm(\n",
              "  (emb_layer): Embedding(95415, 300)\n",
              "  (convs): ModuleList(\n",
              "    (0): Conv1d(300, 150, kernel_size=(2,), stride=(1,), padding=valid)\n",
              "    (1): Conv1d(300, 150, kernel_size=(3,), stride=(1,), padding=valid)\n",
              "    (2): Conv1d(300, 150, kernel_size=(4,), stride=(1,), padding=valid)\n",
              "  )\n",
              "  (custom_rnn): RNNLayer(\n",
              "    (rnn_cell): RNNCell()\n",
              "  )\n",
              "  (soft): Softmax(dim=1)\n",
              "  (relu): ReLU()\n",
              "  (linear): Linear(in_features=150, out_features=6, bias=True)\n",
              "  (dropout): Dropout(p=0.5, inplace=False)\n",
              ")"
            ]
          },
          "metadata": {},
          "execution_count": 66
        }
      ],
      "source": [
        "model_clstm"
      ]
    },
    {
      "cell_type": "code",
      "source": [
        "for param in model_clstm.parameters():\n",
        "    param.requires_grad=True"
      ],
      "metadata": {
        "id": "V5jGvNoAAZp0"
      },
      "execution_count": null,
      "outputs": []
    },
    {
      "cell_type": "code",
      "execution_count": null,
      "metadata": {
        "id": "bL6zIZSt0h9W"
      },
      "outputs": [],
      "source": [
        "device = torch.device('cuda') if torch.cuda.is_available() else torch.device('cpu')"
      ]
    },
    {
      "cell_type": "code",
      "execution_count": null,
      "metadata": {
        "id": "Vsxw4M2m0m2B"
      },
      "outputs": [],
      "source": [
        "criterion = torch.nn.CrossEntropyLoss()\n",
        "optimizer = torch.optim.RMSprop(params=model_clstm.parameters(), lr=0.001, weight_decay=0.001)\n",
        "\n",
        "model_clstm = model_clstm.to(device)\n",
        "criterion = criterion.to(device)"
      ]
    },
    {
      "cell_type": "code",
      "source": [
        "def train_val(model_clstm, train_loader=train_loader, validation_loader=validation_loader):\n",
        "    device = torch.device('cuda') if torch.cuda.is_available() else torch.device('cpu')\n",
        "\n",
        "    criterion = torch.nn.CrossEntropyLoss()\n",
        "    optimizer = torch.optim.RMSprop(params=model_clstm.parameters(), lr=0.001, weight_decay=0.001)\n",
        "\n",
        "    model_clstm = model_clstm.to(device)\n",
        "    criterion = criterion.to(device)\n",
        "\n",
        "    epochs = 3\n",
        "    losses = []\n",
        "    best_test_loss = 10.\n",
        "\n",
        "    test_accuracy = []\n",
        "\n",
        "    for n_epoch in range(epochs):\n",
        "        \n",
        "        train_losses = []\n",
        "        test_losses = []\n",
        "        test_targets = []\n",
        "        test_pred_class = []\n",
        "        \n",
        "        progress_bar = tqdm(total=len(train_loader.dataset), desc='Epoch {}'.format(n_epoch + 1))\n",
        "        \n",
        "        model_clstm.train()\n",
        "        \n",
        "        for x, y in train_loader:\n",
        "\n",
        "            x = x.to(device)\n",
        "            y = y.to(device)\n",
        "            \n",
        "            optimizer.zero_grad()\n",
        "            \n",
        "            pred = model_clstm(x)\n",
        "            loss = criterion(pred, y)\n",
        "            \n",
        "            loss.backward()\n",
        "            \n",
        "            optimizer.step()\n",
        "            \n",
        "            train_losses.append(loss.item())\n",
        "            losses.append(loss.item())\n",
        "            \n",
        "            progress_bar.set_postfix(train_loss = np.mean(losses[-500:]))\n",
        "\n",
        "            progress_bar.update(x.shape[0])\n",
        "            \n",
        "        progress_bar.close()\n",
        "        \n",
        "        model_clstm.eval()\n",
        "        \n",
        "        for x, y in validation_loader:\n",
        "            \n",
        "            x = x.to(device)\n",
        "\n",
        "            with torch.no_grad():\n",
        "\n",
        "                pred = model_clstm(x)\n",
        "\n",
        "                pred = pred.cpu()\n",
        "\n",
        "                test_targets.append(y.numpy())\n",
        "                test_pred_class.append(np.argmax(pred, axis=1))\n",
        "\n",
        "                loss = criterion(pred, y)\n",
        "\n",
        "                test_losses.append(loss.item())\n",
        "            \n",
        "        mean_test_loss = np.mean(test_losses)\n",
        "\n",
        "        test_targets = np.concatenate(test_targets).squeeze()\n",
        "        test_pred_class = np.concatenate(test_pred_class).squeeze()\n",
        "\n",
        "        accuracy = accuracy_score(test_targets, test_pred_class)\n",
        "\n",
        "        test_accuracy.append(accuracy)\n",
        "        \n",
        "        print()\n",
        "        print('Losses: train - {:.3f}, test - {:.3f}'.format(np.mean(train_losses), mean_test_loss))\n",
        "\n",
        "        print('Accuracy test - {:.3f}'.format(accuracy))\n",
        "            \n",
        "        # Early stopping:\n",
        "        #if mean_test_loss < best_test_loss:\n",
        "        #    best_test_loss = mean_test_loss\n",
        "        #else:\n",
        "        #    print('Early stopping')\n",
        "        #    break"
      ],
      "metadata": {
        "id": "PNNMNYiv6fGs"
      },
      "execution_count": null,
      "outputs": []
    },
    {
      "cell_type": "code",
      "execution_count": null,
      "metadata": {
        "colab": {
          "base_uri": "https://localhost:8080/"
        },
        "id": "7rUTc0l60pV9",
        "outputId": "92b5c48f-1c07-4ad7-a836-de8987350d90",
        "scrolled": false
      },
      "outputs": [
        {
          "output_type": "stream",
          "name": "stderr",
          "text": [
            "\rEpoch 1:   0%|          | 0/18784 [00:00<?, ?it/s]/usr/local/lib/python3.7/dist-packages/torch/nn/functional.py:1795: UserWarning: nn.functional.tanh is deprecated. Use torch.tanh instead.\n",
            "  warnings.warn(\"nn.functional.tanh is deprecated. Use torch.tanh instead.\")\n",
            "Epoch 1: 100%|██████████| 18784/18784 [10:43<00:00, 29.20it/s, train_loss=1.64]\n"
          ]
        },
        {
          "output_type": "stream",
          "name": "stdout",
          "text": [
            "\n",
            "Losses: train - 1.645, test - 1.638\n",
            "Accuracy test - 0.390\n"
          ]
        },
        {
          "output_type": "stream",
          "name": "stderr",
          "text": [
            "\rEpoch 2:   0%|          | 0/18784 [00:00<?, ?it/s]/usr/local/lib/python3.7/dist-packages/torch/nn/functional.py:1795: UserWarning: nn.functional.tanh is deprecated. Use torch.tanh instead.\n",
            "  warnings.warn(\"nn.functional.tanh is deprecated. Use torch.tanh instead.\")\n",
            "Epoch 2: 100%|██████████| 18784/18784 [10:54<00:00, 28.70it/s, train_loss=1.64]\n"
          ]
        },
        {
          "output_type": "stream",
          "name": "stdout",
          "text": [
            "\n",
            "Losses: train - 1.643, test - 1.638\n",
            "Accuracy test - 0.390\n"
          ]
        },
        {
          "output_type": "stream",
          "name": "stderr",
          "text": [
            "\rEpoch 3:   0%|          | 0/18784 [00:00<?, ?it/s]/usr/local/lib/python3.7/dist-packages/torch/nn/functional.py:1795: UserWarning: nn.functional.tanh is deprecated. Use torch.tanh instead.\n",
            "  warnings.warn(\"nn.functional.tanh is deprecated. Use torch.tanh instead.\")\n",
            "Epoch 3: 100%|██████████| 18784/18784 [10:41<00:00, 29.28it/s, train_loss=1.64]\n"
          ]
        },
        {
          "output_type": "stream",
          "name": "stdout",
          "text": [
            "\n",
            "Losses: train - 1.643, test - 1.638\n",
            "Accuracy test - 0.390\n"
          ]
        }
      ],
      "source": [
        "epochs = 3\n",
        "losses = []\n",
        "best_test_loss = 10.\n",
        "\n",
        "test_accuracy = []\n",
        "\n",
        "for n_epoch in range(epochs):\n",
        "    \n",
        "    train_losses = []\n",
        "    test_losses = []\n",
        "    test_targets = []\n",
        "    test_pred_class = []\n",
        "    \n",
        "    progress_bar = tqdm(total=len(train_loader.dataset), desc='Epoch {}'.format(n_epoch + 1))\n",
        "    \n",
        "    model_clstm.train()\n",
        "    \n",
        "    for x, y in train_loader:\n",
        "\n",
        "        x = x.to(device)\n",
        "        y = y.to(device)\n",
        "        \n",
        "        optimizer.zero_grad()\n",
        "        \n",
        "        pred = model_clstm(x)\n",
        "        loss = criterion(pred, y)\n",
        "        \n",
        "        loss.backward()\n",
        "        \n",
        "        optimizer.step()\n",
        "        \n",
        "        train_losses.append(loss.item())\n",
        "        losses.append(loss.item())\n",
        "        \n",
        "        progress_bar.set_postfix(train_loss = np.mean(losses[-500:]))\n",
        "\n",
        "        progress_bar.update(x.shape[0])\n",
        "        \n",
        "    progress_bar.close()\n",
        "    \n",
        "    model_clstm.eval()\n",
        "    \n",
        "    for x, y in validation_loader:\n",
        "        \n",
        "        x = x.to(device)\n",
        "\n",
        "        with torch.no_grad():\n",
        "\n",
        "            pred = model_clstm(x)\n",
        "\n",
        "            pred = pred.cpu()\n",
        "\n",
        "            test_targets.append(y.numpy())\n",
        "            test_pred_class.append(np.argmax(pred, axis=1))\n",
        "\n",
        "            loss = criterion(pred, y)\n",
        "\n",
        "            test_losses.append(loss.item())\n",
        "        \n",
        "    mean_test_loss = np.mean(test_losses)\n",
        "\n",
        "    test_targets = np.concatenate(test_targets).squeeze()\n",
        "    test_pred_class = np.concatenate(test_pred_class).squeeze()\n",
        "\n",
        "    accuracy = accuracy_score(test_targets, test_pred_class)\n",
        "\n",
        "    test_accuracy.append(accuracy)\n",
        "    \n",
        "    print()\n",
        "    print('Losses: train - {:.3f}, test - {:.3f}'.format(np.mean(train_losses), mean_test_loss))\n",
        "\n",
        "    print('Accuracy test - {:.3f}'.format(accuracy))\n",
        "        \n",
        "    # Early stopping:\n",
        "    #if mean_test_loss < best_test_loss:\n",
        "    #    best_test_loss = mean_test_loss\n",
        "    #else:\n",
        "    #    print('Early stopping')\n",
        "    #    break"
      ]
    },
    {
      "cell_type": "markdown",
      "metadata": {
        "id": "1TMaPbh3oWwc"
      },
      "source": [
        "Если вы запускаете много раз колаб окна и ткдм начинает беситься, можно запустить окно ниже, ткдм обновится и все снова станет хорошо"
      ]
    },
    {
      "cell_type": "code",
      "source": [
        "model_clstm = CLSTM(vectors, 6, cell_type='GRU')"
      ],
      "metadata": {
        "id": "_tY2sQGwCiIT"
      },
      "execution_count": null,
      "outputs": []
    },
    {
      "cell_type": "code",
      "source": [
        "train_val(model_clstm)"
      ],
      "metadata": {
        "colab": {
          "base_uri": "https://localhost:8080/"
        },
        "id": "BfxHX3W7CiPr",
        "outputId": "8c5a3cc5-bc2c-439a-e039-dc05da0ac4c5"
      },
      "execution_count": null,
      "outputs": [
        {
          "output_type": "stream",
          "name": "stderr",
          "text": [
            "Epoch 1: 100%|██████████| 18784/18784 [18:01<00:00, 17.37it/s, train_loss=1.58]\n"
          ]
        },
        {
          "output_type": "stream",
          "name": "stdout",
          "text": [
            "\n",
            "Losses: train - 1.604, test - 1.514\n",
            "Accuracy test - 0.529\n"
          ]
        },
        {
          "output_type": "stream",
          "name": "stderr",
          "text": [
            "Epoch 2: 100%|██████████| 18784/18784 [18:04<00:00, 17.32it/s, train_loss=1.49]\n"
          ]
        },
        {
          "output_type": "stream",
          "name": "stdout",
          "text": [
            "\n",
            "Losses: train - 1.507, test - 1.461\n",
            "Accuracy test - 0.577\n"
          ]
        },
        {
          "output_type": "stream",
          "name": "stderr",
          "text": [
            "Epoch 3: 100%|██████████| 18784/18784 [18:07<00:00, 17.28it/s, train_loss=1.43]\n"
          ]
        },
        {
          "output_type": "stream",
          "name": "stdout",
          "text": [
            "\n",
            "Losses: train - 1.454, test - 1.413\n",
            "Accuracy test - 0.627\n"
          ]
        }
      ]
    },
    {
      "cell_type": "code",
      "source": [
        "model_clstm = CLSTM(vectors, 6, cell_type='LSTM')"
      ],
      "metadata": {
        "id": "2bp7QRLYCiTO"
      },
      "execution_count": null,
      "outputs": []
    },
    {
      "cell_type": "code",
      "source": [
        "train_val(model_clstm)"
      ],
      "metadata": {
        "colab": {
          "base_uri": "https://localhost:8080/"
        },
        "id": "zFTvWwW8PnDY",
        "outputId": "0a2bb02e-9508-4571-8058-976899f6f3e7"
      },
      "execution_count": null,
      "outputs": [
        {
          "metadata": {
            "tags": null
          },
          "name": "stderr",
          "output_type": "stream",
          "text": [
            "Epoch 1: 100%|██████████| 18784/18784 [20:52<00:00, 15.00it/s, train_loss=1.64]\n"
          ]
        },
        {
          "metadata": {
            "tags": null
          },
          "name": "stdout",
          "output_type": "stream",
          "text": [
            "\n",
            "Losses: train - 1.645, test - 1.666\n",
            "Accuracy test - 0.390\n"
          ]
        },
        {
          "metadata": {
            "tags": null
          },
          "name": "stderr",
          "output_type": "stream",
          "text": [
            "Epoch 2: 100%|██████████| 18784/18784 [20:59<00:00, 14.91it/s, train_loss=1.61]\n"
          ]
        },
        {
          "metadata": {
            "tags": null
          },
          "name": "stdout",
          "output_type": "stream",
          "text": [
            "\n",
            "Losses: train - 1.627, test - 1.628\n",
            "Accuracy test - 0.446\n"
          ]
        },
        {
          "output_type": "stream",
          "name": "stderr",
          "text": [
            "Epoch 3: 100%|██████████| 18784/18784 [20:49<00:00, 15.03it/s, train_loss=1.62]\n"
          ]
        },
        {
          "output_type": "stream",
          "name": "stdout",
          "text": [
            "\n",
            "Losses: train - 1.627, test - 1.637\n",
            "Accuracy test - 0.390\n"
          ]
        }
      ]
    },
    {
      "cell_type": "code",
      "execution_count": null,
      "metadata": {
        "id": "_aPjTQcR0vm2"
      },
      "outputs": [],
      "source": [
        "for instance in list(tqdm._instances): \n",
        "    tqdm._decr_instances(instance)"
      ]
    },
    {
      "cell_type": "code",
      "execution_count": null,
      "metadata": {
        "id": "dhbI2xgqy-JI"
      },
      "outputs": [],
      "source": [
        ""
      ]
    }
  ],
  "metadata": {
    "accelerator": "GPU",
    "colab": {
      "name": "hw3-NNmethods-custom-model.ipynb",
      "provenance": [],
      "collapsed_sections": [
        "bZbOg0FqW-A1",
        "stBQ3yhqW-Bi",
        "1qv1mKAeW-Bl",
        "vc48ALg_W-Bp"
      ],
      "include_colab_link": true
    },
    "kernelspec": {
      "display_name": "Python 3 (ipykernel)",
      "language": "python",
      "name": "python3"
    },
    "language_info": {
      "codemirror_mode": {
        "name": "ipython",
        "version": 3
      },
      "file_extension": ".py",
      "mimetype": "text/x-python",
      "name": "python",
      "nbconvert_exporter": "python",
      "pygments_lexer": "ipython3",
      "version": "3.8.12"
    }
  },
  "nbformat": 4,
  "nbformat_minor": 0
}